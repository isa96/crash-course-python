{
  "nbformat": 4,
  "nbformat_minor": 0,
  "metadata": {
    "colab": {
      "name": "Bangkit_ILTML(2/6)_Using Python to Interact with the Operating System.ipynb",
      "provenance": [],
      "collapsed_sections": [],
      "toc_visible": true
    },
    "kernelspec": {
      "name": "python3",
      "display_name": "Python 3"
    }
  },
  "cells": [
    {
      "cell_type": "markdown",
      "metadata": {
        "id": "e9DuAax32yDr"
      },
      "source": [
        "# **Course 2: Using Python to Interact with the Operating System**\n"
      ]
    },
    {
      "cell_type": "markdown",
      "metadata": {
        "id": "Od8zOGaPEJ1U"
      },
      "source": [
        "# **Linux Bash Command**\n",
        "\n",
        "A shell is a command line interface used to interact with your operating system. The most commonly used shell on Linux is called Bash. Other popular shells are Zsh and Fish\n",
        "\n",
        "\n",
        "* Masuk ke directory C: di ubuntu\n",
        "\n",
        "  cd /mnt/c/\n",
        "\n",
        "  atau dengan : \n",
        "\n",
        "  Tahan Shift sambil mengklik kanan di direktori Windows yang Anda inginkan\n",
        "\n",
        "  Pilih \" Buka Linux shell di sini \"\n",
        "\n",
        "* Untuk copy paste\n",
        "\n",
        "  Ctrl + c --> untuk paste di bash u buntu bisa langusng right click\n",
        "  \n",
        "  Atau bisa mengaktifkan copy/paste Ctrl+Shift+C/V di setting\n",
        "\n",
        "* Cd\n",
        "  to navigate to your home directory, use \"cd\" or \"cd ~ \"\n",
        "  \n",
        "  To navigate up one directory level, use \"cd ..\"\n",
        "  \n",
        "  To navigate to the previous directory (or back), use \"cd -\"\n",
        "  \n",
        "  To navigate into the root directory, use \"cd /\"\n",
        "  \n",
        "  To navigate through multiple levels of directory at once, specify the full directory path that you want to go to. For example, use \"cd ~/OFGT-data/images\" to go directly to the images subdirectory in the OFGT-data folder. As another example, \"cd ~/Desktop\" will move you to the Desktop subdirectory inside your home directory.\n"
      ]
    },
    {
      "cell_type": "markdown",
      "metadata": {
        "id": "0NTCVG6NQKWJ"
      },
      "source": [
        "# **Shell Script Example**"
      ]
    },
    {
      "cell_type": "code",
      "metadata": {
        "id": "iJ0I4bA4PSsk",
        "colab": {
          "base_uri": "https://localhost:8080/"
        },
        "outputId": "6dc9dcdd-5f6c-4b70-e515-11072e437092"
      },
      "source": [
        "%%writefile simple_shell_script.sh\n",
        "\n",
        "echo \"This is a shell script\""
      ],
      "execution_count": null,
      "outputs": [
        {
          "output_type": "stream",
          "text": [
            "Writing simple_shell_script.sh\n"
          ],
          "name": "stdout"
        }
      ]
    },
    {
      "cell_type": "code",
      "metadata": {
        "id": "2BS97uFCPWpD",
        "colab": {
          "base_uri": "https://localhost:8080/"
        },
        "outputId": "1a9157e8-5a0a-420f-cba1-340b0b053595"
      },
      "source": [
        "import os\n",
        "print ('The current directory is', os.getcwd())"
      ],
      "execution_count": null,
      "outputs": [
        {
          "output_type": "stream",
          "text": [
            "The current directory is /content\n"
          ],
          "name": "stdout"
        }
      ]
    },
    {
      "cell_type": "code",
      "metadata": {
        "id": "61MABTEAPcPQ",
        "colab": {
          "base_uri": "https://localhost:8080/"
        },
        "outputId": "f30b093d-043a-4536-f50c-238ffa01161f"
      },
      "source": [
        "%ls"
      ],
      "execution_count": null,
      "outputs": [
        {
          "output_type": "stream",
          "text": [
            "\u001b[0m\u001b[01;34msample_data\u001b[0m/  simple_shell_script.sh\n"
          ],
          "name": "stdout"
        }
      ]
    },
    {
      "cell_type": "code",
      "metadata": {
        "id": "hPmVfXj-Pcsb",
        "colab": {
          "base_uri": "https://localhost:8080/"
        },
        "outputId": "23dea974-a576-4dfa-c47d-b219ab6ac278"
      },
      "source": [
        "%%shell\n",
        "\n",
        "bash simple_shell_script.sh"
      ],
      "execution_count": null,
      "outputs": [
        {
          "output_type": "stream",
          "text": [
            "This is a shell script\n"
          ],
          "name": "stdout"
        },
        {
          "output_type": "execute_result",
          "data": {
            "text/plain": [
              ""
            ]
          },
          "metadata": {
            "tags": []
          },
          "execution_count": 6
        }
      ]
    },
    {
      "cell_type": "code",
      "metadata": {
        "id": "VaUP6jopPe7M",
        "colab": {
          "base_uri": "https://localhost:8080/"
        },
        "outputId": "ae95709d-9a2c-4fac-a749-c2f138f1f285"
      },
      "source": [
        "!bash simple_shell_script.sh"
      ],
      "execution_count": null,
      "outputs": [
        {
          "output_type": "stream",
          "text": [
            "This is a shell script\n"
          ],
          "name": "stdout"
        }
      ]
    },
    {
      "cell_type": "markdown",
      "metadata": {
        "id": "8ps65s2rVBm1"
      },
      "source": [
        "# **Getting Your Computer Ready for Python**\n",
        "\n",
        "\n",
        "After install that you have Python 3 installed, we'll also learn about installing additional modules that aren't part of the `Python Standard Library`.\n",
        "\n",
        "the `Python Standard Library`. This comes as part of the Python installation and includes modules for the most common tasks you can do with Python. \n",
        "\n",
        "But there's tons of other things you might want to do in your scripts and not all of them are in the standard library. This is where `external modules` come into play. We can use external modules for a bunch of tasks, like generating PDFs, starting web pages, creating compressed files, interacting with email, and a lot of other things. So how do we find what modules are available? When developers write a Python module that they think others might find useful, they publish it in `PyPI, also known as the Python Package Index`. \n",
        "\n",
        "These external modules are generally managed with a `command line tool called pip`. This is a cross-platform tool so you can use it to install, update, and remove external modules on whichever operating system you're running on your computer. "
      ]
    },
    {
      "cell_type": "markdown",
      "metadata": {
        "id": "wmf3M9LYYM9x"
      },
      "source": [
        "**request module**"
      ]
    },
    {
      "cell_type": "code",
      "metadata": {
        "colab": {
          "base_uri": "https://localhost:8080/"
        },
        "id": "QryBc2D4W39D",
        "outputId": "69a7aedf-f965-4c7f-ec63-e60f5394767c"
      },
      "source": [
        "!pip install requests"
      ],
      "execution_count": null,
      "outputs": [
        {
          "output_type": "stream",
          "text": [
            "Requirement already satisfied: requests in /usr/local/lib/python3.7/dist-packages (2.23.0)\n",
            "Requirement already satisfied: chardet<4,>=3.0.2 in /usr/local/lib/python3.7/dist-packages (from requests) (3.0.4)\n",
            "Requirement already satisfied: idna<3,>=2.5 in /usr/local/lib/python3.7/dist-packages (from requests) (2.10)\n",
            "Requirement already satisfied: certifi>=2017.4.17 in /usr/local/lib/python3.7/dist-packages (from requests) (2020.12.5)\n",
            "Requirement already satisfied: urllib3!=1.25.0,!=1.25.1,<1.26,>=1.21.1 in /usr/local/lib/python3.7/dist-packages (from requests) (1.24.3)\n"
          ],
          "name": "stdout"
        }
      ]
    },
    {
      "cell_type": "code",
      "metadata": {
        "colab": {
          "base_uri": "https://localhost:8080/"
        },
        "id": "rKqmBKjzXUmW",
        "outputId": "93516507-312c-4c0f-a794-254eb4c3b8da"
      },
      "source": [
        "import requests\n",
        "response = requests.get(\"http://www.google.com\")\n",
        "len(response.text)"
      ],
      "execution_count": null,
      "outputs": [
        {
          "output_type": "execute_result",
          "data": {
            "text/plain": [
              "13886"
            ]
          },
          "metadata": {
            "tags": []
          },
          "execution_count": 9
        }
      ]
    },
    {
      "cell_type": "markdown",
      "metadata": {
        "id": "i-7aOZWkYO15"
      },
      "source": [
        "**arrow module**\n",
        "\n",
        "in Mac OS use `pip3 install arrow`\n",
        "\n",
        "in Windows use `pip install arrow`"
      ]
    },
    {
      "cell_type": "code",
      "metadata": {
        "colab": {
          "base_uri": "https://localhost:8080/"
        },
        "id": "ANkce0m5YaG1",
        "outputId": "c9a9dc3e-295e-4e94-cf86-ec972bbd24f7"
      },
      "source": [
        "!pip install arrow"
      ],
      "execution_count": null,
      "outputs": [
        {
          "output_type": "stream",
          "text": [
            "Collecting arrow\n",
            "\u001b[?25l  Downloading https://files.pythonhosted.org/packages/ea/22/482a480cbee1aa7795a58b411159a4df249d6d4ceacdd9987ab946f78210/arrow-1.0.3-py3-none-any.whl (54kB)\n",
            "\r\u001b[K     |██████                          | 10kB 16.5MB/s eta 0:00:01\r\u001b[K     |████████████                    | 20kB 12.5MB/s eta 0:00:01\r\u001b[K     |██████████████████              | 30kB 9.8MB/s eta 0:00:01\r\u001b[K     |████████████████████████▏       | 40kB 8.3MB/s eta 0:00:01\r\u001b[K     |██████████████████████████████▏ | 51kB 5.0MB/s eta 0:00:01\r\u001b[K     |████████████████████████████████| 61kB 3.0MB/s \n",
            "\u001b[?25hRequirement already satisfied: python-dateutil>=2.7.0 in /usr/local/lib/python3.7/dist-packages (from arrow) (2.8.1)\n",
            "Requirement already satisfied: typing-extensions; python_version < \"3.8\" in /usr/local/lib/python3.7/dist-packages (from arrow) (3.7.4.3)\n",
            "Requirement already satisfied: six>=1.5 in /usr/local/lib/python3.7/dist-packages (from python-dateutil>=2.7.0->arrow) (1.15.0)\n",
            "Installing collected packages: arrow\n",
            "Successfully installed arrow-1.0.3\n"
          ],
          "name": "stdout"
        }
      ]
    },
    {
      "cell_type": "code",
      "metadata": {
        "colab": {
          "base_uri": "https://localhost:8080/",
          "height": 35
        },
        "id": "ViefHmrHYfST",
        "outputId": "5e2c407c-62fe-4875-8865-507ff18732fb"
      },
      "source": [
        "import arrow\n",
        "date = arrow.get('2020-01-18', 'YYYY-MM-DD')\n",
        "date.shift(weeks=+6).format('MMM DD YYYY')"
      ],
      "execution_count": null,
      "outputs": [
        {
          "output_type": "execute_result",
          "data": {
            "application/vnd.google.colaboratory.intrinsic+json": {
              "type": "string"
            },
            "text/plain": [
              "'Feb 29 2020'"
            ]
          },
          "metadata": {
            "tags": []
          },
          "execution_count": 11
        }
      ]
    },
    {
      "cell_type": "markdown",
      "metadata": {
        "id": "a47q6vFoZP19"
      },
      "source": [
        "**Linux - the package management system.** \n",
        "\n",
        "The name of the tool to manage a local packages will depend on the distribution that you're using.\n",
        "\n",
        "It's called \n",
        "* `App on Debian Ubuntu` and Linux Mint, \n",
        "\n",
        "* `yum` on Red Hat or CentOS, and \n",
        "\n",
        "* `DNF` on Fedora."
      ]
    },
    {
      "cell_type": "markdown",
      "metadata": {
        "id": "0s8kXkB3Zsm_"
      },
      "source": [
        "**PIL (Python Imaging Library) module**\n",
        "\n",
        "`sudo apt install python3-pil` --> Linux Ubuntu\n",
        "\n",
        "`sudo apt install python3-pip` --> Linux Ubuntu\n",
        "\n",
        "`pip install pillow` --> Windows\n",
        "\n",
        "in collab You can run commands without \"sudo\"\n",
        "\n",
        "`!apt-get update` or `!pip install numpy`"
      ]
    },
    {
      "cell_type": "code",
      "metadata": {
        "colab": {
          "base_uri": "https://localhost:8080/"
        },
        "id": "xO6SGsRqZiNR",
        "outputId": "a512d452-3716-40a6-c210-0a9157102394"
      },
      "source": [
        "!pip install pillow"
      ],
      "execution_count": null,
      "outputs": [
        {
          "output_type": "stream",
          "text": [
            "Requirement already satisfied: pillow in /usr/local/lib/python3.7/dist-packages (7.1.2)\n"
          ],
          "name": "stdout"
        }
      ]
    },
    {
      "cell_type": "code",
      "metadata": {
        "id": "kWpBNPzcaxfq"
      },
      "source": [
        "import PIL.Image\n",
        "# before, please upload your image in directory\n",
        "# image = PIL.Image.open(\"image.jpg\")\n",
        "# print(image.size)\n",
        "# print(image.format)"
      ],
      "execution_count": null,
      "outputs": []
    },
    {
      "cell_type": "markdown",
      "metadata": {
        "id": "tt1Jp0t1Llty"
      },
      "source": [
        "pandas modul\n",
        "\n",
        "`pip3 install pandas` --> Linux Ubuntu\n",
        "\n",
        "`pip install pandas` --> Windows"
      ]
    },
    {
      "cell_type": "code",
      "metadata": {
        "colab": {
          "base_uri": "https://localhost:8080/"
        },
        "id": "RWlLmefXLm1W",
        "outputId": "1070d106-93d6-4a0a-a609-f4dce01e8059"
      },
      "source": [
        "!pip install pandas"
      ],
      "execution_count": null,
      "outputs": [
        {
          "output_type": "stream",
          "text": [
            "Requirement already satisfied: pandas in /usr/local/lib/python3.7/dist-packages (1.1.5)\n",
            "Requirement already satisfied: numpy>=1.15.4 in /usr/local/lib/python3.7/dist-packages (from pandas) (1.19.5)\n",
            "Requirement already satisfied: pytz>=2017.2 in /usr/local/lib/python3.7/dist-packages (from pandas) (2018.9)\n",
            "Requirement already satisfied: python-dateutil>=2.7.3 in /usr/local/lib/python3.7/dist-packages (from pandas) (2.8.1)\n",
            "Requirement already satisfied: six>=1.5 in /usr/local/lib/python3.7/dist-packages (from python-dateutil>=2.7.3->pandas) (1.15.0)\n"
          ],
          "name": "stdout"
        }
      ]
    },
    {
      "cell_type": "code",
      "metadata": {
        "colab": {
          "base_uri": "https://localhost:8080/"
        },
        "id": "9QPPpitgLzbs",
        "outputId": "4b574d35-3c26-48d2-d100-3eaefcc2e3e4"
      },
      "source": [
        "import pandas\n",
        "visitors = [1235, 6434, 9345, 8464, 2345]\n",
        "errors = [23, 45, 33, 45, 76]\n",
        "df = pandas.DataFrame({\"visitors\":visitors, \"errors\":errors}, index=[\"Mon\", \"Tues\", \"Wed\", \"Thu\", \"Fri\"])\n",
        "print(df)"
      ],
      "execution_count": null,
      "outputs": [
        {
          "output_type": "stream",
          "text": [
            "      visitors  errors\n",
            "Mon       1235      23\n",
            "Tues      6434      45\n",
            "Wed       9345      33\n",
            "Thu       8464      45\n",
            "Fri       2345      76\n"
          ],
          "name": "stdout"
        }
      ]
    },
    {
      "cell_type": "code",
      "metadata": {
        "colab": {
          "base_uri": "https://localhost:8080/"
        },
        "id": "q3W6_7oJNQ67",
        "outputId": "8aa2dd93-5a6b-4949-aa31-7d1849358649"
      },
      "source": [
        "df[\"errors\"].mean()"
      ],
      "execution_count": null,
      "outputs": [
        {
          "output_type": "execute_result",
          "data": {
            "text/plain": [
              "44.4"
            ]
          },
          "metadata": {
            "tags": []
          },
          "execution_count": 16
        }
      ]
    },
    {
      "cell_type": "markdown",
      "metadata": {
        "id": "Pcj-rCH5S9gR"
      },
      "source": [
        "## **How to Run a Python Script**"
      ]
    },
    {
      "cell_type": "markdown",
      "metadata": {
        "id": "nZj8kLdlTFwd"
      },
      "source": [
        "make file .py\n",
        "\n",
        "ex : hello_world.py\n",
        "\n",
        "`cat hello_world.py` --> Linux Ubuntu\n",
        "\n",
        "cek what inside\n",
        "\n",
        "`python3 hello_world.py` --> compile/interpret"
      ]
    },
    {
      "cell_type": "code",
      "metadata": {
        "colab": {
          "base_uri": "https://localhost:8080/"
        },
        "id": "KePaUwB6UFcs",
        "outputId": "35ce6866-9351-4e3d-9401-cb3d58c84cae"
      },
      "source": [
        "%%writefile hello_world.py\n",
        "print('Hello', 'Nur Imam Masri')"
      ],
      "execution_count": null,
      "outputs": [
        {
          "output_type": "stream",
          "text": [
            "Writing hello_world.py\n"
          ],
          "name": "stdout"
        }
      ]
    },
    {
      "cell_type": "code",
      "metadata": {
        "colab": {
          "base_uri": "https://localhost:8080/"
        },
        "id": "-fDL5D5FUJcG",
        "outputId": "17374117-a5d2-44a9-e939-f212cfa9378e"
      },
      "source": [
        "!cat hello_world.py"
      ],
      "execution_count": null,
      "outputs": [
        {
          "output_type": "stream",
          "text": [
            "print('Hello', 'Nur Imam Masri')"
          ],
          "name": "stdout"
        }
      ]
    },
    {
      "cell_type": "code",
      "metadata": {
        "colab": {
          "base_uri": "https://localhost:8080/"
        },
        "id": "DsvVZWaEU1EQ",
        "outputId": "f057682e-dc39-4f9d-c899-8b6c49d359e0"
      },
      "source": [
        "!python3 hello_world.py"
      ],
      "execution_count": null,
      "outputs": [
        {
          "output_type": "stream",
          "text": [
            "Hello Nur Imam Masri\n"
          ],
          "name": "stdout"
        }
      ]
    },
    {
      "cell_type": "markdown",
      "metadata": {
        "id": "ZcM5wjtyWjPD"
      },
      "source": [
        "## **Shebang**\n",
        "But typing Python 3 each time you want to run your script can get really old really fast. So pro tip, there's a way we can avoid this. We can add the extra line to our file called `shebang` = `#!`, which tells the operating system what command we want to use to execute that script.\n",
        "\n",
        "This script begins with a line containing the `#!` character combination, which is commonly called hash bang or shebang and continues with the path to the interpreter.\n",
        "\n",
        "`#!/usr/bin/env python3` uses the operating system env command, which locates and executes Python by searching the PATH environment variable. Unlike Windows, the Python interpreter is usually already in the $PATH variable on linux, so you don't have to add it."
      ]
    },
    {
      "cell_type": "markdown",
      "metadata": {
        "id": "k1GmQRc-V8HA"
      },
      "source": [
        "`nano`, which is one of the editors available on a Linux system.\n",
        "\n",
        "Make the necessary changes now. And once the changes are done, `save the file by clicking Ctrl-o, enter key and Ctrl-x.`\n",
        "\n",
        "`nano name_fle.py` --> masuk ke file directory dan buat file .py"
      ]
    },
    {
      "cell_type": "code",
      "metadata": {
        "colab": {
          "base_uri": "https://localhost:8080/"
        },
        "id": "MH8HRqQIWtUa",
        "outputId": "fd82c727-d861-4af3-d8ce-67ccf5b1b546"
      },
      "source": [
        "%%writefile hello_world.py\n",
        "#!/usr/bin/env python3\n",
        "print('Hello', 'Nur Imam Masri')"
      ],
      "execution_count": null,
      "outputs": [
        {
          "output_type": "stream",
          "text": [
            "Overwriting hello_world.py\n"
          ],
          "name": "stdout"
        }
      ]
    },
    {
      "cell_type": "markdown",
      "metadata": {
        "id": "oFUIJhnLi-O3"
      },
      "source": [
        "We need to make that file executable using the `chmod command`. Remember that this command lets us change the file permissions. A file's possible permissions are read, write, and execute."
      ]
    },
    {
      "cell_type": "code",
      "metadata": {
        "colab": {
          "base_uri": "https://localhost:8080/"
        },
        "id": "ggHH0M9iXKcJ",
        "outputId": "f02ef0a0-a149-4576-cb50-fea7aecd67c9"
      },
      "source": [
        "!./hello_world.py"
      ],
      "execution_count": null,
      "outputs": [
        {
          "output_type": "stream",
          "text": [
            "/bin/bash: ./hello_world.py: Permission denied\n"
          ],
          "name": "stdout"
        }
      ]
    },
    {
      "cell_type": "markdown",
      "metadata": {
        "id": "rYuvqt8LXHYG"
      },
      "source": [
        "We got a permission denied error.\n",
        "\n",
        "\n",
        "This is because the above command tries to run your script directly as a program. The program is parsed by the interpreter specified in the first line of the script, i.e. shebang. If the kernel finds that the first two bytes are #! it uses the rest of the line as an interpreter and passes the file as an argument. So, to do this, the file needs to have execute permission.\n",
        "\n",
        "To run this file, we need it to have execute permission (x). Let's update the file permissions and then try running the file. Use the following command to add execute permission to the file:"
      ]
    },
    {
      "cell_type": "code",
      "metadata": {
        "id": "UKaHTZUjW5yI"
      },
      "source": [
        "!chmod +x hello_world.py"
      ],
      "execution_count": null,
      "outputs": []
    },
    {
      "cell_type": "code",
      "metadata": {
        "colab": {
          "base_uri": "https://localhost:8080/"
        },
        "id": "6itSw5ExjMao",
        "outputId": "6665d53e-4fe1-492b-d21d-537a095b1e65"
      },
      "source": [
        "!./hello_world.py"
      ],
      "execution_count": null,
      "outputs": [
        {
          "output_type": "stream",
          "text": [
            "Hello Nur Imam Masri\n"
          ],
          "name": "stdout"
        }
      ]
    },
    {
      "cell_type": "markdown",
      "metadata": {
        "id": "RJUWCE0hjcQZ"
      },
      "source": [
        "Because the script has been marked as executable on the path to the interpreter is specified on the first line, an operating system will run that interpreter and pass a name of the script to it. This means that running `./hello_world.py` is equivalent to `python3 hello_world.py.`\n",
        "\n",
        "The dot in the `./` expression represents the current directory."
      ]
    },
    {
      "cell_type": "markdown",
      "metadata": {
        "id": "iu5bFxJa5Mmv"
      },
      "source": [
        "## **Getting Ready for Python**"
      ]
    },
    {
      "cell_type": "markdown",
      "metadata": {
        "id": "RJ-zF_YK8YkJ"
      },
      "source": [
        "* To check whether you already have Python installed, open a terminal or command prompt and execute Python command, passing --version as a parameter.\n",
        "\n",
        "* Result similar to \"unrecognized command\" means no Python installed. Follow instruction on the course to install on your computer.\n"
      ]
    },
    {
      "cell_type": "code",
      "metadata": {
        "id": "kMAiMFar2wea",
        "colab": {
          "base_uri": "https://localhost:8080/"
        },
        "outputId": "67d21f47-a3c2-4ac9-97ba-c30f3a8fda9d"
      },
      "source": [
        "## Check Python Version\n",
        "%%shell \n",
        "python3 --version"
      ],
      "execution_count": null,
      "outputs": [
        {
          "output_type": "stream",
          "text": [
            "Python 3.7.10\n"
          ],
          "name": "stdout"
        },
        {
          "output_type": "execute_result",
          "data": {
            "text/plain": [
              ""
            ]
          },
          "metadata": {
            "tags": []
          },
          "execution_count": 24
        }
      ]
    },
    {
      "cell_type": "markdown",
      "metadata": {
        "id": "1JcMzzZH8iMX"
      },
      "source": [
        "* Run python console"
      ]
    },
    {
      "cell_type": "code",
      "metadata": {
        "id": "-ZdijTJI47zU",
        "colab": {
          "base_uri": "https://localhost:8080/"
        },
        "outputId": "07d50a23-5733-4e0b-9eac-16edf1b3dd97"
      },
      "source": [
        "## Run Python Consol\n",
        "%%shell \n",
        "python"
      ],
      "execution_count": null,
      "outputs": [
        {
          "output_type": "stream",
          "text": [
            "Python 3.7.10 (default, Feb 20 2021, 21:17:23) \n",
            "[GCC 7.5.0] on linux\n",
            "Type \"help\", \"copyright\", \"credits\" or \"license\" for more information.\n",
            ">>> exit()\n"
          ],
          "name": "stdout"
        },
        {
          "output_type": "execute_result",
          "data": {
            "text/plain": [
              ""
            ]
          },
          "metadata": {
            "tags": []
          },
          "execution_count": 25
        }
      ]
    },
    {
      "cell_type": "markdown",
      "metadata": {
        "id": "xN5dIKaL8saY"
      },
      "source": [
        "* Write text file, with text editor, save file as hello.py (extension .py for python script).\n",
        "* Run a Python script.\n"
      ]
    },
    {
      "cell_type": "code",
      "metadata": {
        "id": "ObJTCPX78rSU",
        "colab": {
          "base_uri": "https://localhost:8080/"
        },
        "outputId": "e69685ae-7138-4865-e9af-01cc37fc8e13"
      },
      "source": [
        "%%writefile hello.py\n",
        "print('Hello', 'World')"
      ],
      "execution_count": null,
      "outputs": [
        {
          "output_type": "stream",
          "text": [
            "Writing hello.py\n"
          ],
          "name": "stdout"
        }
      ]
    },
    {
      "cell_type": "code",
      "metadata": {
        "id": "VjR6S_o081Ne",
        "colab": {
          "base_uri": "https://localhost:8080/"
        },
        "outputId": "f6f67473-ca6e-456e-f8f3-5d68f534f1a5"
      },
      "source": [
        "%%shell\n",
        "python3 hello.py"
      ],
      "execution_count": null,
      "outputs": [
        {
          "output_type": "stream",
          "text": [
            "Hello World\n"
          ],
          "name": "stdout"
        },
        {
          "output_type": "execute_result",
          "data": {
            "text/plain": [
              ""
            ]
          },
          "metadata": {
            "tags": []
          },
          "execution_count": 27
        }
      ]
    },
    {
      "cell_type": "markdown",
      "metadata": {
        "id": "P086x33b9TzY"
      },
      "source": [
        "* Python modules is a directory that contains special file **\\_\\_init\\_\\_.py** (double-underscore init file). Python modules also called packages.\n",
        "* The __init__.py is mostly an empty file, but also available to setup file imports, will explore more on later topic.\n",
        "* Command ls in Linux/MacOS means list, equal to command dir in Windows.\n"
      ]
    },
    {
      "cell_type": "markdown",
      "metadata": {
        "id": "q1EeEdvh9tQL"
      },
      "source": [
        "* Working with Text Editor or IDE.\n",
        "> * To edit the python script code, go with whatever installed in computer like nano, vim, emacs on Linux, Notepad, TextEditor on Windows, TextEdit on MacOS.\n",
        "> * More advanced code editor also available for free like Atom, Notepad++, or Sublime Text.\n",
        "> * Or use a fully featured graphical IDE like PyCharm, Eclipse, or Visual Studio Code.\n",
        "\n",
        "* Automating tasks through programming.\n",
        "> * Automation is an incredibly powerful tool that saves time, reduces mistakes, and facilitates growth and scalability.\n",
        "> * Concept called the Pareto Principle presents itself as a useful guideline to decide which tasks to automate. Pareto Principle states that 20% of system admin tasks are responsible for 80% of work. Automate those 20% tasks to save a whole lot of time.\n",
        "> * Need to apply automation thoughtfully to avoid some pitfalls that may arise from its use.\n",
        "> * uses the formula [time_to_automate < (time_to_perform * amount_of_times_done) to decide whether automation is worthwhile.\n",
        "\n",
        "* Graded assessment using Qwiklabs online platform.\n",
        "* > Qwiklabs works with the Google Cloud Console to spin up and create **virtual machines**, (VM for short), a computer simulation through software.\n",
        "* > During the lab, access instances of Qwiklabs VMs by using **SSH**, a command that allows you to interact with remote Linux computers. Once it’s completed, Qwiklabs destroy all the VMs.\n",
        "* > Get experience solving real-world tasks through scripting by using Qwiklabs.\n",
        "\n"
      ]
    },
    {
      "cell_type": "markdown",
      "metadata": {
        "id": "OT-bcVFhmqkt"
      },
      "source": [
        "## **Python Modules**"
      ]
    },
    {
      "cell_type": "markdown",
      "metadata": {
        "id": "7_2lLdaWjeuf"
      },
      "source": [
        "*areas02.py*"
      ]
    },
    {
      "cell_type": "code",
      "metadata": {
        "colab": {
          "base_uri": "https://localhost:8080/"
        },
        "id": "2pfu1lhDnG2I",
        "outputId": "78ac993e-6744-40bb-ff73-31bd48114ddf"
      },
      "source": [
        "%%writefile areas02.py\n",
        "\n",
        "import math\n",
        "\n",
        "def triangle(base, height ):\n",
        "  return base*height/2\n",
        "\n",
        "def rectangle(base, height):\n",
        "  return base*height\n",
        "\n",
        "def circle(radius):\n",
        "        return math.pi*(radius**2)\n",
        "\n"
      ],
      "execution_count": null,
      "outputs": [
        {
          "output_type": "stream",
          "text": [
            "Writing areas02.py\n"
          ],
          "name": "stdout"
        }
      ]
    },
    {
      "cell_type": "code",
      "metadata": {
        "colab": {
          "base_uri": "https://localhost:8080/"
        },
        "id": "JaO6yMASnG2J",
        "outputId": "a1b5f030-1b82-4c06-91b6-7944cee1633a"
      },
      "source": [
        "!cat areas02.py"
      ],
      "execution_count": null,
      "outputs": [
        {
          "output_type": "stream",
          "text": [
            "\n",
            "import math\n",
            "\n",
            "def triangle(base, height ):\n",
            "  return base*height/2\n",
            "\n",
            "def rectangle(base, height):\n",
            "  return base*height\n",
            "\n",
            "def circle(radius):\n",
            "        return math.pi*(radius**2)\n"
          ],
          "name": "stdout"
        }
      ]
    },
    {
      "cell_type": "code",
      "metadata": {
        "colab": {
          "base_uri": "https://localhost:8080/"
        },
        "id": "U4xdmH_anqrc",
        "outputId": "6770631e-e995-4426-ca5e-1ca8dea515c8"
      },
      "source": [
        "import areas02\n",
        "areas02.triangle(3,5)"
      ],
      "execution_count": null,
      "outputs": [
        {
          "output_type": "execute_result",
          "data": {
            "text/plain": [
              "7.5"
            ]
          },
          "metadata": {
            "tags": []
          },
          "execution_count": 30
        }
      ]
    },
    {
      "cell_type": "code",
      "metadata": {
        "colab": {
          "base_uri": "https://localhost:8080/"
        },
        "id": "q5wzbUFL6mGV",
        "outputId": "1b8f3f54-c411-4435-c321-d061c4a5f5fc"
      },
      "source": [
        "areas02.circle(4)"
      ],
      "execution_count": null,
      "outputs": [
        {
          "output_type": "execute_result",
          "data": {
            "text/plain": [
              "50.26548245743669"
            ]
          },
          "metadata": {
            "tags": []
          },
          "execution_count": 31
        }
      ]
    },
    {
      "cell_type": "markdown",
      "metadata": {
        "id": "Izi3FJI-jkO1"
      },
      "source": [
        "*request module*\n",
        "\n",
        "`ls -l /usr/lib/python3/dist-packages/re`\n",
        "\n",
        "`!ls -l /usr/lib/python3/dist-packages/request`"
      ]
    },
    {
      "cell_type": "markdown",
      "metadata": {
        "id": "1zX4_LZeIvrM"
      },
      "source": [
        "## **Practical Automation Example**\n",
        "\n",
        "Say for example that you wanted to check the health of your computer. \n",
        "\n",
        "This can call for a lot of different checks, verifying that there is enough disk space, that the processor isn't an overloaded, that it has the latest security updates, and that it's running services it's supposed to. \n",
        "\n",
        "To verify all of this, we need to know how to check each of these values. Of course, we'll do it by using some of the handy modules available to us. \n",
        "\n",
        "For example, we can use a `shutil` module and a `disk_usage function` to check the current available disk space. Let's try it out in the interpreter. We'll start by importing the shutil module,"
      ]
    },
    {
      "cell_type": "code",
      "metadata": {
        "colab": {
          "base_uri": "https://localhost:8080/"
        },
        "id": "LRSPODJoI5Bx",
        "outputId": "9eba312a-b45b-4d1b-b21d-17139245a09c"
      },
      "source": [
        "import shutil\n",
        "du = shutil.disk_usage(\"/\")\n",
        "du"
      ],
      "execution_count": null,
      "outputs": [
        {
          "output_type": "execute_result",
          "data": {
            "text/plain": [
              "usage(total=115721105408, used=41193312256, free=74511015936)"
            ]
          },
          "metadata": {
            "tags": []
          },
          "execution_count": 32
        }
      ]
    },
    {
      "cell_type": "markdown",
      "metadata": {
        "id": "uV9sdGa9JaVa"
      },
      "source": [
        "percentage free disk space"
      ]
    },
    {
      "cell_type": "code",
      "metadata": {
        "colab": {
          "base_uri": "https://localhost:8080/"
        },
        "id": "cVS2AC1RJO0I",
        "outputId": "d478fa7a-62b6-4119-98a4-3db749b6a11a"
      },
      "source": [
        "du.free/du.total*100"
      ],
      "execution_count": null,
      "outputs": [
        {
          "output_type": "execute_result",
          "data": {
            "text/plain": [
              "64.38844122106781"
            ]
          },
          "metadata": {
            "tags": []
          },
          "execution_count": 33
        }
      ]
    },
    {
      "cell_type": "markdown",
      "metadata": {
        "id": "dE5aYTu-Jevb"
      },
      "source": [
        "But what about *cpu_usage*? For this, we can use another module called `psutil`. This includes a `cpu_percent` function that returns a number showing how much of the CPU is being used."
      ]
    },
    {
      "cell_type": "code",
      "metadata": {
        "colab": {
          "base_uri": "https://localhost:8080/"
        },
        "id": "CAV43bokJuEB",
        "outputId": "8eab0ef0-4c2c-4bb5-e467-ec0e92c50791"
      },
      "source": [
        "import psutil\n",
        "psutil.cpu_percent(0.1)"
      ],
      "execution_count": null,
      "outputs": [
        {
          "output_type": "execute_result",
          "data": {
            "text/plain": [
              "10.0"
            ]
          },
          "metadata": {
            "tags": []
          },
          "execution_count": 34
        }
      ]
    },
    {
      "cell_type": "code",
      "metadata": {
        "colab": {
          "base_uri": "https://localhost:8080/"
        },
        "id": "Z3fyROSlJ8ii",
        "outputId": "36b8e0a4-dc26-45aa-9f82-4bc1dc6baf97"
      },
      "source": [
        "psutil.cpu_percent(0.5)"
      ],
      "execution_count": null,
      "outputs": [
        {
          "output_type": "execute_result",
          "data": {
            "text/plain": [
              "4.0"
            ]
          },
          "metadata": {
            "tags": []
          },
          "execution_count": 35
        }
      ]
    },
    {
      "cell_type": "markdown",
      "metadata": {
        "id": "DocYsm1TOO5C"
      },
      "source": [
        "automate health check"
      ]
    },
    {
      "cell_type": "code",
      "metadata": {
        "colab": {
          "base_uri": "https://localhost:8080/"
        },
        "id": "kpcSzx2wOH1N",
        "outputId": "c911f4dd-85e8-41d1-a984-c90bd1ef250f"
      },
      "source": [
        "import shutil\n",
        "import psutil\n",
        "\n",
        "def check_disk_usage(disk):\n",
        "  du = shutil.disk_usage(disk)\n",
        "  free = du.free / du.total * 100\n",
        "  return free > 20\n",
        "\n",
        "def check_cpu_usage():\n",
        "  usage = psutil.cpu_percent(1)\n",
        "  return usage < 75\n",
        "\n",
        "if not check_disk_usage(\"/\") or not check_cpu_usage():\n",
        "  print(\"ERROR!\")\n",
        "else:\n",
        "  print(\"Everything is OK!\")"
      ],
      "execution_count": null,
      "outputs": [
        {
          "output_type": "stream",
          "text": [
            "Everything is OK!\n"
          ],
          "name": "stdout"
        }
      ]
    },
    {
      "cell_type": "markdown",
      "metadata": {
        "id": "PzivwCPVGzFH"
      },
      "source": [
        "*health_checks.py*"
      ]
    },
    {
      "cell_type": "code",
      "metadata": {
        "colab": {
          "base_uri": "https://localhost:8080/"
        },
        "id": "4rp1tkMwiDfl",
        "outputId": "324633e3-1846-4de3-e7e5-b3191eb89f64"
      },
      "source": [
        "%%writefile health_checks.py\n",
        "#!/usr/bin/env python3\n",
        "import shutil\n",
        "import psutil\n",
        "from network import *\n",
        "\n",
        "def check_disk_usage(disk):\n",
        "    \"\"\"Verifies that there's enough free space on disk\"\"\"\n",
        "    du = shutil.disk_usage(disk)\n",
        "    free = du.free / du.total * 100\n",
        "    return free > 20\n",
        "def check_cpu_usage():\n",
        "    \"\"\"Verifies that there's enough unused CPU\"\"\"\n",
        "    usage = psutil.cpu_percent(1)\n",
        "    return usage < 75\n",
        "# If there's not enough disk, or not enough CPU, print an error\n",
        "if not check_disk_usage('/') or not check_cpu_usage():\n",
        "    print(\"ERROR!\")\n",
        "elif check_localhost() and check_connectivity():\n",
        "    print(\"Everything ok\")\n"
      ],
      "execution_count": null,
      "outputs": [
        {
          "output_type": "stream",
          "text": [
            "Writing health_checks.py\n"
          ],
          "name": "stdout"
        }
      ]
    },
    {
      "cell_type": "markdown",
      "metadata": {
        "id": "B0mYJP8mG1xF"
      },
      "source": [
        "*network.py*"
      ]
    },
    {
      "cell_type": "code",
      "metadata": {
        "colab": {
          "base_uri": "https://localhost:8080/"
        },
        "id": "311ALrLWiFPV",
        "outputId": "d9ce46c6-3454-41d1-848c-a34fede8ac04"
      },
      "source": [
        "%%writefile network.py\n",
        "\n",
        "#!/usr/bin/env python3\n",
        "import requests\n",
        "import socket\n",
        "\n",
        "def check_localhost():\n",
        "    localhost = socket.gethostbyname('localhost')\n",
        "    return localhost == \"127.0.0.1\"\n",
        "\n",
        "def check_connectivity():\n",
        "    request = requests.get(\"http://www.google.com\")\n",
        "    return request.status_code == 200"
      ],
      "execution_count": null,
      "outputs": [
        {
          "output_type": "stream",
          "text": [
            "Writing network.py\n"
          ],
          "name": "stdout"
        }
      ]
    },
    {
      "cell_type": "code",
      "metadata": {
        "id": "uhxL5q0iifDe"
      },
      "source": [
        "!chmod +x health_checks.py"
      ],
      "execution_count": null,
      "outputs": []
    },
    {
      "cell_type": "code",
      "metadata": {
        "id": "fFOGW3AUijHO"
      },
      "source": [
        "!chmod +x network.py"
      ],
      "execution_count": null,
      "outputs": []
    },
    {
      "cell_type": "code",
      "metadata": {
        "colab": {
          "base_uri": "https://localhost:8080/"
        },
        "id": "BZndK_tJifD9",
        "outputId": "c95ebdb9-bea2-46cf-926e-466a972b166d"
      },
      "source": [
        "!./health_checks.py"
      ],
      "execution_count": null,
      "outputs": [
        {
          "output_type": "stream",
          "text": [
            "Everything ok\n"
          ],
          "name": "stdout"
        }
      ]
    },
    {
      "cell_type": "code",
      "metadata": {
        "colab": {
          "base_uri": "https://localhost:8080/"
        },
        "id": "4-Bis-Dh_3EC",
        "outputId": "20a20357-7830-4f67-8ede-0ae6129d53ff"
      },
      "source": [
        "import psutil\n",
        "# gives a single float value\n",
        "print(psutil.cpu_percent())\n",
        "# gives an object with many fields\n",
        "print(psutil.virtual_memory())\n",
        "# you can convert that object to a dictionary \n",
        "print(dict(psutil.virtual_memory()._asdict()))\n",
        "# you can have the percentage of used RAM\n",
        "print(psutil.virtual_memory().percent)\n",
        "# you can calculate percentage of available memory\n",
        "psutil.virtual_memory().available * 100 / psutil.virtual_memory().total"
      ],
      "execution_count": null,
      "outputs": [
        {
          "output_type": "stream",
          "text": [
            "18.6\n",
            "svmem(total=13653573632, available=12768755712, percent=6.5, used=597139456, free=10965368832, active=1010851840, inactive=1385295872, buffers=79740928, cached=2011324416, shared=1007616, slab=184299520)\n",
            "{'total': 13653573632, 'available': 12768755712, 'percent': 6.5, 'used': 597139456, 'free': 10965368832, 'active': 1010851840, 'inactive': 1385295872, 'buffers': 79740928, 'cached': 2011324416, 'shared': 1007616, 'slab': 184299520}\n",
            "6.5\n"
          ],
          "name": "stdout"
        },
        {
          "output_type": "execute_result",
          "data": {
            "text/plain": [
              "93.51951405655261"
            ]
          },
          "metadata": {
            "tags": []
          },
          "execution_count": 42
        }
      ]
    },
    {
      "cell_type": "code",
      "metadata": {
        "colab": {
          "base_uri": "https://localhost:8080/"
        },
        "id": "JmHJw4wIAmAn",
        "outputId": "a3ed7615-c515-4546-f514-374ee8e74853"
      },
      "source": [
        "values = psutil.virtual_memory()\n",
        "total = values.total >> 20\n",
        "total"
      ],
      "execution_count": null,
      "outputs": [
        {
          "output_type": "execute_result",
          "data": {
            "text/plain": [
              "13021"
            ]
          },
          "metadata": {
            "tags": []
          },
          "execution_count": 43
        }
      ]
    },
    {
      "cell_type": "markdown",
      "metadata": {
        "id": "FpOLAA9t6CTe"
      },
      "source": [
        "# **Managing Files with Python**"
      ]
    },
    {
      "cell_type": "markdown",
      "metadata": {
        "id": "w0msTyIzBJR2"
      },
      "source": [
        "## **Reading files using Python**\n",
        "* Function **open** will start to open the file , if has read access, and return a file descriptor to do more operation with the file.\n",
        "* Function **readline** will read single line from file. Function **read** will read all the way through to the files end. **readlines** to store as list of content in file.\n",
        "* Don't forget to call function **close** to release the file descriptor and finalize the process on the file."
      ]
    },
    {
      "cell_type": "code",
      "metadata": {
        "id": "0YP1JCOeCqsG",
        "colab": {
          "base_uri": "https://localhost:8080/"
        },
        "outputId": "51db40ac-985f-4646-9263-5c7ba600e4a2"
      },
      "source": [
        "%%writefile spider.txt\n",
        "The itsy bitsy spider climbed up the waterspout.\n",
        "Down came the rain\n",
        "and washed the spider out."
      ],
      "execution_count": null,
      "outputs": [
        {
          "output_type": "stream",
          "text": [
            "Writing spider.txt\n"
          ],
          "name": "stdout"
        }
      ]
    },
    {
      "cell_type": "code",
      "metadata": {
        "id": "YgGC49M71Aqb",
        "colab": {
          "base_uri": "https://localhost:8080/"
        },
        "outputId": "3d1ef681-ae1a-43b4-c01e-8e4c066fc78c"
      },
      "source": [
        "for line in open(\"spider.txt\", \"rt\"):\n",
        "  print(line)"
      ],
      "execution_count": null,
      "outputs": [
        {
          "output_type": "stream",
          "text": [
            "The itsy bitsy spider climbed up the waterspout.\n",
            "\n",
            "Down came the rain\n",
            "\n",
            "and washed the spider out.\n"
          ],
          "name": "stdout"
        }
      ]
    },
    {
      "cell_type": "code",
      "metadata": {
        "id": "0fiRBTBE6Fez"
      },
      "source": [
        "# Open Spider.txt file\n",
        "file = open(\"spider.txt\")"
      ],
      "execution_count": null,
      "outputs": []
    },
    {
      "cell_type": "code",
      "metadata": {
        "id": "xiOvDVV32WjL",
        "colab": {
          "base_uri": "https://localhost:8080/"
        },
        "outputId": "c4310811-c8bb-4ec2-c148-7b8931703dd9"
      },
      "source": [
        "# Print the rest of the lines\n",
        "print(file.read())"
      ],
      "execution_count": null,
      "outputs": [
        {
          "output_type": "stream",
          "text": [
            "The itsy bitsy spider climbed up the waterspout.\n",
            "Down came the rain\n",
            "and washed the spider out.\n"
          ],
          "name": "stdout"
        }
      ]
    },
    {
      "cell_type": "code",
      "metadata": {
        "colab": {
          "base_uri": "https://localhost:8080/"
        },
        "id": "NoCukKwXs8vG",
        "outputId": "6686a580-1447-4508-f315-70f8d5971d9c"
      },
      "source": [
        "# Open Spider.txt file\n",
        "file = open(\"spider.txt\")\n",
        "# Read First Line of Spider.txt file\n",
        "print(file.readline())\n",
        "\n",
        "# # Read Second Line of Spider.txt file\n",
        "#print(file.readline())\n",
        "# # Read Third Line of Spider.txt file\n",
        "#print(file.readline())"
      ],
      "execution_count": null,
      "outputs": [
        {
          "output_type": "stream",
          "text": [
            "The itsy bitsy spider climbed up the waterspout.\n",
            "\n"
          ],
          "name": "stdout"
        }
      ]
    },
    {
      "cell_type": "code",
      "metadata": {
        "id": "Hedj7OH7Hn0O",
        "colab": {
          "base_uri": "https://localhost:8080/"
        },
        "outputId": "a0cc9393-5373-4859-dbb1-dee3864cf0ac"
      },
      "source": [
        "print(file.readline())\n",
        "print(file.readline())"
      ],
      "execution_count": null,
      "outputs": [
        {
          "output_type": "stream",
          "text": [
            "Down came the rain\n",
            "\n",
            "and washed the spider out.\n"
          ],
          "name": "stdout"
        }
      ]
    },
    {
      "cell_type": "code",
      "metadata": {
        "id": "1UYXZyGRAXDH"
      },
      "source": [
        "# Close file\n",
        "file.close()"
      ],
      "execution_count": null,
      "outputs": []
    },
    {
      "cell_type": "markdown",
      "metadata": {
        "id": "F1mph1HwBVdt"
      },
      "source": [
        "\n",
        "To make sure that all opened file always closed, use an alternative to write it as a block of code by using keyword **`with`**. When the program going out from the with block, python will automatically close the file."
      ]
    },
    {
      "cell_type": "code",
      "metadata": {
        "id": "iEbRtg0SA4qq",
        "colab": {
          "base_uri": "https://localhost:8080/"
        },
        "outputId": "ba9b8fde-0404-43ea-82a3-94a7a528f5ec"
      },
      "source": [
        "# Use 'with' to read a text file\n",
        "with open(\"spider.txt\") as file:\n",
        "  print(file.readline())"
      ],
      "execution_count": null,
      "outputs": [
        {
          "output_type": "stream",
          "text": [
            "The itsy bitsy spider climbed up the waterspout.\n",
            "\n"
          ],
          "name": "stdout"
        }
      ]
    },
    {
      "cell_type": "markdown",
      "metadata": {
        "id": "uwxgdlyl33pR"
      },
      "source": [
        "## **Iterating through Files**"
      ]
    },
    {
      "cell_type": "markdown",
      "metadata": {
        "id": "fcexE6FJBpdB"
      },
      "source": [
        "* Iterating through files using Python.\n",
        "Using function readlines to read the file contents as list of string, splitted line by line. The new list still can be read even the file closed.\n",
        "* Function **readlines** (also readline), is reading file by line yet keeping the new line (\\n) character at the end of the read string.\n",
        "* Character with backslash like new line (\\n) is called escape character\n"
      ]
    },
    {
      "cell_type": "markdown",
      "metadata": {
        "id": "TDH8eQvt5hzm"
      },
      "source": [
        "So when Python reads the file line by line, the line variable will always have a new line character at the end."
      ]
    },
    {
      "cell_type": "code",
      "metadata": {
        "colab": {
          "base_uri": "https://localhost:8080/"
        },
        "id": "7ZwiwEPC4S5X",
        "outputId": "4322dde8-3e09-476e-e5a1-9d8f9799b8fb"
      },
      "source": [
        "with open(\"spider.txt\") as file:\n",
        "  for line in file:\n",
        "    print(line.upper())"
      ],
      "execution_count": null,
      "outputs": [
        {
          "output_type": "stream",
          "text": [
            "THE ITSY BITSY SPIDER CLIMBED UP THE WATERSPOUT.\n",
            "\n",
            "DOWN CAME THE RAIN\n",
            "\n",
            "AND WASHED THE SPIDER OUT.\n"
          ],
          "name": "stdout"
        }
      ]
    },
    {
      "cell_type": "markdown",
      "metadata": {
        "id": "7W40Gxhj5GHv"
      },
      "source": [
        "use strip() to erase white new line"
      ]
    },
    {
      "cell_type": "code",
      "metadata": {
        "colab": {
          "base_uri": "https://localhost:8080/"
        },
        "id": "w6UFPGQB5JvS",
        "outputId": "687b80e6-c3b2-4fd0-ebf6-cb7f144075b9"
      },
      "source": [
        "with open(\"spider.txt\") as file:\n",
        "  for line in file:\n",
        "    print(line.strip().upper())"
      ],
      "execution_count": null,
      "outputs": [
        {
          "output_type": "stream",
          "text": [
            "THE ITSY BITSY SPIDER CLIMBED UP THE WATERSPOUT.\n",
            "DOWN CAME THE RAIN\n",
            "AND WASHED THE SPIDER OUT.\n"
          ],
          "name": "stdout"
        }
      ]
    },
    {
      "cell_type": "markdown",
      "metadata": {
        "id": "KYjKlIX26evS"
      },
      "source": [
        "Another way we can work with the contents of the file is to read the file lines into a **list**. "
      ]
    },
    {
      "cell_type": "code",
      "metadata": {
        "colab": {
          "base_uri": "https://localhost:8080/"
        },
        "id": "HMb8D6u0IyiE",
        "outputId": "70177c43-f4f3-4f49-cf24-7fed5a517af5"
      },
      "source": [
        "string = \"0,23,4,5,6,7\"\n",
        "label =[]\n",
        "pixel=[]\n",
        "for i, row in enumerate(string.split(',')):\n",
        "  if i == 0:\n",
        "    label.append(row)\n",
        "  \n",
        "pixel"
      ],
      "execution_count": null,
      "outputs": [
        {
          "output_type": "execute_result",
          "data": {
            "text/plain": [
              "['0', '23', '4', '5', '6', '7']"
            ]
          },
          "metadata": {
            "tags": []
          },
          "execution_count": 1
        }
      ]
    },
    {
      "cell_type": "code",
      "metadata": {
        "id": "SVDB9Kg3JNkr"
      },
      "source": [
        "label"
      ],
      "execution_count": null,
      "outputs": []
    },
    {
      "cell_type": "code",
      "metadata": {
        "colab": {
          "base_uri": "https://localhost:8080/"
        },
        "id": "5NoxV_-v5xrB",
        "outputId": "60c647c6-bb1f-414c-8c22-d97bd4fb8bf5"
      },
      "source": [
        "# Create list of lines (1)\n",
        "file = open(\"spider.txt\")\n",
        "lines = file.readlines()\n",
        "file.close()\n",
        "lines"
      ],
      "execution_count": null,
      "outputs": [
        {
          "output_type": "execute_result",
          "data": {
            "text/plain": [
              "['The itsy bitsy spider climbed up the waterspout.\\n',\n",
              " 'Down came the rain\\n',\n",
              " 'and washed the spider out.']"
            ]
          },
          "metadata": {
            "tags": []
          },
          "execution_count": 62
        }
      ]
    },
    {
      "cell_type": "code",
      "metadata": {
        "id": "6wPuhS_SBQWQ",
        "colab": {
          "base_uri": "https://localhost:8080/"
        },
        "outputId": "be3e97c9-ad53-445f-c6cb-74c15b9c61ac"
      },
      "source": [
        "# Create list of lines (2)\n",
        "with open(\"spider.txt\") as file:\n",
        "  lines = file.readlines()\n",
        "\n",
        "print(lines)"
      ],
      "execution_count": null,
      "outputs": [
        {
          "output_type": "stream",
          "text": [
            "['The itsy bitsy spider climbed up the waterspout.\\n', 'Down came the rain\\n', 'and washed the spider out.']\n"
          ],
          "name": "stdout"
        }
      ]
    },
    {
      "cell_type": "code",
      "metadata": {
        "id": "pR9s2gwbFY-s",
        "colab": {
          "base_uri": "https://localhost:8080/"
        },
        "outputId": "dff2ea1c-3c9b-4203-b336-48e32b63270d"
      },
      "source": [
        "# Sort list of lines\n",
        "lines.sort()\n",
        "print(lines)"
      ],
      "execution_count": null,
      "outputs": [
        {
          "output_type": "stream",
          "text": [
            "['Down came the rain\\n', 'The itsy bitsy spider climbed up the waterspout.\\n', 'and washed the spider out.']\n"
          ],
          "name": "stdout"
        }
      ]
    },
    {
      "cell_type": "markdown",
      "metadata": {
        "id": "TweUCGEEBwcA"
      },
      "source": [
        "## **Writing files using Python.**\n",
        "* Mode is like file permission\n",
        "* Using the same **with** block, function open by default using mode **\"r\"** (read-only), can be used to write file with mode **\"w\"** (write-only), if file exists will be overwritten. To avoid, use mode **\"a\"** for append, or mode **\"r+\"** for read-write.\n",
        "* Function **write** returns the number of characters that are successfully written.\n"
      ]
    },
    {
      "cell_type": "markdown",
      "metadata": {
        "id": "mgKIgS8C88aY"
      },
      "source": [
        "**Character and Meaning**\n",
        "\n",
        "'r'\n",
        "\n",
        "open for reading (default)\n",
        "\n",
        "'w'\n",
        "\n",
        "open for writing, truncating the file first\n",
        "\n",
        "'x'\n",
        "\n",
        "open for exclusive creation, failing if the file already exists\n",
        "\n",
        "'a'\n",
        "\n",
        "open for writing, appending to the end of the file if it exists\n",
        "\n",
        "'b'\n",
        "\n",
        "binary mode\n",
        "\n",
        "'t'\n",
        "\n",
        "text mode (default)\n",
        "\n",
        "'+'\n",
        "\n",
        "open for updating (reading and writing)\n",
        "\n",
        "The default mode is 'r' (open for reading text, synonym of 'rt'). Modes 'w+' and 'w+b' open and truncate the file. Modes 'r+' and 'r+b' open the file with no truncation."
      ]
    },
    {
      "cell_type": "code",
      "metadata": {
        "id": "c2A56qfWBxHg"
      },
      "source": [
        "# Write a new txt file\n",
        "#\"r\" = read only, \"w\" = write only, \"a\" = append, \"r+\" = read-write\n",
        "\n",
        "mode = \"w\" \n",
        "with open(\"novel.txt\", mode) as file:\n",
        "  file.write(\"It was a dark and stormy night\")"
      ],
      "execution_count": null,
      "outputs": []
    },
    {
      "cell_type": "markdown",
      "metadata": {
        "id": "_4-OYugIADGJ"
      },
      "source": [
        "## **Practice 01**"
      ]
    },
    {
      "cell_type": "markdown",
      "metadata": {
        "id": "TKk2Yi81ABWe"
      },
      "source": [
        "In this exercise, we will test your knowledge of reading and writing files by playing around with some text files. \n",
        "<br><br>\n",
        "Let's say we have a text file containing current visitors at a hotel.  We'll call it, *guests.txt*.  Run the following code to create the file.  The file will automatically populate with each initial guest's first name on its own line."
      ]
    },
    {
      "cell_type": "code",
      "metadata": {
        "id": "BEUtIJIiABWf"
      },
      "source": [
        "guests = open(\"guests.txt\", \"w\")\n",
        "initial_guests = [\"Bob\", \"Andrea\", \"Manuel\", \"Polly\", \"Khalid\"]\n",
        "\n",
        "for i in initial_guests:\n",
        "    guests.write(i + \"\\n\")\n",
        "    \n",
        "guests.close()"
      ],
      "execution_count": null,
      "outputs": []
    },
    {
      "cell_type": "markdown",
      "metadata": {
        "id": "SOST6lpQABWg"
      },
      "source": [
        "No output is generated for the above code cell.  To check the contents of the newly created *guests.txt* file, run the following code."
      ]
    },
    {
      "cell_type": "code",
      "metadata": {
        "id": "OqQ4QHr7ABWg",
        "colab": {
          "base_uri": "https://localhost:8080/"
        },
        "outputId": "ef44300f-6ce3-4e49-e04d-63419e596ace"
      },
      "source": [
        "with open(\"guests.txt\") as guests:\n",
        "    for line in guests:\n",
        "        print(line)"
      ],
      "execution_count": null,
      "outputs": [
        {
          "output_type": "stream",
          "text": [
            "Bob\n",
            "\n",
            "Andrea\n",
            "\n",
            "Manuel\n",
            "\n",
            "Polly\n",
            "\n",
            "Khalid\n",
            "\n"
          ],
          "name": "stdout"
        }
      ]
    },
    {
      "cell_type": "markdown",
      "metadata": {
        "id": "bXEcRBxYABWh"
      },
      "source": [
        "The output shows that our *guests.txt* file is correctly populated with each initial guest's first name on its own line.  Cool!\n",
        "<br><br>\n",
        "Now suppose we want to update our file as guests check in and out.  Fill in the missing code in the following cell to add guests to the *guests.txt* file as they check in."
      ]
    },
    {
      "cell_type": "code",
      "metadata": {
        "id": "D4mpq6s6ABWi"
      },
      "source": [
        "new_guests = [\"Sam\", \"Danielle\", \"Jacob\"]\n",
        "\n",
        "with open(\"guests.txt\", 'a') as guests:\n",
        "    for i in new_guests:\n",
        "        guests.write(i + \"\\n\")\n",
        "\n",
        "guests.close()"
      ],
      "execution_count": null,
      "outputs": []
    },
    {
      "cell_type": "markdown",
      "metadata": {
        "id": "a3V0uyqqABWi"
      },
      "source": [
        "To check whether your code correctly added the new guests to the *guests.txt* file, run the following cell."
      ]
    },
    {
      "cell_type": "code",
      "metadata": {
        "id": "mY0KRY1wABWi",
        "colab": {
          "base_uri": "https://localhost:8080/"
        },
        "outputId": "e70f8246-5f13-4773-a854-9c7e57faae63"
      },
      "source": [
        "with open(\"guests.txt\") as guests:\n",
        "    for line in guests:\n",
        "        print(line)"
      ],
      "execution_count": null,
      "outputs": [
        {
          "output_type": "stream",
          "text": [
            "Bob\n",
            "\n",
            "Andrea\n",
            "\n",
            "Manuel\n",
            "\n",
            "Polly\n",
            "\n",
            "Khalid\n",
            "\n",
            "Sam\n",
            "\n",
            "Danielle\n",
            "\n",
            "Jacob\n",
            "\n"
          ],
          "name": "stdout"
        }
      ]
    },
    {
      "cell_type": "markdown",
      "metadata": {
        "id": "3yucu8Q1ABWj"
      },
      "source": [
        "The current names in the *guests.txt* file should be:  Bob, Andrea, Manuel, Polly, Khalid, Sam, Danielle and Jacob.\n",
        "<br><br>\n",
        "Was the *guests.txt* file correctly appended with the new guests? If not, go back and edit your code making sure to fill in the gaps appropriately so that the new guests are correctly added to the *guests.txt* file.  Once the new guests are successfully added, you have filled in the missing code correctly.  Great!\n",
        "<br><br>\n",
        "Now let's remove the guests that have checked out already.  There are several ways to do this, however, the method we will choose for this exercise is outlined as follows:\n",
        "1. Open the file in \"read\" mode.\n",
        "2. Iterate over each line in the file and put each guest's name into a Python list.\n",
        "3. Open the file once again in \"write\" mode.\n",
        "4. Add each guest's name in the Python list to the file one by one.\n",
        "\n",
        "<br>\n",
        "Ready? Fill in the missing code in the following cell to remove the guests that have checked out already."
      ]
    },
    {
      "cell_type": "code",
      "metadata": {
        "id": "SqV4tVo6ABWk"
      },
      "source": [
        "checked_out=[\"Andrea\", \"Manuel\", \"Khalid\"]\n",
        "temp_list=[]\n",
        "\n",
        "with open(\"guests.txt\", 'r') as guests:\n",
        "    for g in guests:\n",
        "        temp_list.append(g.strip())\n",
        "\n",
        "with open(\"guests.txt\", 'w') as guests:\n",
        "    for name in temp_list:\n",
        "        if name not in checked_out:\n",
        "            guests.write(name + \"\\n\")"
      ],
      "execution_count": null,
      "outputs": []
    },
    {
      "cell_type": "markdown",
      "metadata": {
        "id": "uYHIv65bABWk"
      },
      "source": [
        "To check whether your code correctly removed the checked out guests from the *guests.txt* file, run the following cell."
      ]
    },
    {
      "cell_type": "code",
      "metadata": {
        "id": "hIgz-9fPABWk",
        "colab": {
          "base_uri": "https://localhost:8080/"
        },
        "outputId": "7b7e649f-a70b-454b-afdf-f640c5035dfa"
      },
      "source": [
        "with open(\"guests.txt\") as guests:\n",
        "    for line in guests:\n",
        "        print(line)"
      ],
      "execution_count": null,
      "outputs": [
        {
          "output_type": "stream",
          "text": [
            "Bob\n",
            "\n",
            "Polly\n",
            "\n",
            "Sam\n",
            "\n",
            "Danielle\n",
            "\n",
            "Jacob\n",
            "\n"
          ],
          "name": "stdout"
        }
      ]
    },
    {
      "cell_type": "markdown",
      "metadata": {
        "id": "-DV6qFp7ABWl"
      },
      "source": [
        "The current names in the *guests.txt* file should be:  Bob, Polly, Sam, Danielle and Jacob.\n",
        "<br><br>\n",
        "Were the names of the checked out guests correctly removed from the *guests.txt* file? If not, go back and edit your code making sure to fill in the gaps appropriately so that the checked out guests are correctly removed from the *guests.txt* file. Once the checked out guests are successfully removed, you have filled in the missing code correctly. Awesome!\n",
        "<br><br>\n",
        "Now let's check whether Bob and Andrea are still checked in.  How could we do this? We'll just read through each line in the file to see if their name is in there.  Run the following code to check whether Bob and Andrea are still checked in."
      ]
    },
    {
      "cell_type": "code",
      "metadata": {
        "id": "cstVXLi3ABWm",
        "colab": {
          "base_uri": "https://localhost:8080/"
        },
        "outputId": "300c4f20-b4d8-43e7-ae41-6914624984f6"
      },
      "source": [
        "guests_to_check = ['Bob', 'Andrea']\n",
        "checked_in = []\n",
        "\n",
        "with open(\"guests.txt\",\"r\") as guests:\n",
        "    for g in guests:\n",
        "        checked_in.append(g.strip())\n",
        "    for check in guests_to_check:\n",
        "        if check in checked_in:\n",
        "            print(\"{} is checked in\".format(check))\n",
        "        else:\n",
        "            print(\"{} is not checked in\".format(check))"
      ],
      "execution_count": null,
      "outputs": [
        {
          "output_type": "stream",
          "text": [
            "Bob is checked in\n",
            "Andrea is not checked in\n"
          ],
          "name": "stdout"
        }
      ]
    },
    {
      "cell_type": "markdown",
      "metadata": {
        "id": "BS7HoSZlABWm"
      },
      "source": [
        "We can see that Bob is checked in while Andrea is not.  Nice work! You've learned the basics of reading and writing files in Python!\n",
        "\n",
        "***GREAT***"
      ]
    },
    {
      "cell_type": "markdown",
      "metadata": {
        "id": "t3I7O-rrCNHo"
      },
      "source": [
        "## **Working with files**"
      ]
    },
    {
      "cell_type": "markdown",
      "metadata": {
        "id": "wKOqRa1ACPxo"
      },
      "source": [
        "Paths can be different across different operating systems. So, whenever we're using an absolute path in our code, we need to make sure we can provide alternatives for the platforms we want to support"
      ]
    },
    {
      "cell_type": "markdown",
      "metadata": {
        "id": "VjqvJutsB5st"
      },
      "source": [
        "* Module **os** provides a layer of abstraction between Python and the operating system.\n",
        "* To check if a file **exists**, use function exists from sub-module **path**.\n",
        "* Rename a file with function **rename** and delete a file using function **remove**.\n"
      ]
    },
    {
      "cell_type": "code",
      "metadata": {
        "id": "-uFgPU8sD3Lv",
        "colab": {
          "base_uri": "https://localhost:8080/"
        },
        "outputId": "bb8c7cec-e36a-4cd7-96e8-ba17f1e410a4"
      },
      "source": [
        "import os\n",
        "\n",
        "# Check if the file exists ot not\n",
        "os.path.exists(\"novel.txt\")"
      ],
      "execution_count": null,
      "outputs": [
        {
          "output_type": "execute_result",
          "data": {
            "text/plain": [
              "True"
            ]
          },
          "metadata": {
            "tags": []
          },
          "execution_count": 73
        }
      ]
    },
    {
      "cell_type": "code",
      "metadata": {
        "id": "zR4EMAHUD8lE",
        "colab": {
          "base_uri": "https://localhost:8080/"
        },
        "outputId": "bd400a16-a39e-4781-9f56-93a184caef11"
      },
      "source": [
        "# Rename novel.txt filename to new.txt\n",
        "os.rename(\"novel.txt\", \"new.txt\")\n",
        "os.path.exists(\"novel.txt\")"
      ],
      "execution_count": null,
      "outputs": [
        {
          "output_type": "execute_result",
          "data": {
            "text/plain": [
              "False"
            ]
          },
          "metadata": {
            "tags": []
          },
          "execution_count": 74
        }
      ]
    },
    {
      "cell_type": "code",
      "metadata": {
        "id": "VcEkCyhUD9gl",
        "colab": {
          "base_uri": "https://localhost:8080/"
        },
        "outputId": "0b147519-89ac-4a53-cf9b-8d687f195fb2"
      },
      "source": [
        "# Remove new.txt file\n",
        "os.remove(\"new.txt\")\n",
        "os.path.exists(\"new.txt\")"
      ],
      "execution_count": null,
      "outputs": [
        {
          "output_type": "execute_result",
          "data": {
            "text/plain": [
              "False"
            ]
          },
          "metadata": {
            "tags": []
          },
          "execution_count": 75
        }
      ]
    },
    {
      "cell_type": "markdown",
      "metadata": {
        "id": "wvhMSDObD96v"
      },
      "source": [
        "**More File Information**"
      ]
    },
    {
      "cell_type": "markdown",
      "metadata": {
        "id": "kuFvMjS3Fngy"
      },
      "source": [
        "*getsize*"
      ]
    },
    {
      "cell_type": "code",
      "metadata": {
        "colab": {
          "base_uri": "https://localhost:8080/"
        },
        "id": "i77HrmYOECR9",
        "outputId": "f98e2a56-d4a9-4f38-b957-66d22b0d6062"
      },
      "source": [
        "os.path.getsize(\"spider.txt\")"
      ],
      "execution_count": null,
      "outputs": [
        {
          "output_type": "execute_result",
          "data": {
            "text/plain": [
              "94"
            ]
          },
          "metadata": {
            "tags": []
          },
          "execution_count": 76
        }
      ]
    },
    {
      "cell_type": "markdown",
      "metadata": {
        "id": "nQnD56yrFpXt"
      },
      "source": [
        "*getmtime*"
      ]
    },
    {
      "cell_type": "code",
      "metadata": {
        "colab": {
          "base_uri": "https://localhost:8080/"
        },
        "id": "hQEjaFI8EJAd",
        "outputId": "a2d24b62-eb7a-4481-fdfb-d1a2b4816a90"
      },
      "source": [
        "os.path.getmtime(\"spider.txt\") # unix timestamp"
      ],
      "execution_count": null,
      "outputs": [
        {
          "output_type": "execute_result",
          "data": {
            "text/plain": [
              "1618276594.7443974"
            ]
          },
          "metadata": {
            "tags": []
          },
          "execution_count": 77
        }
      ]
    },
    {
      "cell_type": "code",
      "metadata": {
        "colab": {
          "base_uri": "https://localhost:8080/"
        },
        "id": "1T66W6W1Eak4",
        "outputId": "367bb0bb-03c3-4e3a-88ba-5d9294ac995b"
      },
      "source": [
        "import datetime\n",
        "timestamp = os.path.getmtime(\"spider.txt\")\n",
        "t = datetime.datetime.fromtimestamp(timestamp) \n",
        "print(\"{}\")"
      ],
      "execution_count": null,
      "outputs": [
        {
          "output_type": "stream",
          "text": [
            "{}\n"
          ],
          "name": "stdout"
        }
      ]
    },
    {
      "cell_type": "code",
      "metadata": {
        "colab": {
          "base_uri": "https://localhost:8080/",
          "height": 35
        },
        "id": "JdIRZqokNICa",
        "outputId": "7deb36f1-bea3-49d4-b76a-f7ac311c048c"
      },
      "source": [
        "t.strftime('%Y-%m-%d')"
      ],
      "execution_count": null,
      "outputs": [
        {
          "output_type": "execute_result",
          "data": {
            "application/vnd.google.colaboratory.intrinsic+json": {
              "type": "string"
            },
            "text/plain": [
              "'2021-04-13'"
            ]
          },
          "metadata": {
            "tags": []
          },
          "execution_count": 79
        }
      ]
    },
    {
      "cell_type": "code",
      "metadata": {
        "colab": {
          "base_uri": "https://localhost:8080/"
        },
        "id": "Uft0jCt5N_SI",
        "outputId": "e0451975-9c3e-4239-edd4-ee8ffa2a8d55"
      },
      "source": [
        "import os\n",
        "import datetime\n",
        "\n",
        "def file_date(filename):\n",
        "  # Create the file in the current directory\n",
        "  with open (filename, \"w\") as file:\n",
        "    pass\n",
        "\n",
        "  timestamp = os.path.getmtime(filename)\n",
        "  # Convert the timestamp into a readable format, then into a string\n",
        "  t = datetime.datetime.fromtimestamp(timestamp) \n",
        "  format_date = t.strftime('%Y-%m-%d')\n",
        "  # Return just the date portion \n",
        "  # Hint: how many characters are in “yyyy-mm-dd”? \n",
        "  return (\"{}\".format(format_date))\n",
        "\n",
        "print(file_date(\"newfile.txt\")) \n",
        "# Should be today's date in the format of yyyy-mm-dd"
      ],
      "execution_count": null,
      "outputs": [
        {
          "output_type": "stream",
          "text": [
            "2021-04-13\n"
          ],
          "name": "stdout"
        }
      ]
    },
    {
      "cell_type": "markdown",
      "metadata": {
        "id": "zD_pLfh-FrHB"
      },
      "source": [
        "*isfile*"
      ]
    },
    {
      "cell_type": "code",
      "metadata": {
        "colab": {
          "base_uri": "https://localhost:8080/"
        },
        "id": "JAYygGGPFSaU",
        "outputId": "b4689053-736a-4608-f658-8f467ced84ee"
      },
      "source": [
        "import os\n",
        "file= \"file.dat\"\n",
        "if os.path.isfile(file):\n",
        "  print(os.path.isfile(file))\n",
        "  print(os.path.getsize(file))\n",
        "else:\n",
        "  print(os.path.isfile(file))\n",
        "  print(\"File not found\")"
      ],
      "execution_count": null,
      "outputs": [
        {
          "output_type": "stream",
          "text": [
            "False\n",
            "File not found\n"
          ],
          "name": "stdout"
        }
      ]
    },
    {
      "cell_type": "markdown",
      "metadata": {
        "id": "KBg0Dw9wFsyZ"
      },
      "source": [
        "*abspath*\n",
        "\n",
        "specify exactly where the file is to work with it in our script"
      ]
    },
    {
      "cell_type": "code",
      "metadata": {
        "colab": {
          "base_uri": "https://localhost:8080/",
          "height": 35
        },
        "id": "WWx3gtIZFhVk",
        "outputId": "799fcb72-b16b-4d1f-9292-e5ff31979eea"
      },
      "source": [
        "os.path.abspath(\"spider.txt\")"
      ],
      "execution_count": null,
      "outputs": [
        {
          "output_type": "execute_result",
          "data": {
            "application/vnd.google.colaboratory.intrinsic+json": {
              "type": "string"
            },
            "text/plain": [
              "'/content/spider.txt'"
            ]
          },
          "metadata": {
            "tags": []
          },
          "execution_count": 82
        }
      ]
    },
    {
      "cell_type": "markdown",
      "metadata": {
        "id": "nJM1DDEpCFHb"
      },
      "source": [
        "## **Work with directories**\n",
        "\n",
        "* Get current working directory (cwd) with function **getcwd**. To change it, use function **chdir**.\n",
        "* Make a new directory use **mkdir**, remove (an empty) directory with function **rmdir**.\n",
        "* Find out what’s inside directory using **listdir**, also check if it is a directory with function **isdir** or a file with isfile.\n"
      ]
    },
    {
      "cell_type": "code",
      "metadata": {
        "colab": {
          "base_uri": "https://localhost:8080/",
          "height": 35
        },
        "id": "E4HCX4VfPZlM",
        "outputId": "26e185a8-ba18-4bac-aa64-4e45eb0e0864"
      },
      "source": [
        "os.pardir"
      ],
      "execution_count": null,
      "outputs": [
        {
          "output_type": "execute_result",
          "data": {
            "application/vnd.google.colaboratory.intrinsic+json": {
              "type": "string"
            },
            "text/plain": [
              "'..'"
            ]
          },
          "metadata": {
            "tags": []
          },
          "execution_count": 83
        }
      ]
    },
    {
      "cell_type": "code",
      "metadata": {
        "id": "6hp7kySMAAXS",
        "colab": {
          "base_uri": "https://localhost:8080/"
        },
        "outputId": "9f7a71f4-c8d8-4320-a5af-0fcd0e673dfe"
      },
      "source": [
        "import os\n",
        "# Get current directory\n",
        "print(os.getcwd())"
      ],
      "execution_count": null,
      "outputs": [
        {
          "output_type": "stream",
          "text": [
            "/content\n"
          ],
          "name": "stdout"
        }
      ]
    },
    {
      "cell_type": "code",
      "metadata": {
        "id": "Kwef1WedjXpU"
      },
      "source": [
        "# Create a new directory\n",
        "os.mkdir(\"new_dir\") # if exist error"
      ],
      "execution_count": null,
      "outputs": []
    },
    {
      "cell_type": "code",
      "metadata": {
        "id": "LP0KiLQQ5tKw",
        "colab": {
          "base_uri": "https://localhost:8080/"
        },
        "outputId": "814e6c68-81c1-4818-df11-0fecf0b0461b"
      },
      "source": [
        "# Change working directory\n",
        "os.chdir(\"new_dir\")\n",
        "print(os.getcwd())"
      ],
      "execution_count": null,
      "outputs": [
        {
          "output_type": "stream",
          "text": [
            "/content/new_dir\n"
          ],
          "name": "stdout"
        }
      ]
    },
    {
      "cell_type": "code",
      "metadata": {
        "id": "GBzklfDpjbj2"
      },
      "source": [
        "# Move to up 1 directory\n",
        "os.chdir(\"..\")"
      ],
      "execution_count": null,
      "outputs": []
    },
    {
      "cell_type": "code",
      "metadata": {
        "id": "zV_QoyKr59hG",
        "colab": {
          "base_uri": "https://localhost:8080/"
        },
        "outputId": "ee5cee14-f5a0-498a-e022-71f7ad64da06"
      },
      "source": [
        "print(os.getcwd())"
      ],
      "execution_count": null,
      "outputs": [
        {
          "output_type": "stream",
          "text": [
            "/content\n"
          ],
          "name": "stdout"
        }
      ]
    },
    {
      "cell_type": "code",
      "metadata": {
        "id": "zo3Kk-Bv58RW"
      },
      "source": [
        "# Remove directory\n",
        "os.rmdir(\"new_dir\")"
      ],
      "execution_count": null,
      "outputs": []
    },
    {
      "cell_type": "code",
      "metadata": {
        "id": "Y9re0gnu6Dbn",
        "colab": {
          "base_uri": "https://localhost:8080/"
        },
        "outputId": "f701ee40-6120-4216-f0eb-da9856617f8f"
      },
      "source": [
        "# Get List of File\n",
        "os.listdir(\".\")  # current dir"
      ],
      "execution_count": null,
      "outputs": [
        {
          "output_type": "execute_result",
          "data": {
            "text/plain": [
              "['.config',\n",
              " 'newfile.txt',\n",
              " 'simple_shell_script.sh',\n",
              " 'health_checks.py',\n",
              " 'guests.txt',\n",
              " 'hello_world.py',\n",
              " '__pycache__',\n",
              " 'spider.txt',\n",
              " 'areas02.py',\n",
              " 'hello.py',\n",
              " 'network.py',\n",
              " 'sample_data']"
            ]
          },
          "metadata": {
            "tags": []
          },
          "execution_count": 90
        }
      ]
    },
    {
      "cell_type": "markdown",
      "metadata": {
        "id": "vWPnqdrrJVIn"
      },
      "source": [
        "cat :\n",
        "\n",
        "In Linux and MacOS, the portions of a file are split using a forward slash (/)\n",
        "\n",
        "On Windows, they're split using a backslash (\\)\n",
        "\n",
        "so to provide this, use os.path.join\n",
        "\n",
        "It creates a string containing cross-platform concatenated directories\n",
        "\n",
        "tambahan cek isfile dan isdir"
      ]
    },
    {
      "cell_type": "code",
      "metadata": {
        "colab": {
          "base_uri": "https://localhost:8080/"
        },
        "id": "xn3AaSStILl9",
        "outputId": "cb3af80f-483b-4106-b8fd-3fa3a12d2d69"
      },
      "source": [
        "# Check is content is file or directory\n",
        "dir = \".\"\n",
        "for name in os.listdir(dir):\n",
        "  fullname = os.path.join(dir, name)\n",
        "  if os.path.isdir(fullname):\n",
        "    print(\"{} is a directory\".format(fullname))\n",
        "  else:\n",
        "    print(\"{} is a file\".format(fullname))\n"
      ],
      "execution_count": null,
      "outputs": [
        {
          "output_type": "stream",
          "text": [
            "./.config is a directory\n",
            "./newfile.txt is a file\n",
            "./simple_shell_script.sh is a file\n",
            "./health_checks.py is a file\n",
            "./guests.txt is a file\n",
            "./hello_world.py is a file\n",
            "./__pycache__ is a directory\n",
            "./spider.txt is a file\n",
            "./areas02.py is a file\n",
            "./hello.py is a file\n",
            "./network.py is a file\n",
            "./sample_data is a directory\n"
          ],
          "name": "stdout"
        }
      ]
    },
    {
      "cell_type": "code",
      "metadata": {
        "id": "ZuBqHXpTjcef",
        "colab": {
          "base_uri": "https://localhost:8080/"
        },
        "outputId": "d9682c51-cca5-42cc-b2ac-2278a7c2d798"
      },
      "source": [
        "# Check if \"data\" file is in the directory\n",
        "os.path.isdir(\"data\")"
      ],
      "execution_count": null,
      "outputs": [
        {
          "output_type": "execute_result",
          "data": {
            "text/plain": [
              "False"
            ]
          },
          "metadata": {
            "tags": []
          },
          "execution_count": 92
        }
      ]
    },
    {
      "cell_type": "markdown",
      "metadata": {
        "id": "z7cSzVaxQccx"
      },
      "source": [
        "## **Practice 02**"
      ]
    },
    {
      "cell_type": "markdown",
      "metadata": {
        "id": "8TUI6-4LQfP_"
      },
      "source": [
        "**01**\n",
        "\n",
        "The create_python_script function creates a new python script in the current working directory, adds the line of comments to it declared  by the 'comments' variable, and returns the size of the new file. Fill in the gaps to create a script called \"program.py\"."
      ]
    },
    {
      "cell_type": "code",
      "metadata": {
        "colab": {
          "base_uri": "https://localhost:8080/"
        },
        "id": "MQSVxUT2QhqO",
        "outputId": "bc44aca5-038f-4e10-dbf2-708474bf3c3a"
      },
      "source": [
        "import os\n",
        "def create_python_script(filename):\n",
        "  comments = \"# Start of a new Python program\"\n",
        "  with open(filename, 'w') as script:\n",
        "    script.write(comments)\n",
        "  filesize = os.path.getsize(filename)\n",
        "  return(filesize)\n",
        "\n",
        "print(create_python_script(\"program.py\"))"
      ],
      "execution_count": null,
      "outputs": [
        {
          "output_type": "stream",
          "text": [
            "31\n"
          ],
          "name": "stdout"
        }
      ]
    },
    {
      "cell_type": "markdown",
      "metadata": {
        "id": "LiufXdTOQl9h"
      },
      "source": [
        "**02**\n",
        "\n",
        "The new_directory function creates a new directory inside the current working directory, then creates a new empty file inside the new directory, and returns the list of files in that directory. Fill in the gaps to create a file \"script.py\" in the directory \"PythonPrograms\". "
      ]
    },
    {
      "cell_type": "code",
      "metadata": {
        "colab": {
          "base_uri": "https://localhost:8080/"
        },
        "id": "gsV5x0XjQvTH",
        "outputId": "24d36098-16a5-4ecb-dd33-9e312ed3458f"
      },
      "source": [
        "import os\n",
        "\n",
        "def new_directory(directory, filename):\n",
        "  # Before creating a new directory, check to see if it already exists\n",
        "  if os.path.isdir(directory) == False:\n",
        "    os.mkdir(directory)\n",
        "\n",
        "  # Create the new file inside of the new directory\n",
        "  os.chdir(directory)\n",
        "  with open (filename, \"w\") as file:\n",
        "    pass\n",
        "\n",
        "  # Return the list of files in the new directory\n",
        "  return os.listdir(\".\")\n",
        "\n",
        "print(new_directory(\"PythonPrograms\", \"script.py\"))\n",
        "# Move to up 1 directory\n",
        "os.chdir(\"..\")"
      ],
      "execution_count": null,
      "outputs": [
        {
          "output_type": "stream",
          "text": [
            "['script.py']\n"
          ],
          "name": "stdout"
        }
      ]
    },
    {
      "cell_type": "markdown",
      "metadata": {
        "id": "encmXe1xQwMz"
      },
      "source": [
        "**03**\n",
        "\n",
        "The file_date function creates a new file in the current working directory, checks the date that the file was modified, and returns just the date portion of the timestamp in the format of yyyy-mm-dd. Fill in the gaps to create a file called \"newfile.txt\" and check the date that it was modified."
      ]
    },
    {
      "cell_type": "code",
      "metadata": {
        "colab": {
          "base_uri": "https://localhost:8080/"
        },
        "id": "w3ROIub-Q0Os",
        "outputId": "3779b259-b04b-4ee0-b0c5-c3178ef19b02"
      },
      "source": [
        "import os\n",
        "import datetime\n",
        "\n",
        "def file_date(filename):\n",
        "  # Create the file in the current directory\n",
        "  with open (filename, \"w\") as file:\n",
        "    pass\n",
        "\n",
        "  timestamp = os.path.getmtime(filename)\n",
        "  # Convert the timestamp into a readable format, then into a string\n",
        "  t = datetime.datetime.fromtimestamp(timestamp) \n",
        "  format_date = t.strftime('%Y-%m-%d')\n",
        "  # Return just the date portion \n",
        "  # Hint: how many characters are in “yyyy-mm-dd”? \n",
        "  return (\"{}\".format(format_date))\n",
        "\n",
        "print(file_date(\"newfile.txt\")) \n",
        "# Should be today's date in the format of yyyy-mm-dd"
      ],
      "execution_count": null,
      "outputs": [
        {
          "output_type": "stream",
          "text": [
            "2021-04-13\n"
          ],
          "name": "stdout"
        }
      ]
    },
    {
      "cell_type": "markdown",
      "metadata": {
        "id": "j6xyiKAcRQWM"
      },
      "source": [
        "**04**\n",
        "\n",
        "The parent_directory function returns the name of the directory that's located just above the current working directory. Remember that '..' is a relative path alias that means \"go up to the parent directory\". Fill in the gaps to complete this function."
      ]
    },
    {
      "cell_type": "code",
      "metadata": {
        "colab": {
          "base_uri": "https://localhost:8080/"
        },
        "id": "yLfKJsFnRUGA",
        "outputId": "2eb48a78-fd01-47e1-de4f-0ddff51b1d47"
      },
      "source": [
        "import os\n",
        "def parent_directory():\n",
        "  # Create a relative path to the parent \n",
        "  # of the current working directory \n",
        "  relative_parent = os.path.join(os.getcwd(), os.pardir)\n",
        "  print(relative_parent)\n",
        "  # Return the absolute path of the parent directory\n",
        "  return os.path.abspath(relative_parent)\n",
        "\n",
        "print(parent_directory())"
      ],
      "execution_count": null,
      "outputs": [
        {
          "output_type": "stream",
          "text": [
            "/content/..\n",
            "/\n"
          ],
          "name": "stdout"
        }
      ]
    },
    {
      "cell_type": "markdown",
      "metadata": {
        "id": "nwPodlQSRj9y"
      },
      "source": [
        "## **Reading and writing CSV Files**\n",
        "\n",
        "https://realpython.com/python-csv/"
      ]
    },
    {
      "cell_type": "markdown",
      "metadata": {
        "id": "9hMB4A9BCQ7Z"
      },
      "source": [
        "* **CSV** stands for **Comma Separated Values** is a spreadsheet-like file, where each line corresponds to a row and each comma separated field corresponds to a column.\n",
        "* Use **reader** function from **csv** module to read CSV from opened file descriptor."
      ]
    },
    {
      "cell_type": "code",
      "metadata": {
        "id": "v-vwb1oqCyXo",
        "colab": {
          "base_uri": "https://localhost:8080/"
        },
        "outputId": "55d12884-7aa6-410c-e4f0-8db54a5f8190"
      },
      "source": [
        "%%writefile data.csv\n",
        "Sabrina Green,802-867,System Administrator\n",
        "Eli Jones,684-348,IT specialist"
      ],
      "execution_count": null,
      "outputs": [
        {
          "output_type": "stream",
          "text": [
            "Writing data.csv\n"
          ],
          "name": "stdout"
        }
      ]
    },
    {
      "cell_type": "code",
      "metadata": {
        "colab": {
          "base_uri": "https://localhost:8080/"
        },
        "id": "fZ7wBF1yXrZq",
        "outputId": "86412fb3-6054-4ab3-b91f-eae085992b87"
      },
      "source": [
        "!cat data.csv"
      ],
      "execution_count": null,
      "outputs": [
        {
          "output_type": "stream",
          "text": [
            "Sabrina Green,802-867,System Administrator\n",
            "Eli Jones,684-348,IT specialist"
          ],
          "name": "stdout"
        }
      ]
    },
    {
      "cell_type": "code",
      "metadata": {
        "id": "n2XOK0cSkPRP",
        "colab": {
          "base_uri": "https://localhost:8080/"
        },
        "outputId": "8c0c483b-1a45-45e4-c36d-5baa980f45eb"
      },
      "source": [
        "import csv\n",
        "f = open(\"data.csv\")\n",
        "# We use csv.reader to read csv file\n",
        "csv_f = csv.reader(f)\n",
        "for row in csv_f:\n",
        "  name, phone, role = row\n",
        "  print(name+': '+role)"
      ],
      "execution_count": null,
      "outputs": [
        {
          "output_type": "stream",
          "text": [
            "Sabrina Green: System Administrator\n",
            "Eli Jones: IT specialist\n"
          ],
          "name": "stdout"
        }
      ]
    },
    {
      "cell_type": "code",
      "metadata": {
        "id": "EapS1QXrYWvM"
      },
      "source": [
        "f.close()"
      ],
      "execution_count": null,
      "outputs": []
    },
    {
      "cell_type": "markdown",
      "metadata": {
        "id": "vyrft_HJYntt"
      },
      "source": [
        "## **Generating CSV**"
      ]
    },
    {
      "cell_type": "markdown",
      "metadata": {
        "id": "W8faYHi5CdG3"
      },
      "source": [
        "* Writing CSV files, from list of list:\n",
        "> * Main list as the rows\n",
        "> * Detail list (inside) as columns\n",
        "* Module csv has function **writerow** to write single row and **writerows** to write multiple rows at once.\n"
      ]
    },
    {
      "cell_type": "code",
      "metadata": {
        "id": "Rc1xiJAUkn4u"
      },
      "source": [
        "# writerow -> write a single row\n",
        "# writerows -> write multiple rows\n",
        "hosts = [\n",
        "    [\"ws.local\", \"192.168.1.2\"],\n",
        "    [\"web.cloud\", \"192.168.1.1\"],\n",
        "]\n",
        "with open('hosts.csv', 'w') as h_csv:\n",
        "  writer = csv.writer(h_csv)\n",
        "  writer.writerows(hosts)"
      ],
      "execution_count": null,
      "outputs": []
    },
    {
      "cell_type": "code",
      "metadata": {
        "colab": {
          "base_uri": "https://localhost:8080/"
        },
        "id": "xHvZ2-iVaN_K",
        "outputId": "c382ade5-28c6-43ec-dc5d-d453318d3fbc"
      },
      "source": [
        "!cat hosts.csv"
      ],
      "execution_count": null,
      "outputs": [
        {
          "output_type": "stream",
          "text": [
            "ws.local,192.168.1.2\r\n",
            "web.cloud,192.168.1.1\r\n"
          ],
          "name": "stdout"
        }
      ]
    },
    {
      "cell_type": "code",
      "metadata": {
        "id": "YtgJgaUb6x3p",
        "colab": {
          "base_uri": "https://localhost:8080/"
        },
        "outputId": "522ed30f-c08d-4403-8e07-ba180753b448"
      },
      "source": [
        "# Check the written data\n",
        "f = open(\"hosts.csv\")\n",
        "csv_f = csv.reader(f)\n",
        "for row in csv_f:\n",
        "  name, value = row\n",
        "  print(name+': '+value)"
      ],
      "execution_count": null,
      "outputs": [
        {
          "output_type": "stream",
          "text": [
            "ws.local: 192.168.1.2\n",
            "web.cloud: 192.168.1.1\n"
          ],
          "name": "stdout"
        }
      ]
    },
    {
      "cell_type": "markdown",
      "metadata": {
        "id": "T0HkxxlnazR_"
      },
      "source": [
        "## **Reading and Writing CSV Files with Dictionaries**"
      ]
    },
    {
      "cell_type": "code",
      "metadata": {
        "colab": {
          "base_uri": "https://localhost:8080/"
        },
        "id": "UtmN0RLncZl8",
        "outputId": "05a53022-e721-4f1e-b7f0-5c02c77a332a"
      },
      "source": [
        "%%writefile software.csv\n",
        "name,version,status,users\n",
        "MailTree,5.34,production,324\n",
        "CalDoor,1.25.1,beta,22\n",
        "Chatty Schicken,0.34,alpha,4"
      ],
      "execution_count": null,
      "outputs": [
        {
          "output_type": "stream",
          "text": [
            "Writing software.csv\n"
          ],
          "name": "stdout"
        }
      ]
    },
    {
      "cell_type": "markdown",
      "metadata": {
        "id": "7KCLW6sJc_PN"
      },
      "source": [
        "Check out how the first line of the file includes the names of each of the fields. We can profit from this additional information by using `DictReader`, a slightly different reader that's also provided by the CSV module. `This reader turns each row of the data in a CSV file into a dictionary. We can then access the data by using the column names instead of the position in the row.`"
      ]
    },
    {
      "cell_type": "markdown",
      "metadata": {
        "id": "2ETm3tlBfn1k"
      },
      "source": [
        "`DictReader()` allows us to convert the data in a CSV file into a standard dictionary\n",
        "\n",
        "`DictWriter()` allows us to write data from a dictionary intocsv file. "
      ]
    },
    {
      "cell_type": "code",
      "metadata": {
        "colab": {
          "base_uri": "https://localhost:8080/"
        },
        "id": "-i2Eee9DN0Mp",
        "outputId": "5d206ba2-3779-4515-ad2d-efc3d04567eb"
      },
      "source": [
        "with open('software.csv') as software:\n",
        "  reader = csv.DictReader(software)\n",
        "  for row in reader:\n",
        "    print((\"{} has {} users\").format(row[\"name\"], row[\"users\"]))"
      ],
      "execution_count": null,
      "outputs": [
        {
          "output_type": "stream",
          "text": [
            "MailTree has 324 users\n",
            "CalDoor has 22 users\n",
            "Chatty Schicken has 4 users\n"
          ],
          "name": "stdout"
        }
      ]
    },
    {
      "cell_type": "code",
      "metadata": {
        "colab": {
          "base_uri": "https://localhost:8080/"
        },
        "id": "d2_wjT9PdDUu",
        "outputId": "fd14009b-4bf1-462c-f6ef-f0f89b1b7dc2"
      },
      "source": [
        "with open('software.csv') as software:\n",
        "  reader = csv.DictReader(software)\n",
        "  for row in reader:\n",
        "    print((\"{} has {} users\").format(row[\"name\"], row[\"users\"]))"
      ],
      "execution_count": null,
      "outputs": [
        {
          "output_type": "stream",
          "text": [
            "MailTree has 324 users\n",
            "CalDoor has 22 users\n",
            "Chatty Schicken has 4 users\n"
          ],
          "name": "stdout"
        }
      ]
    },
    {
      "cell_type": "code",
      "metadata": {
        "id": "yNOD1igTduui"
      },
      "source": [
        "import csv\n",
        "users = [\n",
        "         {\n",
        "             \"name\": \"Sol Mansi\", \n",
        "             \"username\": \"solm\", \n",
        "             \"department\": \"IT Infrastructure\"\n",
        "         },\n",
        "\n",
        "         {\n",
        "             \"name\": \"Lio Nelson\", \n",
        "             \"username\": \"lion\", \n",
        "             \"department\": \"User Experience Reasearch\"\n",
        "         },\n",
        "\n",
        "         {\n",
        "             \"name\": \"Charlie Grey\", \n",
        "             \"username\": \"hreyc\", \n",
        "             \"department\": \"Developement\"\n",
        "         },\n",
        "]\n",
        "\n",
        "# make key for header\n",
        "keys = [\"name\", \"username\", \"department\"]\n",
        "with open(\"by_department.csv\", \"w\") as by_department:\n",
        "  # make csv file with fieldnames\n",
        "  writer = csv.DictWriter(by_department, fieldnames=keys)\n",
        "  # make header based on keys pass\n",
        "  writer.writeheader()\n",
        "  # list of dictionaries with that line\n",
        "  writer.writerows(users)"
      ],
      "execution_count": null,
      "outputs": []
    },
    {
      "cell_type": "code",
      "metadata": {
        "colab": {
          "base_uri": "https://localhost:8080/"
        },
        "id": "bs02j680fTw7",
        "outputId": "ab53c16d-be71-4216-bc15-41273d117883"
      },
      "source": [
        "!cat by_department.csv"
      ],
      "execution_count": null,
      "outputs": [
        {
          "output_type": "stream",
          "text": [
            "name,username,department\r\n",
            "Sol Mansi,solm,IT Infrastructure\r\n",
            "Lio Nelson,lion,User Experience Reasearch\r\n",
            "Charlie Grey,hreyc,Developement\r\n"
          ],
          "name": "stdout"
        }
      ]
    },
    {
      "cell_type": "markdown",
      "metadata": {
        "id": "iKatWLHinMzW"
      },
      "source": [
        "## **Practice 03**"
      ]
    },
    {
      "cell_type": "markdown",
      "metadata": {
        "id": "mT9l77gznS-U"
      },
      "source": [
        "**01**\n",
        "\n",
        "We're working with a list of flowers and some information about each one. The create_file function writes this information to a CSV file. The contents_of_file function reads this file into records and returns the information in a nicely formatted block. Fill in the gaps of the contents_of_file function to turn the data in the CSV file into a dictionary using DictReader."
      ]
    },
    {
      "cell_type": "code",
      "metadata": {
        "colab": {
          "base_uri": "https://localhost:8080/"
        },
        "id": "v9Zg7OgenP4B",
        "outputId": "fdc73479-5752-4a04-c7c3-d2c1901ce282"
      },
      "source": [
        "import os\n",
        "import csv\n",
        "\n",
        "# Create a file with data in it\n",
        "def create_file(filename):\n",
        "  with open(filename, \"w\") as file:\n",
        "    file.write(\"name,color,type\\n\")\n",
        "    file.write(\"carnation,pink,annual\\n\")\n",
        "    file.write(\"daffodil,yellow,perennial\\n\")\n",
        "    file.write(\"iris,blue,perennial\\n\")\n",
        "    file.write(\"poinsettia,red,perennial\\n\")\n",
        "    file.write(\"sunflower,yellow,annual\\n\")\n",
        "\n",
        "# Read the file contents and format the information about each row\n",
        "def contents_of_file(filename):\n",
        "  return_string = \"\"\n",
        "\n",
        "  # Call the function to create the file \n",
        "  create_file(filename)\n",
        "\n",
        "  # Open the file\n",
        "  with open(filename) as flowers:\n",
        "    # Read the rows of the file into a dictionary\n",
        "    reader =  csv.DictReader(flowers)\n",
        "    # Process each item of the dictionary\n",
        "    for row in reader:\n",
        "      return_string += \"a {} {} is {}\\n\".format(row[\"color\"], row[\"name\"], row[\"type\"])\n",
        "  return return_string\n",
        "\n",
        "#Call the function\n",
        "print(contents_of_file(\"flowers.csv\"))"
      ],
      "execution_count": null,
      "outputs": [
        {
          "output_type": "stream",
          "text": [
            "a pink carnation is annual\n",
            "a yellow daffodil is perennial\n",
            "a blue iris is perennial\n",
            "a red poinsettia is perennial\n",
            "a yellow sunflower is annual\n",
            "\n"
          ],
          "name": "stdout"
        }
      ]
    },
    {
      "cell_type": "markdown",
      "metadata": {
        "id": "x6iaRcWMnYjw"
      },
      "source": [
        "**02**\n",
        "\n",
        "Using the CSV file of flowers again, fill in the gaps of the contents_of_file function to process the data without turning it into a dictionary. How do you skip over the header record with the field names?"
      ]
    },
    {
      "cell_type": "code",
      "metadata": {
        "colab": {
          "base_uri": "https://localhost:8080/"
        },
        "id": "COugq2mmndM6",
        "outputId": "137aa6c0-e014-4a2a-ba68-f31c706dfd1c"
      },
      "source": [
        "import os\n",
        "import csv\n",
        "\n",
        "# Create a file with data in it\n",
        "def create_file(filename):\n",
        "  with open(filename, \"w\") as file:\n",
        "    file.write(\"name,color,type\\n\")\n",
        "    file.write(\"carnation,pink,annual\\n\")\n",
        "    file.write(\"daffodil,yellow,perennial\\n\")\n",
        "    file.write(\"iris,blue,perennial\\n\")\n",
        "    file.write(\"poinsettia,red,perennial\\n\")\n",
        "    file.write(\"sunflower,yellow,annual\\n\")\n",
        "\n",
        "# Read the file contents and format the information about each row\n",
        "def contents_of_file(filename):\n",
        "  return_string = \"\"\n",
        "\n",
        "  # Call the function to create the file \n",
        "  create_file(filename)\n",
        "\n",
        "  # Open the file\n",
        "  file = open(filename)\n",
        "  # Read the rows of the file\n",
        "  rows = csv.reader(file)\n",
        "  # Process each row\n",
        "  headers = next(rows)\n",
        "  for row in rows:\n",
        "    name, color, tipe = row\n",
        "    # Format the return string for data rows only\n",
        "    return_string += \"a {} {} is {}\\n\".format(color, name, tipe)\n",
        "  return return_string\n",
        "\n",
        "#Call the function\n",
        "print(contents_of_file(\"flowers.csv\"))"
      ],
      "execution_count": null,
      "outputs": [
        {
          "output_type": "stream",
          "text": [
            "a pink carnation is annual\n",
            "a yellow daffodil is perennial\n",
            "a blue iris is perennial\n",
            "a red poinsettia is perennial\n",
            "a yellow sunflower is annual\n",
            "\n"
          ],
          "name": "stdout"
        }
      ]
    },
    {
      "cell_type": "markdown",
      "metadata": {
        "id": "12OPDRGuwH5U"
      },
      "source": [
        "## **Assignment Final**"
      ]
    },
    {
      "cell_type": "code",
      "metadata": {
        "colab": {
          "base_uri": "https://localhost:8080/"
        },
        "id": "Yr76rvwhVM-I",
        "outputId": "e77967a7-59c5-44e6-f2dc-30335955fca7"
      },
      "source": [
        "from google.colab import drive\n",
        "drive.mount('/content/drive')"
      ],
      "execution_count": null,
      "outputs": [
        {
          "output_type": "stream",
          "text": [
            "Mounted at /content/drive\n"
          ],
          "name": "stdout"
        }
      ]
    },
    {
      "cell_type": "code",
      "metadata": {
        "colab": {
          "base_uri": "https://localhost:8080/"
        },
        "id": "RYQj6aWDwLce",
        "outputId": "c44233ee-7a12-44b1-e4f0-033e2dbe39af"
      },
      "source": [
        "%%writefile employee_report.py\n",
        "#!/usr/bin/env python3\n",
        "\n",
        "import csv\n",
        "def read_employees(csv_file_location):\n",
        "    csv.register_dialect('empDialect', skipinitialspace=True, strict=True)\n",
        "    employee_file = csv.DictReader(open(csv_file_location), dialect = 'empDialect')\n",
        "    employee_list = []\n",
        "    for data in employee_file:\n",
        "        employee_list.append(data)\n",
        "    return employee_list\n",
        "\n",
        "def process_data(employee_list):\n",
        "    department_list = []\n",
        "    for employee_data in employee_list:\n",
        "        department_list.append(employee_data['Department'])\n",
        "    department_data = {}\n",
        "    for department_name in set(department_list):\n",
        "        department_data[department_name] = department_list.count(department_name)\n",
        "    return department_data\n",
        "\n",
        "def write_report(dictionary, report_file):\n",
        "    with open(report_file, \"w+\") as f:\n",
        "        for k in sorted(dictionary):\n",
        "          f.write(str(k)+':'+str(dictionary[k])+'\\n')\n",
        "        f.close()\n",
        "\n",
        "employee_list = read_employees(\"/content/drive/MyDrive/Colab Notebooks/Bangkit ML/employees.csv\")\n",
        "print(employee_list)\n",
        "\n",
        "dictionary = process_data(employee_list)\n",
        "print(dictionary)\n",
        "\n",
        "write_report(dictionary, 'test_report.txt')"
      ],
      "execution_count": null,
      "outputs": [
        {
          "output_type": "stream",
          "text": [
            "Writing employee_report.py\n"
          ],
          "name": "stdout"
        }
      ]
    },
    {
      "cell_type": "code",
      "metadata": {
        "id": "3agvBAfMGBf8"
      },
      "source": [
        "!chmod +x employee_report.py"
      ],
      "execution_count": null,
      "outputs": []
    },
    {
      "cell_type": "code",
      "metadata": {
        "colab": {
          "base_uri": "https://localhost:8080/"
        },
        "id": "ajr0r0w8GBf9",
        "outputId": "28730ed5-d397-4605-a764-7573828831fc"
      },
      "source": [
        "!./employee_report.py"
      ],
      "execution_count": null,
      "outputs": [
        {
          "output_type": "stream",
          "text": [
            "Traceback (most recent call last):\n",
            "  File \"./employee_report.py\", line 27, in <module>\n",
            "    employee_list = read_employees(\"/content/drive/MyDrive/Colab Notebooks/Bangkit ML/employees.csv\")\n",
            "  File \"./employee_report.py\", line 6, in read_employees\n",
            "    employee_file = csv.DictReader(open(csv_file_location), dialect = 'empDialect')\n",
            "FileNotFoundError: [Errno 2] No such file or directory: '/content/drive/MyDrive/Colab Notebooks/Bangkit ML/employees.csv'\n"
          ],
          "name": "stdout"
        }
      ]
    },
    {
      "cell_type": "markdown",
      "metadata": {
        "id": "FQKrCYTU6F-k"
      },
      "source": [
        "# **Regular Expression (regex)**\n",
        "\n",
        "https://docs.python.org/3/howto/regex.html\n",
        "\n",
        "https://docs.python.org/3/library/re.html\n",
        "\n",
        "https://regexcrossword.com/\n",
        "\n",
        "\n",
        "* A regular expression, also known as **regex** or **regexp**, is essentially a search query for text that’s expressed by string pattern.\n",
        "\n",
        "* There are multiple different ways through which we can apply regular expressions, a whole wide range of programming languages, includes Python. Also command line tools that know how to apply regexes, like grep, sed or awk. The implementation may vary, but the principles remain the same.\n",
        "\n",
        "* The course focuses on Python module that dealing with regular expressions."
      ]
    },
    {
      "cell_type": "code",
      "metadata": {
        "colab": {
          "base_uri": "https://localhost:8080/"
        },
        "id": "E-1jXkdoDKDT",
        "outputId": "0f251a6e-99ae-4b6c-8c2f-ded641dc5e77"
      },
      "source": [
        "import re\n",
        "log = \"July 31 07:51:48 mycomputer bad_process[12345]: ERROR Performing package upgrade\"\n",
        "regex = r\"\\[(\\d+)]\"\n",
        "result = re.search(regex, log)\n",
        "print(result[1])"
      ],
      "execution_count": null,
      "outputs": [
        {
          "output_type": "stream",
          "text": [
            "12345\n"
          ],
          "name": "stdout"
        }
      ]
    },
    {
      "cell_type": "markdown",
      "metadata": {
        "id": "LAIYgJfiIcXt"
      },
      "source": [
        "## **Basic Matching with grep**\n",
        "\n",
        "Grep is an especially easy to use yet extremely powerful tool for applying regexes.\n",
        "\n",
        "Remember, that grep works by printing out any line that matches the query that we pass it. "
      ]
    },
    {
      "cell_type": "code",
      "metadata": {
        "colab": {
          "base_uri": "https://localhost:8080/"
        },
        "id": "kFwZ4dsdF-7v",
        "outputId": "1182ac71-cad1-4039-d0c6-acf450a5b6f6"
      },
      "source": [
        "%%writefile re.txt\n",
        "Python 1\n",
        "python 2\n",
        "Python 3\n",
        "python 4\n",
        "grab\n",
        "grib\n",
        "grub\n",
        "fruit\n",
        "yikesfruit\n",
        "fruitcakes\n",
        "cakesfruit"
      ],
      "execution_count": null,
      "outputs": [
        {
          "output_type": "stream",
          "text": [
            "Writing re.txt\n"
          ],
          "name": "stdout"
        }
      ]
    },
    {
      "cell_type": "markdown",
      "metadata": {
        "id": "_LEHMk3nJA8Y"
      },
      "source": [
        "*contain \"thon\"*"
      ]
    },
    {
      "cell_type": "code",
      "metadata": {
        "colab": {
          "base_uri": "https://localhost:8080/"
        },
        "id": "pH-AYW8LFqvt",
        "outputId": "f5706781-a4ed-4085-9285-4d992743747e"
      },
      "source": [
        "!grep thon re.txt"
      ],
      "execution_count": null,
      "outputs": [
        {
          "output_type": "stream",
          "text": [
            "Python 1\n",
            "python 2\n",
            "Python 3\n",
            "python 4\n"
          ],
          "name": "stdout"
        }
      ]
    },
    {
      "cell_type": "markdown",
      "metadata": {
        "id": "Vz2_ZSClJFnU"
      },
      "source": [
        "*regardless case*"
      ]
    },
    {
      "cell_type": "code",
      "metadata": {
        "colab": {
          "base_uri": "https://localhost:8080/"
        },
        "id": "ymGCd1WvJMOZ",
        "outputId": "0f9897b4-c282-4fb5-d984-c703e8a2ff73"
      },
      "source": [
        "!grep -i python re.txt"
      ],
      "execution_count": null,
      "outputs": [
        {
          "output_type": "stream",
          "text": [
            "Python 1\n",
            "python 2\n",
            "Python 3\n",
            "python 4\n"
          ],
          "name": "stdout"
        }
      ]
    },
    {
      "cell_type": "markdown",
      "metadata": {
        "id": "225ig0s6JZdq"
      },
      "source": [
        "*a dot matches any character*"
      ]
    },
    {
      "cell_type": "code",
      "metadata": {
        "colab": {
          "base_uri": "https://localhost:8080/"
        },
        "id": "HV8EKNm-JayL",
        "outputId": "19137f8b-7e7d-417e-dfc1-2c9ae6aac157"
      },
      "source": [
        "!grep gr.b re.txt"
      ],
      "execution_count": null,
      "outputs": [
        {
          "output_type": "stream",
          "text": [
            "grab\n",
            "grib\n",
            "grub\n"
          ],
          "name": "stdout"
        }
      ]
    },
    {
      "cell_type": "markdown",
      "metadata": {
        "id": "_qQ3Kol5XdpI"
      },
      "source": [
        "*^ for begin word*"
      ]
    },
    {
      "cell_type": "code",
      "metadata": {
        "colab": {
          "base_uri": "https://localhost:8080/"
        },
        "id": "CNVc5-3MXQM7",
        "outputId": "2f7dcef1-7dbf-4527-b372-5a054b0f50f5"
      },
      "source": [
        "!grep ^fruit re.txt"
      ],
      "execution_count": null,
      "outputs": [
        {
          "output_type": "stream",
          "text": [
            "fruit\n",
            "fruitcakes\n"
          ],
          "name": "stdout"
        }
      ]
    },
    {
      "cell_type": "markdown",
      "metadata": {
        "id": "NBVy0TuKXhY6"
      },
      "source": [
        "*$ for last word*"
      ]
    },
    {
      "cell_type": "code",
      "metadata": {
        "colab": {
          "base_uri": "https://localhost:8080/"
        },
        "id": "DzSm1aSsXXj7",
        "outputId": "c77a8a2d-ee09-4d5f-8ffe-8f89ba02d1cf"
      },
      "source": [
        "!grep fruit$ re.txt"
      ],
      "execution_count": null,
      "outputs": [
        {
          "output_type": "stream",
          "text": [
            "fruit\n",
            "yikesfruit\n",
            "cakesfruit\n"
          ],
          "name": "stdout"
        }
      ]
    },
    {
      "cell_type": "markdown",
      "metadata": {
        "id": "JJRFlIRAZhl8"
      },
      "source": [
        "## **Basic Regular Expressions**"
      ]
    },
    {
      "cell_type": "markdown",
      "metadata": {
        "id": "Py2fQecTm3dr"
      },
      "source": [
        "### **Simple Mathing**\n",
        "\n",
        "* Regular expressions in Python uses raw string (`r\" \"`). It means that interpreter shouldn't try to interpret any special characters. Just pass the string to the function as is.\n",
        "\n",
        "* The Match object includes information like position in the string that matched and the actual matching string.\n",
        "\n",
        "* `Circumflex (^)` pattern matches the beginning of the line. `Dot (.)` matches any character. Option `re.IGNORECASE` to match insensitive case. "
      ]
    },
    {
      "cell_type": "code",
      "metadata": {
        "id": "OyKKFvOUm3MJ",
        "colab": {
          "base_uri": "https://localhost:8080/"
        },
        "outputId": "160b9ca4-e0d0-4814-e9eb-11acbbd81f09"
      },
      "source": [
        "import re\n",
        "result = re.search(r\"aza\", \"plaza\")\n",
        "print(result)\n",
        "print(re.search(r\"aza\", \"bazaar\"))\n",
        "print(re.search(r\"aza\", \"maze\"))\n",
        "print(re.search(r\"^x\", \"xenon\"))\n",
        "print(re.search(r\"p.ng\", \"sponge\"))\n",
        "print(re.search(r\"p.ng\", \"Penguin\", re.IGNORECASE))"
      ],
      "execution_count": null,
      "outputs": [
        {
          "output_type": "stream",
          "text": [
            "<re.Match object; span=(2, 5), match='aza'>\n",
            "<re.Match object; span=(1, 4), match='aza'>\n",
            "None\n",
            "<re.Match object; span=(0, 1), match='x'>\n",
            "<re.Match object; span=(1, 5), match='pong'>\n",
            "<re.Match object; span=(0, 4), match='Peng'>\n"
          ],
          "name": "stdout"
        }
      ]
    },
    {
      "cell_type": "markdown",
      "metadata": {
        "id": "4ruiom5DnWXb"
      },
      "source": [
        "### **Wildcards and Character Classes**\n",
        "\n",
        "* `Dot (.)` which is matched to any character, in the regex world is known as `wildcard` because it can absolutely match any character. \n",
        "\n",
        "* To restrict our wildcards to a `range of characters`, use another feature of regexes called character classes that are written inside `square brackets ([ ])`. \n",
        "\n",
        "* Use `circumflex (^)` inside square brackets to match any characters that **are not in a group**.\n"
      ]
    },
    {
      "cell_type": "code",
      "metadata": {
        "id": "AIn-S3WYjWgL",
        "colab": {
          "base_uri": "https://localhost:8080/"
        },
        "outputId": "41da384b-43ce-4dba-f20d-248f91890ce1"
      },
      "source": [
        "print(re.search(r\"[Pp]ython\", \"Python\"))\n",
        "print(re.search(r\"[a-z]way\", \"the highway\"))\n",
        "print(re.search(r\"[a-z]way\", \"a way to go\"))\n",
        "print(re.search(r\"cloud[a-zA-Z0-9]\", \"cloudy\"))\n",
        "print(re.search(r\"cloud[a-zA-Z0-9]\", \"cloud9\"))\n",
        "print(re.search(r\"[^a-zA-Z]\", \"This is a sentence.\"))\n",
        "print(re.search(r\"[^a-zA-Z ]\", \"This is a sentence.\"))\n",
        "print(re.search(r\"[,.:;?!']\", \"Aren't regular expressions awesome?\"))"
      ],
      "execution_count": null,
      "outputs": [
        {
          "output_type": "stream",
          "text": [
            "<re.Match object; span=(0, 6), match='Python'>\n",
            "<re.Match object; span=(7, 11), match='hway'>\n",
            "None\n",
            "<re.Match object; span=(0, 6), match='cloudy'>\n",
            "<re.Match object; span=(0, 6), match='cloud9'>\n",
            "<re.Match object; span=(4, 5), match=' '>\n",
            "<re.Match object; span=(18, 19), match='.'>\n",
            "<re.Match object; span=(4, 5), match=\"'\">\n"
          ],
          "name": "stdout"
        }
      ]
    },
    {
      "cell_type": "markdown",
      "metadata": {
        "id": "JQgenuq2ncHM"
      },
      "source": [
        "* Use the `pipe symbol (|)` to match one expression or another. Function **search** only match the first pattern which it finds.\n",
        "\n",
        "* To get all possible matches, use the **`findall`** function, also from **re** module."
      ]
    },
    {
      "cell_type": "code",
      "metadata": {
        "id": "EdTA4fws__sX",
        "colab": {
          "base_uri": "https://localhost:8080/"
        },
        "outputId": "2ef1d4d5-6df5-4f08-aefe-7d74e360b69c"
      },
      "source": [
        "print(re.search(r\"cat|dog\", \"I like cats.\"))\n",
        "print(re.search(r\"cat|dog\", \"I like dogs.\"))\n",
        "print(re.search(r\"cat|dog\", \"I like both cats and dogs.\"))\n",
        "print(re.findall(r\"cat|dog\", \"I like both dogs and cats.\"))"
      ],
      "execution_count": null,
      "outputs": [
        {
          "output_type": "stream",
          "text": [
            "<re.Match object; span=(7, 10), match='cat'>\n",
            "<re.Match object; span=(7, 10), match='dog'>\n",
            "<re.Match object; span=(12, 15), match='cat'>\n",
            "['dog', 'cat']\n"
          ],
          "name": "stdout"
        }
      ]
    },
    {
      "cell_type": "markdown",
      "metadata": {
        "id": "N7rRDjAn3z-B"
      },
      "source": [
        "Fill in the code to check if the text passed contains the vowels a, e and i, with exactly one occurrence of any other character in between."
      ]
    },
    {
      "cell_type": "code",
      "metadata": {
        "colab": {
          "base_uri": "https://localhost:8080/"
        },
        "id": "4mHQnThI3ykM",
        "outputId": "c4a79596-26d0-468f-e49b-9dd9e6ac35e6"
      },
      "source": [
        "import re\n",
        "def check_aei (text):\n",
        "  result = re.search(r\"a.e.i\", text)\n",
        "  return result != None\n",
        "print(check_aei(\"academia\")) # True\n",
        "print(check_aei(\"aerial\")) # False\n",
        "print(check_aei(\"paramedic\")) # True"
      ],
      "execution_count": null,
      "outputs": [
        {
          "output_type": "stream",
          "text": [
            "True\n",
            "False\n",
            "True\n"
          ],
          "name": "stdout"
        }
      ]
    },
    {
      "cell_type": "markdown",
      "metadata": {
        "id": "urSxrl1c37s1"
      },
      "source": [
        "Fill in the code to check if the text passed contains punctuation symbols: commas, periods, colons, semicolons, question marks, and exclamation points."
      ]
    },
    {
      "cell_type": "code",
      "metadata": {
        "colab": {
          "base_uri": "https://localhost:8080/"
        },
        "id": "i1QCsFxK39pT",
        "outputId": "e93f4807-0e54-48a7-9576-650c9b5f4dbb"
      },
      "source": [
        "import re\n",
        "def check_punctuation (text):\n",
        "  result = re.search(r\"[,.:;?!]\", text)\n",
        "  return result != None\n",
        "print(check_punctuation(\"This is a sentence that ends with a period.\")) # True\n",
        "print(check_punctuation(\"This is a sentence fragment without a period\")) # False\n",
        "print(check_punctuation(\"Aren't regular expressions awesome?\")) # True\n",
        "print(check_punctuation(\"Wow! We're really picking up some steam now!\")) # True\n",
        "print(check_punctuation(\"End of the line\")) # False"
      ],
      "execution_count": null,
      "outputs": [
        {
          "output_type": "stream",
          "text": [
            "True\n",
            "False\n",
            "True\n",
            "True\n",
            "False\n"
          ],
          "name": "stdout"
        }
      ]
    },
    {
      "cell_type": "markdown",
      "metadata": {
        "id": "rh9yLtujpUeH"
      },
      "source": [
        "### **Repetition Qualifiers**\n",
        "\n",
        "* **Repeated matches** is another regex concept. For example, using a **dot** followed by a **star**, means that it matches any character repeated as many times possible **including zero**. The **star** takes as many character as possible, called greedy in programming terms.\n",
        "\n",
        "* The **plus** character matches one or more occurrences of the character before it.\n",
        "\n",
        "* The **question mark** symbol means either zero or one occurrence of the character before it.\n"
      ]
    },
    {
      "cell_type": "code",
      "metadata": {
        "id": "E9E7DO5M6N5b",
        "colab": {
          "base_uri": "https://localhost:8080/"
        },
        "outputId": "c136492a-578f-4d66-9d97-58dd4de75a57"
      },
      "source": [
        "print(re.search(r\"Py.*n\", \"Pyn\"))\n",
        "print(re.search(r\"Py.*n\", \"Pygmalion\"))\n",
        "print(re.search(r\"Py.*n\", \"Python Programming\"))\n",
        "print(re.search(r\"Py[a-z]*n\", \"Python Programming\"))\n",
        "print(re.search(r\"Py[a-z]*n\", \"Pyn\"))  # 0\n",
        "\n",
        "print(re.search(r\"o+l+\", \"goldfish\"))\n",
        "print(re.search(r\"o+l+\", \"woolly\"))\n",
        "print(re.search(r\"o+l+\", \"boil\"))\n",
        "\n",
        "print(re.search(r\"p?each\", \"To each their own\"))\n",
        "print(re.search(r\"p?each\", \"I like peaches\"))"
      ],
      "execution_count": null,
      "outputs": [
        {
          "output_type": "stream",
          "text": [
            "<re.Match object; span=(0, 3), match='Pyn'>\n",
            "<re.Match object; span=(0, 9), match='Pygmalion'>\n",
            "<re.Match object; span=(0, 17), match='Python Programmin'>\n",
            "<re.Match object; span=(0, 6), match='Python'>\n",
            "<re.Match object; span=(0, 3), match='Pyn'>\n",
            "<re.Match object; span=(1, 3), match='ol'>\n",
            "<re.Match object; span=(1, 5), match='ooll'>\n",
            "None\n",
            "<re.Match object; span=(3, 7), match='each'>\n",
            "<re.Match object; span=(7, 12), match='peach'>\n"
          ],
          "name": "stdout"
        }
      ]
    },
    {
      "cell_type": "markdown",
      "metadata": {
        "id": "s7-xNBeo29MZ"
      },
      "source": [
        "find at least 2  'a' or 'A' seprate by some character or not"
      ]
    },
    {
      "cell_type": "code",
      "metadata": {
        "colab": {
          "base_uri": "https://localhost:8080/"
        },
        "id": "ZgOuZs5Rs-gz",
        "outputId": "a2d34fad-37d3-4402-ef91-117e1029a37b"
      },
      "source": [
        "import re \n",
        "def repeating_letter_a(text):\n",
        "  result = re.search(r\"[aA].*[aA]\", text)\n",
        "  return result != None\n",
        "\n",
        "print(repeating_letter_a(\"banana\"))\n",
        "print(repeating_letter_a(\"pineapple\"))\n",
        "print(repeating_letter_a(\"Animal Kingdom\"))\n",
        "print(repeating_letter_a(\"A is for apple\"))"
      ],
      "execution_count": null,
      "outputs": [
        {
          "output_type": "stream",
          "text": [
            "True\n",
            "False\n",
            "True\n",
            "True\n"
          ],
          "name": "stdout"
        }
      ]
    },
    {
      "cell_type": "markdown",
      "metadata": {
        "id": "43CWXj6D27zz"
      },
      "source": [
        "find at least 2 groups of alphanumeric characters (including letters, numbers, and underscores) separated by one or more whitespace characters in below code,"
      ]
    },
    {
      "cell_type": "code",
      "metadata": {
        "colab": {
          "base_uri": "https://localhost:8080/"
        },
        "id": "p5QWaVSLzFN3",
        "outputId": "28daa917-32ae-4517-95ba-0fb21cc5018a"
      },
      "source": [
        "def check_character_groups(text):\n",
        "  result = re.search(r\"[a-zA-Z0-9_]+ +[a-zA-Z0-9_]+\", text)\n",
        "  # result = re.search(r\"\\w+\\s+\\w+\", text)\n",
        "  return result != None\n",
        "\n",
        "print(check_character_groups(\"One\")) # False\n",
        "print(check_character_groups(\"123  Ready Set GO\")) # True\n",
        "print(check_character_groups(\"username user_01\")) # True\n",
        "print(check_character_groups(\"shopping_list: milk, bread, eggs.\")) # False"
      ],
      "execution_count": null,
      "outputs": [
        {
          "output_type": "stream",
          "text": [
            "False\n",
            "True\n",
            "True\n",
            "False\n"
          ],
          "name": "stdout"
        }
      ]
    },
    {
      "cell_type": "markdown",
      "metadata": {
        "id": "MXgmziEQqdaP"
      },
      "source": [
        "### **Escaping Characters**\n",
        "\n",
        "* To match **special characters** like dot (.), star (*), plus (+), question mark (?), circumflex (^), dollar sign ($), square brackets ([]), use escape characters.\n",
        "\n",
        "* Python also uses the backslash for a few **special sequences** that used to represent predefined characters. Eg: **\\\\w** matches any alphanumeric character including letters, numbers, and underscores.\n",
        "\n",
        "\n",
        "`\\d` - Matches any decimal digit; this is equivalent to the class `[0-9]`.\n",
        "\n",
        "`\\D` - Matches any non-digit character; this is equivalent to the class `[^0-9]`.\n",
        "\n",
        "`\\s` - Matches any whitespace character; this is equivalent to the class `[ \\t\\n\\r\\f\\v]`.\n",
        "\n",
        "`\\S` - Matches any non-whitespace character; this is equivalent to the class `[^ \\t\\n\\r\\f\\v]`.\n",
        "\n",
        "`\\w` - Matches any alphanumeric character; this is equivalent to the class `[a-zA-Z0-9_]`.\n",
        "\n",
        "`\\W` - Matches any non-alphanumeric character; this is equivalent to the class `[^a-zA-Z0-9_]`."
      ]
    },
    {
      "cell_type": "code",
      "metadata": {
        "id": "t8rnnqlKqojb",
        "colab": {
          "base_uri": "https://localhost:8080/"
        },
        "outputId": "d218e12c-a5d1-49a3-bce0-0e8490a3ab67"
      },
      "source": [
        "print(re.search(r\".com\", \"welcome\"))\n",
        "print(re.search(r\"\\.com\", \"welcome\"))\n",
        "print(re.search(r\"\\.com\", \"google.com\"))\n",
        "\n",
        "print(re.search(r\"\\w*\", \"This is test\"))\n",
        "print(re.search(r\"\\w*\", \"And_this_one\"))"
      ],
      "execution_count": null,
      "outputs": [
        {
          "output_type": "stream",
          "text": [
            "<re.Match object; span=(2, 6), match='lcom'>\n",
            "None\n",
            "<re.Match object; span=(6, 10), match='.com'>\n",
            "<re.Match object; span=(0, 4), match='This'>\n",
            "<re.Match object; span=(0, 12), match='And_this_one'>\n"
          ],
          "name": "stdout"
        }
      ]
    },
    {
      "cell_type": "code",
      "metadata": {
        "colab": {
          "base_uri": "https://localhost:8080/"
        },
        "id": "z_Xb0JjygSO6",
        "outputId": "2db7576d-4a9b-416a-e6f3-931f018eb0dd"
      },
      "source": [
        "print(re.search(r\"[\\+a-z.-]\", \"+wel+ome\"))"
      ],
      "execution_count": null,
      "outputs": [
        {
          "output_type": "stream",
          "text": [
            "<re.Match object; span=(0, 1), match='+'>\n"
          ],
          "name": "stdout"
        }
      ]
    },
    {
      "cell_type": "markdown",
      "metadata": {
        "id": "L0XyeLy0rJMd"
      },
      "source": [
        "**Regular Expressions in Action**\n",
        "\n",
        "* Circumflex (^) pattern matches the **beginning** of the line. Dollar sign ($) pattern match the **end** of the line.\n",
        "\n",
        "* Build `pattern` of valid variable name of Python:\n",
        "> * It can contain any number of letters, numbers, or underscores\n",
        "> * Can’t start with a number\n"
      ]
    },
    {
      "cell_type": "code",
      "metadata": {
        "id": "nud5mqYDr1ba",
        "colab": {
          "base_uri": "https://localhost:8080/"
        },
        "outputId": "3d6ce81a-b5c6-4917-bf04-9de6ba4eea5c"
      },
      "source": [
        "print(re.search(r\"A.*a\", \"Argentina\"))\n",
        "print(re.search(r\"A.*a\", \"Azerbaijan\"))\n",
        "print(re.search(r\"^A.*a$\", \"Azerbaijan\"))\n",
        "print(re.search(r\"^A.*a$\", \"Australia\"))\n",
        "\n",
        "pattern = r\"^[a-zA-Z_][a-zA-Z0-9_]*$\"\n",
        "print(re.search(pattern, \"_variable_name\"))\n",
        "print(re.search(pattern, \"this isn’t valid\"))\n",
        "\n",
        "print(re.search(pattern, \"my_variable1\"))\n",
        "print(re.search(pattern, \"2my_variable1\"))"
      ],
      "execution_count": null,
      "outputs": [
        {
          "output_type": "stream",
          "text": [
            "<re.Match object; span=(0, 9), match='Argentina'>\n",
            "<re.Match object; span=(0, 9), match='Azerbaija'>\n",
            "None\n",
            "<re.Match object; span=(0, 9), match='Australia'>\n",
            "<re.Match object; span=(0, 14), match='_variable_name'>\n",
            "None\n",
            "<re.Match object; span=(0, 12), match='my_variable1'>\n",
            "None\n"
          ],
          "name": "stdout"
        }
      ]
    },
    {
      "cell_type": "markdown",
      "metadata": {
        "id": "u2M9ZXTPca_5"
      },
      "source": [
        "Fill in the code to check if the text passed looks like a standard sentence, meaning that it starts with an uppercase letter, followed by at least some lowercase lettrers or a space, and ends with a period, question mark, or exlamation point."
      ]
    },
    {
      "cell_type": "code",
      "metadata": {
        "colab": {
          "base_uri": "https://localhost:8080/"
        },
        "id": "Bi_lVX8hcbXk",
        "outputId": "c14b3856-1beb-4bcb-dae6-3f428586387d"
      },
      "source": [
        "import re\n",
        "def check_sentence(text):\n",
        "  result = re.search(r\"^[A-Z][a-z ]*[.?!]$\", text)\n",
        "  return result != None\n",
        "\n",
        "print(check_sentence(\"Is this is a sentence?\")) # True\n",
        "print(check_sentence(\"is this is a sentence?\")) # False\n",
        "print(check_sentence(\"Hello\")) # False\n",
        "print(check_sentence(\"1-2-3-GO!\")) # False\n",
        "print(check_sentence(\"A star is born.\")) # True"
      ],
      "execution_count": null,
      "outputs": [
        {
          "output_type": "stream",
          "text": [
            "True\n",
            "False\n",
            "False\n",
            "False\n",
            "True\n"
          ],
          "name": "stdout"
        }
      ]
    },
    {
      "cell_type": "markdown",
      "metadata": {
        "id": "0X9AVYb75Ntb"
      },
      "source": [
        "The check_web_address function checks if the text passed qualifies as a top-level web address, meaning that it contains alphanumeric characters (which includes letters, numbers, and underscores), as well as periods, dashes, and a plus sign, followed by a period and a character-only top-level domain such as “.com”, “.info”, “.edu”, etc. Fill in the regular expression to do that, using escape characters, wildcards, repetition qualifiers, beginning and end-of-line characters, and character classes."
      ]
    },
    {
      "cell_type": "code",
      "metadata": {
        "id": "3I_oW7-v5PvP",
        "colab": {
          "base_uri": "https://localhost:8080/"
        },
        "outputId": "1a43690a-c750-47d0-f22c-110ddf9c2c02"
      },
      "source": [
        "import re\n",
        "def check_web_address(text):\n",
        "  pattern = r\"^\\S+\\.[a-zA-Z]+$\"\n",
        "  result = re.search(pattern, text)\n",
        "  return result != None\n",
        "print(check_web_address(\"gmail.com\")) # True\n",
        "print(check_web_address(\"www@google\")) # False\n",
        "print(check_web_address(\"www.Coursera.org\")) # True\n",
        "print(check_web_address(\"web-address.com/homepage\")) # False\n",
        "print(check_web_address(\"My_Favorite-Blog.US\")) # True"
      ],
      "execution_count": null,
      "outputs": [
        {
          "output_type": "stream",
          "text": [
            "True\n",
            "False\n",
            "True\n",
            "False\n",
            "True\n"
          ],
          "name": "stdout"
        }
      ]
    },
    {
      "cell_type": "markdown",
      "metadata": {
        "id": "La3HEeMDnbM8"
      },
      "source": [
        "### **Practice Basic Regex**\n",
        "\n",
        "https://roboticswithpython.com/forums/topic/week-3-python-automation-regexregular-expression/"
      ]
    },
    {
      "cell_type": "markdown",
      "metadata": {
        "id": "2HgWl_5NnimW"
      },
      "source": [
        "***01***\n",
        "\n",
        "The check_web_address function checks if the text passed qualifies as a top-level web address, meaning that it contains alphanumeric characters (which includes letters, numbers, and underscores), as well as periods, dashes, and a plus sign, followed by a period and a character-only top-level domain such as \".com\", \".info\", \".edu\", etc. Fill in the regular expression to do that, using escape characters, wildcards, repetition qualifiers, beginning and end-of-line characters, and character classes."
      ]
    },
    {
      "cell_type": "code",
      "metadata": {
        "colab": {
          "base_uri": "https://localhost:8080/"
        },
        "id": "Gh5usDM5nnNB",
        "outputId": "dc94caac-9fb3-49c9-fde7-0dcdc8a7ede9"
      },
      "source": [
        "import re\n",
        "def check_web_address(text):\n",
        "  pattern = r\"^[a-zA-Z0-9_+.-]*\\.[a-zA-Z]*$\"\n",
        "  # pattern = r\"^[\\w\\+.-]*\\.[a-zA-Z]*$\"\n",
        "  result = re.search(pattern, text)\n",
        "  return result != None\n",
        "\n",
        "print(check_web_address(\"gmail.com\")) # True\n",
        "print(check_web_address(\"www@google\")) # False\n",
        "print(check_web_address(\"www.Coursera.org\")) # True\n",
        "print(check_web_address(\"web-address.com/homepage\")) # False\n",
        "print(check_web_address(\"My_Favorite-Blog.US\")) # True"
      ],
      "execution_count": null,
      "outputs": [
        {
          "output_type": "stream",
          "text": [
            "True\n",
            "False\n",
            "True\n",
            "False\n",
            "True\n"
          ],
          "name": "stdout"
        }
      ]
    },
    {
      "cell_type": "markdown",
      "metadata": {
        "id": "nX9aH-Qznp5p"
      },
      "source": [
        "***02***\n",
        "\n",
        "The check_time function checks for the time format of a 12-hour clock, as follows: the hour is between 1 and 12, with no leading zero, followed by a colon, then minutes between 00 and 59, then an optional space, and then AM or PM, in upper or lower case. Fill in the regular expression to do that. How many of the concepts that you just learned can you use here?"
      ]
    },
    {
      "cell_type": "code",
      "metadata": {
        "colab": {
          "base_uri": "https://localhost:8080/"
        },
        "id": "ik3OKdMInxbE",
        "outputId": "b89fc947-a2b2-47ba-e399-36d952bf1051"
      },
      "source": [
        "import re\n",
        "def check_time(text):\n",
        "  pattern = r\"^[1-9][0-2]?:[0-5][0-9] ?[am|pm|AM|PM]\" \n",
        "  result = re.search(pattern, text)\n",
        "  return result != None\n",
        "\n",
        "print(check_time(\"12:45pm\")) # True\n",
        "print(check_time(\"9:59 AM\")) # True\n",
        "print(check_time(\"6:60am\")) # False\n",
        "print(check_time(\"five o'clock\")) # False"
      ],
      "execution_count": null,
      "outputs": [
        {
          "output_type": "stream",
          "text": [
            "True\n",
            "True\n",
            "False\n",
            "False\n"
          ],
          "name": "stdout"
        }
      ]
    },
    {
      "cell_type": "markdown",
      "metadata": {
        "id": "vyoyCIuknzlp"
      },
      "source": [
        "***03***\n",
        "\n",
        "The contains_acronym function checks the text for the presence of 2 or more characters or digits surrounded by parentheses, with at least the first character in uppercase (if it's a letter), returning True if the condition is met, or False otherwise. For example, \"Instant messaging (IM) is a set of communication technologies used for text-based communication\" should return True since (IM) satisfies the match conditions.\" Fill in the regular expression in this function: "
      ]
    },
    {
      "cell_type": "code",
      "metadata": {
        "colab": {
          "base_uri": "https://localhost:8080/"
        },
        "id": "9koPeZbQn1fF",
        "outputId": "95943b9b-5961-49ae-f425-7310df7aceb7"
      },
      "source": [
        "import re\n",
        "def contains_acronym(text):\n",
        "  pattern = r\"\\([A-Z0-9][a-zA-Z0-9]*\\)\"\n",
        "  result = re.search(pattern, text)\n",
        "  return result != None\n",
        "\n",
        "print(contains_acronym(\"Instant messaging (IM) is a set of communication technologies used for text-based communication\")) # True\n",
        "print(contains_acronym(\"American Standard Code for Information Interchange (ASCII) is a character encoding standard for electronic communication\")) # True\n",
        "print(contains_acronym(\"Please do NOT enter without permission!\")) # False\n",
        "print(contains_acronym(\"PostScript is a fourth-generation programming language (4GL)\")) # True\n",
        "print(contains_acronym(\"Have fun using a self-contained underwater breathing apparatus (Scuba)!\")) # True"
      ],
      "execution_count": null,
      "outputs": [
        {
          "output_type": "stream",
          "text": [
            "True\n",
            "True\n",
            "False\n",
            "True\n",
            "True\n"
          ],
          "name": "stdout"
        }
      ]
    },
    {
      "cell_type": "markdown",
      "metadata": {
        "id": "3uNGn2Non4p0"
      },
      "source": [
        "***04***\n",
        "\n",
        "Fill in the code to check if the text passed includes a possible U.S. zip code, formatted as follows: exactly 5 digits, and sometimes, but not always, followed by a dash with 4 more digits. The zip code needs to be preceded by at least one space, and cannot be at the start of the text."
      ]
    },
    {
      "cell_type": "code",
      "metadata": {
        "colab": {
          "base_uri": "https://localhost:8080/"
        },
        "id": "FZhwSJOGn9Zb",
        "outputId": "f04524e2-b41b-42fb-ec9a-7ba8417b436a"
      },
      "source": [
        "import re\n",
        "def check_zip_code (text):\n",
        "  result = re.search(r\"[ ]\\d{5}|[ ]\\d{5}-\\d{4}\", text)\n",
        "  return result != None\n",
        "\n",
        "print(check_zip_code(\"The zip codes for New York are 10001 thru 11104.\")) # True\n",
        "print(check_zip_code(\"90210 is a TV show\")) # False\n",
        "print(check_zip_code(\"Their address is: 123 Main Street, Anytown, AZ 85258-0001.\")) # True\n",
        "print(check_zip_code(\"The Parliament of Canada is at 111 Wellington St, Ottawa, ON K1A0A9.\")) # False"
      ],
      "execution_count": null,
      "outputs": [
        {
          "output_type": "stream",
          "text": [
            "True\n",
            "False\n",
            "True\n",
            "False\n"
          ],
          "name": "stdout"
        }
      ]
    },
    {
      "cell_type": "markdown",
      "metadata": {
        "id": "DFwjdPPKpcu2"
      },
      "source": [
        "## **Advanced Regular Expressions**"
      ]
    },
    {
      "cell_type": "markdown",
      "metadata": {
        "id": "iH-L6Af8vh-7"
      },
      "source": [
        "### **Capturing Groups**"
      ]
    },
    {
      "cell_type": "markdown",
      "metadata": {
        "id": "P2TGHw5FsHqd"
      },
      "source": [
        "* Capturing groups are portions of the pattern that are enclosed in parentheses.\n"
      ]
    },
    {
      "cell_type": "code",
      "metadata": {
        "colab": {
          "base_uri": "https://localhost:8080/"
        },
        "id": "kjFfEmWR0LBf",
        "outputId": "32d22fc3-f847-4837-cbb9-cb362bb4dbe2"
      },
      "source": [
        "result = re.search(r\"^(\\w*).\", \"Lovelace. Ada\")\n",
        "print(result)\n",
        "print(result.groups())\n",
        "print(result.group(0))\n",
        "print(result.group(1))\n",
        "print(result[0])\n",
        "print(result[1])"
      ],
      "execution_count": null,
      "outputs": [
        {
          "output_type": "stream",
          "text": [
            "<re.Match object; span=(0, 9), match='Lovelace.'>\n",
            "('Lovelace',)\n",
            "Lovelace.\n",
            "Lovelace\n",
            "Lovelace.\n",
            "Lovelace\n"
          ],
          "name": "stdout"
        }
      ]
    },
    {
      "cell_type": "code",
      "metadata": {
        "id": "NWgs-GeGsKNI",
        "colab": {
          "base_uri": "https://localhost:8080/"
        },
        "outputId": "e0129a1f-067f-4f21-a987-08669f0770c6"
      },
      "source": [
        "result = re.search(r\"^(\\w*), (\\w*)$\", \"Lovelace, Ada\")\n",
        "print(result)\n",
        "print(result.groups())\n",
        "print(result.group(0))\n",
        "print(result.group(1))\n",
        "print(result.group(2))\n",
        "print(result[0]) # all string [0]\n",
        "print(result[1])\n",
        "print(result[2])\n",
        "print(\"{} {}\".format(result[2], result[1]))"
      ],
      "execution_count": null,
      "outputs": [
        {
          "output_type": "stream",
          "text": [
            "<re.Match object; span=(0, 13), match='Lovelace, Ada'>\n",
            "('Lovelace', 'Ada')\n",
            "Lovelace, Ada\n",
            "Lovelace\n",
            "Ada\n",
            "Lovelace, Ada\n",
            "Lovelace\n",
            "Ada\n",
            "Ada Lovelace\n"
          ],
          "name": "stdout"
        }
      ]
    },
    {
      "cell_type": "code",
      "metadata": {
        "colab": {
          "base_uri": "https://localhost:8080/",
          "height": 35
        },
        "id": "eZLMb1TdtUmP",
        "outputId": "b92a62eb-840f-40e6-9d41-c5c87510ec3b"
      },
      "source": [
        "def rearrange_name(name):\n",
        "  result = re.search(r\"^(\\w*), (\\w*)$\", name)\n",
        "  # result = re.search(r\"^([\\w \\.-]*), ([\\w \\.-]*)$\", name)\n",
        "  if result is None:\n",
        "    return name\n",
        "  return \"{} {}\".format(result[2], result[1])\n",
        "\n",
        "rearrange_name(\"Lovelace, Ada\")\n",
        "rearrange_name(\"Hopper, Grace M.\") "
      ],
      "execution_count": null,
      "outputs": [
        {
          "output_type": "execute_result",
          "data": {
            "application/vnd.google.colaboratory.intrinsic+json": {
              "type": "string"
            },
            "text/plain": [
              "'Hopper, Grace M.'"
            ]
          },
          "metadata": {
            "tags": []
          },
          "execution_count": 142
        }
      ]
    },
    {
      "cell_type": "markdown",
      "metadata": {
        "id": "4JJOPkcBvlXh"
      },
      "source": [
        "### **More on Repetition Qualifiers**\n",
        "\n",
        "What if we wanted a pattern that repeats a specific number of times? This could happen"
      ]
    },
    {
      "cell_type": "code",
      "metadata": {
        "colab": {
          "base_uri": "https://localhost:8080/"
        },
        "id": "kdX3NIhtv4Wk",
        "outputId": "d733ffd9-d2ce-45e2-fbb9-c2dac3a9dd1e"
      },
      "source": [
        "# five letters\n",
        "print(re.search(r\"[a-zA-Z]{5}\", \"a ghost\"))"
      ],
      "execution_count": null,
      "outputs": [
        {
          "output_type": "stream",
          "text": [
            "<re.Match object; span=(2, 7), match='ghost'>\n"
          ],
          "name": "stdout"
        }
      ]
    },
    {
      "cell_type": "code",
      "metadata": {
        "colab": {
          "base_uri": "https://localhost:8080/"
        },
        "id": "oGMrBrWBwKwQ",
        "outputId": "2ec5910d-302d-425d-ee24-ed71ff619d59"
      },
      "source": [
        "print(re.search(r\"[a-zA-Z]{5}\", \"a scary ghost appeared\"))\n",
        "print(re.findall(r\"[a-zA-Z]{5}\", \"a scary ghost appeared\"))"
      ],
      "execution_count": null,
      "outputs": [
        {
          "output_type": "stream",
          "text": [
            "<re.Match object; span=(2, 7), match='scary'>\n",
            "['scary', 'ghost', 'appea']\n"
          ],
          "name": "stdout"
        }
      ]
    },
    {
      "cell_type": "markdown",
      "metadata": {
        "id": "g7ZT7A9_wtXW"
      },
      "source": [
        "What if we wanted to match all the words that are exactly five letters long? We can do that using `\\b`, which matches word limits at the beginning and end of the pattern, to indicate that we want `full words`."
      ]
    },
    {
      "cell_type": "code",
      "metadata": {
        "colab": {
          "base_uri": "https://localhost:8080/"
        },
        "id": "ChkpZ7KVwxo-",
        "outputId": "4d85e74d-d18d-48cf-9878-a6e280b579bb"
      },
      "source": [
        "print(re.findall(r\"\\b[a-zA-z]{5}\\b\", \"A scary ghost appeared\"))"
      ],
      "execution_count": null,
      "outputs": [
        {
          "output_type": "stream",
          "text": [
            "['scary', 'ghost']\n"
          ],
          "name": "stdout"
        }
      ]
    },
    {
      "cell_type": "markdown",
      "metadata": {
        "id": "FQH_ncGpx72a"
      },
      "source": [
        "*using ranges*"
      ]
    },
    {
      "cell_type": "code",
      "metadata": {
        "colab": {
          "base_uri": "https://localhost:8080/"
        },
        "id": "uexHkarsxbGY",
        "outputId": "7c89ad5e-b668-40af-bee3-5839913a1ff3"
      },
      "source": [
        "print(re.findall(r\"\\w{5,10}\", \"I really like strawberries\"))"
      ],
      "execution_count": null,
      "outputs": [
        {
          "output_type": "stream",
          "text": [
            "['really', 'strawberri']\n"
          ],
          "name": "stdout"
        }
      ]
    },
    {
      "cell_type": "code",
      "metadata": {
        "colab": {
          "base_uri": "https://localhost:8080/"
        },
        "id": "d7biYaZdx9of",
        "outputId": "300dc38b-a495-45a6-a479-4c3c1cacc9ac"
      },
      "source": [
        "print(re.findall(r\"\\w{5,}\", \"I really like strawberries, abcdefghijklmn\"))"
      ],
      "execution_count": null,
      "outputs": [
        {
          "output_type": "stream",
          "text": [
            "['really', 'strawberries', 'abcdefghijklmn']\n"
          ],
          "name": "stdout"
        }
      ]
    },
    {
      "cell_type": "code",
      "metadata": {
        "colab": {
          "base_uri": "https://localhost:8080/"
        },
        "id": "BOa4YLq2yj5m",
        "outputId": "433c46f8-bef0-4940-b7b8-3c3960bdcbe8"
      },
      "source": [
        "print(re.search(r\"s\\w{,20}\", \"I really like strawberries, abcdefghijklmn\"))"
      ],
      "execution_count": null,
      "outputs": [
        {
          "output_type": "stream",
          "text": [
            "<re.Match object; span=(14, 26), match='strawberries'>\n"
          ],
          "name": "stdout"
        }
      ]
    },
    {
      "cell_type": "code",
      "metadata": {
        "colab": {
          "base_uri": "https://localhost:8080/"
        },
        "id": "L9ZXWJsL2J_T",
        "outputId": "3fb3a13c-d7ad-4cd3-d42b-c6a892c5aa8b"
      },
      "source": [
        "import re\n",
        "def extract_pid(log_line):\n",
        "    regex = r\"\\[(\\d+)\\]: ([A-Z]*)\"\n",
        "    result = re.search(regex, log_line)\n",
        "    if result is None:\n",
        "        return None\n",
        "    return \"{} ({})\".format(result[1], result[2])\n",
        "\n",
        "print(extract_pid(\"July 31 07:51:48 mycomputer bad_process[12345]: ERROR Performing package upgrade\")) # 12345 (ERROR)\n",
        "print(extract_pid(\"99 elephants in a [cage]\")) # None\n",
        "print(extract_pid(\"A string that also has numbers [34567] but no uppercase message\")) # None\n",
        "print(extract_pid(\"July 31 08:08:08 mycomputer new_process[67890]: RUNNING Performing backup\")) # 67890 (RUNNING)"
      ],
      "execution_count": null,
      "outputs": [
        {
          "output_type": "stream",
          "text": [
            "12345 (ERROR)\n",
            "None\n",
            "None\n",
            "67890 (RUNNING)\n"
          ],
          "name": "stdout"
        }
      ]
    },
    {
      "cell_type": "markdown",
      "metadata": {
        "id": "yyzPlhNR2w-A"
      },
      "source": [
        "### **Splitting and Replacing**"
      ]
    },
    {
      "cell_type": "code",
      "metadata": {
        "colab": {
          "base_uri": "https://localhost:8080/"
        },
        "id": "xsD_3DvI4Yww",
        "outputId": "1ef38321-4bce-42b4-beba-f02771d5a7bb"
      },
      "source": [
        "re.split(r\"[.?!]\", \"One sentence, Another one? And the last one!\")"
      ],
      "execution_count": null,
      "outputs": [
        {
          "output_type": "execute_result",
          "data": {
            "text/plain": [
              "['One sentence, Another one', ' And the last one', '']"
            ]
          },
          "metadata": {
            "tags": []
          },
          "execution_count": 150
        }
      ]
    },
    {
      "cell_type": "code",
      "metadata": {
        "colab": {
          "base_uri": "https://localhost:8080/"
        },
        "id": "zKj2UHbA4tLi",
        "outputId": "31063e21-58fb-4aac-d2c5-9befc8f23da4"
      },
      "source": [
        "re.split(r\"([.?!])\", \"One sentence, Another one? And the last one!\")"
      ],
      "execution_count": null,
      "outputs": [
        {
          "output_type": "execute_result",
          "data": {
            "text/plain": [
              "['One sentence, Another one', '?', ' And the last one', '!', '']"
            ]
          },
          "metadata": {
            "tags": []
          },
          "execution_count": 151
        }
      ]
    },
    {
      "cell_type": "code",
      "metadata": {
        "colab": {
          "base_uri": "https://localhost:8080/",
          "height": 35
        },
        "id": "vKXvcZd75LCz",
        "outputId": "eaa3c8a7-8ad0-4380-f88b-429837e1110f"
      },
      "source": [
        "re.sub(r\"[\\w.%+-]+@[\\w.-]+\", \"[REDACTED]\", \"Received an email for go_nuts95@my.example.com\")"
      ],
      "execution_count": null,
      "outputs": [
        {
          "output_type": "execute_result",
          "data": {
            "application/vnd.google.colaboratory.intrinsic+json": {
              "type": "string"
            },
            "text/plain": [
              "'Received an email for [REDACTED]'"
            ]
          },
          "metadata": {
            "tags": []
          },
          "execution_count": 152
        }
      ]
    },
    {
      "cell_type": "code",
      "metadata": {
        "colab": {
          "base_uri": "https://localhost:8080/",
          "height": 35
        },
        "id": "6cL6sofi776s",
        "outputId": "a924a5c3-0180-4822-ab26-47a017ae1d5f"
      },
      "source": [
        "re.sub(r\"^([\\w.-]*), ([\\w .-]*$)\", r\"\\2 \\1\", \"Lovelace, Ada\")"
      ],
      "execution_count": null,
      "outputs": [
        {
          "output_type": "execute_result",
          "data": {
            "application/vnd.google.colaboratory.intrinsic+json": {
              "type": "string"
            },
            "text/plain": [
              "'Ada Lovelace'"
            ]
          },
          "metadata": {
            "tags": []
          },
          "execution_count": 153
        }
      ]
    },
    {
      "cell_type": "markdown",
      "metadata": {
        "id": "K3ec_av4hpUr"
      },
      "source": [
        "Question 3\n",
        "The compare_strings function is supposed to compare just the alphanumeric content of two strings, ignoring upper vs lower case and punctuation. But something is not working. Fill in the code to try to find the problems, then fix the problems."
      ]
    },
    {
      "cell_type": "code",
      "metadata": {
        "colab": {
          "base_uri": "https://localhost:8080/"
        },
        "id": "tHXjvAZMhYit",
        "outputId": "d1e31f9a-9f49-4a67-e19b-be78d9d96aed"
      },
      "source": [
        "import re\n",
        "def compare_strings(string1, string2):\n",
        "  #Convert both strings to lowercase \n",
        "  #and remove leading and trailing blanks\n",
        "  string1 = string1.lower().strip()\n",
        "  string2 = string2.lower().strip()\n",
        "\n",
        "  #Ignore punctuation\n",
        "  punctuation = r\"[.?!,;:\\-']\"\n",
        "  string1 = re.sub(punctuation, r\"\", string1)\n",
        "  string2 = re.sub(punctuation, r\"\", string2)\n",
        "\n",
        "  #DEBUG CODE GOES HERE\n",
        "  print(string1)\n",
        "\n",
        "  return string1 == string2\n",
        "\n",
        "print(compare_strings(\"Have a Great Day!\", \"Have a great day?\")) # True\n",
        "print(compare_strings(\"It's raining again.\", \"its raining, again\")) # True\n",
        "print(compare_strings(\"Learn to count: 1, 2, 3.\", \"Learn to count: one, two, three.\")) # False\n",
        "print(compare_strings(\"They found some body.\", \"They found somebody.\")) # False"
      ],
      "execution_count": null,
      "outputs": [
        {
          "output_type": "stream",
          "text": [
            "have a great day\n",
            "True\n",
            "its raining again\n",
            "True\n",
            "learn to count 1 2 3\n",
            "False\n",
            "they found some body\n",
            "False\n"
          ],
          "name": "stdout"
        }
      ]
    },
    {
      "cell_type": "markdown",
      "metadata": {
        "id": "YWNX8Y-JC-sr"
      },
      "source": [
        "### **Practice Advanced Regex**"
      ]
    },
    {
      "cell_type": "markdown",
      "metadata": {
        "id": "zxlEPrTkDDDr"
      },
      "source": [
        "***01***\n",
        "\n",
        "We're working with a CSV file, which contains employee information. Each record has a name field, followed by a phone number field, and a role field. The phone number field contains U.S. phone numbers, and needs to be modified to the international format, with \"+1-\" in front of the phone number. Fill in the regular expression, using groups, to use the transform_record function to do that."
      ]
    },
    {
      "cell_type": "code",
      "metadata": {
        "colab": {
          "base_uri": "https://localhost:8080/"
        },
        "id": "ks8wb49ODGK-",
        "outputId": "135fc195-e40f-47e7-a308-270f1f326587"
      },
      "source": [
        "import re\n",
        "def transform_record(record):\n",
        "  # new_record = re.sub(r\"([\\w ]*),([\\d-]*),([\\w ]*)\", r\"\\1,+1-\\2,\\3\", record)\n",
        "  new_record = re.sub(r\",(\\d{3})\",r\",+1-\\1\",record)\n",
        "  return new_record\n",
        "\n",
        "print(transform_record(\"Sabrina Green,802-867-5309,System Administrator\")) \n",
        "# Sabrina Green,+1-802-867-5309,System Administrator\n",
        "\n",
        "print(transform_record(\"Eli Jones,684-3481127,IT specialist\")) \n",
        "# Eli Jones,+1-684-3481127,IT specialist\n",
        "\n",
        "print(transform_record(\"Melody Daniels,846-687-7436,Programmer\")) \n",
        "# Melody Daniels,+1-846-687-7436,Programmer\n",
        "\n",
        "print(transform_record(\"Charlie Rivera,698-746-3357,Web Developer\")) \n",
        "# Charlie Rivera,+1-698-746-3357,Web Developer"
      ],
      "execution_count": null,
      "outputs": [
        {
          "output_type": "stream",
          "text": [
            "Sabrina Green,+1-802-867-5309,System Administrator\n",
            "Eli Jones,+1-684-3481127,IT specialist\n",
            "Melody Daniels,+1-846-687-7436,Programmer\n",
            "Charlie Rivera,+1-698-746-3357,Web Developer\n"
          ],
          "name": "stdout"
        }
      ]
    },
    {
      "cell_type": "markdown",
      "metadata": {
        "id": "oRTQBbqBDHup"
      },
      "source": [
        "***02***\n",
        "\n",
        "The multi_vowel_words function returns all words with 3 or more consecutive vowels (a, e, i, o, u). Fill in the regular expression to do that."
      ]
    },
    {
      "cell_type": "code",
      "metadata": {
        "colab": {
          "base_uri": "https://localhost:8080/"
        },
        "id": "6ok00S0MDLpr",
        "outputId": "c60f9a27-11be-49d6-a6b6-c6b5eec1a830"
      },
      "source": [
        "import re\n",
        "def multi_vowel_words(text):\n",
        "  pattern = r\"(\\w+[a,e,i,o,u]{3,}\\w+)\"\n",
        "\n",
        "  result = re.findall(pattern, text)\n",
        "  return result\n",
        "\n",
        "print(multi_vowel_words(\"Life is beautiful\")) \n",
        "# ['beautiful']\n",
        "\n",
        "print(multi_vowel_words(\"Obviously, the queen is courageous and gracious.\")) \n",
        "# ['Obviously', 'queen', 'courageous', 'gracious']\n",
        "\n",
        "print(multi_vowel_words(\"The rambunctious children had to sit quietly and await their delicious dinner.\")) \n",
        "# ['rambunctious', 'quietly', 'delicious']\n",
        "\n",
        "print(multi_vowel_words(\"The order of a data queue is First In First Out (FIFO)\")) \n",
        "# ['queue']\n",
        "\n",
        "print(multi_vowel_words(\"Hello world!\")) \n",
        "# []"
      ],
      "execution_count": null,
      "outputs": [
        {
          "output_type": "stream",
          "text": [
            "['beautiful']\n",
            "['Obviously', 'queen', 'courageous', 'gracious']\n",
            "['rambunctious', 'quietly', 'delicious']\n",
            "['queue']\n",
            "[]\n"
          ],
          "name": "stdout"
        }
      ]
    },
    {
      "cell_type": "markdown",
      "metadata": {
        "id": "OjMckXELDR4J"
      },
      "source": [
        "***03***\n",
        "\n",
        "The transform_comments function converts comments in a Python script into those usable by a C compiler. This means looking for text that begins with a hash mark (#) and replacing it with double slashes (//), which is the C single-line comment indicator. For the purpose of this exercise, we'll ignore the possibility of a hash mark embedded inside of a Python command, and assume that it's only used to indicate a comment. We also want to treat repetitive hash marks (##), (###), etc., as a single comment indicator, to be replaced with just (//) and not (#//) or (//#). Fill in the parameters of the substitution method to complete this function: "
      ]
    },
    {
      "cell_type": "code",
      "metadata": {
        "colab": {
          "base_uri": "https://localhost:8080/"
        },
        "id": "kk2fqLsmDWym",
        "outputId": "24796f08-a2ee-4da0-a8e2-4e3f6f314db0"
      },
      "source": [
        "import re\n",
        "def transform_comments(line_of_code):\n",
        "  result = re.sub(r\"[#]{1,}\", \"//\", line_of_code)\n",
        "  return result\n",
        "\n",
        "print(transform_comments(\"### Start of program\")) \n",
        "# Should be \"// Start of program\"\n",
        "print(transform_comments(\"  number = 0   ## Initialize the variable\")) \n",
        "# Should be \"  number = 0   // Initialize the variable\"\n",
        "print(transform_comments(\"  number += 1   # Increment the variable\")) \n",
        "# Should be \"  number += 1   // Increment the variable\"\n",
        "print(transform_comments(\"  return(number)\")) \n",
        "# Should be \"  return(number)\""
      ],
      "execution_count": null,
      "outputs": [
        {
          "output_type": "stream",
          "text": [
            "// Start of program\n",
            "  number = 0   // Initialize the variable\n",
            "  number += 1   // Increment the variable\n",
            "  return(number)\n"
          ],
          "name": "stdout"
        }
      ]
    },
    {
      "cell_type": "markdown",
      "metadata": {
        "id": "B56H7AJyDYyG"
      },
      "source": [
        "***04***\n",
        "\n",
        "The convert_phone_number function checks for a U.S. phone number format: XXX-XXX-XXXX (3 digits followed by a dash, 3 more digits followed by a dash, and 4 digits), and converts it to a more formal format that looks like this: (XXX) XXX-XXXX. Fill in the regular expression to complete this function."
      ]
    },
    {
      "cell_type": "code",
      "metadata": {
        "colab": {
          "base_uri": "https://localhost:8080/"
        },
        "id": "2uw18M7jDcsO",
        "outputId": "c4e8b0f3-ca32-4360-f263-c876af495817"
      },
      "source": [
        "import re\n",
        "def convert_phone_number(phone):\n",
        "  result = re.sub(r\" (\\d{3})-\", r\" (\\1) \", phone)\n",
        "  return result\n",
        "\n",
        "print(convert_phone_number(\"My number is 212-345-9999.\")) # My number is (212) 345-9999.\n",
        "print(convert_phone_number(\"Please call 888-555-1234\")) # Please call (888) 555-1234\n",
        "print(convert_phone_number(\"123-123-12345\")) # 123-123-12345\n",
        "print(convert_phone_number(\"Phone number of Buckingham Palace is +44 303 123 7300\")) # Phone number of Buckingham Palace is +44 303 123 7300"
      ],
      "execution_count": null,
      "outputs": [
        {
          "output_type": "stream",
          "text": [
            "My number is (212) 345-9999.\n",
            "Please call (888) 555-1234\n",
            "123-123-12345\n",
            "Phone number of Buckingham Palace is +44 303 123 7300\n"
          ],
          "name": "stdout"
        }
      ]
    },
    {
      "cell_type": "markdown",
      "metadata": {
        "id": "JsOyK4u-ID0Y"
      },
      "source": [
        "## **Qwicklabs**\n",
        "https://roboticswithpython.com/forums/topic/week-3-qwiklab-assessment-working-with-regular-expressions/"
      ]
    },
    {
      "cell_type": "code",
      "metadata": {
        "colab": {
          "base_uri": "https://localhost:8080/"
        },
        "id": "DE1OYaIkJSLu",
        "outputId": "933097de-6b1a-4025-e858-e1614f37923d"
      },
      "source": [
        "%%writefile user_emails.csv\n",
        "Full Name, Email Address\n",
        "Blossom Gill, blossom@abc.edu\n",
        "Hayes Delgado, nonummy@utnisia.com\n",
        "Petra Jones, ac@abc.edu\n",
        "Oleg Noel, noel@liberomauris.ca\n",
        "Ahmed Miller, ahmed.miller@nequenonquam.co.uk\n",
        "Macaulay Douglas, mdouglas@abc.edu\n",
        "Aurora Grant, enim.non@abc.edu\n",
        "Madison Mcintosh, mcintosh@nisiaenean.net\n",
        "Montana Powell, montanap@semmagna.org\n",
        "Rogan Robinson, rr.robinson@abc.edu\n",
        "Simon Rivera, sri@abc.edu\n",
        "Benedict Pacheco, bpacheco@abc.edu\n",
        "Maisie Hendrix, mai.hendrix@abc.edu\n",
        "Xaviera Gould, xlg@utnisia.net\n",
        "Oren Rollins, oren@semmagna.com\n",
        "Flavia Santiago, flavia@utnisia.net\n",
        "Jackson Owens, jackowens@abc.edu\n",
        "Britanni Humphrey, britanni@ut.net\n",
        "Kirk Nixon, kirknixon@abc.edu\n",
        "Bree Campbell, breee@utnisia.net\n"
      ],
      "execution_count": null,
      "outputs": [
        {
          "output_type": "stream",
          "text": [
            "Writing user_emails.csv\n"
          ],
          "name": "stdout"
        }
      ]
    },
    {
      "cell_type": "code",
      "metadata": {
        "id": "E_9b4-uiIG0i"
      },
      "source": [
        "#!/usr/bin/env python3\n",
        "\n",
        "import re\n",
        "import csv\n",
        "\n",
        "\n",
        "def contains_domain(address, domain):\n",
        "  \"\"\"Returns True if the email address contains the given,domain,in the domain position, fale if not\"\"\"\n",
        "  domain = r'[\\w\\.-]+@'+domain+'$'\n",
        "  if re.match(domain,address):\n",
        "    return True\n",
        "  return False\n",
        "\n",
        "\n",
        "def replace_domain(address, old_domain, new_domain):\n",
        "  \"\"\"Replaces the old domain with the new domain in the received address.\"\"\"\n",
        "  old_domain_pattern = r'' + old_domain + '$'\n",
        "  address = re.sub(old_domain_pattern, new_domain, address)\n",
        "  return address\n",
        "\n",
        "def main():\n",
        "  \"\"\"Processes the list of emails, replacing any instances of the old domain with the new domain\"\"\"\n",
        "  old_domain, new_domain = 'abc.edu', 'xyz.edu'\n",
        "  csv_file_location = 'user_emails.csv'\n",
        "  report_file = 'updated_user_emails.csv'\n",
        "  user_email_list = []\n",
        "  old_domain_email_list = []\n",
        "  new_domain_email_list = []\n",
        "\n",
        "  with open(csv_file_location, 'r') as f:\n",
        "    user_data_list = list(csv.reader(f))\n",
        "    user_email_list = [data[1].strip() for data in user_data_list[1:]]\n",
        "\n",
        "    for email_address in user_email_list:\n",
        "      if contains_domain(email_address, old_domain):\n",
        "        old_domain_email_list.append(email_address)\n",
        "        replaced_email = replace_domain(email_address,old_domain,new_domain)\n",
        "        new_domain_email_list.append(replaced_email)\n",
        "\n",
        "    email_key = ' ' + 'Email Address'\n",
        "    email_index = user_data_list[0].index(email_key)\n",
        "\n",
        "    for user in user_data_list[1:]:\n",
        "      for old_domain, new_domain in zip(old_domain_email_list, new_domain_email_list):\n",
        "        if user[email_index] == ' ' + old_domain:\n",
        "          user[email_index] = ' ' + new_domain\n",
        "  f.close()\n",
        "\n",
        "  with open(report_file, 'w+') as output_file:\n",
        "    writer = csv.writer(output_file)\n",
        "    writer.writerows(user_data_list)\n",
        "    output_file.close()\n",
        "\n",
        "main()\n"
      ],
      "execution_count": null,
      "outputs": []
    },
    {
      "cell_type": "code",
      "metadata": {
        "colab": {
          "base_uri": "https://localhost:8080/"
        },
        "id": "5onRkxw7JyE3",
        "outputId": "3e706c6e-dc7d-4fb4-d1b7-bc8e5e0a8abc"
      },
      "source": [
        "!cat updated_user_emails.csv"
      ],
      "execution_count": null,
      "outputs": [
        {
          "output_type": "stream",
          "text": [
            "Full Name, Email Address\r\n",
            "Blossom Gill, blossom@xyz.edu\r\n",
            "Hayes Delgado, nonummy@utnisia.com\r\n",
            "Petra Jones, ac@xyz.edu\r\n",
            "Oleg Noel, noel@liberomauris.ca\r\n",
            "Ahmed Miller, ahmed.miller@nequenonquam.co.uk\r\n",
            "Macaulay Douglas, mdouglas@xyz.edu\r\n",
            "Aurora Grant, enim.non@xyz.edu\r\n",
            "Madison Mcintosh, mcintosh@nisiaenean.net\r\n",
            "Montana Powell, montanap@semmagna.org\r\n",
            "Rogan Robinson, rr.robinson@xyz.edu\r\n",
            "Simon Rivera, sri@xyz.edu\r\n",
            "Benedict Pacheco, bpacheco@xyz.edu\r\n",
            "Maisie Hendrix, mai.hendrix@xyz.edu\r\n",
            "Xaviera Gould, xlg@utnisia.net\r\n",
            "Oren Rollins, oren@semmagna.com\r\n",
            "Flavia Santiago, flavia@utnisia.net\r\n",
            "Jackson Owens, jackowens@xyz.edu\r\n",
            "Britanni Humphrey, britanni@ut.net\r\n",
            "Kirk Nixon, kirknixon@xyz.edu\r\n",
            "Bree Campbell, breee@utnisia.net\r\n"
          ],
          "name": "stdout"
        }
      ]
    },
    {
      "cell_type": "markdown",
      "metadata": {
        "id": "HLvHloMV6PgG"
      },
      "source": [
        "# **Managing Data and Processes**"
      ]
    },
    {
      "cell_type": "markdown",
      "metadata": {
        "id": "7XYLodegBG0U"
      },
      "source": [
        "## **Data Stream**"
      ]
    },
    {
      "cell_type": "markdown",
      "metadata": {
        "id": "GDy68XWjlAma"
      },
      "source": [
        "### **Standard Streams**\n",
        "\n",
        "* How does a Python program connect to both the screen and the keyboard? It uses I/O streams. I/O streams are the basic mechanism for performing input and output operations in your programs.\n",
        "\n",
        "* Most operating system supply three different I/O streams by default:\n",
        "> * **Standard input stream** commonly referred to as **STDIN** is a channel between a program and a source of input. Eg: Use the input function to accept user input by using the STDIN stream.\n",
        "> * **Standard output stream** or **STDOUT** is a pathway between a program and a target of output, like a display. Eg: Use the print function to write information to the screen.\n",
        "> * **Standard error stream** or **STDERR**, which displays output like standard out, but used specifically as a channel to show error messages and diagnostic from the program.\n",
        "> * Standard streams: standard input, standard output, standard error.\n",
        "\n"
      ]
    },
    {
      "cell_type": "markdown",
      "metadata": {
        "id": "pZTHVnFmYgz_"
      },
      "source": [
        "*input()*"
      ]
    },
    {
      "cell_type": "code",
      "metadata": {
        "colab": {
          "base_uri": "https://localhost:8080/"
        },
        "id": "cZ38N5-RYib4",
        "outputId": "dd47db1f-4f60-4b2b-cf7d-33224da0bf8a"
      },
      "source": [
        "name = input(\"Please enter your name: \")\n",
        "print(\"Hello, \"+ name)"
      ],
      "execution_count": null,
      "outputs": [
        {
          "output_type": "stream",
          "text": [
            "Please enter your name: Nur Imam Masri\n",
            "Hello, Nur Imam Masri\n"
          ],
          "name": "stdout"
        }
      ]
    },
    {
      "cell_type": "code",
      "metadata": {
        "colab": {
          "base_uri": "https://localhost:8080/"
        },
        "id": "zPyxsWBhZ4nO",
        "outputId": "a9b39e6e-6163-45b7-89a9-ebfb7b34a64c"
      },
      "source": [
        "def to_seconds(hours, minutes, seconds):\n",
        "  return hours*3600+minutes*60+seconds\n",
        "\n",
        "print(\"Welcome to this time converter\")\n",
        "\n",
        "cont = \"y\"\n",
        "while(cont.lower() == \"y\"):\n",
        "  hours = int(input(\"Enter the number of hours: \"))\n",
        "  minutes = int(input(\"Enter the number of minutes: \"))\n",
        "  seconds = int(input(\"Enter the number of seconds: \"))\n",
        "\n",
        "  print(\"That's {} seonds\".format(to_seconds(hours, minutes, seconds)))\n",
        "  print()\n",
        "  cont = input(\"Do you want to do another conversion? [y to continue]\")\n",
        "\n",
        "print(\"Good bye!\")"
      ],
      "execution_count": null,
      "outputs": [
        {
          "output_type": "stream",
          "text": [
            "Welcome to this time converter\n",
            "Enter the number of hours: 12\n",
            "Enter the number of minutes: 2\n",
            "Enter the number of seconds: 3\n",
            "That's 43323 seonds\n",
            "\n",
            "Do you want to do another conversion? [y to continue]n\n",
            "Good bye!\n"
          ],
          "name": "stdout"
        }
      ]
    },
    {
      "cell_type": "code",
      "metadata": {
        "id": "rqrsCBJ36W2O",
        "colab": {
          "base_uri": "https://localhost:8080/"
        },
        "outputId": "3012d74f-7bf2-4f89-b22c-43cd5cbd5d79"
      },
      "source": [
        "%%writefile streams.py\n",
        "#!/usr/bin/env python3\n",
        "\n",
        "data = int(input(\"from STDIN: \"))\n",
        "print(\"write to STDOUT: \", data)\n",
        "print(\"error to STDERR: \", data+1)"
      ],
      "execution_count": null,
      "outputs": [
        {
          "output_type": "stream",
          "text": [
            "Writing streams.py\n"
          ],
          "name": "stdout"
        }
      ]
    },
    {
      "cell_type": "code",
      "metadata": {
        "id": "oYEp4Mmrt23Z",
        "colab": {
          "base_uri": "https://localhost:8080/"
        },
        "outputId": "da09b031-7490-45ea-cc22-635ccb837168"
      },
      "source": [
        "%%shell\n",
        "chmod u+x streams.py\n",
        "./streams.py"
      ],
      "execution_count": null,
      "outputs": [
        {
          "output_type": "stream",
          "text": [
            "from STDIN: 1\n",
            "write to STDOUT:  1\n",
            "error to STDERR:  2\n"
          ],
          "name": "stdout"
        },
        {
          "output_type": "execute_result",
          "data": {
            "text/plain": [
              ""
            ]
          },
          "metadata": {
            "tags": []
          },
          "execution_count": 154
        }
      ]
    },
    {
      "cell_type": "markdown",
      "metadata": {
        "id": "D2wpY--Ek3cZ"
      },
      "source": [
        "### **Environment Variables**"
      ]
    },
    {
      "cell_type": "markdown",
      "metadata": {
        "id": "GT_Pbc2RuPk8"
      },
      "source": [
        "* When open a terminal application on Linux, the application that reads and executes all commands is called a shell, a command line interface to interact with operating system.\n",
        "* This course applies **bash** as the Linux shell. \n",
        "- Use **env** command to show all environment variables on bash shell.\n",
        "* **echo** command will print an environment variable, add $ sign prefix before the variable name.\n"
      ]
    },
    {
      "cell_type": "code",
      "metadata": {
        "id": "9GIPdTbZuX2c",
        "colab": {
          "base_uri": "https://localhost:8080/"
        },
        "outputId": "3e2b232c-59d4-4d1e-dd89-ec050103f93e"
      },
      "source": [
        "import os\n",
        "print(\"HOME: \"+os.environ.get(\"HOME\", \"\"))\n",
        "print(\"SHELL: \"+os.environ.get(\"SHELL\", \"\"))\n",
        "# Error\n",
        "print(\"FRUIT: \"+os.environ.get(\"FRUIT\", \"\"))"
      ],
      "execution_count": null,
      "outputs": [
        {
          "output_type": "stream",
          "text": [
            "HOME: /root\n",
            "SHELL: /bin/bash\n",
            "FRUIT: \n"
          ],
          "name": "stdout"
        }
      ]
    },
    {
      "cell_type": "markdown",
      "metadata": {
        "id": "rmCKr-ewjaSC"
      },
      "source": [
        "*the export keyword tells a shell that we want the value we set to be seen by any commands that we call.*"
      ]
    },
    {
      "cell_type": "code",
      "metadata": {
        "colab": {
          "base_uri": "https://localhost:8080/"
        },
        "id": "9VkGdHEyjF1y",
        "outputId": "5d30e6d0-778e-42b3-ac31-96073f3363e7"
      },
      "source": [
        "%%shell\n",
        "export FRUIT=\"Pienapple\""
      ],
      "execution_count": null,
      "outputs": [
        {
          "output_type": "execute_result",
          "data": {
            "text/plain": [
              ""
            ]
          },
          "metadata": {
            "tags": []
          },
          "execution_count": 156
        }
      ]
    },
    {
      "cell_type": "code",
      "metadata": {
        "colab": {
          "base_uri": "https://localhost:8080/"
        },
        "id": "rNH7gDzTjNLY",
        "outputId": "a71832d9-49c9-4ed8-c1cf-b30495c5e61a"
      },
      "source": [
        "print(\"FRUIT: \"+os.environ.get(\"FRUIT\", \"\"))"
      ],
      "execution_count": null,
      "outputs": [
        {
          "output_type": "stream",
          "text": [
            "FRUIT: \n"
          ],
          "name": "stdout"
        }
      ]
    },
    {
      "cell_type": "code",
      "metadata": {
        "id": "ccX4utgxuoNE",
        "colab": {
          "base_uri": "https://localhost:8080/"
        },
        "outputId": "74a368a5-e0e4-415c-9047-bff32871c104"
      },
      "source": [
        "%%shell\n",
        "env"
      ],
      "execution_count": null,
      "outputs": [
        {
          "output_type": "stream",
          "text": [
            "CUDNN_VERSION=8.0.4.30\n",
            "LD_LIBRARY_PATH=/usr/local/nvidia/lib:/usr/local/nvidia/lib64\n",
            "CLOUDSDK_PYTHON=python3\n",
            "LANG=en_US.UTF-8\n",
            "HOSTNAME=4cc4e5e93249\n",
            "OLDPWD=/\n",
            "CLOUDSDK_CONFIG=/content/.config\n",
            "NVIDIA_VISIBLE_DEVICES=all\n",
            "DATALAB_SETTINGS_OVERRIDES={\"kernelManagerProxyPort\":6000,\"kernelManagerProxyHost\":\"172.28.0.3\",\"jupyterArgs\":[\"--ip=\\\"172.28.0.2\\\"\"],\"debugAdapterMultiplexerPath\":\"/usr/local/bin/dap_multiplexer\"}\n",
            "ENV=/root/.bashrc\n",
            "PAGER=cat\n",
            "NCCL_VERSION=2.7.8\n",
            "TF_FORCE_GPU_ALLOW_GROWTH=true\n",
            "JPY_PARENT_PID=46\n",
            "NO_GCE_CHECK=True\n",
            "PWD=/content\n",
            "HOME=/root\n",
            "LAST_FORCED_REBUILD=202102019\n",
            "CLICOLOR=1\n",
            "DEBIAN_FRONTEND=noninteractive\n",
            "LIBRARY_PATH=/usr/local/cuda/lib64/stubs\n",
            "GCE_METADATA_TIMEOUT=0\n",
            "GLIBCPP_FORCE_NEW=1\n",
            "TBE_CREDS_ADDR=172.28.0.1:8008\n",
            "TERM=xterm-color\n",
            "SHELL=/bin/bash\n",
            "GCS_READ_CACHE_BLOCK_SIZE_MB=16\n",
            "PYTHONWARNINGS=ignore:::pip._internal.cli.base_command\n",
            "MPLBACKEND=module://ipykernel.pylab.backend_inline\n",
            "CUDA_VERSION=11.0.3\n",
            "NVIDIA_DRIVER_CAPABILITIES=compute,utility\n",
            "SHLVL=1\n",
            "PYTHONPATH=/env/python\n",
            "NVIDIA_REQUIRE_CUDA=cuda>=11.0 brand=tesla,driver>=418,driver<419 brand=tesla,driver>=440,driver<441 brand=tesla,driver>=450,driver<451\n",
            "COLAB_GPU=0\n",
            "GLIBCXX_FORCE_NEW=1\n",
            "PATH=/usr/local/nvidia/bin:/usr/local/cuda/bin:/usr/local/sbin:/usr/local/bin:/usr/sbin:/usr/bin:/sbin:/bin:/tools/node/bin:/tools/google-cloud-sdk/bin:/opt/bin\n",
            "LD_PRELOAD=/usr/lib/x86_64-linux-gnu/libtcmalloc.so.4\n",
            "GIT_PAGER=cat\n",
            "_=/usr/bin/env\n"
          ],
          "name": "stdout"
        },
        {
          "output_type": "execute_result",
          "data": {
            "text/plain": [
              ""
            ]
          },
          "metadata": {
            "tags": []
          },
          "execution_count": 158
        }
      ]
    },
    {
      "cell_type": "code",
      "metadata": {
        "id": "0-jU1853uzoA",
        "colab": {
          "base_uri": "https://localhost:8080/"
        },
        "outputId": "bd464a17-c010-45a6-b0ed-972061d9d1be"
      },
      "source": [
        "%%shell\n",
        "echo $PATH"
      ],
      "execution_count": null,
      "outputs": [
        {
          "output_type": "stream",
          "text": [
            "/usr/local/nvidia/bin:/usr/local/cuda/bin:/usr/local/sbin:/usr/local/bin:/usr/sbin:/usr/bin:/sbin:/bin:/tools/node/bin:/tools/google-cloud-sdk/bin:/opt/bin\n"
          ],
          "name": "stdout"
        },
        {
          "output_type": "execute_result",
          "data": {
            "text/plain": [
              ""
            ]
          },
          "metadata": {
            "tags": []
          },
          "execution_count": 159
        }
      ]
    },
    {
      "cell_type": "code",
      "metadata": {
        "id": "E4aqTo72u2Sa",
        "colab": {
          "base_uri": "https://localhost:8080/"
        },
        "outputId": "5c04c474-4dad-45ef-8d05-ffc7292bcf2a"
      },
      "source": [
        "%%shell\n",
        "echo $HOME"
      ],
      "execution_count": null,
      "outputs": [
        {
          "output_type": "stream",
          "text": [
            "/root\n"
          ],
          "name": "stdout"
        },
        {
          "output_type": "execute_result",
          "data": {
            "text/plain": [
              ""
            ]
          },
          "metadata": {
            "tags": []
          },
          "execution_count": 160
        }
      ]
    },
    {
      "cell_type": "markdown",
      "metadata": {
        "id": "FPClEqFEmw7m"
      },
      "source": [
        "### **Command-Line Arguments and Exit Status**"
      ]
    },
    {
      "cell_type": "markdown",
      "metadata": {
        "id": "HgOQlTpbu-zK"
      },
      "source": [
        "* Access value of command line arguments with the **argv** in the sys module.\n"
      ]
    },
    {
      "cell_type": "code",
      "metadata": {
        "id": "mu1k3oFpu9-P",
        "colab": {
          "base_uri": "https://localhost:8080/"
        },
        "outputId": "f84a92ff-82b0-4b0b-af72-58a9b14eca9d"
      },
      "source": [
        "%%writefile parameters.py\n",
        "#!/usr/bin/env python3\n",
        "import sys\n",
        "print(sys.argv) \n",
        "# argv spesified when call this script\n",
        "# .parameter.py argv1 argv2 argv3 ..."
      ],
      "execution_count": null,
      "outputs": [
        {
          "output_type": "stream",
          "text": [
            "Writing parameters.py\n"
          ],
          "name": "stdout"
        }
      ]
    },
    {
      "cell_type": "code",
      "metadata": {
        "id": "8QDyyYCFvsk6"
      },
      "source": [
        "# Change file permission of parameters.py \n",
        "!chmod 755 -R parameters.py"
      ],
      "execution_count": null,
      "outputs": []
    },
    {
      "cell_type": "code",
      "metadata": {
        "id": "h10yxzulvKKM",
        "colab": {
          "base_uri": "https://localhost:8080/"
        },
        "outputId": "3a166e03-c37f-4c1a-8764-2f9c02ee0316"
      },
      "source": [
        "%%shell\n",
        "./parameters.py"
      ],
      "execution_count": null,
      "outputs": [
        {
          "output_type": "stream",
          "text": [
            "['./parameters.py']\n"
          ],
          "name": "stdout"
        },
        {
          "output_type": "execute_result",
          "data": {
            "text/plain": [
              ""
            ]
          },
          "metadata": {
            "tags": []
          },
          "execution_count": 163
        }
      ]
    },
    {
      "cell_type": "code",
      "metadata": {
        "id": "Jvka5oQ3jKfy",
        "colab": {
          "base_uri": "https://localhost:8080/"
        },
        "outputId": "17484751-71b6-4236-d4ce-ce2fb4c81e10"
      },
      "source": [
        "%%shell\n",
        "./parameters.py one two three"
      ],
      "execution_count": null,
      "outputs": [
        {
          "output_type": "stream",
          "text": [
            "['./parameters.py', 'one', 'two', 'three']\n"
          ],
          "name": "stdout"
        },
        {
          "output_type": "execute_result",
          "data": {
            "text/plain": [
              ""
            ]
          },
          "metadata": {
            "tags": []
          },
          "execution_count": 164
        }
      ]
    },
    {
      "cell_type": "markdown",
      "metadata": {
        "id": "we94BklkwPSq"
      },
      "source": [
        "* **Exit status** is a value returned by a program to the shell. In all Unix-like operating systems, the exit status of the process is **zero when the process succeeds** and different than zero if it fails.\n",
        "\n",
        "* To get the exit status from previously run command, print the contents of the $? variable (dollar sign question mark)."
      ]
    },
    {
      "cell_type": "code",
      "metadata": {
        "id": "fdzH5hbnwKeD",
        "colab": {
          "base_uri": "https://localhost:8080/"
        },
        "outputId": "3e3eda8a-b2df-4811-aa20-24bc724c4f55"
      },
      "source": [
        "%%writefile create_file.py\n",
        "#!/usr/bin/env python3\n",
        "import os\n",
        "import sys\n",
        "filename = sys.argv[1]\n",
        "if not os.path.exists(filename):\n",
        "    with open(filename, \"w\") as f:\n",
        "        f.write(\"new file\\n\")\n",
        "else:\n",
        "    print(\"Error, {} exists\"\n",
        "          .format(filename))\n",
        "    sys.exit(1)\n"
      ],
      "execution_count": null,
      "outputs": [
        {
          "output_type": "stream",
          "text": [
            "Writing create_file.py\n"
          ],
          "name": "stdout"
        }
      ]
    },
    {
      "cell_type": "code",
      "metadata": {
        "id": "CgVnBvAkwbXJ"
      },
      "source": [
        "# Change file permission of create_file.py \n",
        "!chmod 755 -R create_file.py"
      ],
      "execution_count": null,
      "outputs": []
    },
    {
      "cell_type": "code",
      "metadata": {
        "colab": {
          "base_uri": "https://localhost:8080/"
        },
        "id": "DWFxqONOpGoI",
        "outputId": "e657026d-1cf4-4a41-d75d-c06774576b66"
      },
      "source": [
        "%%shell\n",
        "wc create_file.py"
      ],
      "execution_count": null,
      "outputs": [
        {
          "output_type": "stream",
          "text": [
            " 10  25 244 create_file.py\n"
          ],
          "name": "stdout"
        },
        {
          "output_type": "execute_result",
          "data": {
            "text/plain": [
              ""
            ]
          },
          "metadata": {
            "tags": []
          },
          "execution_count": 167
        }
      ]
    },
    {
      "cell_type": "code",
      "metadata": {
        "id": "LUfLk9ESwgw7",
        "colab": {
          "base_uri": "https://localhost:8080/"
        },
        "outputId": "6ca34f18-cf7f-471f-ad07-dece3da282e5"
      },
      "source": [
        "%%shell\n",
        "./create_file.py example\n",
        "echo $?"
      ],
      "execution_count": null,
      "outputs": [
        {
          "output_type": "stream",
          "text": [
            "0\n"
          ],
          "name": "stdout"
        },
        {
          "output_type": "execute_result",
          "data": {
            "text/plain": [
              ""
            ]
          },
          "metadata": {
            "tags": []
          },
          "execution_count": 168
        }
      ]
    },
    {
      "cell_type": "code",
      "metadata": {
        "id": "r4QhCUf8j4vQ",
        "colab": {
          "base_uri": "https://localhost:8080/"
        },
        "outputId": "bd562196-53fe-4e61-a8f1-e4dd3b8f0ae5"
      },
      "source": [
        "%%shell\n",
        "./create_file.py example\n",
        "echo $?"
      ],
      "execution_count": null,
      "outputs": [
        {
          "output_type": "stream",
          "text": [
            "Error, example exists\n",
            "1\n"
          ],
          "name": "stdout"
        },
        {
          "output_type": "execute_result",
          "data": {
            "text/plain": [
              ""
            ]
          },
          "metadata": {
            "tags": []
          },
          "execution_count": 169
        }
      ]
    },
    {
      "cell_type": "markdown",
      "metadata": {
        "id": "pYuD-ha1BOrp"
      },
      "source": [
        "## **Python Subprocesses**"
      ]
    },
    {
      "cell_type": "markdown",
      "metadata": {
        "id": "jhHw1Jh7xLjF"
      },
      "source": [
        "### **Running System Commands in Python**\n",
        "\n",
        "https://docs.python.org/3/library/subprocess.html\n",
        "\n",
        "Sometimes it's easier or faster to use a system command as part of our Python script to accomplish a task, or use some functionality that doesn't exist in the Python modules, neither built in or external. For these cases, Python provides a way to execute system commands in our scripts, using functions provided by the subprocess module.\n",
        "\n",
        "* Use system command as part of Python script to accomplish a task, with functions provided by the **subprocess** module.\n",
        "\n",
        "* To run external command the script create subprocess, then it’s blocked while waiting for the subprocess to finish.\n"
      ]
    },
    {
      "cell_type": "code",
      "metadata": {
        "id": "vNDrA3KUxH3y",
        "colab": {
          "base_uri": "https://localhost:8080/"
        },
        "outputId": "83967400-6253-4d74-f5b5-d079ed08ab47"
      },
      "source": [
        "import subprocess\n",
        "print(subprocess.run([\"date\"]))\n",
        "# Output in Linux terminal\n",
        "# Wed Feb 24 14:44:03 WITA 2021\n",
        "# CompletedProcess(args=['date'], returncode=0)"
      ],
      "execution_count": null,
      "outputs": [
        {
          "output_type": "stream",
          "text": [
            "CompletedProcess(args=['date'], returncode=0)\n"
          ],
          "name": "stdout"
        }
      ]
    },
    {
      "cell_type": "code",
      "metadata": {
        "id": "QtdN8IXsxXP4",
        "colab": {
          "base_uri": "https://localhost:8080/"
        },
        "outputId": "65ffbd28-de59-43e2-f652-8c1357f056c5"
      },
      "source": [
        "subprocess.run([\"sleep\", \"7\"])"
      ],
      "execution_count": null,
      "outputs": [
        {
          "output_type": "execute_result",
          "data": {
            "text/plain": [
              "CompletedProcess(args=['sleep', '7'], returncode=0)"
            ]
          },
          "metadata": {
            "tags": []
          },
          "execution_count": 171
        }
      ]
    },
    {
      "cell_type": "markdown",
      "metadata": {
        "id": "BPGD844syYgE"
      },
      "source": [
        "we're requesting sleep to wait for 7 seconds. In the last two examples, the commands executed successfully, and so the returncode inside the completed process instance was 0. "
      ]
    },
    {
      "cell_type": "code",
      "metadata": {
        "id": "_m-xvu7ikXHv",
        "colab": {
          "base_uri": "https://localhost:8080/"
        },
        "outputId": "6b4cfff9-c9b4-4773-f7f4-03a5074d0f53"
      },
      "source": [
        "%%shell\n",
        "sleep 7\n",
        "echo $?"
      ],
      "execution_count": null,
      "outputs": [
        {
          "output_type": "stream",
          "text": [
            "0\n"
          ],
          "name": "stdout"
        },
        {
          "output_type": "execute_result",
          "data": {
            "text/plain": [
              ""
            ]
          },
          "metadata": {
            "tags": []
          },
          "execution_count": 172
        }
      ]
    },
    {
      "cell_type": "markdown",
      "metadata": {
        "id": "4V3nY22kykgq"
      },
      "source": [
        "example of getting complete proses error return code 2"
      ]
    },
    {
      "cell_type": "code",
      "metadata": {
        "colab": {
          "base_uri": "https://localhost:8080/"
        },
        "id": "YP-Woc66yozd",
        "outputId": "e577c340-9675-46c4-ffa4-922a2fb57775"
      },
      "source": [
        "result = subprocess.run([\"ls\", \"this_file_does_not_exist\"])\n",
        "result"
      ],
      "execution_count": null,
      "outputs": [
        {
          "output_type": "execute_result",
          "data": {
            "text/plain": [
              "CompletedProcess(args=['ls', 'this_file_does_not_exist'], returncode=2)"
            ]
          },
          "metadata": {
            "tags": []
          },
          "execution_count": 173
        }
      ]
    },
    {
      "cell_type": "markdown",
      "metadata": {
        "id": "Pdw-IWGOzRxj"
      },
      "source": [
        "For example, if we're writing a script that's changing the permissions of a bunch of files in a tree of directories, we don't care about the output of the chmod command. We only want to know if it was successful or not. "
      ]
    },
    {
      "cell_type": "markdown",
      "metadata": {
        "id": "9nr6aawBxjY-"
      },
      "source": [
        "### **Obtaining the Output of a System Command**\n",
        "\n",
        "* To get the command output, set argument **capture_output** in function **run** to True. This argument available only for Python 3.7 or newer.\n",
        "* The command output will be accessible through attribute stdout for standard output and stderr for standard error."
      ]
    },
    {
      "cell_type": "markdown",
      "metadata": {
        "id": "YafV43Y9z5Dp"
      },
      "source": [
        "`the host command`, which can convert a host name to an IP address and vice versa."
      ]
    },
    {
      "cell_type": "code",
      "metadata": {
        "id": "fhy2VDhzxprZ"
      },
      "source": [
        "# run on linux ubuntu bash terminal\n",
        "# ---------------------------------\n",
        "# import subprocess\n",
        "# Obtaining the Output of a System Command\n",
        "# The \"host\" command converts a host name to an IP address and vice versa\n",
        "# Stores the result in a variable by passing the capture_output=True so that the result can be accessed\n",
        "\n",
        "# result = subprocess.run([\"host\", \"8.8.8.8\"], capture_output=True)\n",
        "# print(result.returncode)\n",
        "\n",
        "# OUTPUT: b'8.8.8.8.in-addr.arpa domain name pointer dns.google.\\n'\n",
        "# b' indicates that the output is an array of bytes\n",
        "\n",
        "# print(result.stdout)\n",
        "\n",
        "# Decode function applies an encoding to transform the bytes into a string\n",
        "# It uses a UTF-8 encoding by default\n",
        "# print(result.stdout.decode().split())"
      ],
      "execution_count": null,
      "outputs": []
    },
    {
      "cell_type": "code",
      "metadata": {
        "id": "G8jPRfYO3TwC"
      },
      "source": [
        "# run on linux ubuntu bash terminal\n",
        "# ---------------------------------\n",
        "\n",
        "# Executes the rm command to remove file that doesn't exist\n",
        "# result = subprocess.run([\"rm\", \"does_not_exist\"], capture_output=True)\n",
        "# print(result.returncode)\n",
        "# stdout prints empty value since there is an error \n",
        "# print(result.stdout)\n",
        "# stderr prints error value as the value can be accessed through the stderr attribute\n",
        "# print(result.stderr)"
      ],
      "execution_count": null,
      "outputs": []
    },
    {
      "cell_type": "markdown",
      "metadata": {
        "id": "ZugImtyJ6kn_"
      },
      "source": [
        "### **Advanced Subprocess Management**\n",
        "\n",
        "modify the environment variables. Using this mechanism, we can change where the process looks for executable files, which commands it uses interact with some parts of the system, the kind of output it'll generate and a bunch more things. The usual strategy for modifying the environment of a child process is to first copy the environment seen by our process, do any necessary changes, and then pass that as the environment that the child process will see. "
      ]
    },
    {
      "cell_type": "code",
      "metadata": {
        "id": "_KZCqCcV7PQe"
      },
      "source": [
        "# run on linux ubuntu bash terminal\n",
        "# ---------------------------------\n",
        "\n",
        "# import os\n",
        "# import subprocess\n",
        "\n",
        "# my_env = os.environ.copy()\n",
        "# my_env[\"PATH\"] = os.pathsep.join([\"/opt/myapp/\", my_env[\"PATH\"]])\n",
        "\n",
        "# result = subprocess.run([\"myapp\"], env=my_env)"
      ],
      "execution_count": null,
      "outputs": []
    },
    {
      "cell_type": "markdown",
      "metadata": {
        "id": "nYkmHeHE_-LT"
      },
      "source": [
        "## **Processing Log Files**\n",
        "\n",
        "Log files contain a lot of useful information, particularly when you're trying to debug a tricky problem that's happening on a computer. On the flip side, sometimes it can be overwhelming to try to find something inside of a log file that contains a whole lot of lines with a whole lot of things in them. So it's a good idea to learn how we can process these files and get our tools to extract information that we want out of them. To do this we'll go back to our knowledge of regular expressions. Using regex's in our scripts gives us a great deal of flexibility when processing log files and other texts data sources too."
      ]
    },
    {
      "cell_type": "markdown",
      "metadata": {
        "id": "IO5w-Zjo0TCL"
      },
      "source": [
        "### **Filtering Log Files with Regular Expressions**\n",
        "\n",
        "* Many events that are taking place in programs running in a system and aren’t connected to terminal are usually write log files.\n",
        "* Create Python program to read the log line by line instead of loading the entire contents info memory.\n",
        "* After getting the log line, explore how to get the user name which is triggered the CRON jobs (on next slide).\n"
      ]
    },
    {
      "cell_type": "markdown",
      "metadata": {
        "id": "gpfrVY3qEllG"
      },
      "source": [
        "You may remember that Cron jobs are used to schedule scripts on UNIX-based operating systems. To find out what's happening with the server, we want to audit the log files and see exactly who's been launching CRON jobs. By looking at the sample log, we can see that the lines that'll be most interesting to us are the ones that contain the Cron substring. "
      ]
    },
    {
      "cell_type": "code",
      "metadata": {
        "id": "U7RMrMsj0PF9"
      },
      "source": [
        "# run on linux ubuntu bash terminal\n",
        "# cat syslog\n",
        "# ---------------------------------\n",
        "\n",
        "# !/usr/bin/env python3\n",
        "\n",
        "# import sys\n",
        "# logfile = sys.argv[1]\n",
        "\n",
        "# with open(logfile) as f:\n",
        "#     for line in f:\n",
        "#         if 'CRON' not in line:\n",
        "#             continue\n",
        "#         print(line.strip())"
      ],
      "execution_count": null,
      "outputs": []
    },
    {
      "cell_type": "markdown",
      "metadata": {
        "id": "AXxkEDHi1LXU"
      },
      "source": [
        "* The username is found **at the end** of line, use the $ sign to match only end of line.\n",
        "* Find the username by looking for the **word USER** followed by a string wrapped in parentheses. Escape the parentheses with a backslash.\n",
        "* Extract the actual username with another couple of parentheses to create a **capturing group**. Matching the username with any alphanumeric characters by using backslash w plus.\n"
      ]
    },
    {
      "cell_type": "code",
      "metadata": {
        "id": "McMjSgGr1IDs",
        "colab": {
          "base_uri": "https://localhost:8080/"
        },
        "outputId": "ac4f921d-71d7-496c-ecd6-f3aa421f971a"
      },
      "source": [
        "# run on linux ubuntu bash terminal\n",
        "import re\n",
        "pattern = r\"USER \\((\\w+)\\)$\"\n",
        "line = \"Jul 6 14:04:01 host.name CRON[294]: USER (naughty_user)\"\n",
        "result = re.search(pattern, line)\n",
        "print(result[1])"
      ],
      "execution_count": null,
      "outputs": [
        {
          "output_type": "stream",
          "text": [
            "naughty_user\n"
          ],
          "name": "stdout"
        }
      ]
    },
    {
      "cell_type": "code",
      "metadata": {
        "id": "D4AeZPTOFpLK"
      },
      "source": [
        "# run on linux ubuntu bash terminal\n",
        "# chmod +x namefile.py\n",
        "# ./namefile.py syslog\n",
        "# ---------------------------------\n",
        "\n",
        "# !/usr/bin/env python3\n",
        "\n",
        "# import re\n",
        "# import sys\n",
        "# logfile = sys.argv[1]\n",
        "\n",
        "# with open(logfile) as f:\n",
        "#     for line in f:\n",
        "#         if 'CRON' not in line:\n",
        "#             continue\n",
        "#         pattern = r\"USER \\((\\w+)\\)$\"\n",
        "#         result = re.search(pattern, line)\n",
        "#         print(result[1])"
      ],
      "execution_count": null,
      "outputs": []
    },
    {
      "cell_type": "code",
      "metadata": {
        "colab": {
          "base_uri": "https://localhost:8080/"
        },
        "id": "PGMm1b0pINAh",
        "outputId": "250e0e8b-6fc0-4f74-d634-c0b523849215"
      },
      "source": [
        "import re\n",
        "def show_time_of_pid(line):\n",
        "  pattern = r'([a-zA-Z]+ \\d+ \\d+:\\d+:\\d+).*\\[(\\d+)\\]\\:'\n",
        "  result = re.search(pattern, line)\n",
        "  return \"{} pid:{}\".format(result[1], result[2])\n",
        "\n",
        "print(show_time_of_pid(\"Jul 6 14:01:23 computer.name CRON[29440]: USER (good_user)\")) # Jul 6 14:01:23 pid:29440\n",
        "\n",
        "print(show_time_of_pid(\"Jul 6 14:02:08 computer.name jam_tag=psim[29187]: (UUID:006)\")) # Jul 6 14:02:08 pid:29187\n",
        "\n",
        "print(show_time_of_pid(\"Jul 6 14:02:09 computer.name jam_tag=psim[29187]: (UUID:007)\")) # Jul 6 14:02:09 pid:29187\n",
        "\n",
        "print(show_time_of_pid(\"Jul 6 14:03:01 computer.name CRON[29440]: USER (naughty_user)\")) # Jul 6 14:03:01 pid:29440\n",
        "\n",
        "print(show_time_of_pid(\"Jul 6 14:03:40 computer.name cacheclient[29807]: start syncing from \\\"0xDEADBEEF\\\"\")) # Jul 6 14:03:40 pid:29807\n",
        "\n",
        "print(show_time_of_pid(\"Jul 6 14:04:01 computer.name CRON[29440]: USER (naughty_user)\")) # Jul 6 14:04:01 pid:29440\n",
        "\n",
        "print(show_time_of_pid(\"Jul 6 14:05:01 computer.name CRON[29440]: USER (naughty_user)\")) # Jul 6 14:05:01 pid:29440"
      ],
      "execution_count": null,
      "outputs": [
        {
          "output_type": "stream",
          "text": [
            "Jul 6 14:01:23 pid:29440\n",
            "Jul 6 14:02:08 pid:29187\n",
            "Jul 6 14:02:09 pid:29187\n",
            "Jul 6 14:03:01 pid:29440\n",
            "Jul 6 14:03:40 pid:29807\n",
            "Jul 6 14:04:01 pid:29440\n",
            "Jul 6 14:05:01 pid:29440\n"
          ],
          "name": "stdout"
        }
      ]
    },
    {
      "cell_type": "code",
      "metadata": {
        "colab": {
          "base_uri": "https://localhost:8080/"
        },
        "id": "EtL3y1hMI5Rc",
        "outputId": "92a369f4-3356-4a8d-e934-182f609036e2"
      },
      "source": [
        "usernames = {}\n",
        "name = \"good_user\"\n",
        "usernames[name] = usernames.get(name, 0)+1\n",
        "usernames[name] = usernames.get(name, 0)+1\n",
        "print(usernames)"
      ],
      "execution_count": null,
      "outputs": [
        {
          "output_type": "stream",
          "text": [
            "{'good_user': 2}\n"
          ],
          "name": "stdout"
        }
      ]
    },
    {
      "cell_type": "code",
      "metadata": {
        "id": "k7rlanaZJcZQ"
      },
      "source": [
        "# run on linux ubuntu bash terminal\n",
        "# ./namefile.py syslog\n",
        "# ---------------------------------\n",
        "\n",
        "# import re\n",
        "# import sys\n",
        "# logfile = sys.argv[1]\n",
        "# username = {}\n",
        "\n",
        "# with open(logfile) as f:\n",
        "#     for line in f:\n",
        "#         if 'CRON' not in line:\n",
        "#             continue\n",
        "#         pattern = r\"USER \\((\\w+)\\)$\"\n",
        "#         result = re.search(pattern, line)\n",
        "#         if result is None:\n",
        "#             continue\n",
        "#         name = result[1]\n",
        "#         username[name] = username.get(name, 0)+1\n",
        "\n",
        "# print(username)"
      ],
      "execution_count": null,
      "outputs": []
    },
    {
      "cell_type": "markdown",
      "metadata": {
        "id": "JVz5SC9QloNU"
      },
      "source": [
        "## **Practice Qwicklabs**"
      ]
    },
    {
      "cell_type": "code",
      "metadata": {
        "colab": {
          "base_uri": "https://localhost:8080/"
        },
        "id": "qvPzf3o8luAM",
        "outputId": "8bd1ec7f-6508-4d23-967f-2c9c50f123df"
      },
      "source": [
        "%%writefile fishy.log\n",
        "July 31 03:36:26 mycomputername dhcpclient[79731]: ERROR The cake is a lie!\n",
        "July 31 03:38:24 mycomputername CRON[92141]: INFO Access permitted\n",
        "July 31 03:40:00 mycomputername dhcpclient[40114]: INFO Starting sync\n",
        "July 31 03:42:45 mycomputername utility[53726]: INFO I'm sorry Dave. I'm afraid I can't do th\n",
        "July 31 03:47:07 mycomputername NetworkManager[63805]: WARN Please reboot user\n",
        "July 31 04:09:16 mycomputername CRON[52593]: WARN PC Load Letter\n",
        "July 31 04:11:32 mycomputername CRON[51253]: ERROR: Failed to start CRON job due to script sy!\n",
        "July 31 04:11:32 mycomputername jam_tag=psim[84082]: ERROR ID: 10t\n",
        "July 31 04:12:05 mycomputername utility[63418]: INFO Successfully connected\n",
        "July 31 04:14:22 mycomputername utility[53225]: ERROR I am error\n",
        "July 31 04:31:00 mycomputername NetworkManager[23060]: ERROR Out of yellow ink, specifically,\n",
        "July 31 04:36:49 mycomputername dhcpclient[89091]: ERROR Failed process [13966]\n",
        "July 31 04:37:34 mycomputername cacheclient[63496]: ERROR Sorting a list\n",
        "July 31 04:45:37 mycomputername CRON[78322]: INFO Checking process [16121]\n",
        "July 31 04:51:20 mycomputername kernel[66473]: WARN System overheating\n",
        "July 31 05:00:28 mycomputername NetworkManager[76363]: ERROR The cake is a lie!\n",
        "July 31 05:10:52 mycomputername jam_tag=psim[26712]: ERROR Process failed\n",
        "July 31 05:14:16 mycomputername utility[91499]: ERROR Sorting a list\n",
        "July 31 05:15:02 mycomputername system[76042]: WARN System overheating"
      ],
      "execution_count": null,
      "outputs": [
        {
          "output_type": "stream",
          "text": [
            "Writing fishy.log\n"
          ],
          "name": "stdout"
        }
      ]
    },
    {
      "cell_type": "code",
      "metadata": {
        "colab": {
          "base_uri": "https://localhost:8080/"
        },
        "id": "g3klpNz1l1T5",
        "outputId": "0269e7ce-93de-42ea-c902-e3691cb1e590"
      },
      "source": [
        "%%writefile find_error.py\n",
        "#!/usr/bin/env python3\n",
        "import sys\n",
        "import os\n",
        "import re\n",
        "\n",
        "\n",
        "def error_search(log_file):\n",
        "  error = input(\"What is the error? \")\n",
        "  returned_errors = []\n",
        "  with open(log_file, mode='r',encoding='UTF-8') as file:\n",
        "    for log in  file.readlines():\n",
        "      error_patterns = [\"error\"]\n",
        "      for i in range(len(error.split(' '))):\n",
        "        error_patterns.append(r\"{}\".format(error.split(' ')[i].lower()))\n",
        "      if all(re.search(error_pattern, log.lower()) for error_pattern in error_patterns):\n",
        "        returned_errors.append(log)\n",
        "    file.close()\n",
        "  return returned_errors\n",
        "\n",
        "  \n",
        "def file_output(returned_errors):\n",
        "  with open('errors_found.log', 'w') as file:\n",
        "    for error in returned_errors:\n",
        "      file.write(error)\n",
        "    file.close()\n",
        "\n",
        "\n",
        "log_file = sys.argv[1]\n",
        "returned_errors = error_search(log_file)\n",
        "file_output(returned_errors)\n",
        "sys.exit(0)"
      ],
      "execution_count": null,
      "outputs": [
        {
          "output_type": "stream",
          "text": [
            "Writing find_error.py\n"
          ],
          "name": "stdout"
        }
      ]
    },
    {
      "cell_type": "code",
      "metadata": {
        "id": "vPBPRqUImOI1"
      },
      "source": [
        "!sudo chmod +x find_error.py"
      ],
      "execution_count": null,
      "outputs": []
    },
    {
      "cell_type": "code",
      "metadata": {
        "colab": {
          "base_uri": "https://localhost:8080/"
        },
        "id": "lGLPl0Yemhhz",
        "outputId": "6a715c00-4e79-436b-b2f5-ac548279750a"
      },
      "source": [
        "# fill with: CRON ERROR Failed to start\n",
        "!./find_error.py fishy.log"
      ],
      "execution_count": null,
      "outputs": [
        {
          "output_type": "stream",
          "text": [
            "What is the error? CRON ERROR Failed to start\n"
          ],
          "name": "stdout"
        }
      ]
    },
    {
      "cell_type": "code",
      "metadata": {
        "colab": {
          "base_uri": "https://localhost:8080/"
        },
        "id": "ZXsNuhnzmwWL",
        "outputId": "92a3b6e9-e36a-43ee-c55d-c1ae73eabc8e"
      },
      "source": [
        "!cat errors_found.log"
      ],
      "execution_count": null,
      "outputs": [
        {
          "output_type": "stream",
          "text": [
            "July 31 04:11:32 mycomputername CRON[51253]: ERROR: Failed to start CRON job due to script sy!\n"
          ],
          "name": "stdout"
        }
      ]
    },
    {
      "cell_type": "markdown",
      "metadata": {
        "id": "NEnN-mNw6S2S"
      },
      "source": [
        "# **Testing in Python**\n",
        "* Software testing is a process of evaluating computer code to determine whether or not it does what it is expected to do.\n",
        "\n",
        "* Use the interpreter to try our code before putting it in a script is another form of **manual testing**. Formal software testing, called **automatic testing**, codifying tests into its own software and code that can be run to verify that the programs do what expected to do.\n",
        "\n",
        "* The goal of automatic testing is to automate the process of checking if the returned value matches the expectations\n",
        "\n",
        "\n"
      ]
    },
    {
      "cell_type": "markdown",
      "metadata": {
        "id": "V_KK1Ifgtk85"
      },
      "source": [
        "## **Unit Tests**\n",
        "\n",
        "* Unit tests are used to verify that **small isolated** parts of a program are correct.\n",
        "\n",
        "* The convention in Python is to call the script with the same name of the module that it's testing and appending the suffix **_test**.\n",
        "\n",
        "* Use module **unittest** to create a unit test. \n",
        "\n",
        "* The **unit test module** provides a **test case** class with a bunch of testing methods ready to use. To access this functionality, we create our own class by **inherits **from test case, thus inheriting all those testing methods.\n",
        "\n",
        "* Use the **assertEqual** method to verify that the expectation is exactly the same as to what is returned by the tested function.\n",
        "\n",
        "Best of Unit Testing Standard Library Module\n",
        "\n",
        "Understand a Basic Example:\n",
        "\n",
        "https://docs.python.org/3/library/unittest.html#basic-example\n",
        "\n",
        "Understand how to run the tests using the Command Line:\n",
        "\n",
        "https://docs.python.org/3/library/unittest.html#command-line-interface\n",
        "\n",
        "Understand various Unit Test Design Patterns:\n",
        "\n",
        "https://docs.python.org/3/library/unittest.html#organizing-test-code\n",
        "\n",
        "![alt text](https://drive.google.com/uc?id=16TC7zifB1kfuYb0-p_QLCJYgkU1GCDlk)\n",
        "\n",
        "Understand more specific assertions such as assertRaises\n",
        "\n",
        "https://docs.python.org/3/library/unittest.html#unittest.TestCase.assertRaises"
      ]
    },
    {
      "cell_type": "code",
      "metadata": {
        "id": "OCQ1tTMe6SOL",
        "colab": {
          "base_uri": "https://localhost:8080/"
        },
        "outputId": "9aad8473-059e-4b08-d1c4-56790cc6ffb1"
      },
      "source": [
        "%%writefile rearrange.py\n",
        "#!/usr/bin/env python3\n",
        "import re\n",
        "def rearrange_name(name):\n",
        "    result = re.search(r\"^([\\w .]*), ([\\w .]*)$\", name)\n",
        "    return \"{} {}\".format(result[2], result[1])"
      ],
      "execution_count": null,
      "outputs": [
        {
          "output_type": "stream",
          "text": [
            "Writing rearrange.py\n"
          ],
          "name": "stdout"
        }
      ]
    },
    {
      "cell_type": "code",
      "metadata": {
        "id": "p0YaGDPK2Aro",
        "colab": {
          "base_uri": "https://localhost:8080/"
        },
        "outputId": "c5875041-e390-4413-b4ba-db184a378e78"
      },
      "source": [
        "%%writefile rearrange_test.py\n",
        "from rearrange import rearrange_name\n",
        "import unittest\n",
        "\n",
        "\n",
        "class TestRearrange(unittest.TestCase):\n",
        "    def test_basic(self):\n",
        "        testcase = \"Lovelace, Ada\"\n",
        "        expected = \"Ada Lovelace\"\n",
        "        self.assertEqual(\n",
        "            rearrange_name(testcase),\n",
        "            expected)\n",
        "\n",
        "unittest.main()"
      ],
      "execution_count": null,
      "outputs": [
        {
          "output_type": "stream",
          "text": [
            "Writing rearrange_test.py\n"
          ],
          "name": "stdout"
        }
      ]
    },
    {
      "cell_type": "code",
      "metadata": {
        "id": "__2O6yfS8a5M",
        "colab": {
          "base_uri": "https://localhost:8080/"
        },
        "outputId": "88843785-787f-400b-c3cc-942d8422dbf8"
      },
      "source": [
        "!python rearrange_test.py"
      ],
      "execution_count": null,
      "outputs": [
        {
          "output_type": "stream",
          "text": [
            ".\n",
            "----------------------------------------------------------------------\n",
            "Ran 1 test in 0.000s\n",
            "\n",
            "OK\n"
          ],
          "name": "stdout"
        }
      ]
    },
    {
      "cell_type": "markdown",
      "metadata": {
        "id": "IUvbr4Za2MEg"
      },
      "source": [
        "***Edge Case***\n",
        "\n",
        "Edge cases are inputs to our code that produce unexpected results, and are found at the extreme ends of the ranges of input we imagine our programs will typically work with.\n",
        "\n",
        "* Add more test cases.\n",
        "\n",
        "* Add edge cases which will input to our code so it produces unexpected results. Edge case is often found at the extreme ends of the ranges of input imagined that the programs will typically work.\n",
        "\n",
        "* Update the main program to resolve the test cases.\n"
      ]
    },
    {
      "cell_type": "code",
      "metadata": {
        "id": "4uIGkA0D2Irg",
        "colab": {
          "base_uri": "https://localhost:8080/"
        },
        "outputId": "17cedda1-9729-4c07-ab5a-1cd882993262"
      },
      "source": [
        "%%writefile rearrange_test.py\n",
        "from rearrange import rearrange_name\n",
        "import unittest\n",
        "\n",
        "\n",
        "class TestRearrange(unittest.TestCase):\n",
        "    def test_basic(self):\n",
        "      testcase = \"Lovelace, Ada\"\n",
        "      expected = \"Ada Lovelace\"\n",
        "      self.assertEqual(\n",
        "            rearrange_name(testcase),\n",
        "            expected)\n",
        "    def test_empty(self):\n",
        "        testcase = \"\"\n",
        "        expected = \"\"\n",
        "        self.assertEqual(\n",
        "            rearrange_name(testcase),\n",
        "            expected)\n",
        "unittest.main()"
      ],
      "execution_count": null,
      "outputs": [
        {
          "output_type": "stream",
          "text": [
            "Overwriting rearrange_test.py\n"
          ],
          "name": "stdout"
        }
      ]
    },
    {
      "cell_type": "code",
      "metadata": {
        "id": "RZu_fmgI2iC9",
        "colab": {
          "base_uri": "https://localhost:8080/"
        },
        "outputId": "86ec910b-72d6-48b9-b174-ebefaa2d97b9"
      },
      "source": [
        "# This will fail\n",
        "!python rearrange_test.py"
      ],
      "execution_count": null,
      "outputs": [
        {
          "output_type": "stream",
          "text": [
            ".E\n",
            "======================================================================\n",
            "ERROR: test_empty (__main__.TestRearrange)\n",
            "----------------------------------------------------------------------\n",
            "Traceback (most recent call last):\n",
            "  File \"rearrange_test.py\", line 16, in test_empty\n",
            "    rearrange_name(testcase),\n",
            "  File \"/content/rearrange.py\", line 5, in rearrange_name\n",
            "    return \"{} {}\".format(result[2], result[1])\n",
            "TypeError: 'NoneType' object is not subscriptable\n",
            "\n",
            "----------------------------------------------------------------------\n",
            "Ran 2 tests in 0.001s\n",
            "\n",
            "FAILED (errors=1)\n"
          ],
          "name": "stdout"
        }
      ]
    },
    {
      "cell_type": "markdown",
      "metadata": {
        "id": "d1BxFIbGQJUz"
      },
      "source": [
        "***with this change***"
      ]
    },
    {
      "cell_type": "code",
      "metadata": {
        "colab": {
          "base_uri": "https://localhost:8080/"
        },
        "id": "mLt96X7ZQF4J",
        "outputId": "ca295b02-05f9-4461-d4a0-4372b17fbe0b"
      },
      "source": [
        "%%writefile rearrange.py\n",
        "#!/usr/bin/env python3\n",
        "import re\n",
        "def rearrange_name(name):\n",
        "    result = re.search(r\"^([\\w .]*), ([\\w .]*)$\", name)\n",
        "    if result is None:\n",
        "      return \"\"\n",
        "    return \"{} {}\".format(result[2], result[1])"
      ],
      "execution_count": null,
      "outputs": [
        {
          "output_type": "stream",
          "text": [
            "Overwriting rearrange.py\n"
          ],
          "name": "stdout"
        }
      ]
    },
    {
      "cell_type": "code",
      "metadata": {
        "colab": {
          "base_uri": "https://localhost:8080/"
        },
        "id": "FUgkZyuvQInf",
        "outputId": "34ced882-b3bb-4986-8b93-8dfda989eade"
      },
      "source": [
        "# This will fail\n",
        "!python rearrange_test.py"
      ],
      "execution_count": null,
      "outputs": [
        {
          "output_type": "stream",
          "text": [
            "..\n",
            "----------------------------------------------------------------------\n",
            "Ran 2 tests in 0.000s\n",
            "\n",
            "OK\n"
          ],
          "name": "stdout"
        }
      ]
    },
    {
      "cell_type": "markdown",
      "metadata": {
        "id": "pHYD3gJBRQXc"
      },
      "source": [
        "***Additional Test Cases***"
      ]
    },
    {
      "cell_type": "code",
      "metadata": {
        "colab": {
          "base_uri": "https://localhost:8080/"
        },
        "id": "gTjhyL7IRTUd",
        "outputId": "3051f808-602f-436e-fa07-649f6fa788c7"
      },
      "source": [
        "%%writefile rearrange_test.py\n",
        "from rearrange import rearrange_name\n",
        "import unittest\n",
        "\n",
        "\n",
        "class TestRearrange(unittest.TestCase):\n",
        "    def test_basic(self):\n",
        "      testcase = \"Lovelace, Ada\"\n",
        "      expected = \"Ada Lovelace\"\n",
        "      self.assertEqual(\n",
        "            rearrange_name(testcase),\n",
        "            expected)\n",
        "      \n",
        "    def test_empty(self):\n",
        "        testcase = \"\"\n",
        "        expected = \"\"\n",
        "        self.assertEqual(\n",
        "            rearrange_name(testcase),\n",
        "            expected)\n",
        "        \n",
        "    def test_double_name(self):\n",
        "      testcase = \"Hopper, Grace M.\"\n",
        "      expected = \"Grace M. Hopper\"\n",
        "      self.assertEqual(\n",
        "            rearrange_name(testcase),\n",
        "            expected)\n",
        "      \n",
        "    def test_one_name(self):\n",
        "      testcase = \"Voltaire\"\n",
        "      expected = \"Voltaire\"\n",
        "      self.assertEqual(\n",
        "            rearrange_name(testcase),\n",
        "            expected)\n",
        "      \n",
        "unittest.main()"
      ],
      "execution_count": null,
      "outputs": [
        {
          "output_type": "stream",
          "text": [
            "Overwriting rearrange_test.py\n"
          ],
          "name": "stdout"
        }
      ]
    },
    {
      "cell_type": "code",
      "metadata": {
        "colab": {
          "base_uri": "https://localhost:8080/"
        },
        "id": "lDfNvMD6RjRa",
        "outputId": "fde5b6e8-0c8c-4403-c6ae-c2e8620da696"
      },
      "source": [
        "# This will fail on test_one_name\n",
        "# run 1: success\n",
        "# run 2: success\n",
        "# run 3: success\n",
        "# run 4: failed\n",
        "!python rearrange_test.py"
      ],
      "execution_count": null,
      "outputs": [
        {
          "output_type": "stream",
          "text": [
            "...F\n",
            "======================================================================\n",
            "FAIL: test_one_name (__main__.TestRearrange)\n",
            "----------------------------------------------------------------------\n",
            "Traceback (most recent call last):\n",
            "  File \"rearrange_test.py\", line 32, in test_one_name\n",
            "    expected)\n",
            "AssertionError: '' != 'Voltaire'\n",
            "+ Voltaire\n",
            "\n",
            "----------------------------------------------------------------------\n",
            "Ran 4 tests in 0.001s\n",
            "\n",
            "FAILED (failures=1)\n"
          ],
          "name": "stdout"
        }
      ]
    },
    {
      "cell_type": "markdown",
      "metadata": {
        "id": "emJEUD42TZHi"
      },
      "source": [
        "***with this change***"
      ]
    },
    {
      "cell_type": "code",
      "metadata": {
        "colab": {
          "base_uri": "https://localhost:8080/"
        },
        "id": "ScEAx1gJTZIG",
        "outputId": "78ef1701-4094-4be7-f464-44931820a86b"
      },
      "source": [
        "%%writefile rearrange.py\n",
        "#!/usr/bin/env python3\n",
        "import re\n",
        "def rearrange_name(name):\n",
        "    result = re.search(r\"^([\\w .]*), ([\\w .]*)$\", name)\n",
        "    if result is None:\n",
        "      # change return \"\" to it\n",
        "      return name\n",
        "    return \"{} {}\".format(result[2], result[1])"
      ],
      "execution_count": null,
      "outputs": [
        {
          "output_type": "stream",
          "text": [
            "Overwriting rearrange.py\n"
          ],
          "name": "stdout"
        }
      ]
    },
    {
      "cell_type": "code",
      "metadata": {
        "colab": {
          "base_uri": "https://localhost:8080/"
        },
        "id": "9Kb5IEtWTZII",
        "outputId": "744ba87d-176c-4ada-bd33-0cfb932b0de3"
      },
      "source": [
        "# This will fail\n",
        "!python rearrange_test.py"
      ],
      "execution_count": null,
      "outputs": [
        {
          "output_type": "stream",
          "text": [
            "....\n",
            "----------------------------------------------------------------------\n",
            "Ran 4 tests in 0.001s\n",
            "\n",
            "OK\n"
          ],
          "name": "stdout"
        }
      ]
    },
    {
      "cell_type": "markdown",
      "metadata": {
        "id": "bqbcn8Qc3wLW"
      },
      "source": [
        "## **Black Box vs. White Box**\n",
        "\n",
        "* **White-box** testing (AKA clear-box or transparent testing) relies on the test creator's knowledge of the tested software to construct the test cases. On the other hand in **Black-box** testing, the tested software is treated like an opaque box. The tester doesn't the internals of how the software works.\n",
        "\n",
        "* If the unit tests are created **before** any code is written based on specifications of what the code is supposed to do, it can be considered as a **black-box** unit test. If unit tests are run **alongside** or **after** the code has been developed, the test cases are made with a knowledge of how software works, is considered as a **white-box** tests.\n",
        "\n",
        "* Process called **test-driven development** or **TDD** calls for creating the test before writing the code.\n"
      ]
    },
    {
      "cell_type": "markdown",
      "metadata": {
        "id": "n63CvCQb5KWd"
      },
      "source": [
        "## **Other Test Types**\n",
        "\n",
        "Check out the following links for more information:\n",
        "\n",
        "https://landing.google.com/sre/sre-book/chapters/monitoring-distributed-systems/\n",
        "\n",
        "https://landing.google.com/sre/sre-book/chapters/testing-reliability/\n",
        "\n",
        "https://testing.googleblog.com/2007/10/performance-testing.html\n",
        "\n",
        "https://www.guru99.com/smoke-testing.html\n",
        "\n",
        "https://www.guru99.com/exploratory-testing.html\n",
        "\n",
        "https://testing.googleblog.com/2008/09/test-first-is-fun_08.html\n",
        "\n",
        "* unit tests, we call out they should focus on one specific unit, a functional method that being tested.\n",
        "\n",
        "* integration tests verify that the interactions between the different pieces of code in integrated environments are working the way we expect them to.\n",
        "\n",
        "* A variant of unit tests our regression tests. They're usually written as part of a debugging and troubleshooting process to verify that an issue or error has been fixed once it's been identified. Regression tests are useful part of a test suite because they ensure that the same mistake doesn't happen twice.\n",
        "\n",
        "* Smoke test sometimes called build verification test, get their name from a concept that comes from testing hardware equipment. Plug in the given piece of hardware and see if smoke starts coming out of it. When writing software smoke test serve as a kind of sanity check to find major bugs in a program. \n",
        "\n",
        "* Other types of tests our load tests. These tests verify that the system behaves well when it's under significant load.\n",
        "\n",
        "* You might expect that most testing happens after the code has been written. This seems like a natural progression. First you write your script then you write tests that verify that the script does what you want it to do. But this isn't always the best approach. A process called test-driven development or TDD calls for creating the test before writing the code."
      ]
    },
    {
      "cell_type": "markdown",
      "metadata": {
        "id": "PR_tOYMA4Gn8"
      },
      "source": [
        "## **The Try-Except Construct**\n",
        "\n",
        "* In most cases, error generated by Python can be handled with try-except construct. It means that the program acknowledges the (expected) error and performs an alternate execution"
      ]
    },
    {
      "cell_type": "code",
      "metadata": {
        "colab": {
          "base_uri": "https://localhost:8080/"
        },
        "id": "MP2efoBB-wli",
        "outputId": "2f577a4b-8c81-44fe-d5c0-bd36da20da79"
      },
      "source": [
        "%%writefile spider.txt\n",
        "The itsy bitsy spider climbed up the waterspout.\n",
        "Down came the rain\n",
        "and washed the spider out."
      ],
      "execution_count": null,
      "outputs": [
        {
          "output_type": "stream",
          "text": [
            "Overwriting spider.txt\n"
          ],
          "name": "stdout"
        }
      ]
    },
    {
      "cell_type": "code",
      "metadata": {
        "id": "tgt9XZF_J-w7"
      },
      "source": [
        "def get_spider_text():\n",
        "    f = open(\"spider.txt\")\n",
        "    lines = f.readlines()\n",
        "    f.close()\n",
        "    return lines"
      ],
      "execution_count": null,
      "outputs": []
    },
    {
      "cell_type": "code",
      "metadata": {
        "id": "L-TfZ2Nw9N85"
      },
      "source": [
        "def get_spider_text():\n",
        "    try:\n",
        "        f = open(\"spider.txt\")\n",
        "        lines = f.readlines()\n",
        "        f.close()\n",
        "    except OSError:\n",
        "        lines = None\n",
        "    return lines"
      ],
      "execution_count": null,
      "outputs": []
    },
    {
      "cell_type": "code",
      "metadata": {
        "id": "_bxquXpFLLnx",
        "colab": {
          "base_uri": "https://localhost:8080/"
        },
        "outputId": "95e1d2b3-7e3e-47b9-c1ee-57c5de0330d8"
      },
      "source": [
        "%%shell\n",
        "rm spider.txt"
      ],
      "execution_count": null,
      "outputs": [
        {
          "output_type": "execute_result",
          "data": {
            "text/plain": [
              ""
            ]
          },
          "metadata": {
            "tags": []
          },
          "execution_count": 202
        }
      ]
    },
    {
      "cell_type": "code",
      "metadata": {
        "id": "fB-_hqHF9erd",
        "colab": {
          "base_uri": "https://localhost:8080/"
        },
        "outputId": "c43cc5f8-72ed-4f21-d377-498336ff644d"
      },
      "source": [
        "lines = get_spider_text()\n",
        "print(lines)"
      ],
      "execution_count": null,
      "outputs": [
        {
          "output_type": "stream",
          "text": [
            "None\n"
          ],
          "name": "stdout"
        }
      ]
    },
    {
      "cell_type": "markdown",
      "metadata": {
        "id": "fmM4QP9r4SYP"
      },
      "source": [
        "## **Raising Errors**\n",
        "\n",
        "* In some other cases, the program is not exclusive to handle error, but also **raise** error.\n",
        "* For example, inside a function, if the input parameters not as expected as on the specification, instead of return unknown value, it would conventionally be better to raise error.\n"
      ]
    },
    {
      "cell_type": "code",
      "metadata": {
        "id": "y6QqiMRb6zDs",
        "colab": {
          "base_uri": "https://localhost:8080/"
        },
        "outputId": "18bb6235-e2c9-46d3-c3b8-6b41e5272a20"
      },
      "source": [
        "%%writefile validations.py\n",
        "def validate_user(username, minlen):\n",
        "    if minlen < 1:\n",
        "        raise ValueError(\"minlen at least 1\")\n",
        "    if len(username) < minlen:\n",
        "        return False\n",
        "    if not username.isalnum():\n",
        "        return False\n",
        "    return True"
      ],
      "execution_count": null,
      "outputs": [
        {
          "output_type": "stream",
          "text": [
            "Writing validations.py\n"
          ],
          "name": "stdout"
        }
      ]
    },
    {
      "cell_type": "code",
      "metadata": {
        "colab": {
          "base_uri": "https://localhost:8080/"
        },
        "id": "o6BY-6PhFTqL",
        "outputId": "cefa5ede-ef43-4da7-d8b3-81ee8d5a7b38"
      },
      "source": [
        "from validations import validate_user\n",
        "# validate_user(\"\", -1) # Raise error --> ValueError: minlen at least 1\n",
        "validate_user(\"\", 1)"
      ],
      "execution_count": null,
      "outputs": [
        {
          "output_type": "execute_result",
          "data": {
            "text/plain": [
              "False"
            ]
          },
          "metadata": {
            "tags": []
          },
          "execution_count": 205
        }
      ]
    },
    {
      "cell_type": "code",
      "metadata": {
        "colab": {
          "base_uri": "https://localhost:8080/"
        },
        "id": "KvLEQoiCF-_f",
        "outputId": "292eef2f-a9f2-442d-a6cf-515f14359082"
      },
      "source": [
        "validate_user(\"myuser\", 1)"
      ],
      "execution_count": null,
      "outputs": [
        {
          "output_type": "execute_result",
          "data": {
            "text/plain": [
              "True"
            ]
          },
          "metadata": {
            "tags": []
          },
          "execution_count": 206
        }
      ]
    },
    {
      "cell_type": "markdown",
      "metadata": {
        "id": "u5eZx1Rfd4jF"
      },
      "source": [
        "This is `the assert keyword`. This keyword tries to verify that a conditional expression is true, and if it's false it raises an assertion error with the indicated message."
      ]
    },
    {
      "cell_type": "code",
      "metadata": {
        "colab": {
          "base_uri": "https://localhost:8080/"
        },
        "id": "IuboZJXmGlov",
        "outputId": "99398ab1-8f04-48a1-a019-3eccc8fd9d20"
      },
      "source": [
        "%%writefile validations02.py\n",
        "def validate_user(username, minlen):\n",
        "  assert type(username) == str, \"username must be a string\"\n",
        "  if minlen < 1:\n",
        "    raise ValueError(\"minlen at least 1\")\n",
        "  if len(username) < minlen:\n",
        "    return False\n",
        "  if not username.isalnum():\n",
        "    return False\n",
        "  return True"
      ],
      "execution_count": null,
      "outputs": [
        {
          "output_type": "stream",
          "text": [
            "Writing validations02.py\n"
          ],
          "name": "stdout"
        }
      ]
    },
    {
      "cell_type": "code",
      "metadata": {
        "id": "6jON41iDil5p"
      },
      "source": [
        "from validations02 import validate_user\n",
        "# validate_user([3], 1) # AssertionError: username must be a string"
      ],
      "execution_count": null,
      "outputs": []
    },
    {
      "cell_type": "markdown",
      "metadata": {
        "id": "wf4KLZ1W4bLi"
      },
      "source": [
        "* To test expected errors on **unittest**, use assertRaises method.\n"
      ]
    },
    {
      "cell_type": "code",
      "metadata": {
        "id": "uFQANxSq4ZII",
        "colab": {
          "base_uri": "https://localhost:8080/"
        },
        "outputId": "86f0cbe4-65e6-4f9d-acaf-f4acc0668937"
      },
      "source": [
        "%%writefile validate_user_test.py\n",
        "from validations02 import validate_user\n",
        "import unittest\n",
        "\n",
        "class TestValidateUser(unittest.TestCase):\n",
        "    def test_invalid_minlen(self):\n",
        "        self.assertRaises(\n",
        "            ValueError,\n",
        "            validate_user, \"user\", -1)\n",
        "    \n",
        "\n",
        "unittest.main()  # run the tests"
      ],
      "execution_count": null,
      "outputs": [
        {
          "output_type": "stream",
          "text": [
            "Writing validate_user_test.py\n"
          ],
          "name": "stdout"
        }
      ]
    },
    {
      "cell_type": "code",
      "metadata": {
        "id": "ePixRKbqqmZM",
        "colab": {
          "base_uri": "https://localhost:8080/"
        },
        "outputId": "102bb696-c7c2-4265-c741-d032e4b59ec5"
      },
      "source": [
        "!python validate_user_test.py"
      ],
      "execution_count": null,
      "outputs": [
        {
          "output_type": "stream",
          "text": [
            ".\n",
            "----------------------------------------------------------------------\n",
            "Ran 1 test in 0.000s\n",
            "\n",
            "OK\n"
          ],
          "name": "stdout"
        }
      ]
    },
    {
      "cell_type": "markdown",
      "metadata": {
        "id": "ekkcQBEpmMa_"
      },
      "source": [
        "## **Testing for Expected Errors**"
      ]
    },
    {
      "cell_type": "code",
      "metadata": {
        "colab": {
          "base_uri": "https://localhost:8080/"
        },
        "id": "tl-HQaRVmO7t",
        "outputId": "4b608175-26b7-4d82-a505-9bca407993ee"
      },
      "source": [
        "%%writefile validate_user_test.py\n",
        "#!/usr/bin/env python3\n",
        "\n",
        "import unittest\n",
        "from validations02 import validate_user\n",
        "class TestValidateUser(unittest.TestCase):\n",
        "  def test_valid(self):\n",
        "    self.assertEqual(validate_user(\"validuser\", 3), True)\n",
        "\n",
        "  def test_too_short(self):\n",
        "    self.assertEqual(validate_user(\"inv\", 5), False)\n",
        "\n",
        "  def test_invalid_characters(self):\n",
        "    self.assertEqual(validate_user(\"invalid_user\", 1), False)\n",
        "  \n",
        "  def test_invalid_minlen(self):\n",
        "    self.assertRaises(ValueError, validate_user, \"user\", -1)\n",
        "\n",
        "\n",
        "unittest.main()"
      ],
      "execution_count": null,
      "outputs": [
        {
          "output_type": "stream",
          "text": [
            "Overwriting validate_user_test.py\n"
          ],
          "name": "stdout"
        }
      ]
    },
    {
      "cell_type": "code",
      "metadata": {
        "colab": {
          "base_uri": "https://localhost:8080/"
        },
        "id": "ZtsIeDe4pi9d",
        "outputId": "c0382977-cb11-425b-a649-cfa5166ba6a6"
      },
      "source": [
        "!python validate_user_test.py"
      ],
      "execution_count": null,
      "outputs": [
        {
          "output_type": "stream",
          "text": [
            "....\n",
            "----------------------------------------------------------------------\n",
            "Ran 4 tests in 0.000s\n",
            "\n",
            "OK\n"
          ],
          "name": "stdout"
        }
      ]
    },
    {
      "cell_type": "markdown",
      "metadata": {
        "id": "i3Yd-Bgs6YEv"
      },
      "source": [
        "# **Bash Scripting**"
      ]
    },
    {
      "cell_type": "markdown",
      "metadata": {
        "id": "Ym4V42k_oZk5"
      },
      "source": [
        "## **Interacting with the Command Line Shell**"
      ]
    },
    {
      "cell_type": "markdown",
      "metadata": {
        "id": "Herm2Cfaih1S"
      },
      "source": [
        "### **Basic Linux Commands Cheat-Sheet**\n",
        "\n",
        "This list includes a bunch of different commands that are useful to know when working with Linux. Not all of these commands are covered in the videos, so feel free to investigate them on your own.\n",
        "\n",
        "\n",
        "**Managing files and directories**\n",
        "\n",
        "* `cd directory`: changes the current working directory to the specified one\n",
        "* `pwd`: prints the current working directory\n",
        "* `ls`: lists the contents of the current directory\n",
        "* `ls directory`: lists the contents of the received directory  \n",
        "* `ls -l`: lists the additional information for the contents of the directory  \n",
        "* `ls -a`: lists all files, including those hidden  \n",
        "* `ls -la`: applies both the -l and the -a flags  \n",
        "* `mkdir directory`: creates the directory with the received name\n",
        "* `rmdir directory`: deletes the directory with the received name (if empty)\n",
        "* `cp old_name new_name`: copies old_name into new_name\n",
        "* `mv old_name new_name`: moves old_name into new_name\n",
        "* `touch file_name`: creates an empty file or updates the modified time if it exists\n",
        "* `chmod modifiers files`: changes the permissions for the files according to the provided modifiers; we've seen +x to make the file executable\n",
        "* `chown user files`: changes the owner of the files to the given user\n",
        "* `chgrp group files`: changes the group of the files to the given group\n",
        "\n",
        "\n",
        "**Operating with the content of files**\n",
        "\n",
        "* `cat file`: shows the content of the file through standard output\n",
        "* `wc file`: counts the amount of characters, words, and lines in the given file; can also count the same values of whatever it receives via stdin\n",
        "* `file file`: prints the type of the given file, as recognized by the operating system\n",
        "* `head file`: shows the first 10 lines of the given file\n",
        "* `tail file`: shows the last 10 lines of the given file\n",
        "* `less file`: scrolls through the contents of the given file (press \"q\" to quit)\n",
        "* `sort file`: sorts the lines of the file alphabetically\n",
        "* `cut -dseparator -ffields file`: for each line in the given file, splits the line according to the given separator and prints the given fields (starting from 1)\n",
        "\n",
        "\n",
        "**Additional commands**\n",
        "\n",
        "* `echo \"message\"`: prints the message to standard output\n",
        "* `date`: prints the current date\n",
        "* `who`: prints the list of users currently logged into the computer\n",
        "* `man command`: shows the manual page of the given command; manual pages contain a lot of information explaining how to use each command (press \"q\" to quit)\n",
        "* `uptime`: shows how long the computer has been running\n",
        "* `free`: shows the amount of unused memory on the current system "
      ]
    },
    {
      "cell_type": "markdown",
      "metadata": {
        "id": "gy-yS8jrkBRT"
      },
      "source": [
        "### **Redirections, Pipes and Signals Cheat-Sheet**\n",
        "\n",
        "**Managing streams**\n",
        "\n",
        "These are the redirectors that we can use to take control of the streams of our programs\n",
        "\n",
        "* `command > file`: redirects standard output, overwrites file\n",
        "* `command >> file`: redirects standard output, appends to file\n",
        "* `command < file`: redirects standard input from file\n",
        "* `command 2> file`: redirects standard error to file\n",
        "* `command1 | command2`: connects the output of command1 to the input of command2\n",
        "\n",
        "**Operating with processes**\n",
        "\n",
        "These are some commands that are useful to know in Linux when interacting with processes. Not all of them are explained in videos, so feel free to investigate them on your own.\n",
        "\n",
        "* `ps`: lists the processes executing in the current terminal for the current user\n",
        "* `ps ax`: lists all processes currently executing for all users  \n",
        "* `ps e`: shows the environment for the processes listed  \n",
        "* `kill PID`: sends the SIGTERM signal to the process identified by PID\n",
        "* `fg`: causes a job that was stopped or in the background to return to the foreground\n",
        "* `bg`: causes a job that was stopped to go to the background\n",
        "* `jobs`: lists the jobs currently running or stopped\n",
        "* `top`: shows the processes currently using the most CPU time (press \"q\" to quit)  "
      ]
    },
    {
      "cell_type": "markdown",
      "metadata": {
        "id": "ei3HKb62P9Xe"
      },
      "source": [
        "### **Basic Linux Commands**\n",
        "\n",
        "* Up to this course, many Linux commands has been used. Here’s some of them:\n",
        "> * **echo**: print information (like environment variable) to standard output\n",
        "> * **cat** file: shows the content of the file through standard output\n",
        "> * **ls**: lists the contents of the current directory\n",
        "> * **cd** directory: change current working directory to the specified one \n",
        "> * **rm**: remove file or directory (with specific arguments)\n",
        "> * **chmod** modifiers files: change permissions for the files according to the provided modifiers\n",
        "* On Unix-based system, the command documentation can usually be found in manual or man pages, using **man** command.\n"
      ]
    },
    {
      "cell_type": "code",
      "metadata": {
        "colab": {
          "base_uri": "https://localhost:8080/"
        },
        "id": "sr2mserdDn6S",
        "outputId": "096469a4-0af6-4260-8aad-a7a9e545728c"
      },
      "source": [
        "%%shell\n",
        "mkdir mynewdir\n",
        "cd mynewdir\n",
        "pwd"
      ],
      "execution_count": null,
      "outputs": [
        {
          "output_type": "stream",
          "text": [
            "/content/mynewdir\n"
          ],
          "name": "stdout"
        },
        {
          "output_type": "execute_result",
          "data": {
            "text/plain": [
              ""
            ]
          },
          "metadata": {
            "tags": []
          },
          "execution_count": 213
        }
      ]
    },
    {
      "cell_type": "code",
      "metadata": {
        "colab": {
          "base_uri": "https://localhost:8080/"
        },
        "id": "nDnTViHND2BA",
        "outputId": "924b3493-5d55-486e-ff4f-261adf0fa91b"
      },
      "source": [
        "%%shell\n",
        "cd ..\n",
        "pwd"
      ],
      "execution_count": null,
      "outputs": [
        {
          "output_type": "stream",
          "text": [
            "/\n"
          ],
          "name": "stdout"
        },
        {
          "output_type": "execute_result",
          "data": {
            "text/plain": [
              ""
            ]
          },
          "metadata": {
            "tags": []
          },
          "execution_count": 214
        }
      ]
    },
    {
      "cell_type": "code",
      "metadata": {
        "colab": {
          "base_uri": "https://localhost:8080/"
        },
        "id": "EHrdFFdVEDkR",
        "outputId": "e01af43d-3da8-4f7a-9683-96035032063c"
      },
      "source": [
        "%%shell\n",
        "cd mynewdir\n",
        "touch myfiles.txt\n",
        "touch spider.txt\n",
        "ls\n",
        "ls -l\n",
        "cd .."
      ],
      "execution_count": null,
      "outputs": [
        {
          "output_type": "stream",
          "text": [
            "myfiles.txt  spider.txt\n",
            "total 0\n",
            "-rw-r--r-- 1 root root 0 Mar  3 15:56 myfiles.txt\n",
            "-rw-r--r-- 1 root root 0 Mar  3 15:56 spider.txt\n"
          ],
          "name": "stdout"
        },
        {
          "output_type": "execute_result",
          "data": {
            "text/plain": [
              ""
            ]
          },
          "metadata": {
            "tags": []
          },
          "execution_count": 215
        }
      ]
    },
    {
      "cell_type": "markdown",
      "metadata": {
        "id": "AOCn7R-AE25a"
      },
      "source": [
        "-rw-r--r-- 1 root root 0 Feb 25 02:44 myfiles.txt\n",
        "\n",
        "\n",
        "*   -rw-r--r-- : permissio\n",
        "*   1 : number of i-nodes that point to the file\n",
        "* root root : the owner and the group to which file belongs\n",
        "* 0 : file size\n",
        "* Feb 25 02:44 : date last modification\n",
        "* myfiles.txt : name file\n",
        "\n"
      ]
    },
    {
      "cell_type": "markdown",
      "metadata": {
        "id": "XQG1Um8NGWVN"
      },
      "source": [
        "show hidden files"
      ]
    },
    {
      "cell_type": "code",
      "metadata": {
        "colab": {
          "base_uri": "https://localhost:8080/"
        },
        "id": "or7RpihAGALz",
        "outputId": "95b57af8-f65b-4886-8aeb-9d509375d373"
      },
      "source": [
        "%%shell\n",
        "cd mynewdir\n",
        "ls -la\n",
        "cd .."
      ],
      "execution_count": null,
      "outputs": [
        {
          "output_type": "stream",
          "text": [
            "total 8\n",
            "drwxr-xr-x 2 root root 4096 Mar  3 15:56 .\n",
            "drwxr-xr-x 1 root root 4096 Mar  3 15:56 ..\n",
            "-rw-r--r-- 1 root root    0 Mar  3 15:56 myfiles.txt\n",
            "-rw-r--r-- 1 root root    0 Mar  3 15:56 spider.txt\n"
          ],
          "name": "stdout"
        },
        {
          "output_type": "execute_result",
          "data": {
            "text/plain": [
              ""
            ]
          },
          "metadata": {
            "tags": []
          },
          "execution_count": 216
        }
      ]
    },
    {
      "cell_type": "code",
      "metadata": {
        "colab": {
          "base_uri": "https://localhost:8080/"
        },
        "id": "7kbVqa6wGvKN",
        "outputId": "028407f7-9d61-41c6-8145-87b2f60d1a4c"
      },
      "source": [
        "%%shell\n",
        "cd mynewdir\n",
        "mv myfiles.txt emptyfile.txt\n",
        "cp spider.txt yetanotherfile.txt\n",
        "ls -l\n",
        "cd .."
      ],
      "execution_count": null,
      "outputs": [
        {
          "output_type": "stream",
          "text": [
            "total 0\n",
            "-rw-r--r-- 1 root root 0 Mar  3 15:56 emptyfile.txt\n",
            "-rw-r--r-- 1 root root 0 Mar  3 15:56 spider.txt\n",
            "-rw-r--r-- 1 root root 0 Mar  3 15:56 yetanotherfile.txt\n"
          ],
          "name": "stdout"
        },
        {
          "output_type": "execute_result",
          "data": {
            "text/plain": [
              ""
            ]
          },
          "metadata": {
            "tags": []
          },
          "execution_count": 217
        }
      ]
    },
    {
      "cell_type": "code",
      "metadata": {
        "colab": {
          "base_uri": "https://localhost:8080/"
        },
        "id": "qRK-E6AbKTXl",
        "outputId": "c22df5aa-2888-41e9-f3d4-3bd254cf21cc"
      },
      "source": [
        "%%shell\n",
        "cd mynewdir\n",
        "rm *\n",
        "ls -l\n",
        "cd .."
      ],
      "execution_count": null,
      "outputs": [
        {
          "output_type": "stream",
          "text": [
            "total 0\n"
          ],
          "name": "stdout"
        },
        {
          "output_type": "execute_result",
          "data": {
            "text/plain": [
              ""
            ]
          },
          "metadata": {
            "tags": []
          },
          "execution_count": 218
        }
      ]
    },
    {
      "cell_type": "code",
      "metadata": {
        "colab": {
          "base_uri": "https://localhost:8080/"
        },
        "id": "SGUX5LMyKdgB",
        "outputId": "cb84d154-a7dd-4957-dabb-2528069396dc"
      },
      "source": [
        "%%shell\n",
        "rmdir mynewdir/\n",
        "ls"
      ],
      "execution_count": null,
      "outputs": [
        {
          "output_type": "stream",
          "text": [
            "areas02.py\t    health_checks.py   re.txt\n",
            "by_department.csv   hello.py\t       sample_data\n",
            "create_file.py\t    hello_world.py     simple_shell_script.sh\n",
            "data.csv\t    hosts.csv\t       software.csv\n",
            "drive\t\t    network.py\t       streams.py\n",
            "employee_report.py  newfile.txt        test_report.txt\n",
            "errors_found.log    parameters.py      updated_user_emails.csv\n",
            "example\t\t    program.py\t       user_emails.csv\n",
            "find_error.py\t    __pycache__        validate_user_test.py\n",
            "fishy.log\t    PythonPrograms     validations02.py\n",
            "flowers.csv\t    rearrange.py       validations.py\n",
            "guests.txt\t    rearrange_test.py\n"
          ],
          "name": "stdout"
        },
        {
          "output_type": "execute_result",
          "data": {
            "text/plain": [
              ""
            ]
          },
          "metadata": {
            "tags": []
          },
          "execution_count": 219
        }
      ]
    },
    {
      "cell_type": "markdown",
      "metadata": {
        "id": "Vi13S1onP5ek"
      },
      "source": [
        "### **Redirecting Streams**\n",
        "\n",
        "In an earlier video, we talked about the standard I/O streams. By default, the input is provided by the keyboard at the text terminal and the output and error are shown on the screen. This is the case not only for our Python scripts, but for all system commands.\n",
        "\n",
        "We can change this default using the process called redirection. Redirection is a process of sending a stream to a different destination."
      ]
    },
    {
      "cell_type": "code",
      "metadata": {
        "colab": {
          "base_uri": "https://localhost:8080/"
        },
        "id": "S9D-1rJsQRxf",
        "outputId": "26dd169d-757a-4aae-c057-93ba359396fa"
      },
      "source": [
        "%%writefile stdout_example.py\n",
        "#!/usr/bin/env python3\n",
        "\n",
        "print(\"Don't mind me, just a bit of text here..\")"
      ],
      "execution_count": null,
      "outputs": [
        {
          "output_type": "stream",
          "text": [
            "Writing stdout_example.py\n"
          ],
          "name": "stdout"
        }
      ]
    },
    {
      "cell_type": "code",
      "metadata": {
        "id": "b4S_OS6sQtWH"
      },
      "source": [
        "!chmod +x stdout_example.py"
      ],
      "execution_count": null,
      "outputs": []
    },
    {
      "cell_type": "code",
      "metadata": {
        "colab": {
          "base_uri": "https://localhost:8080/"
        },
        "id": "jrNxCqr0QlyU",
        "outputId": "e959f334-b9de-4d7e-88bf-ad76882db2d7"
      },
      "source": [
        "!./stdout_example.py"
      ],
      "execution_count": null,
      "outputs": [
        {
          "output_type": "stream",
          "text": [
            "Don't mind me, just a bit of text here..\n"
          ],
          "name": "stdout"
        }
      ]
    },
    {
      "cell_type": "markdown",
      "metadata": {
        "id": "5eSkX10zRLHD"
      },
      "source": [
        "But now if we use a greater than character (>) to redirect the output instead something else happens entirely\n",
        "\n",
        "When you run it this way the STD out from stdout_example.py script is redirected to a file called new_file.txt. If that file doesn't exist, it's created. \n",
        "\n",
        "each time we perform of redirection of STD out, the destination is overwritten."
      ]
    },
    {
      "cell_type": "code",
      "metadata": {
        "id": "EJyX6HVuRL-p"
      },
      "source": [
        "!./stdout_example.py > new_file.txt"
      ],
      "execution_count": null,
      "outputs": []
    },
    {
      "cell_type": "code",
      "metadata": {
        "colab": {
          "base_uri": "https://localhost:8080/"
        },
        "id": "i5KwVXRiRTiV",
        "outputId": "1b2caf03-b7f9-49f7-9934-4fa2f3e43fad"
      },
      "source": [
        "!cat new_file.txt"
      ],
      "execution_count": null,
      "outputs": [
        {
          "output_type": "stream",
          "text": [
            "Don't mind me, just a bit of text here..\n"
          ],
          "name": "stdout"
        }
      ]
    },
    {
      "cell_type": "markdown",
      "metadata": {
        "id": "rYU9jGxmRmH8"
      },
      "source": [
        "If we want to append the redirected standard out to a file we can use the double greater (>>) than sign instead of single greater than. "
      ]
    },
    {
      "cell_type": "code",
      "metadata": {
        "id": "_5x9WNY2RpBo"
      },
      "source": [
        "!./stdout_example.py >> new_file.txt"
      ],
      "execution_count": null,
      "outputs": []
    },
    {
      "cell_type": "code",
      "metadata": {
        "colab": {
          "base_uri": "https://localhost:8080/"
        },
        "id": "xa2IwDg7RstB",
        "outputId": "28e80bbc-ab19-4ea8-f9f6-b57595fc3ce8"
      },
      "source": [
        "!cat new_file.txt"
      ],
      "execution_count": null,
      "outputs": [
        {
          "output_type": "stream",
          "text": [
            "Don't mind me, just a bit of text here..\n",
            "Don't mind me, just a bit of text here..\n"
          ],
          "name": "stdout"
        }
      ]
    },
    {
      "cell_type": "markdown",
      "metadata": {
        "id": "kzGm5-6vRx3_"
      },
      "source": [
        "In a similar way we can also redirect standard input. Instead of using the keyboard to send data into a program, we can use the less than symbol (<) to read the contents of a file."
      ]
    },
    {
      "cell_type": "code",
      "metadata": {
        "colab": {
          "base_uri": "https://localhost:8080/"
        },
        "id": "jOfZKyfGR7mo",
        "outputId": "2d4abacf-6edd-44f6-a930-1f73372c8436"
      },
      "source": [
        "%%writefile streams_err.py\n",
        "#!/usr/bin/env python3\n",
        "\n",
        "data = input(\"This will come from STDIN: \")\n",
        "print(\"Now we write it to STDOUT: \" + data)\n",
        "raise ValueError(\"Now we generate an error to STDERR\")"
      ],
      "execution_count": null,
      "outputs": [
        {
          "output_type": "stream",
          "text": [
            "Writing streams_err.py\n"
          ],
          "name": "stdout"
        }
      ]
    },
    {
      "cell_type": "code",
      "metadata": {
        "id": "5uF0hvVmSg3n"
      },
      "source": [
        "!chmod +x streams_err.py"
      ],
      "execution_count": null,
      "outputs": []
    },
    {
      "cell_type": "code",
      "metadata": {
        "colab": {
          "base_uri": "https://localhost:8080/"
        },
        "id": "xHvNwJv7R4Kh",
        "outputId": "e174e406-51a5-4b0e-c9c4-a94ed9c6edd0"
      },
      "source": [
        "!./streams_err.py < new_file.txt"
      ],
      "execution_count": null,
      "outputs": [
        {
          "output_type": "stream",
          "text": [
            "This will come from STDIN: Now we write it to STDOUT: Don't mind me, just a bit of text here..\n",
            "Traceback (most recent call last):\n",
            "  File \"./streams_err.py\", line 5, in <module>\n",
            "    raise ValueError(\"Now we generate an error to STDERR\")\n",
            "ValueError: Now we generate an error to STDERR\n"
          ],
          "name": "stdout"
        }
      ]
    },
    {
      "cell_type": "markdown",
      "metadata": {
        "id": "Py6AT_3PTF2h"
      },
      "source": [
        "It can also be useful to redirect STD_err or to capture errors and diagnostic messages from a program.\n",
        "\n",
        "This can be done by using the character combination 2> than similar to how we redirected STD out before. "
      ]
    },
    {
      "cell_type": "code",
      "metadata": {
        "colab": {
          "base_uri": "https://localhost:8080/"
        },
        "id": "xlwD26KYS1jF",
        "outputId": "b76dc3d7-d377-4bfd-b3a8-7a6dccd97ef2"
      },
      "source": [
        "!./streams_err.py < new_file.txt 2> error_file.txt"
      ],
      "execution_count": null,
      "outputs": [
        {
          "output_type": "stream",
          "text": [
            "This will come from STDIN: Now we write it to STDOUT: Don't mind me, just a bit of text here..\n"
          ],
          "name": "stdout"
        }
      ]
    },
    {
      "cell_type": "code",
      "metadata": {
        "colab": {
          "base_uri": "https://localhost:8080/"
        },
        "id": "Q2VUq-3gTArD",
        "outputId": "d677fd5a-8c98-4b32-d41a-b0008d0d5b2f"
      },
      "source": [
        "cat error_file.txt"
      ],
      "execution_count": null,
      "outputs": [
        {
          "output_type": "stream",
          "text": [
            "Traceback (most recent call last):\n",
            "  File \"./streams_err.py\", line 5, in <module>\n",
            "    raise ValueError(\"Now we generate an error to STDERR\")\n",
            "ValueError: Now we generate an error to STDERR\n"
          ],
          "name": "stdout"
        }
      ]
    },
    {
      "cell_type": "markdown",
      "metadata": {
        "id": "_IAnBsMRTfIi"
      },
      "source": [
        "more examples"
      ]
    },
    {
      "cell_type": "code",
      "metadata": {
        "id": "bPAVhUCrTebS"
      },
      "source": [
        "!echo \"These are the context of the file\" > myamazingfile.txt"
      ],
      "execution_count": null,
      "outputs": []
    },
    {
      "cell_type": "code",
      "metadata": {
        "colab": {
          "base_uri": "https://localhost:8080/"
        },
        "id": "HTJHkA2FTmXo",
        "outputId": "74127577-9874-4b52-c72f-e26d8de5b942"
      },
      "source": [
        "!cat myamazingfile.txt"
      ],
      "execution_count": null,
      "outputs": [
        {
          "output_type": "stream",
          "text": [
            "These are the context of the file\n"
          ],
          "name": "stdout"
        }
      ]
    },
    {
      "cell_type": "markdown",
      "metadata": {
        "id": "Uc7ini_JT089"
      },
      "source": [
        "### **Pipes and Pipelines**\n",
        "\n",
        "Another powerful way to perform IO stream redirection called Piping. Using pipes, you can connect multiple scripts, commands, or other programs together into a data processing pipeline.\n",
        "\n",
        "Pipes connect the output of one program to the input of another. This means we can pass data between programs, taking the output of one and making it the input of the next.\n",
        "\n",
        "Pipes are represented by the pipe character. (|)"
      ]
    },
    {
      "cell_type": "markdown",
      "metadata": {
        "id": "85yBSxBD8Mem"
      },
      "source": [
        "* **Pipes** connect the output of one program to the input of another in order to pass data between programs. Pipes are represented by the pipe character (|).\n",
        "\n",
        "* Pipes will create new commands by combining the functionality of one command, with the functionality of another, without having to store the contents in intermediate file.\n"
      ]
    },
    {
      "cell_type": "code",
      "metadata": {
        "colab": {
          "base_uri": "https://localhost:8080/"
        },
        "id": "fxLhnso7XnqI",
        "outputId": "e4f648ea-d16e-42bf-8556-58d5c7efcfdd"
      },
      "source": [
        "# type 'q enter' to stop\n",
        "!ls -l | less"
      ],
      "execution_count": null,
      "outputs": [
        {
          "output_type": "stream",
          "text": [
            "\u001b7\u001b[?47h\u001b[?1h\u001b=\rtotal 220\r\n",
            "-rw-r--r-- 1 root root  173 Mar  3 15:52 areas02.py\r\n",
            "-rw-r--r-- 1 root root  136 Mar  3 15:52 by_department.csv\r\n",
            "-rwxr-xr-x 1 root root   93 Mar  3 16:07 capitalize.py\r\n",
            "-rwxr-xr-x 1 root root  217 Mar  3 16:07 changeJane.py\r\n",
            "-rwxr-xr-x 1 root root  120 Mar  3 16:07 check_host.sh\r\n",
            "-rwxr-xr-x 1 root root  244 Mar  3 15:55 create_file.py\r\n",
            "-rw-r--r-- 1 root root   74 Mar  3 15:52 data.csv\r\n",
            "drwx------ 5 root root 4096 Mar  3 15:52 drive\r\n",
            "-rw-r--r-- 1 root root 3212 Mar  3 16:14 e()\r\n",
            "-rwxr-xr-x 1 root root 1105 Mar  3 15:52 employee_report.py\r\n",
            "-rw-r--r-- 1 root root  188 Mar  3 15:56 error_file.txt\r\n",
            "-rw-r--r-- 1 root root   95 Mar  3 15:56 errors_found.log\r\n",
            "-rw-r--r-- 1 root root    9 Mar  3 15:55 example\r\n",
            "-rwxr-xr-x 1 root root  821 Mar  3 15:55 find_error.py\r\n",
            "-rwxr-xr-x 1 root root  148 Mar  3 16:07 findJane.sh\r\n",
            "-rw-r--r-- 1 root root 1440 Mar  3 15:55 fishy.log\r\n",
            "-rw-r--r-- 1 root root  133 Mar  3 15:52 flowers.csv\r\n",
            "-rwxr-xr-x 1 root root   79 Mar  3 16:09 fruits.sh\r\n",
            "-rwxr--r-- 1 root root  204 Mar  3 16:07 gather-information.sh\r\n",
            "-rw-r--r-- 1 root root   29 Mar  3 15:52 guests.txt\r\n",
            "-rw-r--r-- 1 root root   66 Mar  3 16:07 haiku.txt\r\n",
            "-rwxr-xr-x 1 root root  593 Mar  3 15:52 health_checks.py\n",
            "\u001b[K\u001b[?1l\u001b>\u001b[2J\u001b[?47l\u001b8"
          ],
          "name": "stdout"
        }
      ]
    },
    {
      "cell_type": "code",
      "metadata": {
        "colab": {
          "base_uri": "https://localhost:8080/"
        },
        "id": "xUFVBjE0YMMT",
        "outputId": "aa3b9767-6864-4502-a415-b70171ce0e05"
      },
      "source": [
        "%%writefile spider.txt\n",
        "The itsy bitsy spider climbed up the waterspout.\n",
        "Down came the rain\n",
        "and washed the spider out."
      ],
      "execution_count": null,
      "outputs": [
        {
          "output_type": "stream",
          "text": [
            "Writing spider.txt\n"
          ],
          "name": "stdout"
        }
      ]
    },
    {
      "cell_type": "code",
      "metadata": {
        "colab": {
          "base_uri": "https://localhost:8080/"
        },
        "id": "epKlDbqbX7-e",
        "outputId": "5b41211a-a246-4ee7-8c08-4abe11784fce"
      },
      "source": [
        "!cat spider.txt | tr ' ' '\\n' | sort | uniq -c | sort -nr | head"
      ],
      "execution_count": null,
      "outputs": [
        {
          "output_type": "stream",
          "text": [
            "      3 the\n",
            "      2 spider\n",
            "      1 waterspout.\n",
            "      1 washed\n",
            "      1 up\n",
            "      1 The\n",
            "      1 rain\n",
            "      1 out.\n",
            "      1 itsy\n",
            "      1 Down\n"
          ],
          "name": "stdout"
        }
      ]
    },
    {
      "cell_type": "markdown",
      "metadata": {
        "id": "H-Wo7klQaBrF"
      },
      "source": [
        "You can use your Python scripts and pipelines too. Python can read from standard input using the stdin file object provided by the sys module. This is a file object like the one we obtained using the open function, and like your local library, this file object is already open for reading. "
      ]
    },
    {
      "cell_type": "code",
      "metadata": {
        "colab": {
          "base_uri": "https://localhost:8080/"
        },
        "id": "AJrCG41RZvVc",
        "outputId": "f1bb5780-07c3-473a-c8dd-df1bcc84515f"
      },
      "source": [
        "%%writefile capitalize.py\n",
        "#!/usr/bin/env python3\n",
        "\n",
        "import sys\n",
        "\n",
        "for line in sys.stdin:\n",
        "  print(line.strip().capitalize())"
      ],
      "execution_count": null,
      "outputs": [
        {
          "output_type": "stream",
          "text": [
            "Writing capitalize.py\n"
          ],
          "name": "stdout"
        }
      ]
    },
    {
      "cell_type": "code",
      "metadata": {
        "colab": {
          "base_uri": "https://localhost:8080/"
        },
        "id": "EpElNNgtaMCL",
        "outputId": "11c2f5fc-07ce-4e84-f80f-fa1f3440d4d8"
      },
      "source": [
        "%%writefile haiku.txt\n",
        "advance your career,\n",
        "automating with Python,\n",
        "it's so fun to learn."
      ],
      "execution_count": null,
      "outputs": [
        {
          "output_type": "stream",
          "text": [
            "Writing haiku.txt\n"
          ],
          "name": "stdout"
        }
      ]
    },
    {
      "cell_type": "markdown",
      "metadata": {
        "id": "DbZ74O_ebq77"
      },
      "source": [
        "use for standard input on script"
      ]
    },
    {
      "cell_type": "code",
      "metadata": {
        "id": "0fIflfwUaxr9"
      },
      "source": [
        "!chmod +x capitalize.py"
      ],
      "execution_count": null,
      "outputs": []
    },
    {
      "cell_type": "code",
      "metadata": {
        "colab": {
          "base_uri": "https://localhost:8080/"
        },
        "id": "vIdeXrcEag2C",
        "outputId": "1f576f83-c49a-47ca-9620-33fa1a53669a"
      },
      "source": [
        "!cat haiku.txt | ./capitalize.py"
      ],
      "execution_count": null,
      "outputs": [
        {
          "output_type": "stream",
          "text": [
            "Advance your career,\n",
            "Automating with python,\n",
            "It's so fun to learn.\n"
          ],
          "name": "stdout"
        }
      ]
    },
    {
      "cell_type": "code",
      "metadata": {
        "colab": {
          "base_uri": "https://localhost:8080/"
        },
        "id": "tAEvSaFzbo2I",
        "outputId": "6bb3dfdc-7afe-42ae-a408-72caa5a0bb45"
      },
      "source": [
        "!./capitalize.py < haiku.txt"
      ],
      "execution_count": null,
      "outputs": [
        {
          "output_type": "stream",
          "text": [
            "Advance your career,\n",
            "Automating with python,\n",
            "It's so fun to learn.\n"
          ],
          "name": "stdout"
        }
      ]
    },
    {
      "cell_type": "markdown",
      "metadata": {
        "id": "r04wikWDdAvX"
      },
      "source": [
        "### **Signalling Processes**\n",
        "\n",
        "When dealing with the operating system, we usually have a bunch of different processes that we use to accomplish what we want. And like any well oiled machine, we generally need these processes to communicate with each other. For example, we might have a program that starts a background process and wants it to terminate after a timeout. One way of communicating this is through the pipelines we learned about in the last video. Another way of communicating is through the use of signals. \n",
        "\n",
        "Signals are tokens delivered to running processes to indicate a desired action."
      ]
    },
    {
      "cell_type": "markdown",
      "metadata": {
        "id": "r3H1YSG1dith"
      },
      "source": [
        "There are a bunch of different ways that we can send these signals. For example, let's execute the ping command in our terminal.\n",
        "\n",
        "The ping command is now running, sending ICMP packets to machine over the network once per second. And it will keep running forever unless we interrupt it. To do that, we can use the Ctrl-C combination."
      ]
    },
    {
      "cell_type": "markdown",
      "metadata": {
        "id": "uprTHbZ0-BER"
      },
      "source": [
        "* Another way of communication between process in Linux is through the use of signals. Signals are tokens delivered to running process to indicate a desired action.\n",
        "* Eg: interrupting ping command with **Ctrl-C** will send the **SIGINT**. Or send **SIGSTOP** to a running command with **Ctrl-Z**, continue it later with command **fg** (foreground).\n",
        "* To send other signals use command **kill**, by default send **SIGTERM** to terminate process. Command kill needs the process id (PID) of the running command, use command **ps**, or with arguments: **ps ax**.\n"
      ]
    },
    {
      "cell_type": "code",
      "metadata": {
        "id": "X-qSraf_dsnh"
      },
      "source": [
        "# ping www.example.com\n",
        "\n",
        "# OUTPUT :\n",
        "\n",
        "# PING www.example.com (93.184.216.34) 56(84) bytes of data.\n",
        "# 64 bytes from 93.184.216.34: icmp_seq=1 ttl=54 time=359 ms\n",
        "# 64 bytes from 93.184.216.34: icmp_seq=2 ttl=54 time=312 ms\n",
        "# 64 bytes from 93.184.216.34: icmp_seq=3 ttl=54 time=253 ms\n",
        "# 64 bytes from 93.184.216.34: icmp_seq=4 ttl=54 time=254 ms\n",
        "# ^C\n",
        "# --- www.example.com ping statistics ---\n",
        "# 22 packets transmitted, 21 received, 4.54545% packet loss, time 30384ms\n",
        "# rtt min/avg/max/mdev = 221.611/281.980/510.415/71.464 ms"
      ],
      "execution_count": null,
      "outputs": []
    },
    {
      "cell_type": "markdown",
      "metadata": {
        "id": "w9AwL0aqdAox"
      },
      "source": [
        "The signal that control see sense is called SIGINT.\n",
        "\n",
        "Another keyboard combination that we can use to send a signal is Ctrl-Z."
      ]
    },
    {
      "cell_type": "markdown",
      "metadata": {
        "id": "eajjWcMNfRZz"
      },
      "source": [
        "SIGSTOP --> This signal causes the program to stop running without actually terminating."
      ]
    },
    {
      "cell_type": "code",
      "metadata": {
        "id": "a9yFNmn_fAiY"
      },
      "source": [
        "# ping www.example.com\n",
        "# PING www.example.com (93.184.216.34) 56(84) bytes of data.\n",
        "# 64 bytes from 93.184.216.34: icmp_seq=1 ttl=54 time=289 ms\n",
        "# 64 bytes from 93.184.216.34: icmp_seq=2 ttl=54 time=484 ms\n",
        "# 64 bytes from 93.184.216.34: icmp_seq=3 ttl=54 time=239 ms\n",
        "# ^Z\n",
        "# [1]+  Stopped                 ping www.example.com"
      ],
      "execution_count": null,
      "outputs": []
    },
    {
      "cell_type": "markdown",
      "metadata": {
        "id": "4NrkoEScf00D"
      },
      "source": [
        "The fg command makes our program run once more and will keep going until we interrupt it either with Ctrl-C, Ctrl-Z, or some other signal. Let's stop it now with Ctrl-C."
      ]
    },
    {
      "cell_type": "code",
      "metadata": {
        "id": "1CyVs1Hgfw4a"
      },
      "source": [
        "# fg\n",
        "# ping www.example.com\n",
        "# 64 bytes from 93.184.216.34: icmp_seq=17 ttl=54 time=247 ms\n",
        "# 64 bytes from 93.184.216.34: icmp_seq=18 ttl=54 time=236 ms\n",
        "# 64 bytes from 93.184.216.34: ic\n",
        "# --- www.example.com ping statistics ---\n",
        "# 37 packets transmitted, 37 received, 0% packet loss, time 139220ms\n",
        "# rtt min/avg/max/mdev = 226.263/245.949/483.701/40.949 ms"
      ],
      "execution_count": null,
      "outputs": []
    },
    {
      "cell_type": "markdown",
      "metadata": {
        "id": "AbE3Tub4f8AG"
      },
      "source": [
        "By pressing Ctrl-C this time, we've made the program finish cleanly. To send other signals, we can use the command called Kill, yikes. By default, Kill will send a signal called SIGTERM that tells the program to terminate.\n",
        "\n",
        "Since Kill is a separate program, we need to run it on a separate terminal. And we also need to know the process identifier or PID of the process that we want to send the signal to. To find out the PID that we want to send the signal to, we'll use the ps command which list the currently running processes.\n",
        "\n",
        "Depending on what options that we pass, it'll show different subsets of processes with different amounts of detail. For this example, we'll call ps ax, which lists all the running processes in the current computer. "
      ]
    },
    {
      "cell_type": "code",
      "metadata": {
        "id": "7IL1Tf1TgHSe"
      },
      "source": [
        "# ------------ terminal 01 ------------ \n",
        "\n",
        "# ping www.examples.com\n",
        "# PING blueberry.map.fastly.net (151.101.10.133) 56(84) bytes of data.\n",
        "# 64 bytes from 151.101.10.133: icmp_seq=1 ttl=53 time=135 ms\n",
        "# 64 bytes from 151.101.10.133: icmp_seq=2 ttl=53 time=74.4 ms\n",
        "# 64 bytes from 151.101.10.133: icmp_seq=3 ttl=53 time=79.1 ms\n",
        "# 64 bytes from 151.101.10.133: icmp_seq=4 ttl=53 time=68.4 ms\n",
        "# .....\n",
        "\n",
        "# ------------ terminal 02 ------------ \n",
        "\n",
        "# ps ax | grep ping\n",
        "#    90 tty1     S      0:00 ping www.examples.com\n",
        "#    92 tty2     S      0:00 grep --color=auto ping\n",
        "\n",
        "# ------------ terminal 02 ------------ \n",
        "# kill 90\n",
        "\n",
        "# ------------ terminal 01 ------------ \n",
        "\n",
        "# ping www.examples.com\n",
        "# PING blueberry.map.fastly.net (151.101.10.133) 56(84) bytes of data.\n",
        "# 64 bytes from 151.101.10.133: icmp_seq=1 ttl=53 time=135 ms\n",
        "# 64 bytes from 151.101.10.133: icmp_seq=2 ttl=53 time=74.4 ms\n",
        "# 64 bytes from 151.101.10.133: icmp_seq=3 ttl=53 time=79.1 ms\n",
        "# 64 bytes from 151.101.10.133: icmp_seq=4 ttl=53 time=68.4 ms\n",
        "# Terminated"
      ],
      "execution_count": null,
      "outputs": []
    },
    {
      "cell_type": "markdown",
      "metadata": {
        "id": "VB2HZIjooreU"
      },
      "source": [
        "## **Bash Scripting**\n",
        "\n",
        "Check out the following links for more information:\n",
        "\n",
        "https://ryanstutorials.net/bash-scripting-tutorial/\n",
        "\n",
        "https://linuxconfig.org/bash-scripting-tutorial-for-beginners\n",
        "\n",
        "https://www.shellscript.sh"
      ]
    },
    {
      "cell_type": "markdown",
      "metadata": {
        "id": "IuVaZ5MU-REE"
      },
      "source": [
        "### **Creating Bash Scripts**\n",
        "\n",
        "* Bash is not only the interpreter that runs commands, it’s also a scripting language. Use bash to write simple scripts to use a lot of commands.\n",
        "* Write the script by one command per line or multiple commands on the same line using semicolons to separate them.\n"
      ]
    },
    {
      "cell_type": "code",
      "metadata": {
        "colab": {
          "base_uri": "https://localhost:8080/"
        },
        "id": "6gIOEVvY35mv",
        "outputId": "57f65643-489c-418b-cbd5-17d793c38206"
      },
      "source": [
        "%%writefile gather-information.sh\n",
        "\n",
        "echo \"Starting at: $(date)\"\n",
        "echo\n",
        "\n",
        "echo \"UPTIME\"\n",
        "uptime\n",
        "echo\n",
        "\n",
        "echo \"FREE\"\n",
        "free\n",
        "echo\n",
        "\n",
        "echo \"WHO\"\n",
        "who\n",
        "echo\n",
        "\n",
        "echo \"Finishing at: $(date)\""
      ],
      "execution_count": null,
      "outputs": [
        {
          "output_type": "stream",
          "text": [
            "Writing gather-information.sh\n"
          ],
          "name": "stdout"
        }
      ]
    },
    {
      "cell_type": "code",
      "metadata": {
        "colab": {
          "base_uri": "https://localhost:8080/"
        },
        "id": "dqE37m164jZh",
        "outputId": "e53693ae-aa2b-47d3-f2b1-f34f1930f7a5"
      },
      "source": [
        "%%shell\n",
        "chmod u+x gather-information.sh\n",
        "./gather-information.sh"
      ],
      "execution_count": null,
      "outputs": [
        {
          "output_type": "stream",
          "text": [
            "Starting at: Wed Mar  3 16:07:09 UTC 2021\n",
            "\n",
            "UPTIME\n",
            " 16:07:09 up  2:53,  0 users,  load average: 0.10, 0.08, 0.02\n",
            "\n",
            "FREE\n",
            "              total        used        free      shared  buff/cache   available\n",
            "Mem:       13333596      577072    10667268         992     2089256    12489284\n",
            "Swap:             0           0           0\n",
            "\n",
            "WHO\n",
            "\n",
            "Finishing at: Wed Mar  3 16:07:10 UTC 2021\n"
          ],
          "name": "stdout"
        },
        {
          "output_type": "execute_result",
          "data": {
            "text/plain": [
              ""
            ]
          },
          "metadata": {
            "tags": []
          },
          "execution_count": 13
        }
      ]
    },
    {
      "cell_type": "code",
      "metadata": {
        "colab": {
          "base_uri": "https://localhost:8080/"
        },
        "id": "nIgIRvtR4-TN",
        "outputId": "41370cf2-9bed-47be-85c7-c30df092bd9a"
      },
      "source": [
        "%%writefile gather-information.sh\n",
        "\n",
        "echo \"Starting at: $(date)\"; echo\n",
        "\n",
        "echo \"UPTIME\"; uptime; echo\n",
        "\n",
        "echo \"FREE\"; free; echo\n",
        "\n",
        "echo \"WHO\"; who; echo\n",
        "\n",
        "echo \"Finishing at: $(date)\""
      ],
      "execution_count": null,
      "outputs": [
        {
          "output_type": "stream",
          "text": [
            "Overwriting gather-information.sh\n"
          ],
          "name": "stdout"
        }
      ]
    },
    {
      "cell_type": "code",
      "metadata": {
        "id": "rlpJEYdv8BZt",
        "colab": {
          "base_uri": "https://localhost:8080/"
        },
        "outputId": "301f0690-130a-4be4-99a2-ad62d0d650ac"
      },
      "source": [
        "%%writefile info.sh\n",
        "#!/bin/bash\n",
        "dt=$(date)\n",
        "echo \"Starting at ${dt}\"\n",
        "echo \"UPTIME\"\n",
        "uptime\n",
        "echo\n",
        "echo \"WHO\"; who; echo"
      ],
      "execution_count": null,
      "outputs": [
        {
          "output_type": "stream",
          "text": [
            "Writing info.sh\n"
          ],
          "name": "stdout"
        }
      ]
    },
    {
      "cell_type": "code",
      "metadata": {
        "id": "O676gJnO-aw1",
        "colab": {
          "base_uri": "https://localhost:8080/"
        },
        "outputId": "ef3b6bad-9f13-4e23-a18c-a2e6bd066e53"
      },
      "source": [
        "%%shell\n",
        "chmod u+x info.sh\n",
        "./info.sh"
      ],
      "execution_count": null,
      "outputs": [
        {
          "output_type": "stream",
          "text": [
            "Starting at Wed Mar  3 16:07:10 UTC 2021\n",
            "UPTIME\n",
            " 16:07:10 up  2:53,  0 users,  load average: 0.10, 0.08, 0.02\n",
            "\n",
            "WHO\n",
            "\n"
          ],
          "name": "stdout"
        },
        {
          "output_type": "execute_result",
          "data": {
            "text/plain": [
              ""
            ]
          },
          "metadata": {
            "tags": []
          },
          "execution_count": 16
        }
      ]
    },
    {
      "cell_type": "markdown",
      "metadata": {
        "id": "7wCVG_iX_Ick"
      },
      "source": [
        "### **Using Variables and Globs**\n",
        "\n",
        "* To access the value of a variable in bash, prefix the variable name with the dollar sign ($). Like previously used to access environment variables.\n",
        "* To define a variable use equal sign (=) with no spaces between the variable name, equal sign and the value.\n",
        "* Use **export** command to export variable between environment, or else it only available as local variable"
      ]
    },
    {
      "cell_type": "code",
      "metadata": {
        "colab": {
          "base_uri": "https://localhost:8080/"
        },
        "id": "BLaI_FrM6ZvL",
        "outputId": "11b3c87f-3cd3-407d-be0d-42877b27ca55"
      },
      "source": [
        "%%shell\n",
        "example=hello\n",
        "echo $example"
      ],
      "execution_count": null,
      "outputs": [
        {
          "output_type": "stream",
          "text": [
            "hello\n"
          ],
          "name": "stdout"
        },
        {
          "output_type": "execute_result",
          "data": {
            "text/plain": [
              ""
            ]
          },
          "metadata": {
            "tags": []
          },
          "execution_count": 17
        }
      ]
    },
    {
      "cell_type": "markdown",
      "metadata": {
        "id": "xvsQbhm-6yXN"
      },
      "source": [
        "There is no space between"
      ]
    },
    {
      "cell_type": "code",
      "metadata": {
        "colab": {
          "base_uri": "https://localhost:8080/"
        },
        "id": "7HNpJ2hQ6pSG",
        "outputId": "cc9343a2-a545-485c-e4c4-7fac7b457569"
      },
      "source": [
        "%%shell\n",
        "example = hello #EROR\n",
        "echo $example"
      ],
      "execution_count": null,
      "outputs": [
        {
          "output_type": "stream",
          "text": [
            "/bin/bash: example: command not found\n",
            "\n"
          ],
          "name": "stdout"
        },
        {
          "output_type": "execute_result",
          "data": {
            "text/plain": [
              ""
            ]
          },
          "metadata": {
            "tags": []
          },
          "execution_count": 18
        }
      ]
    },
    {
      "cell_type": "code",
      "metadata": {
        "id": "jt1fPMXf-fxt",
        "colab": {
          "base_uri": "https://localhost:8080/"
        },
        "outputId": "ef652036-e090-4201-b1b4-1cb8e7ae0f9a"
      },
      "source": [
        "%%writefile gather-information.sh\n",
        "#!/bin/bash\n",
        "line=\"--------------------\"\n",
        "echo \"Starting at: $(date)\"; echo $line\n",
        "\n",
        "echo \"UPTIME\"; uptime; echo $line\n",
        "\n",
        "echo \"FREE\"; free; echo $line\n",
        "\n",
        "echo \"WHO\"; who; echo $line\n",
        "\n",
        "echo \"Finishing at: $(date)\""
      ],
      "execution_count": null,
      "outputs": [
        {
          "output_type": "stream",
          "text": [
            "Overwriting gather-information.sh\n"
          ],
          "name": "stdout"
        }
      ]
    },
    {
      "cell_type": "code",
      "metadata": {
        "id": "1zvtpZJ9_XXG",
        "colab": {
          "base_uri": "https://localhost:8080/"
        },
        "outputId": "d043c261-58c0-49a0-8c53-105a65fd00a9"
      },
      "source": [
        "%%shell\n",
        "./gather-information.sh"
      ],
      "execution_count": null,
      "outputs": [
        {
          "output_type": "stream",
          "text": [
            "Starting at: Wed Mar  3 16:07:10 UTC 2021\n",
            "--------------------\n",
            "UPTIME\n",
            " 16:07:10 up  2:53,  0 users,  load average: 0.10, 0.08, 0.02\n",
            "--------------------\n",
            "FREE\n",
            "              total        used        free      shared  buff/cache   available\n",
            "Mem:       13333596      577120    10666920         992     2089556    12489280\n",
            "Swap:             0           0           0\n",
            "--------------------\n",
            "WHO\n",
            "--------------------\n",
            "Finishing at: Wed Mar  3 16:07:10 UTC 2021\n"
          ],
          "name": "stdout"
        },
        {
          "output_type": "execute_result",
          "data": {
            "text/plain": [
              ""
            ]
          },
          "metadata": {
            "tags": []
          },
          "execution_count": 20
        }
      ]
    },
    {
      "cell_type": "markdown",
      "metadata": {
        "id": "kQxAMdZz7hjR"
      },
      "source": [
        "Let's move on to another interesting feature available in bash called globs. **Globs** are characters that allow us to create list of files. The star * and question mark ? are the most common globs. "
      ]
    },
    {
      "cell_type": "markdown",
      "metadata": {
        "id": "O9uM2S7Z8MGL"
      },
      "source": [
        "We can see that when we write `*.py`, the shell turns it into a list containing `all the filenames to end` with py in the current directory. We can also put the star at the end of an expression to get the list of all files that start with a certain prefix."
      ]
    },
    {
      "cell_type": "code",
      "metadata": {
        "colab": {
          "base_uri": "https://localhost:8080/"
        },
        "id": "ZT9zcaZH7q7q",
        "outputId": "a6a19a74-5410-4e6a-9122-0e80750869fc"
      },
      "source": [
        "%%shell\n",
        "echo *.py"
      ],
      "execution_count": null,
      "outputs": [
        {
          "output_type": "stream",
          "text": [
            "areas02.py capitalize.py create_file.py employee_report.py find_error.py health_checks.py hello.py hello_world.py network.py parameters.py program.py rearrange.py rearrange_test.py stdout_example.py streams_err.py streams.py validate_user_test.py validations02.py validations.py\n"
          ],
          "name": "stdout"
        },
        {
          "output_type": "execute_result",
          "data": {
            "text/plain": [
              ""
            ]
          },
          "metadata": {
            "tags": []
          },
          "execution_count": 21
        }
      ]
    },
    {
      "cell_type": "markdown",
      "metadata": {
        "id": "F2lm5ZjY8b8j"
      },
      "source": [
        "`c*`"
      ]
    },
    {
      "cell_type": "code",
      "metadata": {
        "colab": {
          "base_uri": "https://localhost:8080/"
        },
        "id": "Y64ZwP7a8U5a",
        "outputId": "e84d9045-da77-46fa-8065-ee4e64fd2363"
      },
      "source": [
        "%%shell\n",
        "echo c*"
      ],
      "execution_count": null,
      "outputs": [
        {
          "output_type": "stream",
          "text": [
            "capitalize.py create_file.py\n"
          ],
          "name": "stdout"
        },
        {
          "output_type": "execute_result",
          "data": {
            "text/plain": [
              ""
            ]
          },
          "metadata": {
            "tags": []
          },
          "execution_count": 22
        }
      ]
    },
    {
      "cell_type": "markdown",
      "metadata": {
        "id": "DsIL3W3R8kIy"
      },
      "source": [
        "`*`"
      ]
    },
    {
      "cell_type": "code",
      "metadata": {
        "colab": {
          "base_uri": "https://localhost:8080/"
        },
        "id": "x9zfj5Ns8mPC",
        "outputId": "d771f012-368c-40ff-e2cc-1c5ef97fc007"
      },
      "source": [
        "%%shell\n",
        "echo *"
      ],
      "execution_count": null,
      "outputs": [
        {
          "output_type": "stream",
          "text": [
            "areas02.py by_department.csv capitalize.py create_file.py data.csv drive employee_report.py error_file.txt errors_found.log example find_error.py fishy.log flowers.csv gather-information.sh guests.txt haiku.txt health_checks.py hello.py hello_world.py hosts.csv info.sh myamazingfile.txt network.py new_file.txt newfile.txt parameters.py program.py __pycache__ PythonPrograms rearrange.py rearrange_test.py re.txt sample_data simple_shell_script.sh software.csv spider.txt stdout_example.py streams_err.py streams.py test_report.txt updated_user_emails.csv user_emails.csv validate_user_test.py validations02.py validations.py\n"
          ],
          "name": "stdout"
        },
        {
          "output_type": "execute_result",
          "data": {
            "text/plain": [
              ""
            ]
          },
          "metadata": {
            "tags": []
          },
          "execution_count": 23
        }
      ]
    },
    {
      "cell_type": "markdown",
      "metadata": {
        "id": "wa8x5UvU8TTF"
      },
      "source": [
        "`the question mark symbol` can be used to match exactly one character instead of any amount of characters, and we can repeat it as many times as we need. For example, we can get the Python files with five characters in their name by using the five question marks together."
      ]
    },
    {
      "cell_type": "markdown",
      "metadata": {
        "id": "nmc6tc4i9Xko"
      },
      "source": [
        "`???????.py`"
      ]
    },
    {
      "cell_type": "code",
      "metadata": {
        "colab": {
          "base_uri": "https://localhost:8080/"
        },
        "id": "uGAJXBZY831B",
        "outputId": "01396436-b3fa-4c39-95bc-18214a300840"
      },
      "source": [
        "%%shell\n",
        "echo ???????.py"
      ],
      "execution_count": null,
      "outputs": [
        {
          "output_type": "stream",
          "text": [
            "areas02.py network.py program.py streams.py\n"
          ],
          "name": "stdout"
        },
        {
          "output_type": "execute_result",
          "data": {
            "text/plain": [
              ""
            ]
          },
          "metadata": {
            "tags": []
          },
          "execution_count": 24
        }
      ]
    },
    {
      "cell_type": "markdown",
      "metadata": {
        "id": "BluATsal_obk"
      },
      "source": [
        "### **Conditional Execution in Bash**\n",
        "\n",
        "*  In Python, we use the if block and the condition is an expression that has to evaluate to true or false. In bash scripting, the condition used is based on the exit status of commands.\n",
        "\n",
        "* In bash scripting, an exit value of **0 means success** (true condition). Indentation is not mandatory in bash.\n",
        "\n",
        "* **test** is a command that evaluates the conditions received and exits with zero when it’s true and with one if false. Square bracket (**[]**) is an alias to test command, the syntax needs to be a space after/before (inside) the brackets"
      ]
    },
    {
      "cell_type": "code",
      "metadata": {
        "id": "PaaCOtCM_Z-Q",
        "colab": {
          "base_uri": "https://localhost:8080/"
        },
        "outputId": "ff954099-cb0f-40c1-ed60-239ea93a80b7"
      },
      "source": [
        "# Check path using bash scripting\n",
        "# Conditional execution example\n",
        "%%writefile check_host.sh\n",
        "#!/bin/bash\n",
        "if grep \"127.0.0.1\" /etc/hosts; then\n",
        "    echo \"localhost found\"\n",
        "else\n",
        "    echo \"ERROR localhost not found\"\n",
        "fi"
      ],
      "execution_count": null,
      "outputs": [
        {
          "output_type": "stream",
          "text": [
            "Writing check_host.sh\n"
          ],
          "name": "stdout"
        }
      ]
    },
    {
      "cell_type": "code",
      "metadata": {
        "colab": {
          "base_uri": "https://localhost:8080/"
        },
        "id": "V56XqMwy_Cfl",
        "outputId": "13c49714-0e2e-4e21-87cf-6cc47a780634"
      },
      "source": [
        "%%shell\n",
        "chmod +x check_host.sh\n",
        "./check_host.sh"
      ],
      "execution_count": null,
      "outputs": [
        {
          "output_type": "stream",
          "text": [
            "127.0.0.1\tlocalhost\n",
            "localhost found\n"
          ],
          "name": "stdout"
        },
        {
          "output_type": "execute_result",
          "data": {
            "text/plain": [
              ""
            ]
          },
          "metadata": {
            "tags": []
          },
          "execution_count": 26
        }
      ]
    },
    {
      "cell_type": "markdown",
      "metadata": {
        "id": "rp_q9hC__wdk"
      },
      "source": [
        "There is plenty of other conditions that we might want to check in our scripts, if the file exists, if two strings are equal, if a number is less than another number, and so on. To help us with evaluating these conditions, there is a command called Test. Test is a command that evaluates the conditions received and exits with zero when they are true and with one when they're false. "
      ]
    },
    {
      "cell_type": "code",
      "metadata": {
        "id": "HEhneNz9AazF",
        "colab": {
          "base_uri": "https://localhost:8080/"
        },
        "outputId": "02fd5bbb-726d-4461-80aa-8dd8477fc466"
      },
      "source": [
        "# Check path in terminal\n",
        "%%shell\n",
        "if test -n \"$PATH\"; then echo \"Path not empty\"; fi\n",
        "if [ -n \"$PATH\" ]; then echo \"Path not empty\"; fi"
      ],
      "execution_count": null,
      "outputs": [
        {
          "output_type": "stream",
          "text": [
            "Path not empty\n",
            "Path not empty\n"
          ],
          "name": "stdout"
        },
        {
          "output_type": "execute_result",
          "data": {
            "text/plain": [
              ""
            ]
          },
          "metadata": {
            "tags": []
          },
          "execution_count": 64
        }
      ]
    },
    {
      "cell_type": "markdown",
      "metadata": {
        "id": "bsYyg7mX_0u5"
      },
      "source": [
        "### **While Loops in Bash Scripts**\n",
        "\n",
        "* The condition for the while loop uses the same format as a condition for an if block.\n",
        "* To increment the value of the variable n, using a bash construct of double parentheses, which is do an arithmetic operations.\n"
      ]
    },
    {
      "cell_type": "code",
      "metadata": {
        "colab": {
          "base_uri": "https://localhost:8080/"
        },
        "id": "51RhSgJUB6mH",
        "outputId": "ddc401a0-1d60-49cb-b0aa-1adde933227c"
      },
      "source": [
        "%%writefile while.sh\n",
        "\n",
        "#!/bin/bash\n",
        "\n",
        "n=1\n",
        "while [ $n -le 5 ]; do\n",
        "    echo \"Iteration number $n\"\n",
        "    ((n+=1))\n",
        "done"
      ],
      "execution_count": null,
      "outputs": [
        {
          "output_type": "stream",
          "text": [
            "Overwriting while.sh\n"
          ],
          "name": "stdout"
        }
      ]
    },
    {
      "cell_type": "code",
      "metadata": {
        "colab": {
          "base_uri": "https://localhost:8080/"
        },
        "id": "S4XEqrkdDGBT",
        "outputId": "dd6f829b-6a39-48be-a6b6-95be45c7d883"
      },
      "source": [
        "%%shell\n",
        "chmod +x while.sh\n",
        "./while.sh"
      ],
      "execution_count": null,
      "outputs": [
        {
          "output_type": "stream",
          "text": [
            "Iteration number 1\n",
            "Iteration number 2\n",
            "Iteration number 3\n",
            "Iteration number 4\n",
            "Iteration number 5\n"
          ],
          "name": "stdout"
        },
        {
          "output_type": "execute_result",
          "data": {
            "text/plain": [
              ""
            ]
          },
          "metadata": {
            "tags": []
          },
          "execution_count": 66
        }
      ]
    },
    {
      "cell_type": "code",
      "metadata": {
        "colab": {
          "base_uri": "https://localhost:8080/"
        },
        "id": "3653zv3IGcLB",
        "outputId": "e4dacef9-542e-4ac2-9b52-85d09d1991d3"
      },
      "source": [
        "%%writefile random-exit.py\n",
        "#!/usr/bin/env python3\n",
        "\n",
        "import sys\n",
        "import random\n",
        "\n",
        "value=random.randint(0, 3)\n",
        "print(\"Returning: \" + str(value))\n",
        "sys.exit(value)"
      ],
      "execution_count": null,
      "outputs": [
        {
          "output_type": "stream",
          "text": [
            "Overwriting random-exit.py\n"
          ],
          "name": "stdout"
        }
      ]
    },
    {
      "cell_type": "code",
      "metadata": {
        "id": "TY51-OAV_4b6",
        "colab": {
          "base_uri": "https://localhost:8080/"
        },
        "outputId": "da9b905a-f4e2-4d36-bf2c-60dab91b0175"
      },
      "source": [
        "%%writefile test_bash.sh\n",
        "#!/bin/bash\n",
        "n=0\n",
        "command=$1\n",
        "while ! $command && [ $n -le 5]; do\n",
        "    sleep $n\n",
        "    ((n=n+1))\n",
        "    echo \"Retry #$n\"\n",
        "done;"
      ],
      "execution_count": null,
      "outputs": [
        {
          "output_type": "stream",
          "text": [
            "Overwriting test_bash.sh\n"
          ],
          "name": "stdout"
        }
      ]
    },
    {
      "cell_type": "code",
      "metadata": {
        "colab": {
          "base_uri": "https://localhost:8080/"
        },
        "id": "HXwM_sKgDg8_",
        "outputId": "0bfdc39b-78a6-42d7-c91c-de03071bb6ec"
      },
      "source": [
        "%%shell\n",
        "chmod +x test_bash.sh\n",
        "chmod +x random-exit.py\n",
        "./test_bash.sh ./random-exit.py"
      ],
      "execution_count": null,
      "outputs": [
        {
          "output_type": "stream",
          "text": [
            "Returning: 2\n",
            "./test_bash.sh: line 4: [: missing `]'\n"
          ],
          "name": "stdout"
        },
        {
          "output_type": "execute_result",
          "data": {
            "text/plain": [
              ""
            ]
          },
          "metadata": {
            "tags": []
          },
          "execution_count": 71
        }
      ]
    },
    {
      "cell_type": "markdown",
      "metadata": {
        "id": "ErTG-ycfH3i9"
      },
      "source": [
        "### **For Loops in Bash Scripts**"
      ]
    },
    {
      "cell_type": "code",
      "metadata": {
        "colab": {
          "base_uri": "https://localhost:8080/"
        },
        "id": "F3MhvNtsIE1J",
        "outputId": "7dfcacf8-01c3-4267-abf0-2bfd636fb12e"
      },
      "source": [
        "%%writefile fruits.sh\n",
        "#!/bin/bash\n",
        "\n",
        "for fruit in peach orange apple; do\n",
        "    echo \"I like $fruit!\"\n",
        "done"
      ],
      "execution_count": null,
      "outputs": [
        {
          "output_type": "stream",
          "text": [
            "Writing fruits.sh\n"
          ],
          "name": "stdout"
        }
      ]
    },
    {
      "cell_type": "code",
      "metadata": {
        "colab": {
          "base_uri": "https://localhost:8080/"
        },
        "id": "fDULOpIAIUWq",
        "outputId": "b6f95976-a80b-474a-a018-a85cff5c8936"
      },
      "source": [
        "%%shell\n",
        "chmod +x fruits.sh\n",
        "./fruits.sh"
      ],
      "execution_count": null,
      "outputs": [
        {
          "output_type": "stream",
          "text": [
            "I like peach!\n",
            "I like orange!\n",
            "I like apple!\n"
          ],
          "name": "stdout"
        },
        {
          "output_type": "execute_result",
          "data": {
            "text/plain": [
              ""
            ]
          },
          "metadata": {
            "tags": []
          },
          "execution_count": 73
        }
      ]
    },
    {
      "cell_type": "markdown",
      "metadata": {
        "id": "I8TtrFUaLXdr"
      },
      "source": [
        "another example"
      ]
    },
    {
      "cell_type": "code",
      "metadata": {
        "id": "CLoYJ8a_LZXH"
      },
      "source": [
        "# %%shell\n",
        "# mkdir old_website\n",
        "# cd old_website\n",
        "# touch about.HTM\n",
        "# touch contact.HTM\n",
        "# touch footer.HTM\n",
        "# touch header.HTM\n",
        "# touch index.HTM\n",
        "# ls\n",
        "# pwd"
      ],
      "execution_count": null,
      "outputs": []
    },
    {
      "cell_type": "markdown",
      "metadata": {
        "id": "73LcT8diMIEl"
      },
      "source": [
        "basename - This command takes a filename and an extension and then returns the name without the extension. "
      ]
    },
    {
      "cell_type": "code",
      "metadata": {
        "id": "lyuAvdYDL6Ly"
      },
      "source": [
        "# !basename index.HTM .HTM"
      ],
      "execution_count": null,
      "outputs": []
    },
    {
      "cell_type": "code",
      "metadata": {
        "id": "bM4pKTjpMRTo"
      },
      "source": [
        "# %%writefile rename.sh\n",
        "# #!/bin/bash\n",
        "\n",
        "# for file in *.HTM; do\n",
        "#     name=$(basename \"$file\" .HTM)\n",
        "#     echo mv \"$file\" \"$name.html\"\n",
        "#     mv \"$file\" \"$name.html\"\n",
        "# done"
      ],
      "execution_count": null,
      "outputs": []
    },
    {
      "cell_type": "code",
      "metadata": {
        "id": "1sO2InrXM06M"
      },
      "source": [
        "# %%shell\n",
        "# chmod +x rename.sh\n",
        "# ./rename.sh"
      ],
      "execution_count": null,
      "outputs": []
    },
    {
      "cell_type": "markdown",
      "metadata": {
        "id": "Xj0QRE2-yBX3"
      },
      "source": [
        "### **Advanced Command Interaction**"
      ]
    },
    {
      "cell_type": "code",
      "metadata": {
        "id": "Z57xhERRyfSv"
      },
      "source": [
        "# run on linux os bash terminal\n",
        "# tail /var/log/syslog\n",
        "\n",
        "# output\n",
        "# ...\n",
        "# jan 9 09:39:03 ubuntu systemd[1]: systemd-hostnamed.service: Succeeded"
      ],
      "execution_count": null,
      "outputs": []
    },
    {
      "cell_type": "markdown",
      "metadata": {
        "id": "jHSRAf8T0YuZ"
      },
      "source": [
        "log the most in syslog"
      ]
    },
    {
      "cell_type": "code",
      "metadata": {
        "id": "AckeFseX0LLR"
      },
      "source": [
        "# run on linux os bash terminal\n",
        "# remove date and time in log\n",
        "# tail /var/log/syslog | cut -d' ' -f5-"
      ],
      "execution_count": null,
      "outputs": []
    },
    {
      "cell_type": "code",
      "metadata": {
        "id": "yhGHhoTK0xX2"
      },
      "source": [
        "# find repeat the most line\n",
        "# cut -d' ' -f5- /var/log/syslog | sort | uniq -c | sort -nr | head"
      ],
      "execution_count": null,
      "outputs": []
    },
    {
      "cell_type": "code",
      "metadata": {
        "id": "Esp-xpz91TB6"
      },
      "source": [
        "# toploglines.sh\n",
        "\n",
        "# #!/bin/bash\n",
        "\n",
        "# for logfile in /var/log/*log; do\n",
        "#     echo \"Processing: $logfile\"\n",
        "#     cut -d' ' -f5- /var/log/syslog | sort | uniq -c | sort -nr | head -5\n",
        "# done"
      ],
      "execution_count": null,
      "outputs": []
    },
    {
      "cell_type": "markdown",
      "metadata": {
        "id": "K-ANTj7eAFbz"
      },
      "source": [
        "### **Bash** or **Python**\n",
        "* It’s a good idea to choose bash when operating with files and system commands, as long as it is simple enough that the script is self-explanatory.\n",
        "\n",
        "* As soon as it gets harder to understand what the script is doing, it’s better to write it in a more general scripting language like Python.\n",
        "\n",
        "* If the tasks are limited to the current server or a fleet of servers with the same operating system, bash script can get the job done. But if it is too complex or it needs to work across platform, it might be better off using Python.\n"
      ]
    },
    {
      "cell_type": "markdown",
      "metadata": {
        "id": "aB1Mh2Kgdpjz"
      },
      "source": [
        "## **Practice Qwicklabs**"
      ]
    },
    {
      "cell_type": "markdown",
      "metadata": {
        "id": "AeYzJx_VdtZP"
      },
      "source": [
        "**Editing Files using Substrings**\n",
        "\n",
        "Prerequisites\n",
        "For this lab, you should have a sound knowledge of these Linux commands:\n",
        "\n",
        "* `cat`\n",
        "* `grep`\n",
        "* `cut`\n",
        "\n",
        "---\n",
        "***cat:***\n",
        "\n",
        "The cat command allows us to create single or multiple files, view the contents of a file, concatenate files, and redirect output in terminal or other files.\n",
        "\n",
        "Syntax:\n",
        "\n",
        "> `cat [file]`\n",
        "\n",
        "---\n",
        "\n",
        "***grep:***\n",
        "\n",
        "The grep command, which stands for \"global regular expression print\", processes text line-by-line and prints any lines that match a specified pattern.\n",
        "\n",
        "Syntax:\n",
        "\n",
        "`grep [pattern] [file-directory]`\n",
        "\n",
        "Here, `[file-directory]` is the path to the directory/folder where you want to perform a search operation. The grep command is also used to search text and match a string or pattern within a file.\n",
        "\n",
        "Syntax:\n",
        "\n",
        "`grep [pattern] [file-location]`\n",
        "\n",
        "---\n",
        "***cut:***\n",
        "\n",
        "The cut command extracts a given number of characters or columns from a file. A delimiter is a character or set of characters that separate text strings.\n",
        "\n",
        "Syntax:\n",
        "\n",
        "`cut [options] [file]`\n",
        "\n",
        "For delimiter separated fields, the - d option is used. The -f option specifies the field, a set of fields, or a range of fields to be extracted.\n",
        "\n",
        "Syntax:\n",
        "\n",
        "`cut -d [delimiter] -f [field number]`\n",
        "\n",
        "---\n",
        "\n",
        "**Linux I/O Redirection**\n",
        "\n",
        "Redirection is defined as switching standard streams of data from either a user-specified source or user-specified destination. Here are the following streams used in I/O redirection:\n",
        "\n",
        "* Redirection into a file using `>`\n",
        "\n",
        "* Append using `>>`\n",
        "\n",
        "**Redirection into a file**\n",
        "\n",
        "Each stream uses redirection commands. A single greater than sign (>) or a double greater than sign (>>) can be used to redirect standard output. If the target file doesn't exist, a new file with the same name will be created.\n",
        "\n",
        "Commands with a single greater than sign (>) overwrite existing file content.\n",
        "\n",
        "`cat > [file]`\n",
        "\n",
        "Commands with a double greater than sign (>>) do not overwrite the existing file content, but it will append to it.\n",
        "\n",
        "`cat >> [file]`\n",
        "\n",
        "So, rather than creating a file, the >> command is used to append a word or string to the existing file."
      ]
    },
    {
      "cell_type": "code",
      "metadata": {
        "colab": {
          "base_uri": "https://localhost:8080/"
        },
        "id": "yXzBWzPosWAF",
        "outputId": "d546721e-7c59-4a0c-ded6-d4dbb0570989"
      },
      "source": [
        "%%writefile list.txt\n",
        "001 jane jane_profile_07272018.doc\n",
        "002 kwood kwood_profile_04022017.doc\n",
        "003 pchow pchow_profile_05152019.doc\n",
        "004 janez janez_profile_11042019.doc\n",
        "005 jane jane_pic_07282018.jpg\n",
        "006 kwood kwood_pic_04032017.jpg\n",
        "007 pchow pchow_pic_05162019.jpg\n",
        "008 jane jane_contact_07292018.csv\n",
        "009 kwood kwood_contact_04042017.csv\n",
        "010 pchow pchow_contact_05172019.csv"
      ],
      "execution_count": null,
      "outputs": [
        {
          "output_type": "stream",
          "text": [
            "Writing list.txt\n"
          ],
          "name": "stdout"
        }
      ]
    },
    {
      "cell_type": "markdown",
      "metadata": {
        "id": "k2glk71Zs7zL"
      },
      "source": [
        "Let's try out the commands we learned in the previous section to catch all the \"jane\" lines."
      ]
    },
    {
      "cell_type": "code",
      "metadata": {
        "id": "hd2WfOOkYQWR",
        "colab": {
          "base_uri": "https://localhost:8080/"
        },
        "outputId": "334c4fc5-524d-48b7-b4d7-897273a81104"
      },
      "source": [
        "!grep 'jane' list.txt"
      ],
      "execution_count": null,
      "outputs": [
        {
          "output_type": "stream",
          "text": [
            "001 jane jane_profile_07272018.doc\n",
            "004 janez janez_profile_11042019.doc\n",
            "005 jane jane_pic_07282018.jpg\n",
            "008 jane jane_contact_07292018.csv\n"
          ],
          "name": "stdout"
        }
      ]
    },
    {
      "cell_type": "markdown",
      "metadata": {
        "id": "UTDU1piStBaY"
      },
      "source": [
        "This now returns only files containing the string \"jane\"."
      ]
    },
    {
      "cell_type": "code",
      "metadata": {
        "colab": {
          "base_uri": "https://localhost:8080/"
        },
        "id": "-IPDssbOtCbm",
        "outputId": "4601453b-f535-4be6-f851-a2832f4ebbe4"
      },
      "source": [
        "!grep ' jane ' list.txt"
      ],
      "execution_count": null,
      "outputs": [
        {
          "output_type": "stream",
          "text": [
            "001 jane jane_profile_07272018.doc\n",
            "005 jane jane_pic_07282018.jpg\n",
            "008 jane jane_contact_07292018.csv\n"
          ],
          "name": "stdout"
        }
      ]
    },
    {
      "cell_type": "markdown",
      "metadata": {
        "id": "ul8qcjcRtQpK"
      },
      "source": [
        "Next, we'll use the cut command with grep command. For cut command, we'll use the whitespace character (‘ ‘) as a delimiter (denoted by -d) since the text strings are separated by spaces within the list.txt file. We'll also fetch results by specifying the fields using -f option.\n",
        "\n",
        "Let's fetch the different fields (columns) using -f flag :"
      ]
    },
    {
      "cell_type": "code",
      "metadata": {
        "colab": {
          "base_uri": "https://localhost:8080/"
        },
        "id": "fN-2rovHtTRn",
        "outputId": "cca44d7b-4ddf-4844-9935-eac50827d885"
      },
      "source": [
        "!grep \" jane \" list.txt | cut -d ' ' -f 1"
      ],
      "execution_count": null,
      "outputs": [
        {
          "output_type": "stream",
          "text": [
            "001\n",
            "005\n",
            "008\n"
          ],
          "name": "stdout"
        }
      ]
    },
    {
      "cell_type": "code",
      "metadata": {
        "colab": {
          "base_uri": "https://localhost:8080/"
        },
        "id": "BNt_OLxGtjAR",
        "outputId": "df4912b7-b3de-4456-b7c0-4849c5df1592"
      },
      "source": [
        "!grep \" jane \" list.txt | cut -d ' ' -f 2"
      ],
      "execution_count": null,
      "outputs": [
        {
          "output_type": "stream",
          "text": [
            "jane\n",
            "jane\n",
            "jane\n"
          ],
          "name": "stdout"
        }
      ]
    },
    {
      "cell_type": "code",
      "metadata": {
        "colab": {
          "base_uri": "https://localhost:8080/"
        },
        "id": "SwFco_chtj1x",
        "outputId": "dc83025b-c99d-4c7a-d20c-b16986a614e6"
      },
      "source": [
        "!grep \" jane \" list.txt | cut -d ' ' -f 3"
      ],
      "execution_count": null,
      "outputs": [
        {
          "output_type": "stream",
          "text": [
            "jane_profile_07272018.doc\n",
            "jane_pic_07282018.jpg\n",
            "jane_contact_07292018.csv\n"
          ],
          "name": "stdout"
        }
      ]
    },
    {
      "cell_type": "code",
      "metadata": {
        "colab": {
          "base_uri": "https://localhost:8080/"
        },
        "id": "U5e-PfhKtlBU",
        "outputId": "3cfd07fc-0ed9-4954-e1ad-a19f26ff0e49"
      },
      "source": [
        "!grep \" jane \" list.txt | cut -d ' ' -f 1-3"
      ],
      "execution_count": null,
      "outputs": [
        {
          "output_type": "stream",
          "text": [
            "001 jane jane_profile_07272018.doc\n",
            "005 jane jane_pic_07282018.jpg\n",
            "008 jane jane_contact_07292018.csv\n"
          ],
          "name": "stdout"
        }
      ]
    },
    {
      "cell_type": "code",
      "metadata": {
        "colab": {
          "base_uri": "https://localhost:8080/"
        },
        "id": "sl0EZAsLtm03",
        "outputId": "1c988b5e-115a-4cfc-f112-fad2c1b8fa49"
      },
      "source": [
        "!grep \" jane \" list.txt | cut -d ' ' -f 1,3"
      ],
      "execution_count": null,
      "outputs": [
        {
          "output_type": "stream",
          "text": [
            "001 jane_profile_07272018.doc\n",
            "005 jane_pic_07282018.jpg\n",
            "008 jane_contact_07292018.csv\n"
          ],
          "name": "stdout"
        }
      ]
    },
    {
      "cell_type": "markdown",
      "metadata": {
        "id": "OX9pgHd6tvPd"
      },
      "source": [
        "**Test command**\n",
        "\n",
        "We'll now use the test command to test for the presence of a file. The command test is a command-line utility on Unix-like operating systems that evaluates conditional expressions.\n",
        "\n",
        "The syntax for this command is:\n",
        "\n",
        "`test EXPRESSION`\n",
        "\n",
        "We'll use this command to check if a particular file is present in the file system. We do this by using the `-e` flag. This flag takes a filename as a parameter and returns True if the file exists.\n",
        "\n",
        "We'll check the existence of a file named jane_profile_07272018.doc using the following command:"
      ]
    },
    {
      "cell_type": "code",
      "metadata": {
        "colab": {
          "base_uri": "https://localhost:8080/"
        },
        "id": "uBHl0On_w2F9",
        "outputId": "36c2a77b-0fe6-43f1-d715-80e02cb0539f"
      },
      "source": [
        "%%shell\n",
        "touch jane_contact_07292018.csv\n",
        "touch jane_profile_07272018.doc \n",
        "touch janez_profile_11042019.doc"
      ],
      "execution_count": null,
      "outputs": [
        {
          "output_type": "execute_result",
          "data": {
            "text/plain": [
              ""
            ]
          },
          "metadata": {
            "tags": []
          },
          "execution_count": 48
        }
      ]
    },
    {
      "cell_type": "code",
      "metadata": {
        "colab": {
          "base_uri": "https://localhost:8080/"
        },
        "id": "DEu8_-rqwlW8",
        "outputId": "e0dd49ac-d7ec-429b-8c49-c3337e7d9b23"
      },
      "source": [
        "%%shell\n",
        "if test -e jane_profile_07272018.doc; then echo \"File exists\";\n",
        "else echo \"File doesn't exist\"; fi"
      ],
      "execution_count": null,
      "outputs": [
        {
          "output_type": "stream",
          "text": [
            "File exists\n"
          ],
          "name": "stdout"
        },
        {
          "output_type": "execute_result",
          "data": {
            "text/plain": [
              ""
            ]
          },
          "metadata": {
            "tags": []
          },
          "execution_count": 49
        }
      ]
    },
    {
      "cell_type": "markdown",
      "metadata": {
        "id": "jPEgQkKyyvDB"
      },
      "source": [
        "**Create a file using a Redirection operator**"
      ]
    },
    {
      "cell_type": "code",
      "metadata": {
        "colab": {
          "base_uri": "https://localhost:8080/"
        },
        "id": "kZdoM6qdxtph",
        "outputId": "bddc8844-8848-4a14-fb05-adae6665f675"
      },
      "source": [
        "%%shell\n",
        "> test.txt\n",
        "echo \"I am appending text to this test file\" >> test.txt\n",
        "cat test.txt"
      ],
      "execution_count": null,
      "outputs": [
        {
          "output_type": "stream",
          "text": [
            "I am appending text to this test file\n"
          ],
          "name": "stdout"
        },
        {
          "output_type": "execute_result",
          "data": {
            "text/plain": [
              ""
            ]
          },
          "metadata": {
            "tags": []
          },
          "execution_count": 50
        }
      ]
    },
    {
      "cell_type": "markdown",
      "metadata": {
        "id": "NsqvbO_Nyz9i"
      },
      "source": [
        "**Iteration**\n",
        "\n",
        "Another important aspect of a scripting language is iteration. Iteration, in simple terms, is the repetition of a specific set of instructions. It's when a set of instructions is repeated a number of times or until a condition is met. And for this process, bash script allows three different iterative statements:\n",
        "\n",
        "* `For`: A for loop repeats the execution of a group of statements over a set of items.\n",
        "* `While`: A while loop executes a set of instructions as long as the control condition remains true.\n",
        "* `Until`: An until loop executes a set of instructions as long as the control condition remains false.\n",
        "\n",
        "Let's now iterate over a set of items and print those items."
      ]
    },
    {
      "cell_type": "code",
      "metadata": {
        "colab": {
          "base_uri": "https://localhost:8080/"
        },
        "id": "PXU8rjqtya0z",
        "outputId": "58eb8d5b-bfa8-44d8-9e2a-26a3c3508e21"
      },
      "source": [
        "%%shell\n",
        "for i in 1 2 3; do echo $i; done"
      ],
      "execution_count": null,
      "outputs": [
        {
          "output_type": "stream",
          "text": [
            "1\n",
            "2\n",
            "3\n"
          ],
          "name": "stdout"
        },
        {
          "output_type": "execute_result",
          "data": {
            "text/plain": [
              ""
            ]
          },
          "metadata": {
            "tags": []
          },
          "execution_count": 51
        }
      ]
    },
    {
      "cell_type": "markdown",
      "metadata": {
        "id": "CgevC0bm0Mo_"
      },
      "source": [
        "**Find files using bash script**\n",
        "\n",
        "In this section, you are going to write a script named findJane.sh within the scripts directory.\n",
        "\n",
        "This script should catch all \"jane\" lines and store them in another text file called oldFiles.txt. You will complete the script using the command we practiced in earlier sections. Don't worry, we'll guide you throughout the whole process."
      ]
    },
    {
      "cell_type": "code",
      "metadata": {
        "id": "OROOshT10Uuk"
      },
      "source": [
        "# %%writefile findJane.sh\n",
        "\n",
        "# #!/bin/bash\n",
        "\n",
        "# > oldFiles.txt\n",
        "# files=$(grep \" jane \" list.txt | cut -d ' ' -f 3)\n",
        "# for i in $files;do\n",
        "# if test -e $HOME$i; then echo $HOME$i>>oldFiles.txt; fi\n",
        "# done"
      ],
      "execution_count": null,
      "outputs": []
    },
    {
      "cell_type": "code",
      "metadata": {
        "colab": {
          "base_uri": "https://localhost:8080/"
        },
        "id": "95IyFBrX_f5n",
        "outputId": "0c9ade72-3e2b-4000-dfec-f20d5eab1af7"
      },
      "source": [
        "%%writefile findJane.sh\n",
        "\n",
        "#!/bin/bash\n",
        "\n",
        "> oldFiles.txt\n",
        "files=$(grep \" jane \" list.txt | cut -d ' ' -f 3)\n",
        "for i in $files;do\n",
        "if test -e $i; then echo $i>>oldFiles.txt; fi\n",
        "done"
      ],
      "execution_count": null,
      "outputs": [
        {
          "output_type": "stream",
          "text": [
            "Writing findJane.sh\n"
          ],
          "name": "stdout"
        }
      ]
    },
    {
      "cell_type": "code",
      "metadata": {
        "colab": {
          "base_uri": "https://localhost:8080/",
          "height": 35
        },
        "id": "D426Soxd_TXn",
        "outputId": "1164ef58-d8ad-4f0d-c92c-310e7848b1a1"
      },
      "source": [
        "import os\n",
        "os.path.abspath(\"list.txt\")"
      ],
      "execution_count": null,
      "outputs": [
        {
          "output_type": "execute_result",
          "data": {
            "application/vnd.google.colaboratory.intrinsic+json": {
              "type": "string"
            },
            "text/plain": [
              "'/content/list.txt'"
            ]
          },
          "metadata": {
            "tags": []
          },
          "execution_count": 54
        }
      ]
    },
    {
      "cell_type": "code",
      "metadata": {
        "colab": {
          "base_uri": "https://localhost:8080/"
        },
        "id": "mPMqF7TW2Cip",
        "outputId": "370698ae-f768-4ae1-de8a-770e427360f2"
      },
      "source": [
        "!$HOME"
      ],
      "execution_count": null,
      "outputs": [
        {
          "output_type": "stream",
          "text": [
            "/bin/bash: /root: Is a directory\n"
          ],
          "name": "stdout"
        }
      ]
    },
    {
      "cell_type": "code",
      "metadata": {
        "colab": {
          "base_uri": "https://localhost:8080/"
        },
        "id": "CmM-4WXC023i",
        "outputId": "75a96bc9-ce28-4e76-d4f7-e599586289a5"
      },
      "source": [
        "%%shell\n",
        "chmod +x findJane.sh\n",
        "./findJane.sh\n",
        "cat oldFiles.txt"
      ],
      "execution_count": null,
      "outputs": [
        {
          "output_type": "stream",
          "text": [
            "jane_profile_07272018.doc\n",
            "jane_contact_07292018.csv\n"
          ],
          "name": "stdout"
        },
        {
          "output_type": "execute_result",
          "data": {
            "text/plain": [
              ""
            ]
          },
          "metadata": {
            "tags": []
          },
          "execution_count": 56
        }
      ]
    },
    {
      "cell_type": "markdown",
      "metadata": {
        "id": "20oGe6fDA0By"
      },
      "source": [
        "Rename files using Python script\n",
        "In this section, you are going to write a Python script, changeJane.py, that takes oldFiles.txt as a command line argument and then renames files with the new username \"jdoe\". You will be completing the script, but we will guide throughout the section."
      ]
    },
    {
      "cell_type": "code",
      "metadata": {
        "colab": {
          "base_uri": "https://localhost:8080/"
        },
        "id": "O2_KZC4jAzuf",
        "outputId": "46fbd52b-b143-42ed-9f18-27cd57f19ec4"
      },
      "source": [
        "%%writefile changeJane.py\n",
        "\n",
        "#!/usr/bin/env python\n",
        "\n",
        "import sys\n",
        "import subprocess\n",
        "\n",
        "for line in f.readlines():\n",
        "      old_name = line.strip()\n",
        "      new_name = old_name.replace(\"jane\", \"jdoe\")\n",
        "      subprocess.run([\"mv\",old_name,new_name])\n",
        "f.close()"
      ],
      "execution_count": null,
      "outputs": [
        {
          "output_type": "stream",
          "text": [
            "Writing changeJane.py\n"
          ],
          "name": "stdout"
        }
      ]
    },
    {
      "cell_type": "markdown",
      "metadata": {
        "id": "pAW8WwsoBhV1"
      },
      "source": [
        "Use the mv command to rename the files in the file system. This command moves a file or directory. It takes in source file/directory and destination file/directory as parameters. We'll move the file with old name to the same directory but with a new name.\n",
        "\n",
        "Syntax:\n",
        "\n",
        "`mv source destination`"
      ]
    },
    {
      "cell_type": "code",
      "metadata": {
        "colab": {
          "base_uri": "https://localhost:8080/"
        },
        "id": "oggcNo_xBYb3",
        "outputId": "a288cfec-0658-4962-cb1b-60bab948c764"
      },
      "source": [
        "%%shell\n",
        "chmod +x changeJane.py\n",
        "./changeJane.py oldFiles.txt\n",
        "ls"
      ],
      "execution_count": null,
      "outputs": [
        {
          "output_type": "stream",
          "text": [
            "./changeJane.py: line 4: import: command not found\n",
            "./changeJane.py: line 5: import: command not found\n",
            "./changeJane.py: line 7: syntax error near unexpected token `('\n",
            "./changeJane.py: line 7: `for line in f.readlines():'\n",
            "areas02.py\t       health_checks.py\t\t   rearrange.py\n",
            "by_department.csv      hello.py\t\t\t   rearrange_test.py\n",
            "capitalize.py\t       hello_world.py\t\t   re.txt\n",
            "changeJane.py\t       hosts.csv\t\t   sample_data\n",
            "check_host.sh\t       info.sh\t\t\t   simple_shell_script.sh\n",
            "create_file.py\t       jane_contact_07292018.csv   software.csv\n",
            "data.csv\t       jane_profile_07272018.doc   spider.txt\n",
            "drive\t\t       janez_profile_11042019.doc  stdout_example.py\n",
            "employee_report.py     list.txt\t\t\t   streams_err.py\n",
            "error_file.txt\t       myamazingfile.txt\t   streams.py\n",
            "errors_found.log       network.py\t\t   test_bash.sh\n",
            "example\t\t       new_file.txt\t\t   test_report.txt\n",
            "find_error.py\t       newfile.txt\t\t   test.txt\n",
            "findJane.sh\t       oldFiles.txt\t\t   updated_user_emails.csv\n",
            "fishy.log\t       parameters.py\t\t   user_emails.csv\n",
            "flowers.csv\t       program.py\t\t   validate_user_test.py\n",
            "gather-information.sh  __pycache__\t\t   validations02.py\n",
            "guests.txt\t       PythonPrograms\t\t   validations.py\n",
            "haiku.txt\t       random-exit.py\t\t   while.sh\n"
          ],
          "name": "stdout"
        },
        {
          "output_type": "execute_result",
          "data": {
            "text/plain": [
              ""
            ]
          },
          "metadata": {
            "tags": []
          },
          "execution_count": 58
        }
      ]
    },
    {
      "cell_type": "markdown",
      "metadata": {
        "id": "VOtVc-J9qe79"
      },
      "source": [
        "# **Final Qwiklab**"
      ]
    },
    {
      "cell_type": "code",
      "metadata": {
        "id": "RYWJtLTZqq27"
      },
      "source": [
        "#!/usr/bin/env python3\n",
        "import re\n",
        "import sys\n",
        "import operator\n",
        "import csv\n",
        "\n",
        "users={}\n",
        "errors={}\n",
        "\n",
        "f=open(\"syslog.log\")\n",
        "for line in f:\n",
        "    line=line.strip()\n",
        "    usrname=(re.search(r\"\\((.*)\\)\",line)).group(1)\n",
        "    msg=(re.search(r\"(ERROR|INFO)\",line)).group(1)\n",
        "    if (usrname not in users):\n",
        "        user_count = {'INFO': 0, 'ERROR': 0}\n",
        "        users[usrname] = user_count\n",
        "    users[usrname][msg]+=1\n",
        "\n",
        "    if msg==\"ERROR\":\n",
        "        err=(re.search(r\"ERROR (.*) \",line)).group(1)\n",
        "        if (err not in errors):\n",
        "            errors[err]=0\n",
        "        errors[err]+=1\n",
        "f.close()\n",
        "\n",
        "\n",
        "users2=[]\n",
        "errors2=[]\n",
        "for key in sorted(users.keys()):\n",
        "    users2.append([key,users[key][\"INFO\"],users[key][\"ERROR\"]])\n",
        "\n",
        "for key, value in sorted(errors.items(), key=lambda item: item[1],reverse=True):\n",
        "    errors2.append([key, value])\n",
        "\n",
        "users2.insert(0,[\"Username\",\"INFO\",\"ERROR\"])\n",
        "errors2.insert(0,[\"Error\",\"Count\"])\n",
        "\n",
        "fe=open(\"error_message.csv\",\"w\")\n",
        "fu=open(\"user_statistics.csv\",\"w\")\n",
        "\n",
        "writer1=csv.writer(fe)\n",
        "writer2=csv.writer(fu)\n",
        "writer1.writerows(errors2)\n",
        "writer2.writerows(users2)\n",
        "\n",
        "fe.close()\n",
        "fu.close()"
      ],
      "execution_count": null,
      "outputs": []
    }
  ]
}