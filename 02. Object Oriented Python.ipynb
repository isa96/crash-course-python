{
  "cells": [
    {
      "cell_type": "markdown",
      "metadata": {
        "id": "I78ir308YK4C"
      },
      "source": [
        "## **Teori - Object & Class Python**\n",
        "\n",
        "Python telah menjadi bahasa berorientasi objek sejak bahasa Python sendiri dibuat. Untuk membuat dan menggunakan kelas dan objek pada Python benar-benar mudah. Pada tutorial ini Anda akan dibantu untuk menjadi ahli dalam penggunaan pemrograman berorientasi objek Python.\n",
        "\n",
        "Jika Anda tidak memiliki pengalaman sebelumnya dengan pemrograman berorientasi objek (OOP), Anda mempelajarinya terlebih dahulu agar Anda dapat memahami konsep dasarnya.\n",
        "\n",
        "Jika memang sudah mengerti konsep dasar OOP berikut ini adalah pengenalan dari Object-Oriented Programming (OOP) untuk membantu Anda.\n",
        "\n",
        "### **Istilah Dalam OOP**\n",
        "\n",
        "* `Class`\n",
        "\n",
        "    Prototipe yang ditentukan pengguna untuk objek yang mendefinisikan seperangkat atribut yang menjadi ciri objek kelas apa pun. Atribut adalah data anggota (variabel kelas dan variabel contoh) dan metode, diakses melalui notasi titik.\n",
        "\n",
        "* `Class variable`\n",
        "\n",
        "    Sebuah variabel yang dibagi oleh semua contoh kelas. Variabel kelas didefinisikan dalam kelas tapi di luar metode kelas manapun. Variabel kelas tidak digunakan sesering variabel contoh.\n",
        "\n",
        "* `Data member`\n",
        "\n",
        "    Variabel kelas atau variabel contoh yang menyimpan data yang terkait dengan kelas dan objeknya.\n",
        "\n",
        "* `Function overloading`\n",
        "\n",
        "    Penugasan lebih dari satu perilaku ke fungsi tertentu. Operasi yang dilakukan bervariasi menurut jenis objek atau argumen yang terlibat.\n",
        "\n",
        "* `Instance variable`\n",
        "\n",
        "    Variabel yang didefinisikan di dalam sebuah metode dan hanya dimiliki oleh instance kelas saat ini.\n",
        "\n",
        "* `Inheritance`\n",
        "\n",
        "    Pengalihan karakteristik kelas ke kelas lain yang berasal darinya.\n",
        "\n",
        "* `Instance`\n",
        "\n",
        "    Objek individu dari kelas tertentu. Obyek obj yang termasuk dalam Lingkaran kelas, misalnya, adalah turunan dari Lingkaran kelas.\n",
        "\n",
        "* `Instantiation`\n",
        "\n",
        "    Penciptaan sebuah instance dari sebuah kelas.\n",
        "\n",
        "* `Method`\n",
        "\n",
        "    Jenis fungsi khusus yang didefinisikan dalam definisi kelas.\n",
        "\n",
        "* `Object`\n",
        "\n",
        "    Contoh unik dari struktur data yang didefinisikan oleh kelasnya. Objek terdiri dari kedua anggota data (variabel kelas dan variabel contoh) dan metode.\n",
        "\n",
        "* `Operator overloading`\n",
        "\n",
        "    Penugasan lebih dari satu fungsi ke operator tertentu."
      ]
    },
    {
      "cell_type": "markdown",
      "metadata": {
        "id": "yDjc_PG0ZFSj"
      },
      "source": [
        "# **Create a Class**\n",
        "\n",
        "Statement class digunakan untuk membuat definisi kelas baru.\n",
        "\n",
        "```\n",
        "class ClassName: \n",
        "      'expression'\n",
        "```\n",
        "\n",
        "A Class is like an object constructor, or a \"blueprint\" for creating objects.\n",
        "\n",
        "Dibawah ini adalah contoh cara membuat class dan penggunaanya :"
      ]
    },
    {
      "cell_type": "code",
      "execution_count": null,
      "metadata": {
        "id": "x_9TN5ou9Mfj"
      },
      "outputs": [],
      "source": [
        "class NamaKelas:\n",
        "    pass  # gantikan dengan pernyataan-pernyataan, misal: atribut atau metode"
      ]
    },
    {
      "cell_type": "code",
      "execution_count": null,
      "metadata": {
        "id": "c6DtIdI96g0P"
      },
      "outputs": [],
      "source": [
        "class MyClass:\n",
        "  x = 5"
      ]
    },
    {
      "cell_type": "code",
      "execution_count": null,
      "metadata": {
        "colab": {
          "base_uri": "https://localhost:8080/"
        },
        "id": "ZzIRHIW39Rpj",
        "outputId": "3e8c2647-ee52-428e-c610-6f9bf08030e6"
      },
      "outputs": [
        {
          "name": "stdout",
          "output_type": "stream",
          "text": [
            "12345\n",
            "1024\n"
          ]
        }
      ],
      "source": [
        "class Kalkulator:\n",
        "    \"\"\"contoh kelas kalkulator sederhana\"\"\"\n",
        "    i = 12345\n",
        " \n",
        "    def f(self):\n",
        "        return 'hello world'\n",
        "\n",
        "print(Kalkulator.i)\n",
        "Kalkulator.i = 1024  # maka nilai atribut i dalam Kalkulator berubah dari 12345 menjadi 1024\n",
        "print(Kalkulator.i)"
      ]
    },
    {
      "cell_type": "code",
      "execution_count": null,
      "metadata": {
        "id": "2sTUW8mZfBxZ"
      },
      "outputs": [],
      "source": [
        "class Employee:\n",
        "   'Common base class for all employees'\n",
        "   empCount = 0\n",
        "\n",
        "   def __init__(self, name, salary): #self = this\n",
        "      self.name = name\n",
        "      self.salary = salary\n",
        "      Employee.empCount += 1\n",
        "   \n",
        "   def displayCount(self):\n",
        "     print(\"Total Employee %d\" % Employee.empCount)\n",
        "\n",
        "   def displayEmployee(self):\n",
        "      print(\"Name : \", self.name,  \", Salary: \", self.salary)"
      ]
    },
    {
      "cell_type": "code",
      "execution_count": 5,
      "metadata": {
        "colab": {
          "base_uri": "https://localhost:8080/"
        },
        "id": "ESpcp48kHrXn",
        "outputId": "6832db52-bcad-4952-fe14-0399480de94d"
      },
      "outputs": [
        {
          "name": "stdout",
          "output_type": "stream",
          "text": [
            "Classy\n",
            "Classy\n"
          ]
        }
      ],
      "source": [
        "class Classy:\n",
        "    pass\n",
        "\n",
        "\n",
        "print(Classy.__name__)\n",
        "obj = Classy()\n",
        "print(type(obj).__name__)"
      ]
    },
    {
      "cell_type": "code",
      "execution_count": 8,
      "metadata": {
        "colab": {
          "base_uri": "https://localhost:8080/"
        },
        "id": "Lu0Z6-j5IA3o",
        "outputId": "2159b161-a408-413a-c7a7-771c062cde33"
      },
      "outputs": [
        {
          "name": "stdout",
          "output_type": "stream",
          "text": [
            "__main__\n",
            "__main__\n"
          ]
        }
      ],
      "source": [
        "class Classy:\n",
        "    pass\n",
        "\n",
        "\n",
        "print(Classy.__module__)\n",
        "obj = Classy()\n",
        "print(obj.__module__)"
      ]
    },
    {
      "cell_type": "markdown",
      "metadata": {
        "id": "tiYsLSFo6q0O"
      },
      "source": [
        "# **Constructor / The __init__() Function**\n",
        "\n",
        "All classes have a function called `__init__()`, which is always executed when the class is being initiated.\n",
        "\n",
        "The `__init__()` function is called automatically every time the class is being used to create a new object.\n",
        "\n",
        "Di Python, fungsi khusus atau metode sebagai constructor ini bernama `__init__()` atau biasa diucapkan sebagai \"double underscore init\". Pada saat dilakukan instantiation dari class, metode `__init__()` ini secara otomatis akan dipanggil di terlebih dahulu.\n",
        "\n",
        "Use the `__init__()` function to assign values to object properties, or other operations that are necessary to do when the object is being created\n",
        "\n",
        "---\n",
        "\n",
        "If you name a method like this: `__init__`, it won't be a regular method - it will be a `constructor`.\n",
        "\n",
        "If a class has a constructor, it is invoked automatically and implicitly when the object of the class is instantiated.\n",
        "\n",
        "The constructor:\n",
        "\n",
        "* is `obliged to have the 'self' parameter` (it's set automatically, as usual);\n",
        "* `may (but doesn't need to) have more parameters` than just `self`; if this happens, the way in which the class name is used to create the object must reflect the `__init__` definition;\n",
        "* `can be used to set up the object`, i.e., properly initialize its internal state, create instance variables, instantiate any other objects if their existence is needed, etc.\n",
        "\n",
        "Note that the constructor:\n",
        "\n",
        "* `cannot return a value`, as it is designed to return a newly created object and nothing else;\n",
        "* `cannot be invoked directly either from the object or from inside the class` (you can invoke a constructor from any of the object's subclasses, but we'll discuss this issue later.)"
      ]
    },
    {
      "cell_type": "code",
      "execution_count": null,
      "metadata": {
        "colab": {
          "base_uri": "https://localhost:8080/"
        },
        "id": "lx_TnG7M8WV6",
        "outputId": "c782d1aa-d74a-4a38-d5e0-8bf59a05d701"
      },
      "outputs": [
        {
          "name": "stdout",
          "output_type": "stream",
          "text": [
            "John\n",
            "36\n"
          ]
        }
      ],
      "source": [
        "class Person:\n",
        "  def __init__(self, name, age):\n",
        "    self.name = name\n",
        "    self.age = age\n",
        "\n",
        "p1 = Person(\"John\", 36)\n",
        "\n",
        "print(p1.name)\n",
        "print(p1.age)"
      ]
    },
    {
      "cell_type": "code",
      "execution_count": null,
      "metadata": {
        "colab": {
          "base_uri": "https://localhost:8080/"
        },
        "id": "b0NMhsF8ioVm",
        "outputId": "55a044f6-4d13-4ad7-a3bd-52f3a8947836"
      },
      "outputs": [
        {
          "name": "stdout",
          "output_type": "stream",
          "text": [
            "otong surotong\n",
            "atong suratang\n",
            "atong suratang sedang belajar dengan giat\n"
          ]
        }
      ],
      "source": [
        "#class\n",
        "class Mahasiswa():\n",
        "\tnama = 'nama'\n",
        "\n",
        "\tdef __init__(self, input_nama, input_nim):\n",
        "\t\tself.nama = input_nama\n",
        "\t\tself.nim = input_nim\n",
        "\n",
        "\tdef belajar(self, kondisi):\n",
        "\t\tprint(self.nama,'sedang belajar', kondisi)\n",
        "\n",
        "\tdef tidur(self):\n",
        "\t\tprint(self.nama,'tidur di kelas')\n",
        "\n",
        "# main programnya\n",
        "\n",
        "otong = Mahasiswa(\"otong surotong\", 13317001)\n",
        "#ucup = Mahasiswa()\n",
        "\n",
        "print(otong.nama)\n",
        "otong.nama = \"atong suratang\"\n",
        "print(otong.nama)\n",
        "\n",
        "#ucup.nama = \"michael ucup\"\n",
        "otong.belajar('dengan giat')\n",
        "#ucup.tidur() "
      ]
    },
    {
      "cell_type": "markdown",
      "metadata": {
        "id": "U2Od2l0W5Q1h"
      },
      "source": [
        "# **The `__str__` Function**\n"
      ]
    },
    {
      "cell_type": "markdown",
      "metadata": {
        "id": "E6KT1wmO5sGz"
      },
      "source": [
        "In addition to the `__init__` constructor special method, there is also the `__str__` special method. This method allows us to define how an instance of an object will be printed when it’s passed to the print() function. If an object doesn’t have this special method defined, it will wind up using the default representation, which will print the position of the object in memory. Not super useful. Here is our Apple class, with the `__str__` method added:"
      ]
    },
    {
      "cell_type": "code",
      "execution_count": null,
      "metadata": {
        "colab": {
          "base_uri": "https://localhost:8080/"
        },
        "id": "pLycgdi05oNW",
        "outputId": "b15da306-fccb-4a78-a697-a21ad8ab2988"
      },
      "outputs": [
        {
          "name": "stdout",
          "output_type": "stream",
          "text": [
            "<__main__.Apple object at 0x7f97819358d0>\n"
          ]
        }
      ],
      "source": [
        "class Apple:\n",
        " def __init__(self, color, flavor):\n",
        "     self.color = color\n",
        "     self.flavor = flavor\n",
        "\n",
        "apple = Apple(\"red\", \"sweet\")\n",
        "print(apple)"
      ]
    },
    {
      "cell_type": "code",
      "execution_count": 28,
      "metadata": {
        "colab": {
          "base_uri": "https://localhost:8080/"
        },
        "id": "6gSQsAyqBI_C",
        "outputId": "41cea231-b5df-4fd0-f038-3cb14537a78e"
      },
      "outputs": [
        {
          "name": "stdout",
          "output_type": "stream",
          "text": [
            "mickey\n"
          ]
        }
      ],
      "source": [
        "class Mouse:\n",
        "    def __init__(self, name):\n",
        "        self.my_name = name\n",
        "\n",
        "\n",
        "    def __str__(self):\n",
        "        return self.my_name\n",
        "\n",
        "\n",
        "the_mouse = Mouse('mickey')\n",
        "print(the_mouse)  # Prints \"mickey\". \n",
        "\n"
      ]
    },
    {
      "cell_type": "code",
      "execution_count": null,
      "metadata": {
        "colab": {
          "base_uri": "https://localhost:8080/"
        },
        "id": "zwdAEDts5VKT",
        "outputId": "8c7230cd-ef54-4b77-ceac-428472907ae8"
      },
      "outputs": [
        {
          "name": "stdout",
          "output_type": "stream",
          "text": [
            "This apple is red and its flavor is sweet\n"
          ]
        }
      ],
      "source": [
        "class Apple:\n",
        " def __init__(self, color, flavor):\n",
        "     self.color = color\n",
        "     self.flavor = flavor\n",
        " def __str__(self):\n",
        "     return \"This apple is {} and its flavor is {}\".format(self.color, self.flavor)\n",
        "\n",
        "apple = Apple(\"red\", \"sweet\")\n",
        "print(apple)"
      ]
    },
    {
      "cell_type": "code",
      "execution_count": 10,
      "metadata": {
        "colab": {
          "base_uri": "https://localhost:8080/"
        },
        "id": "vPXMn-78KY88",
        "outputId": "a20f0e00-c1d3-4f45-cb78-93ae91200f65"
      },
      "outputs": [
        {
          "name": "stdout",
          "output_type": "stream",
          "text": [
            "Sun in Milky Way\n"
          ]
        }
      ],
      "source": [
        "class Star:\n",
        "    def __init__(self, name, galaxy):\n",
        "        self.name = name\n",
        "        self.galaxy = galaxy\n",
        "\n",
        "    def __str__(self):\n",
        "        return self.name + ' in ' + self.galaxy\n",
        "\n",
        "\n",
        "sun = Star(\"Sun\", \"Milky Way\")\n",
        "print(sun)"
      ]
    },
    {
      "cell_type": "markdown",
      "metadata": {
        "id": "oyqgTlL09hzG"
      },
      "source": [
        "# **The self Parameter**\n",
        "\n",
        "* The self parameter is a reference to the current instance of the class\n",
        "\n",
        "* used to access variables that belongs to the class.\n",
        "\n",
        "It `does not` have to be named `self` , you can call it whatever you like, but it has to be the `first parameter` of any function in the class:"
      ]
    },
    {
      "cell_type": "code",
      "execution_count": null,
      "metadata": {
        "colab": {
          "base_uri": "https://localhost:8080/",
          "height": 34
        },
        "id": "2sYxhCAC90Wq",
        "outputId": "18b307a7-4e41-447b-afc8-fc3e2c15c357"
      },
      "outputs": [
        {
          "name": "stdout",
          "output_type": "stream",
          "text": [
            "Hello my name is John\n"
          ]
        }
      ],
      "source": [
        "# Use the words mysillyobject and abc instead of self:\n",
        "\n",
        "class Person:\n",
        "  def __init__(mysillyobject, name, age):\n",
        "    mysillyobject.name = name\n",
        "    mysillyobject.age = age\n",
        "\n",
        "  def myfunc(abc):\n",
        "    print(\"Hello my name is \" + abc.name)\n",
        "\n",
        "p1 = Person(\"John\", 36)\n",
        "p1.myfunc()"
      ]
    },
    {
      "cell_type": "code",
      "execution_count": null,
      "metadata": {
        "colab": {
          "base_uri": "https://localhost:8080/"
        },
        "id": "9Sr_Lu7xaD_g",
        "outputId": "954d7788-ac47-4bc6-d453-70aee9dd1465"
      },
      "outputs": [
        {
          "name": "stdout",
          "output_type": "stream",
          "text": [
            "Roti Lapis: $5\n",
            "Total harga adalah $20\n"
          ]
        }
      ],
      "source": [
        "class MenuItem:\n",
        "    def __init__(self):\n",
        "        # Tetapkan self.name ke 'Roti Lapis'\n",
        "        self.name = 'Roti Lapis'\n",
        "        \n",
        "        # Tetapkan self.price ke 5\n",
        "        self.price = 5\n",
        "\n",
        "    def info(self):\n",
        "        return self.name + ': $' + str(self.price)\n",
        "\n",
        "    def get_total_price(self, count):\n",
        "        total_price = self.price * count\n",
        "        return total_price\n",
        "\n",
        "\n",
        "menu_item1 = MenuItem()\n",
        "\n",
        "print(menu_item1.info())\n",
        "\n",
        "result = menu_item1.get_total_price(4)\n",
        "print('Total harga adalah $' + str(result))"
      ]
    },
    {
      "cell_type": "code",
      "execution_count": null,
      "metadata": {
        "colab": {
          "base_uri": "https://localhost:8080/"
        },
        "id": "nhakppe3acra",
        "outputId": "7dddcabd-5c28-406e-dceb-41425edae335"
      },
      "outputs": [
        {
          "name": "stdout",
          "output_type": "stream",
          "text": [
            "Roti Lapis: $5\n",
            "Total harga adalah $20\n"
          ]
        }
      ],
      "source": [
        "class MenuItem:\n",
        "    # Tambahkan parameter name dan price\n",
        "    def __init__(self, name, price):\n",
        "        # Gantikan 'Roti Lapis' ke parameter name\n",
        "        self.name = name\n",
        "        \n",
        "        # Gantikan 5 ke parameter price\n",
        "        self.price = price\n",
        "\n",
        "    def info(self):\n",
        "        return self.name + ': $' + str(self.price)\n",
        "\n",
        "    def get_total_price(self, count):\n",
        "        total_price = self.price * count\n",
        "        return total_price\n",
        "\n",
        "\n",
        "# Tambahkan 'Roti Lapis' dan 5 sebagai argument\n",
        "menu_item1 = MenuItem('Roti Lapis', 5)\n",
        "\n",
        "print(menu_item1.info())\n",
        "\n",
        "result = menu_item1.get_total_price(4)\n",
        "print('Total harga adalah $' + str(result))\n"
      ]
    },
    {
      "cell_type": "markdown",
      "metadata": {
        "id": "Gl7JDEH-4MmB"
      },
      "source": [
        "# **Create Object**\n",
        "\n",
        "**Membuat Instance Objects**\n",
        "\n",
        "Untuk membuat instances kelas, Anda memanggil class menggunakan nama class dan meneruskan argumen apa pun yang metode init terima."
      ]
    },
    {
      "cell_type": "code",
      "execution_count": null,
      "metadata": {
        "colab": {
          "base_uri": "https://localhost:8080/",
          "height": 34
        },
        "id": "fayRIwDS6mil",
        "outputId": "84a63e5e-cd67-4c89-e90c-b246dfece165"
      },
      "outputs": [
        {
          "name": "stdout",
          "output_type": "stream",
          "text": [
            "5\n"
          ]
        }
      ],
      "source": [
        "class MyClass:\n",
        "  x = 5\n",
        "\n",
        "# creating object\n",
        "p1 = MyClass()\n",
        "print(p1.x)"
      ]
    },
    {
      "cell_type": "code",
      "execution_count": null,
      "metadata": {
        "id": "OWFvzDHa4Poc"
      },
      "outputs": [],
      "source": [
        "class Employee:\n",
        "   'Common base class for all employees'\n",
        "   empCount = 0\n",
        "\n",
        "   def __init__(self, name, salary):\n",
        "      self.name = name\n",
        "      self.salary = salary\n",
        "      Employee.empCount += 1\n",
        "   \n",
        "   def displayCount(self):\n",
        "     print(\"Total Employee %d\" % Employee.empCount)\n",
        "\n",
        "   def displayEmployee(self):\n",
        "      print(\"Name : \", self.name,  \", Salary: \", self.salary)\n",
        "      \n",
        "# This would create first object of Employee class\n",
        "emp1 = Employee(\"Zara\", 2000)\n",
        "# This would create second object of Employee class\n",
        "emp2 = Employee(\"Manni\", 5000)"
      ]
    },
    {
      "cell_type": "code",
      "execution_count": 1,
      "metadata": {
        "colab": {
          "base_uri": "https://localhost:8080/"
        },
        "id": "afkyEOHBEQOC",
        "outputId": "551b0307-867a-47cc-b6de-c7baeedae3ed"
      },
      "outputs": [
        {
          "name": "stdout",
          "output_type": "stream",
          "text": [
            "{'first': 1}\n",
            "{'first': 2, 'second': 3}\n",
            "{'first': 4, 'third': 5}\n"
          ]
        }
      ],
      "source": [
        "class ExampleClass:\n",
        "    def __init__(self, val = 1):\n",
        "        self.first = val\n",
        "\n",
        "    def set_second(self, val):\n",
        "        self.second = val\n",
        "\n",
        "\n",
        "example_object_1 = ExampleClass()\n",
        "example_object_2 = ExampleClass(2)\n",
        "\n",
        "example_object_2.set_second(3)\n",
        "\n",
        "example_object_3 = ExampleClass(4)\n",
        "example_object_3.third = 5\n",
        "\n",
        "print(example_object_1.__dict__)\n",
        "print(example_object_2.__dict__)\n",
        "print(example_object_3.__dict__)"
      ]
    },
    {
      "cell_type": "code",
      "execution_count": 2,
      "metadata": {
        "colab": {
          "base_uri": "https://localhost:8080/"
        },
        "id": "KXEu6eptEn4B",
        "outputId": "8e2585f6-ab7a-4dc6-c3e0-561ea46397d7"
      },
      "outputs": [
        {
          "name": "stdout",
          "output_type": "stream",
          "text": [
            "{'_ExampleClass__first': 1} 3\n",
            "{'_ExampleClass__first': 2} 3\n",
            "{'_ExampleClass__first': 4} 3\n"
          ]
        }
      ],
      "source": [
        "class ExampleClass:\n",
        "    counter = 0\n",
        "    def __init__(self, val = 1):\n",
        "        self.__first = val\n",
        "        ExampleClass.counter += 1\n",
        "\n",
        "\n",
        "example_object_1 = ExampleClass()\n",
        "example_object_2 = ExampleClass(2)\n",
        "example_object_3 = ExampleClass(4)\n",
        "\n",
        "print(example_object_1.__dict__, example_object_1.counter)\n",
        "print(example_object_2.__dict__, example_object_2.counter)\n",
        "print(example_object_3.__dict__, example_object_3.counter)"
      ]
    },
    {
      "cell_type": "code",
      "execution_count": 4,
      "metadata": {
        "colab": {
          "base_uri": "https://localhost:8080/"
        },
        "id": "TC-oUm8SHeaV",
        "outputId": "9fe7b629-dbaf-4a37-87e0-e67c08405f6a"
      },
      "outputs": [
        {
          "name": "stdout",
          "output_type": "stream",
          "text": [
            "{'var': 2}\n",
            "{'__module__': '__main__', 'varia': 1, '__init__': <function Classy.__init__ at 0x7f5a5c15ab00>, 'method': <function Classy.method at 0x7f5a5c15aa70>, '_Classy__hidden': <function Classy.__hidden at 0x7f5a5c15a950>, '__dict__': <attribute '__dict__' of 'Classy' objects>, '__weakref__': <attribute '__weakref__' of 'Classy' objects>, '__doc__': None}\n"
          ]
        }
      ],
      "source": [
        "class Classy:\n",
        "    varia = 1\n",
        "    def __init__(self):\n",
        "        self.var = 2\n",
        "\n",
        "    def method(self):\n",
        "        pass\n",
        "\n",
        "    def __hidden(self):\n",
        "        pass\n",
        "\n",
        "\n",
        "obj = Classy()\n",
        "\n",
        "print(obj.__dict__)\n",
        "print(Classy.__dict__)"
      ]
    },
    {
      "cell_type": "code",
      "execution_count": 6,
      "metadata": {
        "colab": {
          "base_uri": "https://localhost:8080/"
        },
        "id": "JPSnd56nHuXX",
        "outputId": "8f2682ca-ade1-4d41-c786-9ad4358bf5f9"
      },
      "outputs": [
        {
          "name": "stdout",
          "output_type": "stream",
          "text": [
            "Classy\n",
            "Classy\n"
          ]
        }
      ],
      "source": [
        "class Classy:\n",
        "    pass\n",
        "\n",
        "\n",
        "print(Classy.__name__)\n",
        "obj = Classy()\n",
        "print(type(obj).__name__)"
      ]
    },
    {
      "cell_type": "code",
      "execution_count": 7,
      "metadata": {
        "colab": {
          "base_uri": "https://localhost:8080/"
        },
        "id": "3ofKh7wKH9vj",
        "outputId": "20d4099f-76a9-4e87-bb03-9b3eafbdce60"
      },
      "outputs": [
        {
          "name": "stdout",
          "output_type": "stream",
          "text": [
            "__main__\n",
            "__main__\n"
          ]
        }
      ],
      "source": [
        "class Classy:\n",
        "    pass\n",
        "\n",
        "\n",
        "print(Classy.__module__)\n",
        "obj = Classy()\n",
        "print(obj.__module__)"
      ]
    },
    {
      "cell_type": "markdown",
      "metadata": {
        "id": "sChRhaggLTky"
      },
      "source": [
        "**isinstance()**"
      ]
    },
    {
      "cell_type": "code",
      "execution_count": 15,
      "metadata": {
        "colab": {
          "base_uri": "https://localhost:8080/"
        },
        "id": "o-MQwHGcLWdn",
        "outputId": "1b86ed8b-48cb-4f0d-b99b-cc6ac177af4c"
      },
      "outputs": [
        {
          "name": "stdout",
          "output_type": "stream",
          "text": [
            "True\tFalse\tFalse\t\n",
            "True\tTrue\tFalse\t\n",
            "True\tTrue\tTrue\t\n"
          ]
        }
      ],
      "source": [
        "class Vehicle:\n",
        "    pass\n",
        "\n",
        "\n",
        "class LandVehicle(Vehicle):\n",
        "    pass\n",
        "\n",
        "\n",
        "class TrackedVehicle(LandVehicle):\n",
        "    pass\n",
        "\n",
        "\n",
        "my_vehicle = Vehicle()\n",
        "my_land_vehicle = LandVehicle()\n",
        "my_tracked_vehicle = TrackedVehicle()\n",
        "\n",
        "for obj in [my_vehicle, my_land_vehicle, my_tracked_vehicle]:\n",
        "    for cls in [Vehicle, LandVehicle, TrackedVehicle]:\n",
        "        print(isinstance(obj, cls), end=\"\\t\")\n",
        "    print()"
      ]
    },
    {
      "cell_type": "markdown",
      "metadata": {
        "id": "ruNqzJe1QSix"
      },
      "source": [
        "**the is operator**\n",
        "\n",
        "\n",
        "The is operator checks whether two variables (object_one and object_two here) refer to the same object."
      ]
    },
    {
      "cell_type": "code",
      "execution_count": 16,
      "metadata": {
        "colab": {
          "base_uri": "https://localhost:8080/"
        },
        "id": "ddXKhdLAQXD0",
        "outputId": "855e2573-a27f-4c43-c25a-b95c8d973703"
      },
      "outputs": [
        {
          "name": "stdout",
          "output_type": "stream",
          "text": [
            "False\n",
            "False\n",
            "True\n",
            "1 2 1\n",
            "True False\n"
          ]
        }
      ],
      "source": [
        "class SampleClass:\n",
        "    def __init__(self, val):\n",
        "        self.val = val\n",
        "\n",
        "\n",
        "object_1 = SampleClass(0)\n",
        "object_2 = SampleClass(2)\n",
        "object_3 = object_1\n",
        "object_3.val += 1\n",
        "\n",
        "print(object_1 is object_2)\n",
        "print(object_2 is object_3)\n",
        "print(object_3 is object_1)\n",
        "print(object_1.val, object_2.val, object_3.val)\n",
        "\n",
        "string_1 = \"Mary had a little \"\n",
        "string_2 = \"Mary had a little lamb\"\n",
        "string_1 += \"lamb\"\n",
        "\n",
        "print(string_1 == string_2, string_1 is string_2)"
      ]
    },
    {
      "cell_type": "markdown",
      "metadata": {
        "id": "E4l0t0AxmHIi"
      },
      "source": [
        "# **Class Variable**"
      ]
    },
    {
      "cell_type": "code",
      "execution_count": null,
      "metadata": {
        "colab": {
          "base_uri": "https://localhost:8080/",
          "height": 34
        },
        "id": "y-fp2oULmK6V",
        "outputId": "5955faf7-8483-405b-da0d-747a1ccaf81e"
      },
      "outputs": [
        {
          "name": "stdout",
          "output_type": "stream",
          "text": [
            "3\n"
          ]
        }
      ],
      "source": [
        "class mahasiswa():\n",
        "\n",
        "    jumlah_mahasiswa = 0\n",
        "\n",
        "    def __init__(self, input_nama, input_nim):\n",
        "        self.nama = input_nama # public\n",
        "        self.nim = input_nim  # public\n",
        "        mahasiswa.jumlah_mahasiswa += 1\n",
        "\n",
        "# main programnya\n",
        "\n",
        "otong = mahasiswa(\"otong surotong\", 13317001)\n",
        "ucup = mahasiswa(\"michael ucup\", 13317002)\n",
        "cassandra = mahasiswa(\"cassandra aja\", 13317002)\n",
        "\n",
        "print(mahasiswa.jumlah_mahasiswa) #class varible"
      ]
    },
    {
      "cell_type": "code",
      "execution_count": null,
      "metadata": {
        "colab": {
          "base_uri": "https://localhost:8080/"
        },
        "id": "TDVfhgJAZoD4",
        "outputId": "79e1e7e4-5e5d-485f-bddf-0344ea34d340"
      },
      "outputs": [
        {
          "name": "stdout",
          "output_type": "stream",
          "text": [
            "Roti Lapis\n",
            "5\n"
          ]
        }
      ],
      "source": [
        "class MenuItem:\n",
        "    pass\n",
        "\n",
        "menu_item1 = MenuItem()\n",
        "\n",
        "menu_item1.name = 'Roti Lapis'\n",
        "print(menu_item1.name)\n",
        "\n",
        "# Tentukan price menu_item1 ke 5\n",
        "menu_item1.price = 5\n",
        "\n",
        "# Cetak price dari menu_item1\n",
        "print(menu_item1.price)"
      ]
    },
    {
      "cell_type": "markdown",
      "metadata": {
        "id": "-awcPKFhFYok"
      },
      "source": [
        "**hasattr**"
      ]
    },
    {
      "cell_type": "code",
      "execution_count": 3,
      "metadata": {
        "colab": {
          "base_uri": "https://localhost:8080/"
        },
        "id": "wQAWoLK7FXs-",
        "outputId": "6def440c-96fc-41e2-bd43-59697389bb30"
      },
      "outputs": [
        {
          "name": "stdout",
          "output_type": "stream",
          "text": [
            "True\n",
            "True\n",
            "False\n",
            "True\n"
          ]
        }
      ],
      "source": [
        "class ExampleClass:\n",
        "    a = 1\n",
        "    def __init__(self):\n",
        "        self.b = 2\n",
        "\n",
        "\n",
        "example_object = ExampleClass()\n",
        "\n",
        "print(hasattr(example_object, 'b'))\n",
        "print(hasattr(example_object, 'a'))\n",
        "print(hasattr(ExampleClass, 'b'))\n",
        "print(hasattr(ExampleClass, 'a'))"
      ]
    },
    {
      "cell_type": "markdown",
      "metadata": {
        "id": "68rZQ8uc-7zP"
      },
      "source": [
        "# **Metode (Method)**\n",
        "\n",
        "Pembahasan lebih detail mengenai metode, selain yang dibahas sebelumnya, kita akan membahas 3 jenis metode:\n",
        "\n",
        "* Metode dari objek (object method)\n",
        "* Metode dari class (class method)\n",
        "* Metode secara static (static method)"
      ]
    },
    {
      "cell_type": "markdown",
      "metadata": {
        "id": "iIf0AGfn_zqT"
      },
      "source": [
        "## **Object Method**\n",
        "\n",
        "Pertama kita membahas metode dari objek, seperti yang sempat dijelaskan secara singkat di atas mengenai metode, atau dalam bahasa Inggris disebut method, secara umum metode adalah sebuah fungsi khusus yang menjadi “milik” suatu objek, yakni hasil instantiation dari class.\n",
        "\n",
        "Argumen pertama dari metode-metode dalam class, biasa diberikan nama self sebagai suatu konvensi atau standar penamaan, meskipun Anda bisa juga menggunakan nama lain. Bahkan dalam Python tidak ada arti khusus tentang sintaksis self ini, namun sangat disarankan menggunakan konversi ini agar program Python yang Anda buat akan lebih mudah dimengerti oleh pemrogram lainnya. "
      ]
    },
    {
      "cell_type": "markdown",
      "metadata": {
        "id": "LmQkKStOAFD_"
      },
      "source": [
        "## **Class Method**\n",
        "\n",
        "Classmethod adalah sebuah fungsi yang mengubah metode menjadi metode dari class (class method). Dalam penggunaannya, fungsi ini dijadikan sebagai fungsi decorator `@classmethod`, kemudian pemanggilannya bisa langsung dari class yang terdefinisi ataupun melalui objek.\n",
        "Metode dari class (class method) menerima masukan class secara implisit sebagai argumen pertama yang secara konvensi diberikan nama `cls`.\n",
        "\n"
      ]
    },
    {
      "cell_type": "code",
      "execution_count": null,
      "metadata": {
        "colab": {
          "base_uri": "https://localhost:8080/"
        },
        "id": "SpJaWzpGAPxX",
        "outputId": "41144fbf-f49b-45af-d9be-beffbfe1bd3f"
      },
      "outputs": [
        {
          "name": "stdout",
          "output_type": "stream",
          "text": [
            "1 + 2 = 3\n",
            "1 + 2 = 3\n"
          ]
        }
      ],
      "source": [
        "class Kalkulator:\n",
        "    \"\"\"contoh kelas kalkulator sederhana\"\"\"\n",
        " \n",
        "    def f(self):\n",
        "        return 'hello world'\n",
        " \n",
        "    @classmethod\n",
        "    def tambah_angka(cls, angka1, angka2):\n",
        "        return '{} + {} = {}'.format(angka1, angka2, angka1 + angka2)\n",
        "\n",
        "\n",
        "print(Kalkulator.tambah_angka(1, 2))  # tanpa perlu memberikan masukan untuk argumen cls\n",
        "\n",
        "# Metode dari class (class method) juga dapat dipanggil dari objek\n",
        "k = Kalkulator()\n",
        "print(k.tambah_angka(1, 2))"
      ]
    },
    {
      "cell_type": "markdown",
      "metadata": {
        "id": "bbP_PAFfAsJS"
      },
      "source": [
        "## **Static Method**\n",
        "\n",
        "Staticmethod adalah sebuah fungsi yang mengubah metode menjadi metode statis (static method). Dalam penggunaannya, fungsi ini dijadikan sebagai fungsi decorator `@staticmethod`, kemudian pemanggilannya bisa langsung dari class yang terdefinisi ataupun melalui objek.\n",
        "`Metode statis (static method) tidak menerima masukan argumen pertama secara implisit`."
      ]
    },
    {
      "cell_type": "code",
      "execution_count": null,
      "metadata": {
        "colab": {
          "base_uri": "https://localhost:8080/"
        },
        "id": "2pwNpogkA4kP",
        "outputId": "50c6aa6a-c713-4d42-8e87-71d15cb33297"
      },
      "outputs": [
        {
          "name": "stdout",
          "output_type": "stream",
          "text": [
            "2 x 3 = 6\n",
            "2 x 3 = 6\n"
          ]
        }
      ],
      "source": [
        "class Kalkulator:\n",
        "    \"\"\"contoh kelas kalkulator sederhana\"\"\"\n",
        " \n",
        "    def f(self):\n",
        "        return 'hello world'\n",
        " \n",
        "    @staticmethod\n",
        "    def kali_angka(angka1, angka2):\n",
        "        return '{} x {} = {}'.format(angka1, angka2, angka1 * angka2)\n",
        "\n",
        "    \n",
        "a = Kalkulator.kali_angka(2, 3)\n",
        "print(a)\n",
        "\n",
        "# Metode statis (static method) juga dapat dipanggil dari objek\n",
        "\n",
        "k = Kalkulator()\n",
        "a = k.kali_angka(2, 3)\n",
        "print(a)"
      ]
    },
    {
      "cell_type": "markdown",
      "metadata": {
        "id": "kVPHt7yS4Uln"
      },
      "source": [
        "# **Access Properties/Atribute and Method**\n",
        "\n",
        "Anda mengakses atribut objek menggunakan dot operator dengan objek. Variabel kelas akan diakses dengan menggunakan nama kelas sebagai berikut :"
      ]
    },
    {
      "cell_type": "code",
      "execution_count": null,
      "metadata": {
        "colab": {
          "base_uri": "https://localhost:8080/",
          "height": 34
        },
        "id": "41p2rFzP9eIo",
        "outputId": "3e91641f-ca49-40ff-8ff7-0ce481a6d04f"
      },
      "outputs": [
        {
          "name": "stdout",
          "output_type": "stream",
          "text": [
            "Hello my name is John\n"
          ]
        }
      ],
      "source": [
        "class Person:\n",
        "  def __init__(self, name, age):\n",
        "    self.name = name\n",
        "    self.age = age\n",
        "\n",
        "  def myfunc(self):\n",
        "    print(\"Hello my name is \" + self.name)\n",
        "\n",
        "p1 = Person(\"John\", 36)\n",
        "p1.myfunc()"
      ]
    },
    {
      "cell_type": "code",
      "execution_count": null,
      "metadata": {
        "colab": {
          "base_uri": "https://localhost:8080/",
          "height": 70
        },
        "id": "L_SvdfWy4Vr0",
        "outputId": "c224876e-292e-49e3-d1d9-4573055571cb"
      },
      "outputs": [
        {
          "name": "stdout",
          "output_type": "stream",
          "text": [
            "Name :  Zara , Salary:  2000\n",
            "Name :  Manni , Salary:  5000\n",
            "Total Employee 2\n"
          ]
        }
      ],
      "source": [
        "class Employee:\n",
        "   'Common base class for all employees'\n",
        "   empCount = 0\n",
        "\n",
        "   def __init__(self, name, salary):\n",
        "      self.name = name\n",
        "      self.salary = salary\n",
        "      Employee.empCount += 1\n",
        "   \n",
        "   def displayCount(self):\n",
        "     print(\"Total Employee %d\" % Employee.empCount)\n",
        "\n",
        "   def displayEmployee(self):\n",
        "      print(\"Name : \", self.name,  \", Salary: \", self.salary)\n",
        "      \n",
        "emp1 = Employee(\"Zara\", 2000)\n",
        "emp2 = Employee(\"Manni\", 5000)\n",
        "\n",
        "# Access Method\n",
        "emp1.displayEmployee()\n",
        "emp2.displayEmployee()\n",
        "# Access Atribute\n",
        "print (\"Total Employee %d\" % Employee.empCount)"
      ]
    },
    {
      "cell_type": "markdown",
      "metadata": {
        "id": "Ol0chreM-Mou"
      },
      "source": [
        "# **Modify and Delete Properties/Atribute**"
      ]
    },
    {
      "cell_type": "code",
      "execution_count": null,
      "metadata": {
        "colab": {
          "base_uri": "https://localhost:8080/",
          "height": 52
        },
        "id": "jZvi245r-cLc",
        "outputId": "92091e18-7067-4033-d9f9-e1bad6365f64"
      },
      "outputs": [
        {
          "name": "stdout",
          "output_type": "stream",
          "text": [
            "John  age is  36\n",
            "John  age is  40\n"
          ]
        }
      ],
      "source": [
        "class Person:\n",
        "  def __init__(self, name, age):\n",
        "    self.name = name\n",
        "    self.age = age\n",
        "\n",
        "  def myfunc(self):\n",
        "    print(self.name ,\" age is \", self.age)\n",
        "\n",
        "p1 = Person(\"John\", 36)\n",
        "p1.myfunc()\n",
        "\n",
        "# Modify Properties\n",
        "p1.age = 40\n",
        "p1.myfunc()\n",
        "\n",
        "# try to Delete Properties\n",
        "del p1.age\n",
        "# p1.myfunc() 'Person' object has no attribute 'age'"
      ]
    },
    {
      "cell_type": "markdown",
      "metadata": {
        "id": "zrjQi1Jb84w2"
      },
      "source": [
        "#**Docstring**\n",
        "Documenting Functions, Classes, and Methods (Optional)"
      ]
    },
    {
      "cell_type": "markdown",
      "metadata": {
        "id": "9FuBWuWZ9rqp"
      },
      "source": [
        " **help() for Object Class**"
      ]
    },
    {
      "cell_type": "code",
      "execution_count": null,
      "metadata": {
        "colab": {
          "base_uri": "https://localhost:8080/"
        },
        "id": "4a5C6N9S89D_",
        "outputId": "eea8d4a0-cb96-4d26-858b-cbb291cd84f9"
      },
      "outputs": [
        {
          "name": "stdout",
          "output_type": "stream",
          "text": [
            "Help on class Apple in module __main__:\n",
            "\n",
            "class Apple(builtins.object)\n",
            " |  Methods defined here:\n",
            " |  \n",
            " |  __init__(self, color, flavor)\n",
            " |      Initialize self.  See help(type(self)) for accurate signature.\n",
            " |  \n",
            " |  __str__(self)\n",
            " |      Return str(self).\n",
            " |  \n",
            " |  ----------------------------------------------------------------------\n",
            " |  Data descriptors defined here:\n",
            " |  \n",
            " |  __dict__\n",
            " |      dictionary for instance variables (if defined)\n",
            " |  \n",
            " |  __weakref__\n",
            " |      list of weak references to the object (if defined)\n",
            "\n"
          ]
        }
      ],
      "source": [
        "class Apple:\n",
        " def __init__(self, color, flavor):\n",
        "     self.color = color\n",
        "     self.flavor = flavor\n",
        " def __str__(self):\n",
        "     return \"This apple is {} and its flavor is {}\".format(self.color, self.flavor)\n",
        "\n",
        "help(Apple)"
      ]
    },
    {
      "cell_type": "markdown",
      "metadata": {
        "id": "Pdr6g_NM973v"
      },
      "source": [
        "**Docstring**"
      ]
    },
    {
      "cell_type": "code",
      "execution_count": null,
      "metadata": {
        "colab": {
          "base_uri": "https://localhost:8080/"
        },
        "id": "GuZCIP6N98aL",
        "outputId": "940fec9d-7cd9-4384-b994-35c41bb2c5fa"
      },
      "outputs": [
        {
          "name": "stdout",
          "output_type": "stream",
          "text": [
            "Help on class Person in module __main__:\n",
            "\n",
            "class Person(builtins.object)\n",
            " |  Methods defined here:\n",
            " |  \n",
            " |  __init__(self, name)\n",
            " |      Initialize self.  See help(type(self)) for accurate signature.\n",
            " |  \n",
            " |  greeting(self)\n",
            " |      Outputs a message with the name of the person\n",
            " |  \n",
            " |  ----------------------------------------------------------------------\n",
            " |  Data descriptors defined here:\n",
            " |  \n",
            " |  __dict__\n",
            " |      dictionary for instance variables (if defined)\n",
            " |  \n",
            " |  __weakref__\n",
            " |      list of weak references to the object (if defined)\n",
            "\n"
          ]
        }
      ],
      "source": [
        "class Person:\n",
        "  def __init__(self, name):\n",
        "    self.name = name\n",
        "  def greeting(self):\n",
        "    \"Outputs a message with the name of the person\" #--> this is docstring\n",
        "    print(\"Hello! My name is {name}.\".format(name=self.name)) \n",
        "\n",
        "help(Person)\n"
      ]
    },
    {
      "cell_type": "markdown",
      "metadata": {
        "id": "HjLQXBpuk7cP"
      },
      "source": [
        "# **Private Atribute**\n",
        "\n",
        "jika kita tidak ingin melakukan perubahan pada atribute dari luar. maka bisa mengguanakan private atribute."
      ]
    },
    {
      "cell_type": "code",
      "execution_count": null,
      "metadata": {
        "colab": {
          "base_uri": "https://localhost:8080/",
          "height": 52
        },
        "id": "QbjHctSklHOM",
        "outputId": "5bcc8e97-0d61-4c6c-a785-7327241e1a12"
      },
      "outputs": [
        {
          "name": "stdout",
          "output_type": "stream",
          "text": [
            "otong surotong lulus\n",
            "michael ucup tidak lulus\n"
          ]
        }
      ],
      "source": [
        "class mahasiswa():\n",
        "\n",
        "    jurusan = \"teknik tata boga\"\n",
        "    __nilai = 0 # private\n",
        "\n",
        "    def __init__(self, input_nama, input_nim):\n",
        "        self.nama = input_nama # public\n",
        "        self.nim = input_nim  # public\n",
        "\n",
        "    def uts(self,input_nilai):\n",
        "        self.__nilai += input_nilai\n",
        "\n",
        "    def uas(self,input_nilai):\n",
        "        self.__nilai += input_nilai\n",
        "\n",
        "    def check_status(self):\n",
        "        if self.__nilai <= 50:\n",
        "            print(self.nama,'tidak lulus')\n",
        "        else:\n",
        "            print(self.nama, 'lulus')\n",
        "\n",
        "# main programnya\n",
        "\n",
        "otong = mahasiswa(\"otong surotong\", 13317001)\n",
        "ucup = mahasiswa(\"michael ucup\", 13317002)\n",
        "\n",
        "otong.uts(10)\n",
        "otong.uas(50)\n",
        "otong.check_status()\n",
        "ucup.uts(5)\n",
        "ucup.uas(25)\n",
        "ucup.__nilai = 60\n",
        "ucup.check_status()"
      ]
    },
    {
      "cell_type": "markdown",
      "metadata": {
        "id": "hpFEjGdX_OCF"
      },
      "source": [
        "# **Delete Object**\n",
        "\n",
        "You can delete objects by using the del keyword"
      ]
    },
    {
      "cell_type": "code",
      "execution_count": null,
      "metadata": {
        "id": "6r4i2ot6_T8t"
      },
      "outputs": [],
      "source": [
        "del p1"
      ]
    },
    {
      "cell_type": "markdown",
      "metadata": {
        "id": "QqZVz0tm_YwC"
      },
      "source": [
        "# **Empty Class**\n",
        "\n",
        "class definitions cannot be empty, but if you for some reason have a class definition with no content, put in the `pass statement` to avoid getting an error."
      ]
    },
    {
      "cell_type": "code",
      "execution_count": null,
      "metadata": {
        "id": "6_hKNbLM_giX"
      },
      "outputs": [],
      "source": [
        "class Person:\n",
        "  pass"
      ]
    },
    {
      "cell_type": "markdown",
      "metadata": {
        "id": "hHHcXPgVakQA"
      },
      "source": [
        "# **Separate File Concept**"
      ]
    },
    {
      "cell_type": "code",
      "execution_count": null,
      "metadata": {
        "colab": {
          "base_uri": "https://localhost:8080/"
        },
        "id": "ENB5D5inavxX",
        "outputId": "0bb55876-3fbd-49ae-9923-14c78cc77738"
      },
      "outputs": [
        {
          "name": "stdout",
          "output_type": "stream",
          "text": [
            "Overwriting script.py\n"
          ]
        }
      ],
      "source": [
        "%%writefile script.py\n",
        "\n",
        "# Import class MenuItem dari menu_item.py\n",
        "from menu_item import MenuItem\n",
        "\n",
        "menu_item1 = MenuItem('Roti Lapis', 5)\n",
        "\n",
        "print(menu_item1.info())\n",
        "\n",
        "result = menu_item1.get_total_price(4)\n",
        "print('Total harga adalah $' + str(result))\n"
      ]
    },
    {
      "cell_type": "code",
      "execution_count": null,
      "metadata": {
        "colab": {
          "base_uri": "https://localhost:8080/"
        },
        "id": "-KpJmnA7a6UI",
        "outputId": "954b51aa-e455-4ce2-b648-086b7c9ab47e"
      },
      "outputs": [
        {
          "name": "stdout",
          "output_type": "stream",
          "text": [
            "Overwriting menu_item.py\n"
          ]
        }
      ],
      "source": [
        "%%writefile menu_item.py\n",
        "# Tempelkan code untuk class MenuItem\n",
        "class MenuItem:\n",
        "    def __init__(self, name, price):\n",
        "        self.name = name\n",
        "        self.price = price\n",
        "\n",
        "    def info(self):\n",
        "        return self.name + ': $' + str(self.price)\n",
        "\n",
        "    def get_total_price(self, count):\n",
        "        total_price = self.price * count\n",
        "        return total_price"
      ]
    },
    {
      "cell_type": "code",
      "execution_count": null,
      "metadata": {
        "colab": {
          "base_uri": "https://localhost:8080/"
        },
        "id": "TfV-uYBNa_TD",
        "outputId": "72c0e4a3-3106-4111-c852-e4e308428542"
      },
      "outputs": [
        {
          "name": "stdout",
          "output_type": "stream",
          "text": [
            "Roti Lapis: $5\n",
            "Total harga adalah $20\n"
          ]
        }
      ],
      "source": [
        "!python3 script.py"
      ]
    },
    {
      "cell_type": "code",
      "execution_count": null,
      "metadata": {
        "colab": {
          "base_uri": "https://localhost:8080/"
        },
        "id": "sbtq0tzYbrNV",
        "outputId": "6841b794-4c43-4731-f5c8-d24a8f94de39"
      },
      "outputs": [
        {
          "name": "stdout",
          "output_type": "stream",
          "text": [
            "Overwriting script2.py\n"
          ]
        }
      ],
      "source": [
        "%%writefile script2.py\n",
        "from menu_item import MenuItem\n",
        "\n",
        "menu_item1 = MenuItem('Roti Lapis', 5)\n",
        "menu_item2 = MenuItem('Kue Coklat', 4)\n",
        "menu_item3 = MenuItem('Kopi', 3)\n",
        "menu_item4 = MenuItem('Jus Jeruk', 2)\n",
        "\n",
        "menu_items = [menu_item1, menu_item2, menu_item3, menu_item4]\n",
        "\n",
        "index = 0\n",
        "\n",
        "for menu_item in menu_items:\n",
        "    print(str(index) + '. ' + menu_item.info())\n",
        "    index += 1\n",
        "\n",
        "print('--------------------')\n",
        "\n",
        "order = int(input('Masukkan nomor menu: '))\n",
        "selected_menu = menu_items[order]\n",
        "print('Item yang di pilih: ' + selected_menu.name)\n",
        "\n",
        "# Terima input dari console, dan Berikan input ke variable count\n",
        "count = int(input('Jumlah pesanan (diskon 10% untuk 3 atau lebih): '))\n",
        "\n",
        "# Panggil method get_total_price \n",
        "result = selected_menu.get_total_price(count)\n",
        "\n",
        "# Cetak 'Total harga adalah $____'\n",
        "print('Total harga adalah $'+str(result))"
      ]
    },
    {
      "cell_type": "code",
      "execution_count": null,
      "metadata": {
        "colab": {
          "base_uri": "https://localhost:8080/"
        },
        "id": "Haz-i3RUbvRh",
        "outputId": "c327fb52-d7ca-4a1f-f97c-fe58e54ad247"
      },
      "outputs": [
        {
          "name": "stdout",
          "output_type": "stream",
          "text": [
            "0. Roti Lapis: $5\n",
            "1. Kue Coklat: $4\n",
            "2. Kopi: $3\n",
            "3. Jus Jeruk: $2\n",
            "--------------------\n",
            "Masukkan nomor menu: 2\n",
            "Item yang di pilih: Kopi\n",
            "Jumlah pesanan (diskon 10% untuk 3 atau lebih): 2\n",
            "Total harga adalah $6\n"
          ]
        }
      ],
      "source": [
        "!python3 script2.py"
      ]
    },
    {
      "cell_type": "markdown",
      "metadata": {
        "id": "VwX3yL4L_mUl"
      },
      "source": [
        "# **OOP Structure**"
      ]
    },
    {
      "cell_type": "markdown",
      "metadata": {
        "id": "0O5OvTNW_qXa"
      },
      "source": [
        "## **Inheritance**\n",
        "\n",
        "Inheritance allows us to define a class that inherits all the methods and properties from another class.\n",
        "\n",
        "* **Parent class** is the class being inherited from, also called base class.\n",
        "\n",
        "* **Child class** is the class that inherits from another class, also called derived class."
      ]
    },
    {
      "cell_type": "markdown",
      "metadata": {
        "id": "oUJdrajj_8_r"
      },
      "source": [
        "### **Create Parent Class**\n",
        "\n",
        "Create a class named Person, with firstname and lastname properties, and a printname method"
      ]
    },
    {
      "cell_type": "code",
      "execution_count": null,
      "metadata": {
        "colab": {
          "base_uri": "https://localhost:8080/",
          "height": 34
        },
        "id": "ku8H2plsAGsX",
        "outputId": "903905ce-cd9f-40df-a887-fd96be9b2e08"
      },
      "outputs": [
        {
          "name": "stdout",
          "output_type": "stream",
          "text": [
            "John Doe\n"
          ]
        }
      ],
      "source": [
        "class Person:\n",
        "  def __init__(self, fname, lname):\n",
        "    self.firstname = fname\n",
        "    self.lastname = lname\n",
        "\n",
        "  def printname(self):\n",
        "    print(self.firstname, self.lastname)\n",
        "\n",
        "#Use the Person class to create an object, and then execute the printname method:\n",
        "\n",
        "x = Person(\"John\", \"Doe\")\n",
        "x.printname()"
      ]
    },
    {
      "cell_type": "markdown",
      "metadata": {
        "id": "32z1jG93AJ1E"
      },
      "source": [
        "### **Create Child Class**\n",
        "\n",
        "To create a class that inherits the functionality from another class, send the parent class as a parameter when creating the child class\n",
        "\n",
        "Create a class named Student, which will inherit the properties and methods from the Person class:\n",
        "\n",
        "Note: \n",
        "\n",
        "Use the pass keyword when you do not want to add any other properties or methods to the class."
      ]
    },
    {
      "cell_type": "code",
      "execution_count": null,
      "metadata": {
        "colab": {
          "base_uri": "https://localhost:8080/",
          "height": 34
        },
        "id": "L8xkQE7tARiM",
        "outputId": "1bce2c21-7711-4b0f-a0da-dcc988386650"
      },
      "outputs": [
        {
          "name": "stdout",
          "output_type": "stream",
          "text": [
            "Mike Olsen\n"
          ]
        }
      ],
      "source": [
        "class Person:\n",
        "  def __init__(self, fname, lname):\n",
        "    self.firstname = fname\n",
        "    self.lastname = lname\n",
        "\n",
        "  def printname(self):\n",
        "    print(self.firstname, self.lastname)\n",
        "\n",
        "class Student(Person):\n",
        "  pass\n",
        "\n",
        "x = Student(\"Mike\", \"Olsen\")\n",
        "x.printname()"
      ]
    },
    {
      "cell_type": "markdown",
      "metadata": {
        "id": "A7NRI2RMAhy9"
      },
      "source": [
        "### **Add the __init__() Function**\n",
        "\n",
        "We want to add the __init__() function to the child class (instead of the pass keyword)."
      ]
    },
    {
      "cell_type": "code",
      "execution_count": null,
      "metadata": {
        "id": "KWhCdnJbb6vQ"
      },
      "outputs": [],
      "source": [
        "class Person:\n",
        "  def __init__(self, fname, lname):\n",
        "    self.firstname = fname\n",
        "    self.lastname = lname\n",
        "\n",
        "  def printname(self):\n",
        "    print(self.firstname, self.lastname)\n",
        "\n",
        "class Student(Person):\n",
        "  def __init__(self, fname, lname):\n",
        "    #add properties etc\n",
        "    pass"
      ]
    },
    {
      "cell_type": "markdown",
      "metadata": {
        "id": "NbQXNT8Qb8ei"
      },
      "source": [
        "When you add the \\_\\_init\\_\\_() function, the child class will no longer inherit the parent's \\_\\_init\\_\\_() function.\n",
        "\n",
        "Note: The child's \\_\\_init\\_\\_() function overrides the inheritance of the parent's \\_\\_init\\_\\_() function.\n",
        "\n",
        "To keep the inheritance of the parent's \\_\\_init\\_\\_() function, add a call to the parent's \\_\\_init\\_\\_() function:"
      ]
    },
    {
      "cell_type": "code",
      "execution_count": null,
      "metadata": {
        "id": "NojGnfp3c6hD"
      },
      "outputs": [],
      "source": [
        "class Person:\n",
        "  def __init__(self, fname, lname):\n",
        "    self.firstname = fname\n",
        "    self.lastname = lname\n",
        "\n",
        "  def printname(self):\n",
        "    print(self.firstname, self.lastname)\n",
        "\n",
        "class Student(Person):\n",
        "  def __init__(self, fname, lname):\n",
        "    Person.__init__(self, fname, lname)"
      ]
    },
    {
      "cell_type": "markdown",
      "metadata": {
        "id": "yAFeBiY1dan8"
      },
      "source": [
        "### **Use the super() Function**\n",
        "\n",
        "Python also has a super() function that will make the child class inherit all the methods and properties from its parent"
      ]
    },
    {
      "cell_type": "code",
      "execution_count": null,
      "metadata": {
        "id": "mpfnUqFHdgrp"
      },
      "outputs": [],
      "source": [
        "class Person:\n",
        "  def __init__(self, fname, lname):\n",
        "    self.firstname = fname\n",
        "    self.lastname = lname\n",
        "\n",
        "  def printname(self):\n",
        "    print(self.firstname, self.lastname)\n",
        "\n",
        "class Student(Person):\n",
        "  def __init__(self, fname, lname):\n",
        "    super().__init__(fname, lname)"
      ]
    },
    {
      "cell_type": "markdown",
      "metadata": {
        "id": "xv5xvzA5djrJ"
      },
      "source": [
        "By using the super() function, you do not have to use the name of the parent element, it will automatically inherit the methods and properties from its parent."
      ]
    },
    {
      "cell_type": "code",
      "execution_count": 17,
      "metadata": {
        "colab": {
          "base_uri": "https://localhost:8080/"
        },
        "id": "ItHwc-fxSJeO",
        "outputId": "e0c20197-add3-4e8e-fc38-4f548f0dce83"
      },
      "outputs": [
        {
          "name": "stdout",
          "output_type": "stream",
          "text": [
            "12\n",
            "11\n"
          ]
        }
      ],
      "source": [
        "# Testing properties: instance variables.\n",
        "class Super:\n",
        "    def __init__(self):\n",
        "        self.supVar = 11\n",
        "\n",
        "\n",
        "class Sub(Super):\n",
        "    def __init__(self):\n",
        "        super().__init__()\n",
        "        self.subVar = 12\n",
        "\n",
        "\n",
        "obj = Sub()\n",
        "\n",
        "print(obj.subVar)\n",
        "print(obj.supVar)"
      ]
    },
    {
      "cell_type": "markdown",
      "metadata": {
        "id": "yYgK6DoihdX2"
      },
      "source": [
        "### **Add Properties**\n"
      ]
    },
    {
      "cell_type": "code",
      "execution_count": null,
      "metadata": {
        "id": "xnIvvBLKhnCP"
      },
      "outputs": [],
      "source": [
        "class Person:\n",
        "  def __init__(self, fname, lname):\n",
        "    self.firstname = fname\n",
        "    self.lastname = lname\n",
        "\n",
        "  def printname(self):\n",
        "    print(self.firstname, self.lastname)\n",
        "\n",
        "class Student(Person):\n",
        "  def __init__(self, fname, lname):\n",
        "    super().__init__(fname, lname)\n",
        "    self.graduationyear = 2019"
      ]
    },
    {
      "cell_type": "code",
      "execution_count": null,
      "metadata": {
        "id": "LTift2WjhpKS"
      },
      "outputs": [],
      "source": [
        "class Person:\n",
        "  def __init__(self, fname, lname):\n",
        "    self.firstname = fname\n",
        "    self.lastname = lname\n",
        "\n",
        "  def printname(self):\n",
        "    print(self.firstname, self.lastname)\n",
        "\n",
        "class Student(Person):\n",
        "  def __init__(self, fname, lname, year):\n",
        "    super().__init__(fname, lname)\n",
        "    self.graduationyear = year\n",
        "\n",
        "x = Student(\"Mike\", \"Olsen\", 2019)"
      ]
    },
    {
      "cell_type": "markdown",
      "metadata": {
        "id": "IQJiHi88hrtL"
      },
      "source": [
        "### **Add Methods**"
      ]
    },
    {
      "cell_type": "code",
      "execution_count": null,
      "metadata": {
        "id": "FoXEArDBhu6z"
      },
      "outputs": [],
      "source": [
        "class Person:\n",
        "  def __init__(self, fname, lname):\n",
        "    self.firstname = fname\n",
        "    self.lastname = lname\n",
        "\n",
        "  def printname(self):\n",
        "    print(self.firstname, self.lastname)\n",
        "\n",
        "class Student(Person):\n",
        "  def __init__(self, fname, lname, year):\n",
        "    super().__init__(fname, lname)\n",
        "    self.graduationyear = year\n",
        "\n",
        "  def welcome(self):\n",
        "    print(\"Welcome\", self.firstname, self.lastname, \"to the class of\", self.graduationyear)"
      ]
    },
    {
      "cell_type": "markdown",
      "metadata": {
        "id": "Of-iIsGah2r1"
      },
      "source": [
        "If you add a method in the child class with the same name as a function in the parent class, the inheritance of the parent method will be overridden."
      ]
    },
    {
      "cell_type": "markdown",
      "metadata": {
        "id": "pnAhRLBkAoQH"
      },
      "source": [
        "### **Link Inheritance**"
      ]
    },
    {
      "cell_type": "code",
      "execution_count": 24,
      "metadata": {
        "colab": {
          "base_uri": "https://localhost:8080/"
        },
        "id": "o2gn5npHAqho",
        "outputId": "89f93814-0e2c-4777-a14d-a292312000e1"
      },
      "outputs": [
        {
          "name": "stdout",
          "output_type": "stream",
          "text": [
            "bottom\n",
            "middle\n",
            "top\n"
          ]
        }
      ],
      "source": [
        "class Top:\n",
        "    def m_top(self):\n",
        "        print(\"top\")\n",
        "\n",
        "\n",
        "class Middle(Top):\n",
        "    def m_middle(self):\n",
        "        print(\"middle\")\n",
        "\n",
        "\n",
        "class Bottom(Middle):\n",
        "    def m_bottom(self):\n",
        "        print(\"bottom\")\n",
        "\n",
        "\n",
        "object = Bottom()\n",
        "object.m_bottom()\n",
        "object.m_middle()\n",
        "object.m_top()"
      ]
    },
    {
      "cell_type": "markdown",
      "metadata": {
        "id": "b5Rs76b6-xDk"
      },
      "source": [
        "### **Multiple inheritance**"
      ]
    },
    {
      "cell_type": "code",
      "execution_count": 18,
      "metadata": {
        "colab": {
          "base_uri": "https://localhost:8080/"
        },
        "id": "gkMqY_5C-y0L",
        "outputId": "8fb8cb0c-ba59-492d-e5af-8704e61ad84b"
      },
      "outputs": [
        {
          "name": "stdout",
          "output_type": "stream",
          "text": [
            "10 11\n",
            "20 21\n"
          ]
        }
      ],
      "source": [
        "class SuperA:\n",
        "    var_a = 10\n",
        "    def fun_a(self):\n",
        "        return 11\n",
        "\n",
        "\n",
        "class SuperB:\n",
        "    var_b = 20\n",
        "    def fun_b(self):\n",
        "        return 21\n",
        "\n",
        "\n",
        "class Sub(SuperA, SuperB):\n",
        "    pass\n",
        "\n",
        "\n",
        "obj = Sub()\n",
        "\n",
        "print(obj.var_a, obj.fun_a())\n",
        "print(obj.var_b, obj.fun_b())"
      ]
    },
    {
      "cell_type": "markdown",
      "metadata": {
        "id": "zufb8ZnK-67R"
      },
      "source": [
        "### **Overriding**"
      ]
    },
    {
      "cell_type": "code",
      "execution_count": 19,
      "metadata": {
        "colab": {
          "base_uri": "https://localhost:8080/"
        },
        "id": "gUxEwXyW-_n7",
        "outputId": "453d073c-a086-4091-84a0-239111fe62f4"
      },
      "outputs": [
        {
          "name": "stdout",
          "output_type": "stream",
          "text": [
            "200 201\n"
          ]
        }
      ],
      "source": [
        "class Level1:\n",
        "    var = 100\n",
        "    def fun(self):\n",
        "        return 101\n",
        "\n",
        "\n",
        "class Level2(Level1):\n",
        "    var = 200\n",
        "    def fun(self):\n",
        "        return 201\n",
        "\n",
        "\n",
        "class Level3(Level2):\n",
        "    pass\n",
        "\n",
        "\n",
        "obj = Level3()\n",
        "\n",
        "print(obj.var, obj.fun())"
      ]
    },
    {
      "cell_type": "code",
      "execution_count": 22,
      "metadata": {
        "colab": {
          "base_uri": "https://localhost:8080/"
        },
        "id": "M4grT4Yr_MpY",
        "outputId": "30c0b1d9-83f0-4152-b484-7ca34adc1150"
      },
      "outputs": [
        {
          "name": "stdout",
          "output_type": "stream",
          "text": [
            "L LL RR Left\n",
            "R LL RR Right\n"
          ]
        }
      ],
      "source": [
        "class Left:\n",
        "    var = \"L\"\n",
        "    var_left = \"LL\"\n",
        "    def fun(self):\n",
        "        return \"Left\"\n",
        "\n",
        "\n",
        "class Right:\n",
        "    var = \"R\"\n",
        "    var_right = \"RR\"\n",
        "    def fun(self):\n",
        "        return \"Right\"\n",
        "\n",
        "# first is definer\n",
        "class Sub1(Left, Right):\n",
        "    pass\n",
        "\n",
        "class Sub2(Right, Left):\n",
        "    pass\n",
        "\n",
        "\n",
        "obj1 = Sub1()\n",
        "print(obj1.var, obj1.var_left, obj1.var_right, obj1.fun())\n",
        "\n",
        "obj2 = Sub2()\n",
        "print(obj2.var, obj2.var_left, obj2.var_right, obj2.fun())"
      ]
    },
    {
      "cell_type": "code",
      "execution_count": 23,
      "metadata": {
        "colab": {
          "base_uri": "https://localhost:8080/"
        },
        "id": "5xIG8VZh_6KS",
        "outputId": "668a464b-9b46-49e2-d96a-a362599adb6e"
      },
      "outputs": [
        {
          "name": "stdout",
          "output_type": "stream",
          "text": [
            "do_it from One\n",
            "do_it from Two\n"
          ]
        }
      ],
      "source": [
        "class One:\n",
        "    def do_it(self):\n",
        "        print(\"do_it from One\")\n",
        "\n",
        "    def doanything(self):\n",
        "        self.do_it()\n",
        "\n",
        "\n",
        "class Two(One):\n",
        "    def do_it(self):\n",
        "        print(\"do_it from Two\")\n",
        "\n",
        "\n",
        "one = One()\n",
        "two = Two()\n",
        "\n",
        "one.doanything()\n",
        "two.doanything()"
      ]
    },
    {
      "cell_type": "markdown",
      "metadata": {
        "id": "f6is9CHjoYFf"
      },
      "source": [
        "### **Contoh Lain**"
      ]
    },
    {
      "cell_type": "code",
      "execution_count": null,
      "metadata": {
        "colab": {
          "base_uri": "https://localhost:8080/",
          "height": 87
        },
        "id": "lX0O_sCwny0k",
        "outputId": "e875221c-e14b-40e1-99c8-84770816a025"
      },
      "outputs": [
        {
          "name": "stdout",
          "output_type": "stream",
          "text": [
            "nama: mario \n",
            "motor: manual \n",
            "daerah: bandung selatan\n",
            "cek aplikasi gojek\n"
          ]
        }
      ],
      "source": [
        "class Ojek():\n",
        "\n",
        "    def __init__(self, nama, transmisi, daerah):\n",
        "        self.nama = nama\n",
        "        self.transmisi = transmisi\n",
        "        self.daerah = daerah\n",
        "\n",
        "    def cek_id_abang(self):\n",
        "        print('nama:',self.nama,'\\nmotor:',self.transmisi,'\\ndaerah:',self.daerah)\n",
        "\n",
        "class Gojek(Ojek):\n",
        "\n",
        "    def cek_id_abang(self):\n",
        "        print('cek aplikasi gojek')\n",
        "\n",
        "\n",
        "ojek1 = Ojek('mario','manual','bandung selatan')\n",
        "ojek2 = Gojek('jackson','automatic','tasikmalaya')\n",
        "\n",
        "ojek1.cek_id_abang()\n",
        "ojek2.cek_id_abang()"
      ]
    },
    {
      "cell_type": "markdown",
      "metadata": {
        "id": "ytODzGCBEmtb"
      },
      "source": [
        "### **Contoh Lain 02**"
      ]
    },
    {
      "cell_type": "code",
      "execution_count": null,
      "metadata": {
        "colab": {
          "base_uri": "https://localhost:8080/"
        },
        "id": "gMBperoloknT",
        "outputId": "43d560bc-2ea9-46ff-9689-ff855aa03cda"
      },
      "outputs": [
        {
          "name": "stdout",
          "output_type": "stream",
          "text": [
            "6\n",
            "kalkulator sederhana melebihi batas angka: 11\n",
            "11\n"
          ]
        }
      ],
      "source": [
        "class Kalkulator:\n",
        "    \"\"\"contoh kelas kalkulator sederhana. anggap kelas ini tidak boleh diubah!\"\"\"\n",
        " \n",
        "    def __init__(self, nilai=0):\n",
        "        self.nilai = nilai\n",
        " \n",
        "    def tambah_angka(self, angka1, angka2):\n",
        "        self.nilai = angka1 + angka2\n",
        "        if self.nilai > 9:  # kalkulator sederhana hanya memroses sampai 9\n",
        "            print('kalkulator sederhana melebihi batas angka: {}'.format(self.nilai))\n",
        "        return self.nilai\n",
        "\n",
        "class KalkulatorKali(Kalkulator):\n",
        "    \"\"\"contoh mewarisi kelas kalkulator sederhana\"\"\"\n",
        " \n",
        "    def kali_angka(self, angka1, angka2):\n",
        "        self.nilai = angka1 * angka2\n",
        "        return self.nilai\n",
        "\n",
        "kk = KalkulatorKali()\n",
        "a = kk.kali_angka(2, 3)  # sesuai dengan definisi class memiliki fitur kali_angka\n",
        "print(a)\n",
        " \n",
        "b = kk.tambah_angka(5, 6)  # memiliki fitur tambah_angka karena mewarisi dari Kalkulator\n",
        "print(b)"
      ]
    },
    {
      "cell_type": "markdown",
      "metadata": {
        "id": "aYMtxeP0Fyf1"
      },
      "source": [
        "Selain itu kita juga mengoverride methodnya"
      ]
    },
    {
      "cell_type": "code",
      "execution_count": null,
      "metadata": {
        "colab": {
          "base_uri": "https://localhost:8080/"
        },
        "id": "2x0vD__tFD05",
        "outputId": "ba18e074-7963-4f17-a2ae-1b89f337286c"
      },
      "outputs": [
        {
          "name": "stdout",
          "output_type": "stream",
          "text": [
            "11\n"
          ]
        }
      ],
      "source": [
        "class Kalkulator:\n",
        "    \"\"\"contoh kelas kalkulator sederhana. anggap kelas ini tidak boleh diubah!\"\"\"\n",
        " \n",
        "    def __init__(self, nilai=0):\n",
        "        self.nilai = nilai\n",
        " \n",
        "    def tambah_angka(self, angka1, angka2):\n",
        "        self.nilai = angka1 + angka2\n",
        "        if self.nilai > 9:  # kalkulator sederhana hanya memroses sampai 9\n",
        "            print('kalkulator sederhana melebihi batas angka: {}'.format(self.nilai))\n",
        "        return self.nilai\n",
        "\n",
        "class KalkulatorKali(Kalkulator):\n",
        "    \"\"\"contoh mewarisi kelas kalkulator sederhana\"\"\"\n",
        " \n",
        "    def kali_angka(self, angka1, angka2):\n",
        "        self.nilai = angka1 * angka2\n",
        "        return self.nilai\n",
        " \n",
        "    # di Override  \n",
        "    def tambah_angka(self, angka1, angka2):\n",
        "        self.nilai = angka1 + angka2\n",
        "        return self.nilai\n",
        "\n",
        "kk = KalkulatorKali()\n",
        " \n",
        "b = kk.tambah_angka(5, 6)  # fitur tambah_angka yang dipanggil milik KalkulatorKali\n",
        "print(b)"
      ]
    },
    {
      "cell_type": "markdown",
      "metadata": {
        "id": "mZXXf8pdF2rb"
      },
      "source": [
        "Pemanggilan Metode Kelas Dasar dari Kelas Turunan dengan Sintaksis Super"
      ]
    },
    {
      "cell_type": "code",
      "execution_count": null,
      "metadata": {
        "colab": {
          "base_uri": "https://localhost:8080/"
        },
        "id": "YG47QdHHF3Hx",
        "outputId": "266a7d7a-2c26-4fe2-beea-bca9a7dcd670"
      },
      "outputs": [
        {
          "name": "stdout",
          "output_type": "stream",
          "text": [
            "11\n"
          ]
        }
      ],
      "source": [
        "class Kalkulator:\n",
        "    \"\"\"contoh kelas kalkulator sederhana. anggap kelas ini tidak boleh diubah!\"\"\"\n",
        " \n",
        "    def __init__(self, nilai=0):\n",
        "        self.nilai = nilai\n",
        " \n",
        "    def tambah_angka(self, angka1, angka2):\n",
        "        self.nilai = angka1 + angka2\n",
        "        if self.nilai > 9:  # kalkulator sederhana hanya memroses sampai 9\n",
        "            print('kalkulator sederhana melebihi batas angka: {}'.format(self.nilai))\n",
        "        return self.nilai\n",
        "\n",
        "class KalkulatorTambah(Kalkulator):\n",
        "    \"\"\"contoh mewarisi kelas kalkulator sederhana\"\"\"\n",
        " \n",
        "    def tambah_angka(self, angka1, angka2):\n",
        "        if angka1 + angka2 <= 9:  # fitur ini sudah oke di kelas dasar, gunakan yang ada saja\n",
        "            super().tambah_angka(angka1, angka2)  # panggil fungsi dari Kalkulator lalu isi nilai\n",
        "        else:  # ini adalah fitur baru yang ingin diperbaiki dari keterbatasan kelas dasar\n",
        "            self.nilai = angka1 + angka2\n",
        "        return self.nilai\n",
        "\n",
        "kt = KalkulatorTambah()\n",
        " \n",
        "b = kt.tambah_angka(5, 6)  # fitur tambah_angka yang dipanggil milik KalkulatorKali\n",
        "print(b)"
      ]
    },
    {
      "cell_type": "markdown",
      "metadata": {
        "id": "Ux8Pra0KIbpJ"
      },
      "source": [
        "### **Contoh 03**"
      ]
    },
    {
      "cell_type": "code",
      "execution_count": null,
      "metadata": {
        "colab": {
          "base_uri": "https://localhost:8080/"
        },
        "id": "peLlfTrRIeQA",
        "outputId": "f7063579-4cf3-4d43-df67-0e87b4a13932"
      },
      "outputs": [
        {
          "name": "stdout",
          "output_type": "stream",
          "text": [
            "This Polo is made of Cotton\n"
          ]
        }
      ],
      "source": [
        "class Clothing:\n",
        "  material = \"\"\n",
        "  def __init__(self,name):\n",
        "    self.name = name\n",
        "  def checkmaterial(self):\n",
        "\t  print(\"This {} is made of {}\".format(self.name,self.material))\n",
        "\t\t\t\n",
        "class Shirt(Clothing):\n",
        "  material=\"Cotton\"\n",
        "\n",
        "polo = Shirt(\"Polo\")\n",
        "polo.checkmaterial()"
      ]
    },
    {
      "cell_type": "code",
      "execution_count": null,
      "metadata": {
        "colab": {
          "base_uri": "https://localhost:8080/"
        },
        "id": "OP5HeStKNwN2",
        "outputId": "bb1c2dbc-5c0f-4c91-debe-e3b7c793c242"
      },
      "outputs": [
        {
          "name": "stdout",
          "output_type": "stream",
          "text": [
            "Oink!\n",
            "Moooo\n"
          ]
        }
      ],
      "source": [
        "class Animal:\n",
        "    sound = \"\"\n",
        "    def __init__(self, name):\n",
        "        self.name = name\n",
        "    def speak(self):\n",
        "        print(\"{sound} I'm {name}! {sound}\".format(\n",
        "            name=self.name, sound=self.sound))\n",
        "\n",
        "class Piglet(Animal):\n",
        "    sound = \"Oink!\"\n",
        "    print(sound)\n",
        "\n",
        "class Cow(Animal):\n",
        "    sound = \"Moooo\"\n",
        "    print(sound)"
      ]
    },
    {
      "cell_type": "markdown",
      "metadata": {
        "id": "X-CBqdsoI2PB"
      },
      "source": [
        "### **Get Bases Class Name**"
      ]
    },
    {
      "cell_type": "code",
      "execution_count": 9,
      "metadata": {
        "colab": {
          "base_uri": "https://localhost:8080/"
        },
        "id": "Teu4so58I1z0",
        "outputId": "6f65da5e-6cfe-41b9-caaf-7ba519067195"
      },
      "outputs": [
        {
          "name": "stdout",
          "output_type": "stream",
          "text": [
            "( object )\n",
            "( object )\n",
            "( SuperOne SuperTwo )\n"
          ]
        }
      ],
      "source": [
        "class SuperOne:\n",
        "    pass\n",
        "\n",
        "\n",
        "class SuperTwo:\n",
        "    pass\n",
        "\n",
        "\n",
        "class Sub(SuperOne, SuperTwo):\n",
        "    pass\n",
        "\n",
        "\n",
        "def printBases(cls):\n",
        "    print('( ', end='')\n",
        "\n",
        "    for x in cls.__bases__:\n",
        "        print(x.__name__, end=' ')\n",
        "    print(')')\n",
        "\n",
        "\n",
        "printBases(SuperOne)\n",
        "printBases(SuperTwo)\n",
        "printBases(Sub)"
      ]
    },
    {
      "cell_type": "markdown",
      "metadata": {
        "id": "TDCI35g8Kqxc"
      },
      "source": [
        "### **issubclass()**"
      ]
    },
    {
      "cell_type": "code",
      "execution_count": 14,
      "metadata": {
        "colab": {
          "base_uri": "https://localhost:8080/"
        },
        "id": "_LxD8MYRKuEu",
        "outputId": "f93eabe8-75a6-48ea-9eb1-0a456ee74db8"
      },
      "outputs": [
        {
          "name": "stdout",
          "output_type": "stream",
          "text": [
            "Vehicle Vehicle\n",
            "True\n",
            "Vehicle LandVehicle\n",
            "False\n",
            "Vehicle TrackedVehicle\n",
            "False\n",
            "\n",
            "LandVehicle Vehicle\n",
            "True\n",
            "LandVehicle LandVehicle\n",
            "True\n",
            "LandVehicle TrackedVehicle\n",
            "False\n",
            "\n",
            "TrackedVehicle Vehicle\n",
            "True\n",
            "TrackedVehicle LandVehicle\n",
            "True\n",
            "TrackedVehicle TrackedVehicle\n",
            "True\n",
            "\n"
          ]
        }
      ],
      "source": [
        "class Vehicle:\n",
        "    pass\n",
        "\n",
        "\n",
        "class LandVehicle(Vehicle):\n",
        "    pass\n",
        "\n",
        "\n",
        "class TrackedVehicle(LandVehicle):\n",
        "    pass\n",
        "\n",
        "\n",
        "for cls1 in [Vehicle, LandVehicle, TrackedVehicle]:\n",
        "    for cls2 in [Vehicle, LandVehicle, TrackedVehicle]:\n",
        "        print(str(cls1.__name__), str(cls2.__name__))\n",
        "        print(issubclass(cls1, cls2))\n",
        "    print()"
      ]
    },
    {
      "cell_type": "markdown",
      "metadata": {
        "id": "hUKsbQ1MA4Qd"
      },
      "source": [
        "### **The Diamond Problem**"
      ]
    },
    {
      "cell_type": "code",
      "execution_count": 27,
      "metadata": {
        "colab": {
          "base_uri": "https://localhost:8080/"
        },
        "id": "eoqTeyo3A9vj",
        "outputId": "d659b9ad-640b-40ba-a9de-c6681c1684de"
      },
      "outputs": [
        {
          "name": "stdout",
          "output_type": "stream",
          "text": [
            "bottom\n",
            "middle_left\n",
            "top\n"
          ]
        }
      ],
      "source": [
        "class Top:\n",
        "    def m_top(self):\n",
        "        print(\"top\")\n",
        "\n",
        "\n",
        "class Middle_Left(Top):\n",
        "    def m_middle(self):\n",
        "        print(\"middle_left\")\n",
        "\n",
        "\n",
        "class Middle_Right(Top):\n",
        "    def m_middle(self):\n",
        "        print(\"middle_right\")\n",
        "\n",
        "\n",
        "class Bottom(Middle_Left, Middle_Right):\n",
        "    def m_bottom(self):\n",
        "        print(\"bottom\")\n",
        "\n",
        "\n",
        "object = Bottom()\n",
        "object.m_bottom()\n",
        "object.m_middle()\n",
        "object.m_top()"
      ]
    },
    {
      "cell_type": "markdown",
      "metadata": {
        "id": "sKCDsxAzcmMl"
      },
      "source": [
        "## **Separate File Concept - Inheritance**"
      ]
    },
    {
      "cell_type": "code",
      "execution_count": null,
      "metadata": {
        "colab": {
          "base_uri": "https://localhost:8080/"
        },
        "id": "OQQcShyycmMn",
        "outputId": "ab276e8b-e86f-49c5-bb30-343a8e2911c8"
      },
      "outputs": [
        {
          "name": "stdout",
          "output_type": "stream",
          "text": [
            "Overwriting script.py\n"
          ]
        }
      ],
      "source": [
        "%%writefile script.py\n",
        "\n",
        "from food import Food\n",
        "from drink import Drink\n",
        "\n",
        "food1 = Food('Roti Lapis', 5, 330)\n",
        "food2 = Food('Kue Coklat', 4, 450)\n",
        "food3 = Food('Kue Sus', 2, 180)\n",
        "\n",
        "foods = [food1, food2, food3]\n",
        "\n",
        "drink1 = Drink('Kopi', 3, 180)\n",
        "drink2 = Drink('Jus Jeruk', 2, 350)\n",
        "drink3 = Drink('Espresso', 3, 30)\n",
        "\n",
        "drinks = [drink1, drink2, drink3]\n",
        "\n",
        "print('Makanan')\n",
        "index = 0\n",
        "for food in foods:\n",
        "    print(str(index) + '. ' + food.info())\n",
        "    index += 1\n",
        "\n",
        "print('Minuman')\n",
        "index = 0\n",
        "for drink in drinks:\n",
        "    print(str(index) + '. ' + drink.info())\n",
        "    index += 1\n",
        "\n",
        "print('--------------------')\n",
        "\n",
        "food_order = int(input('Masukkan nomor makanan: '))\n",
        "selected_food = foods[food_order]\n",
        "\n",
        "drink_order = int(input('Masukkan nomor minuman: '))\n",
        "selected_drink = drinks[drink_order]\n",
        "\n",
        "# Ambil input dari console dan tetapkan ke variable count\n",
        "count = int(input('Mau berapa paket makanan? (Diskon 10% untuk 3 atau lebih): '))\n",
        "\n",
        "# Panggil method get_total_price dari selected_food dan selected_drink\n",
        "result = selected_food.get_total_price(count) + selected_drink.get_total_price(count)\n",
        "\n",
        "# Cetak 'Total harga adalah $____'\n",
        "print('Total harga adalah $'+str(result))\n"
      ]
    },
    {
      "cell_type": "code",
      "execution_count": null,
      "metadata": {
        "colab": {
          "base_uri": "https://localhost:8080/"
        },
        "id": "CDOD6AdmcmMo",
        "outputId": "8ba0e7bf-ff04-44c6-e69a-ce936201bfb5"
      },
      "outputs": [
        {
          "name": "stdout",
          "output_type": "stream",
          "text": [
            "Overwriting menu_item.py\n"
          ]
        }
      ],
      "source": [
        "%%writefile menu_item.py\n",
        "class MenuItem:\n",
        "    def __init__(self, name, price):\n",
        "        self.name = name\n",
        "        self.price = price\n",
        "\n",
        "    def info(self):\n",
        "        return self.name + ': $' + str(self.price)\n",
        "\n",
        "    def get_total_price(self, count):\n",
        "        total_price = self.price * count\n",
        "\n",
        "        if count >= 3:\n",
        "            total_price *= 0.9\n",
        "\n",
        "        return round(total_price)\n"
      ]
    },
    {
      "cell_type": "code",
      "execution_count": null,
      "metadata": {
        "colab": {
          "base_uri": "https://localhost:8080/"
        },
        "id": "zUOWaU2PcmMq",
        "outputId": "dee55d86-0b69-43b0-ffd4-e36a9a0e044a"
      },
      "outputs": [
        {
          "name": "stdout",
          "output_type": "stream",
          "text": [
            "Writing food.py\n"
          ]
        }
      ],
      "source": [
        "%%writefile food.py\n",
        "from menu_item import MenuItem\n",
        "\n",
        "class Food(MenuItem):\n",
        "    def __init__(self, name, price, calorie_count):\n",
        "        super().__init__(name, price)\n",
        "        self.calorie_count = calorie_count\n",
        "    \n",
        "    def info(self):\n",
        "        return self.name + ': $' + str(self.price) + ' (' + str(self.calorie_count) + 'kkal)'\n",
        "    \n",
        "    def calorie_info(self):\n",
        "        print('kkal: ' + str(self.calorie_count))\n"
      ]
    },
    {
      "cell_type": "code",
      "execution_count": null,
      "metadata": {
        "colab": {
          "base_uri": "https://localhost:8080/"
        },
        "id": "pFeqc5f9dJ0w",
        "outputId": "5b754115-df93-4144-c1e0-f74d311f25c8"
      },
      "outputs": [
        {
          "name": "stdout",
          "output_type": "stream",
          "text": [
            "Writing drink.py\n"
          ]
        }
      ],
      "source": [
        "%%writefile drink.py\n",
        "from menu_item import MenuItem\n",
        "\n",
        "class Drink(MenuItem):\n",
        "    def __init__(self, name, price, volume):\n",
        "        super().__init__(name, price)\n",
        "        self.volume = volume\n",
        "\n",
        "    def info(self):\n",
        "        return self.name + ': $' + str(self.price) + ' (' + str(self.volume) + 'mL)'\n"
      ]
    },
    {
      "cell_type": "code",
      "execution_count": null,
      "metadata": {
        "colab": {
          "base_uri": "https://localhost:8080/"
        },
        "id": "bIeuNC2VcmMp",
        "outputId": "6345d29b-e186-4c06-b8d1-5ab4f0621c8c"
      },
      "outputs": [
        {
          "name": "stdout",
          "output_type": "stream",
          "text": [
            "Makanan\n",
            "0. Roti Lapis: $5 (330kkal)\n",
            "1. Kue Coklat: $4 (450kkal)\n",
            "2. Kue Sus: $2 (180kkal)\n",
            "Minuman\n",
            "0. Kopi: $3 (180mL)\n",
            "1. Jus Jeruk: $2 (350mL)\n",
            "2. Espresso: $3 (30mL)\n",
            "--------------------\n",
            "Masukkan nomor makanan: 0\n",
            "Masukkan nomor minuman: 1\n",
            "Mau berapa paket makanan? (Diskon 10% untuk 3 atau lebih): 2\n",
            "Total harga adalah $14\n"
          ]
        }
      ],
      "source": [
        "!python3 script.py"
      ]
    },
    {
      "cell_type": "markdown",
      "metadata": {
        "id": "ljuFN1-fwPcS"
      },
      "source": [
        "# Practice"
      ]
    },
    {
      "cell_type": "markdown",
      "metadata": {
        "id": "Fe_fLOn3GDzT"
      },
      "source": [
        "##*01*"
      ]
    },
    {
      "cell_type": "code",
      "execution_count": null,
      "metadata": {
        "colab": {
          "base_uri": "https://localhost:8080/"
        },
        "id": "uuMgaB5wxFRA",
        "outputId": "588e7f6e-b64a-4a30-8963-bf30a7b1e5dc"
      },
      "outputs": [
        {
          "name": "stdout",
          "output_type": "stream",
          "text": [
            "Cusco, Peru\n",
            "Sofia, Bulgaria\n",
            "\n"
          ]
        }
      ],
      "source": [
        "# define a basic city class\n",
        "class City:\n",
        "\tname = \"\"\n",
        "\tcountry = \"\"\n",
        "\televation = 0 \n",
        "\tpopulation = 0\n",
        "\n",
        "# create a new instance of the City class and\n",
        "# define each attribute\n",
        "city1 = City()\n",
        "city1.name = \"Cusco\"\n",
        "city1.country = \"Peru\"\n",
        "city1.elevation = 3399\n",
        "city1.population = 358052\n",
        "\n",
        "# create a new instance of the City class and\n",
        "# define each attribute\n",
        "city2 = City()\n",
        "city2.name = \"Sofia\"\n",
        "city2.country = \"Bulgaria\"\n",
        "city2.elevation = 2290\n",
        "city2.population = 1241675\n",
        "\n",
        "# create a new instance of the City class and\n",
        "# define each attribute\n",
        "city3 = City()\n",
        "city3.name = \"Seoul\"\n",
        "city3.country = \"South Korea\"\n",
        "city3.elevation = 38\n",
        "city3.population = 9733509\n",
        "\n",
        "def max_elevation_city(min_population):\n",
        "\t# Initialize the variable that will hold \n",
        "# the information of the city with \n",
        "# the highest elevation \n",
        "  highest_elevation=0\n",
        "  return_city =\"\"\n",
        "\n",
        "\t# Evaluate the 1st instance to meet the requirements:\n",
        "\t# does city #1 have at least min_population and\n",
        "\t# is its elevation the highest evaluated so far?\n",
        "  if (city1.population>min_population):\n",
        "      if(highest_elevation<city1.elevation):\n",
        "          highest_elevation=city1.elevation\n",
        "          return_city = (\"{}, {}\".format(city1.name,city1.country))\n",
        "\t# Evaluate the 2nd instance to meet the requirements:\n",
        "\t# does city #2 have at least min_population and\n",
        "\t# is its elevation the highest evaluated so far?\n",
        "  if(city2.population>min_population):\n",
        "      if (highest_elevation<city2.elevation):\n",
        "          highest_elevation=city2.elevation\n",
        "          return_city = (\"{}, {}\".format(city2.name,city2.country))\n",
        "\t# Evaluate the 3rd instance to meet the requirements:\n",
        "\t# does city #3 have at least min_population and\n",
        "\t# is its elevation the highest evaluated so far?\n",
        "  if(city3.population>min_population):\n",
        "      if (highest_elevation<city3.elevation):\n",
        "          highest_elevation=city3.elevation\n",
        "          return_city = (\"{}, {}\".format(city3.name,city3.country))\n",
        "\n",
        "\t#Format the return string\n",
        "  if return_city!=\"\":\n",
        "      return return_city\n",
        "  else:\n",
        "      return \"\"\n",
        "\n",
        "print(max_elevation_city(100000)) # Should print \"Cusco, Peru\"\n",
        "print(max_elevation_city(1000000)) # Should print \"Sofia, Bulgaria\"\n",
        "print(max_elevation_city(10000000)) # Should print \"\""
      ]
    },
    {
      "cell_type": "markdown",
      "metadata": {
        "id": "emfecF64GI2P"
      },
      "source": [
        "##*02*"
      ]
    },
    {
      "cell_type": "code",
      "execution_count": null,
      "metadata": {
        "id": "-EjRA5H4GKAV"
      },
      "outputs": [],
      "source": [
        "class Elevator:\n",
        "    def __init__(self, bottom, top, current):\n",
        "        \"\"\"Initializes the Elevator instance.\"\"\"\n",
        "        self.bottom = bottom\n",
        "        self.top = top\n",
        "        self.current = current\n",
        "        \n",
        "    def __str__(self):\n",
        "        return \"Current floor: {}\".format(self.current)\n",
        "    def up(self):\n",
        "        \"\"\"Makes the elevator go up one floor.\"\"\"\n",
        "        if self.current < self.top:\n",
        "            self.current += 1\n",
        "    def down(self):\n",
        "        \"\"\"Makes the elevator go down one floor.\"\"\"\n",
        "        if self.current > self.bottom:\n",
        "            self.current -= 1\n",
        "    def go_to(self, floor):\n",
        "        \"\"\"Makes the elevator go to the specific floor.\"\"\"\n",
        "        if floor >= self.bottom and floor <= self.top:\n",
        "            self.current = floor\n",
        "        elif floor < 0:\n",
        "            self.current = 0\n",
        "        else:\n",
        "            self.current = 10\n",
        "        \n",
        "\n",
        "elevator = Elevator(-1, 10, 0)"
      ]
    },
    {
      "cell_type": "code",
      "execution_count": null,
      "metadata": {
        "colab": {
          "base_uri": "https://localhost:8080/"
        },
        "id": "ScoZ5VD5GMpk",
        "outputId": "f8c85552-e4f7-475a-8855-3a30342afc97"
      },
      "outputs": [
        {
          "data": {
            "text/plain": [
              "1"
            ]
          },
          "execution_count": 13,
          "metadata": {
            "tags": []
          },
          "output_type": "execute_result"
        }
      ],
      "source": [
        "elevator.up() \n",
        "elevator.current #should output 1"
      ]
    },
    {
      "cell_type": "code",
      "execution_count": null,
      "metadata": {
        "colab": {
          "base_uri": "https://localhost:8080/"
        },
        "id": "LLk8OuGHGNnv",
        "outputId": "79a7e421-2cc9-4500-b93a-5cbb7a830a83"
      },
      "outputs": [
        {
          "data": {
            "text/plain": [
              "0"
            ]
          },
          "execution_count": 14,
          "metadata": {
            "tags": []
          },
          "output_type": "execute_result"
        }
      ],
      "source": [
        "elevator.down() \n",
        "elevator.current #should output 0"
      ]
    },
    {
      "cell_type": "code",
      "execution_count": null,
      "metadata": {
        "colab": {
          "base_uri": "https://localhost:8080/"
        },
        "id": "dpWjOBYNGOn_",
        "outputId": "2379241a-f709-43a1-c4de-e32c1ae1040b"
      },
      "outputs": [
        {
          "data": {
            "text/plain": [
              "10"
            ]
          },
          "execution_count": 15,
          "metadata": {
            "tags": []
          },
          "output_type": "execute_result"
        }
      ],
      "source": [
        "elevator.go_to(10) \n",
        "elevator.current #should output 10"
      ]
    },
    {
      "cell_type": "code",
      "execution_count": null,
      "metadata": {
        "colab": {
          "base_uri": "https://localhost:8080/"
        },
        "id": "DRYXAZXtGQIO",
        "outputId": "61234559-d74c-4f8a-989a-a011041320bd"
      },
      "outputs": [
        {
          "name": "stdout",
          "output_type": "stream",
          "text": [
            "9\n",
            "1\n"
          ]
        }
      ],
      "source": [
        "# Go to the top floor. Try to go up, it should stay. Then go down.\n",
        "elevator.go_to(10)\n",
        "elevator.up()\n",
        "elevator.down()\n",
        "print(elevator.current) # should be 9\n",
        "# Go to the bottom floor. Try to go down, it should stay. Then go up.\n",
        "elevator.go_to(-1)\n",
        "elevator.down()\n",
        "elevator.down()\n",
        "elevator.up()\n",
        "elevator.up()\n",
        "print(elevator.current) # should be 1"
      ]
    },
    {
      "cell_type": "code",
      "execution_count": null,
      "metadata": {
        "colab": {
          "base_uri": "https://localhost:8080/"
        },
        "id": "lNBxDiuNGRFb",
        "outputId": "46c909f9-94cc-42c1-94b3-3181f0e4e681"
      },
      "outputs": [
        {
          "name": "stdout",
          "output_type": "stream",
          "text": [
            "Current floor: 5\n"
          ]
        }
      ],
      "source": [
        "elevator.go_to(5)\n",
        "print(elevator)"
      ]
    },
    {
      "cell_type": "markdown",
      "metadata": {
        "id": "dAjXkCIJOnEw"
      },
      "source": [
        "##*03*"
      ]
    },
    {
      "cell_type": "code",
      "execution_count": null,
      "metadata": {
        "id": "VnxdOeZfOouP"
      },
      "outputs": [],
      "source": [
        "class Animal:\n",
        "    name = \"\"\n",
        "    category = \"\"\n",
        "    \n",
        "    def __init__(self, name):\n",
        "        self.name = name\n",
        "    \n",
        "    def set_category(self, category):\n",
        "        self.category = category"
      ]
    },
    {
      "cell_type": "code",
      "execution_count": null,
      "metadata": {
        "colab": {
          "base_uri": "https://localhost:8080/"
        },
        "id": "eKAPXBP7PO2f",
        "outputId": "75b95e08-9af9-4a4b-8b87-4c906849af1e"
      },
      "outputs": [
        {
          "name": "stdout",
          "output_type": "stream",
          "text": [
            "reptile\n"
          ]
        }
      ],
      "source": [
        "class Turtle(Animal):\n",
        "    category = \"reptile\"\n",
        "print(Turtle.category)"
      ]
    },
    {
      "cell_type": "code",
      "execution_count": null,
      "metadata": {
        "id": "lXzO1kRTPSUt"
      },
      "outputs": [],
      "source": [
        "class Snake(Animal):\n",
        "    category = \"reptile\""
      ]
    },
    {
      "cell_type": "code",
      "execution_count": null,
      "metadata": {
        "colab": {
          "base_uri": "https://localhost:8080/"
        },
        "id": "zhPf9-2QPTnX",
        "outputId": "bc4d3d05-b730-407a-8f24-56bebf692f6c"
      },
      "outputs": [
        {
          "name": "stdout",
          "output_type": "stream",
          "text": [
            "2\n"
          ]
        }
      ],
      "source": [
        "class Zoo:\n",
        "    def __init__(self):\n",
        "        self.current_animals = {}\n",
        "    \n",
        "    def add_animal(self, animal):\n",
        "        self.current_animals[animal.name] = animal.category\n",
        "    \n",
        "    def total_of_category(self, category):\n",
        "        result = 0\n",
        "        for animal in self.current_animals.values():\n",
        "            if animal == category:\n",
        "                result += 1\n",
        "        return result\n",
        "\n",
        "zoo = Zoo()\n",
        "\n",
        "turtle = Turtle(\"Turtle\") #create an instance of the Turtle class\n",
        "snake = Snake(\"Snake\") #create an instance of the Snake class\n",
        "\n",
        "zoo.add_animal(turtle)\n",
        "zoo.add_animal(snake)\n",
        "\n",
        "print(zoo.total_of_category(\"reptile\")) #how many zoo animal types in the reptile category"
      ]
    }
  ],
  "metadata": {
    "colab": {
      "collapsed_sections": [],
      "name": "02. Object Oriented Python.ipynb",
      "provenance": [],
      "toc_visible": true
    },
    "kernelspec": {
      "display_name": "Python 3",
      "name": "python3"
    }
  },
  "nbformat": 4,
  "nbformat_minor": 0
}
