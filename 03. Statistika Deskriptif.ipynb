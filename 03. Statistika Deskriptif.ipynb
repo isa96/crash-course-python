{
  "cells": [
    {
      "cell_type": "markdown",
      "metadata": {
        "id": "kMoFmCKiYg5Y"
      },
      "source": [
        "# **Statistika Deskriptif Untuk Data Science**\n",
        "\n",
        "Statistika deskriptif berkaitan dengan bagaimana kita\n",
        "menjelaskan dan murumuskan suatu data. Umumnya digunakan dua metode pendekatan:\n",
        "\n",
        "1. **Pendekatan kuantitatif** menjelaskan data secara numerik.\n",
        "\n",
        "2. **Pendekatan visual** mengilustrasikan data menggunakan chart, plot, histogram, atau grafik lainnya.\n",
        "\n",
        "Kita dapat menerapkan statistika deskriptif ke dalam satu atau banyak data. Ketika kita menjelaskan dan merumuskan suatu data tunggal, maka kita sedang melakukan **analisa univariate**. Ketika kita mencari hubungan statistika antara sepasang data, maka kita sedang melakukan **analisa bivariate**. Begitu juga dengan ** analisa multivariate** yang berarti kita menerapkannya pada banyak data sekaligus.\n",
        "\n",
        "## **Populasi dan Sampel**\n",
        "\n",
        "Dalam statistika, **populasi** merupakan sekumpulan elemen atau sesuatu yang ingin di amati, namun cakupan populasi biasa sangat besar sehingga akan sangat sulit untuk megumpulkan dan menganalisa datanya. Itulah mengapa ahli statistik biasanya mencoba mengambil kesimpulan mengenai suatu populasi dengan menguji dan memilih perwakilan dari populasi tersebut. Perwakilan dari populasi ini yang biasa kita sebut **sampel**. Secara ideal, sampel harus memiliki komponen penting statistik dari suatu populasi agar dapat mengggambarkan populasi secara nyata.\n",
        "\n",
        "## **Outliers (pencilan)**\n",
        "\n",
        "Outlier merupakan sebuah data point yang jauh berbeda dengan mayoritas data pada suatu sampel atau populasi. Beberapa penyebab adanya outlier dalam data kita diantaranya:\n",
        "\n",
        "* **Variasi alami** dalam suatu data\n",
        "\n",
        "* **Change** atau perubahan perilaku pada sistem yang kita\n",
        "observasi\n",
        "\n",
        "* **Error** atau kesalahan saat pengumpulan data\n",
        "\n",
        "Kesalahan saat pengumpulan data biasanya menjadi penyebab yang paling umum adanya outlier.\n",
        "\n",
        "## **Jenis-jenis ukuran data**\n",
        "\n",
        "**Central tendency** (ukuran pemusatan data), biasanya kita lebih mengenal central tendency dengan Mean, Median, dan Modus. Salah satu hasil yang didapat dari pengukuran 3M ini adalah Skewness, yang nantinya kita bias tahu dimana data terkonsentrasi dan dimana letak outlier(pencilan) pada data tersebut. Negative skewed memiliki arti bahwa data terkonsentrasi di atas rata-rata dan outliernya berada pada data di bawah rata-rata, dapat dilihat bahwa pada kondis ini nilai mean lebih kecil dari median. Positif skew memiliki arti yang berkebalikan dengan negatif skew. Sedangkan jika nilai 3M-nya sama, maka data tersebut memiliki normal skew yang akan membentuk distribusi simetris.\n",
        "\n",
        "**Variability** (ukuran sebaran data), cara yang paling umum untuk mengetahui ukuran sebaran data adalah dengan mengukur nilai range, interquartile range(IQR), variansi, kovariansi, dan standar deviasi dari data tersebut. **Variansi** adalah nilai ‘average’ dari kuadrat antara simpangan(deviasi) dengan rata-rata populasi. Bingung? Sama hehe. Mari kita lihat rumusan untuk menghitung variansi populasi berikut.\n",
        "\n",
        "Missalkan X adalah variabel random dengan distribusi peluang f(x) dan rata-rata **μ**. Maka variansi dari X adalah:\n",
        "\n",
        "Interpretasi dari rumusan di atas adalah nilai **σ^2** akan lebih kecil untuk kelompok nilai x yang dekat dengan *μ* dibandingkan dengan kelompok nilai x yang jauh dari **μ**. Dengan kata lain, jika nilai-nilai x cenderung terkonsentrasi di dekat rataannya, maka variansinya kecil, sedangkan jika jauh dari rataannya maka variansinya besar. Dapat dilihat pada gambar berikut:\n",
        "\n",
        "Pada kenyataannya, kita jarang sekali dapat mengukur seluruh populasi, yang bisa kita ukur hanya sampel, misalnya kita bisa saja mengukur tinggi badan peserta training data science, tapi kita tidak dapat mengukur tinggi badan seluruh manusia di bumi, hal ini akan mengakibatkan bias terhadap pengukuran yang dilakukan, oleh karena itu, agar tidak bias dalam mengukur nilai varian, maka N sebagai pembagi penjumlahan kuadrat (sum of squares) diganti dengan N-1 (degree of freedom). Rumusan varian sampel menjadi:\n",
        "\n",
        "Akar kuadrat dari variansi ini merupakan nilai dari **standar deviasi** (simpangan baku). Jika kita memili dua variabel random X dan Y, nilai **kovariansi** menunjukkan hubungan antara kedua variabel tersebut.\n",
        "\n",
        "Jika kedua variabel tersebut bergerak ke arah yang sama (X membesar dan Y membesar) maka hasil kali (X – μX)(Y – μY) cenderung bernilai positif, sebaliknya jika kedua variabel bergerak ke arah berlawanan (X membesar dan Y mengecil), maka hasil kali (X – μX)(Y – μY)akan cenderung bernilai negatif. Tanda kovariansi (+ atau -) menunjukkan apakah hubungan antara kedua variabel positif atau negatif. Jika kovariansi bernilai positif maka ada hubungan antara dua variabel tersebut dan berbanding lurus, jika kovariansi bernilai negatif hubungannya berbanding terbalik, sedangkan jika bernilai nol maka tidak ada hubungan antara dua variabel tersebut.\n",
        "\n",
        "**Correlation coefficient** atau hubungan variability menyatakan seberapa kuat hubungan antara dua variabel, koefisien korelasi dapat dihitung menggunakan persamaan:\n",
        "\n",
        "\n",
        "Nilai koefisien korelasi berkisar antara (-1) hingga (+1) bergantung pada nilai kovariansinya. Jika nilai koefisien korelasi mendekati -1 atau mendekati +1 maka X dan y memiliki korelasi linier yang tinggi, jika nilai koefisien korelasinya -1 atau +1 kedua variabel tersebut memiliki korelasi sempurna, sedangkan jika nilai koefisien korelasinya nol maka X dan y tidak memiliki hubungan.\n",
        "\n",
        "Library statistika pada python yang biasa digunakan yaitu:\n",
        "\n",
        "* **statistics**, merupakan built-in library pada python untuk statistika deskriptif. Kita dapat menggunakannya jika dataset yang kita miliki tidak terlalu besar, atau ketika kita tidak dapat meng-import library yang lain.\n",
        "\n",
        "* **NumPy** merupakan library pihak ketiga yang digunakan untuk perhitungan numerik, sangat baik untuk digunakan pada array tunggal atau multidimensi.\n",
        "\n",
        "* **SciPy** merupakan library pihak ketiga yang digunakan untuk perhitungan scientific. Dibuat dengan dasar library NumPy namun memiliki fungsi tambahan termasuk di dalamnya scipy.stats untuk analisa statistik.\n",
        "\n",
        "* **Pandas** merupakan library pihak ketiga untuk perhitungan numerik, pandas juga dibuat dengan dasar library NumPy. Sangat berguna untuk mengolah data 1D menggunakan objek Series, dan data 2D menggunakan objek DataFrame."
      ]
    },
    {
      "cell_type": "markdown",
      "metadata": {
        "id": "kyIyWuq8SHDd"
      },
      "source": [
        "# **Menghitung statistika deskriptif menggunakan python**\n",
        "\n",
        "Kita hanya akan menggunakan library statistics, NumPy, dan SciPy untuk menghitung nilai-nilai yang dihasilkan dari statistika deskriptif, library Pandas akan dipelajari pekan depan. Kita mulai dengan meng-import librarynya:"
      ]
    },
    {
      "cell_type": "code",
      "execution_count": null,
      "metadata": {
        "id": "GGBIkjozSLBk"
      },
      "outputs": [],
      "source": [
        "import math\n",
        "import statistics\n",
        "import numpy as np\n",
        "import scipy.stats"
      ]
    },
    {
      "cell_type": "markdown",
      "metadata": {
        "id": "5tNir3lQSNz2"
      },
      "source": [
        "Kita buat suatu data berupa python list yang berisi data numerik secara random:"
      ]
    },
    {
      "cell_type": "code",
      "execution_count": null,
      "metadata": {
        "id": "yJHKiq3YSQp6"
      },
      "outputs": [],
      "source": [
        "x = [8.0, 1, 2.5, 4, 28.0]\n",
        "x_dgn_nan = [8.0, 1, 2.5, math.nan, 4, 28.0]"
      ]
    },
    {
      "cell_type": "code",
      "execution_count": null,
      "metadata": {
        "colab": {
          "base_uri": "https://localhost:8080/"
        },
        "id": "JhT4JYjPSUye",
        "outputId": "11b9eecd-0b4f-41b7-a4a6-eb5e3296269d"
      },
      "outputs": [
        {
          "data": {
            "text/plain": [
              "[8.0, 1, 2.5, 4, 28.0]"
            ]
          },
          "execution_count": 249,
          "metadata": {
            "tags": []
          },
          "output_type": "execute_result"
        }
      ],
      "source": [
        "x"
      ]
    },
    {
      "cell_type": "code",
      "execution_count": null,
      "metadata": {
        "colab": {
          "base_uri": "https://localhost:8080/"
        },
        "id": "Q4TbqDthSVLZ",
        "outputId": "e7ae09c5-bf43-4e8e-c3f6-810a0f45b7a6"
      },
      "outputs": [
        {
          "data": {
            "text/plain": [
              "[8.0, 1, 2.5, nan, 4, 28.0]"
            ]
          },
          "execution_count": 250,
          "metadata": {
            "tags": []
          },
          "output_type": "execute_result"
        }
      ],
      "source": [
        "x_dgn_nan"
      ]
    },
    {
      "cell_type": "markdown",
      "metadata": {
        "id": "syBgwMUCScxp"
      },
      "source": [
        "Sekarang kita punya dua list, x dan x_dgn_nan, keduanya hampir sama, bedanya yaitu x_dgn_nan memiliki nilai nan (not a number). Sangat penting bagaimana python menghadapi nilai nan ini. Dalam data science, missing value sangat sering terjadi, dan biasanya nilai yang hilang ini diganti dengan nan. Sekarang kita coba buat np.ndarray objek dari variabel x dan x_dgn_nan:"
      ]
    },
    {
      "cell_type": "code",
      "execution_count": null,
      "metadata": {
        "id": "BMrTpZCjSea9"
      },
      "outputs": [],
      "source": [
        "y, y_dgn_nan = np.array(x), np.array(x_dgn_nan)"
      ]
    },
    {
      "cell_type": "code",
      "execution_count": null,
      "metadata": {
        "colab": {
          "base_uri": "https://localhost:8080/"
        },
        "id": "g20uoKVoSgSl",
        "outputId": "63bb1792-729a-4fe7-e702-ebee806c042e"
      },
      "outputs": [
        {
          "data": {
            "text/plain": [
              "array([ 8. ,  1. ,  2.5,  4. , 28. ])"
            ]
          },
          "execution_count": 252,
          "metadata": {
            "tags": []
          },
          "output_type": "execute_result"
        }
      ],
      "source": [
        "y"
      ]
    },
    {
      "cell_type": "code",
      "execution_count": null,
      "metadata": {
        "colab": {
          "base_uri": "https://localhost:8080/"
        },
        "id": "ihkBjNa_SglD",
        "outputId": "de721b0b-d615-40f6-8146-3c1b5ea98f71"
      },
      "outputs": [
        {
          "data": {
            "text/plain": [
              "array([ 8. ,  1. ,  2.5,  nan,  4. , 28. ])"
            ]
          },
          "execution_count": 253,
          "metadata": {
            "tags": []
          },
          "output_type": "execute_result"
        }
      ],
      "source": [
        "y_dgn_nan"
      ]
    },
    {
      "cell_type": "markdown",
      "metadata": {
        "id": "H-9peJrySiFh"
      },
      "source": [
        "# **Menghitung Ukuran Pemusatan Data**\n",
        "\n",
        "Kita akan nenpelajari bagaimana menghitung ukuran pemusatan data ini menggunakna python.\n",
        "\n",
        "**Mean** (rataan) Kita dapat menghitung mean hanya dengan python tanpa meng-import library apapun menggunakan sum() dan len():"
      ]
    },
    {
      "cell_type": "code",
      "execution_count": null,
      "metadata": {
        "colab": {
          "base_uri": "https://localhost:8080/"
        },
        "id": "ZB1c9m1BSmbj",
        "outputId": "812638e0-71de-4417-ac9a-8e6a2a591aa0"
      },
      "outputs": [
        {
          "data": {
            "text/plain": [
              "8.7"
            ]
          },
          "execution_count": 254,
          "metadata": {
            "tags": []
          },
          "output_type": "execute_result"
        }
      ],
      "source": [
        "mean_ = sum(x) / len(x)\n",
        "mean_"
      ]
    },
    {
      "cell_type": "markdown",
      "metadata": {
        "id": "ftkCjpx5SpOd"
      },
      "source": [
        "Kita juga bisa menggunakan fungsi bawaan dari library statistics python:"
      ]
    },
    {
      "cell_type": "code",
      "execution_count": null,
      "metadata": {
        "colab": {
          "base_uri": "https://localhost:8080/"
        },
        "id": "tTD90-y9Sq_K",
        "outputId": "54e59f3b-1826-4506-e859-a987f1a2b05a"
      },
      "outputs": [
        {
          "data": {
            "text/plain": [
              "8.7"
            ]
          },
          "execution_count": 255,
          "metadata": {
            "tags": []
          },
          "output_type": "execute_result"
        }
      ],
      "source": [
        "mean_ = statistics.mean(x)\n",
        "mean_"
      ]
    },
    {
      "cell_type": "code",
      "execution_count": null,
      "metadata": {
        "id": "OHNj3SbESt7a"
      },
      "outputs": [],
      "source": [
        "# mean_ = statistics.fmean(x)\n",
        "# mean_"
      ]
    },
    {
      "cell_type": "markdown",
      "metadata": {
        "id": "VtSKPR45TeI6"
      },
      "source": [
        "Fungsi fmean() mulai dikenalkan pada python 3.8 sebagai alternatif untuk perhitungan yang lebih cepat dan selalu menghasilkan nilai float. Namun, fungsi mean() dan fmean() akan menghasilkan nilai nan jika di dalam variabel yang dihitungnya berisi nilai nan:"
      ]
    },
    {
      "cell_type": "code",
      "execution_count": null,
      "metadata": {
        "colab": {
          "base_uri": "https://localhost:8080/"
        },
        "id": "F8D6mCDTTfrS",
        "outputId": "be7780bc-8e7e-4628-a4b5-9ef4298143d9"
      },
      "outputs": [
        {
          "data": {
            "text/plain": [
              "nan"
            ]
          },
          "execution_count": 257,
          "metadata": {
            "tags": []
          },
          "output_type": "execute_result"
        }
      ],
      "source": [
        "mean_ = statistics.mean(x_dgn_nan)\n",
        "mean_"
      ]
    },
    {
      "cell_type": "code",
      "execution_count": null,
      "metadata": {
        "id": "BTUaiZoSTiFo"
      },
      "outputs": [],
      "source": [
        "# mean_nan = statistics.fmean(x_dgn_nan)\n",
        "# mean_nan "
      ]
    },
    {
      "cell_type": "markdown",
      "metadata": {
        "id": "eoPX1yTXUSPg"
      },
      "source": [
        "Jika kita ingin mengabaikan nilai nan yang ada pada variabel tersebut maka dapat menggunakan np.nanmean():"
      ]
    },
    {
      "cell_type": "code",
      "execution_count": null,
      "metadata": {
        "colab": {
          "base_uri": "https://localhost:8080/"
        },
        "id": "nVkAvdhPUSEQ",
        "outputId": "1eac89d2-4eac-4603-9424-8e67eb4cdf81"
      },
      "outputs": [
        {
          "data": {
            "text/plain": [
              "8.7"
            ]
          },
          "execution_count": 259,
          "metadata": {
            "tags": []
          },
          "output_type": "execute_result"
        }
      ],
      "source": [
        "np.nanmean(y_dgn_nan)"
      ]
    },
    {
      "cell_type": "markdown",
      "metadata": {
        "id": "ux0mtDwoUWWu"
      },
      "source": [
        "**Weighted Mean** atau rataan berbobot merupakan generalisasi dari rataan aritmatika sehingga kita dapat menentukan kontribusi relatif (bobot) dari setiap data point untuk penghitungan hasilnya. Kita dapat menghitung weighted mean menggunakan python dengan menggabungkan antara sum() dengan range() atau zip() seperti pada contoh berikut:"
      ]
    },
    {
      "cell_type": "code",
      "execution_count": null,
      "metadata": {
        "colab": {
          "base_uri": "https://localhost:8080/"
        },
        "id": "DuhbYrQ_UYko",
        "outputId": "92eedd93-8557-4872-c4d4-63d052a89aaf"
      },
      "outputs": [
        {
          "data": {
            "text/plain": [
              "6.95"
            ]
          },
          "execution_count": 260,
          "metadata": {
            "tags": []
          },
          "output_type": "execute_result"
        }
      ],
      "source": [
        "x = [8.0, 1, 2.5, 4, 28.0]\n",
        "w = [0.1, 0.2, 0.3, 0.25, 0.15]\n",
        "wmean = sum(w[i] * x[i] for i in range(len(x))) / sum(w)\n",
        "wmean"
      ]
    },
    {
      "cell_type": "code",
      "execution_count": null,
      "metadata": {
        "colab": {
          "base_uri": "https://localhost:8080/"
        },
        "id": "ButF_IgvUaxp",
        "outputId": "abb0a186-fd68-476d-cfc1-33188ed0fc78"
      },
      "outputs": [
        {
          "data": {
            "text/plain": [
              "6.95"
            ]
          },
          "execution_count": 261,
          "metadata": {
            "tags": []
          },
          "output_type": "execute_result"
        }
      ],
      "source": [
        "wmean = sum(x_ * w_ for (x_, w_) in zip(x, w)) / sum(w)\n",
        "wmean"
      ]
    },
    {
      "cell_type": "markdown",
      "metadata": {
        "id": "l0QFqQBIUdNj"
      },
      "source": [
        "Tetapi jika kita memiliki dataset yang cukup besar maka NumPy memberikan soolusi yang lebih baik untuk penghitungan weighted mean ini menggunakan np.average():"
      ]
    },
    {
      "cell_type": "code",
      "execution_count": null,
      "metadata": {
        "colab": {
          "base_uri": "https://localhost:8080/"
        },
        "id": "DYAFnYGdUflI",
        "outputId": "39d9412b-11cb-4344-f5e5-7e88a2664cff"
      },
      "outputs": [
        {
          "data": {
            "text/plain": [
              "6.95"
            ]
          },
          "execution_count": 262,
          "metadata": {
            "tags": []
          },
          "output_type": "execute_result"
        }
      ],
      "source": [
        "y, w = np.array(x), np.array(w)\n",
        "wmean = np.average(y, weights=w)\n",
        "wmean"
      ]
    },
    {
      "cell_type": "markdown",
      "metadata": {
        "id": "UFElm7DiUjVG"
      },
      "source": [
        "Hati-hati ketika melakukan perhitungan untuk data berisi nilai nan."
      ]
    },
    {
      "cell_type": "code",
      "execution_count": null,
      "metadata": {
        "colab": {
          "base_uri": "https://localhost:8080/"
        },
        "id": "slb_5d4yUlWY",
        "outputId": "fa845a20-a72c-445d-cd93-a55fd2f3fd1c"
      },
      "outputs": [
        {
          "data": {
            "text/plain": [
              "nan"
            ]
          },
          "execution_count": 263,
          "metadata": {
            "tags": []
          },
          "output_type": "execute_result"
        }
      ],
      "source": [
        "w = np.array([0.1, 0.2, 0.3, 0.0, 0.2, 0.1])\n",
        "np.average(y_dgn_nan, weights=w)"
      ]
    },
    {
      "cell_type": "markdown",
      "metadata": {
        "id": "giPJTdi_Uo6q"
      },
      "source": [
        "**Harmonic Mean** atau rataan harmonis dapat dirumuskan dengan 𝑛/Σᵢ(1/𝑥ᵢ) dimana i=1, 2, …, n dan n adalah jumlah data point pada dataset x. Kita bisa menghitungnya menggunakan python:"
      ]
    },
    {
      "cell_type": "code",
      "execution_count": null,
      "metadata": {
        "colab": {
          "base_uri": "https://localhost:8080/"
        },
        "id": "7XOfCiouUrOH",
        "outputId": "5aca8dc9-fae6-4ace-b0e8-09cb18d35344"
      },
      "outputs": [
        {
          "data": {
            "text/plain": [
              "2.7613412228796843"
            ]
          },
          "execution_count": 264,
          "metadata": {
            "tags": []
          },
          "output_type": "execute_result"
        }
      ],
      "source": [
        "hmean = len(x) / sum(1 / item for item in x)\n",
        "hmean"
      ]
    },
    {
      "cell_type": "markdown",
      "metadata": {
        "id": "z5tOsDhyUvIG"
      },
      "source": [
        "Kita juga bisa menggunakan statistics.harmonic_mean():"
      ]
    },
    {
      "cell_type": "code",
      "execution_count": null,
      "metadata": {
        "colab": {
          "base_uri": "https://localhost:8080/"
        },
        "id": "6O6YlsIJUwfn",
        "outputId": "a8f5c1f1-685a-43a8-af0c-084765a8beae"
      },
      "outputs": [
        {
          "data": {
            "text/plain": [
              "2.7613412228796843"
            ]
          },
          "execution_count": 265,
          "metadata": {
            "tags": []
          },
          "output_type": "execute_result"
        }
      ],
      "source": [
        "hmean = statistics.harmonic_mean(x)\n",
        "hmean"
      ]
    },
    {
      "cell_type": "markdown",
      "metadata": {
        "id": "2cZV51AyUzHg"
      },
      "source": [
        "Jika terdapat nilai nan, maka statistics.harmonic_mean() akan menghasilkan nilai nan, dan jika terdapat nilai negatif, maka akan terjadi error dalam perhitungannya:"
      ]
    },
    {
      "cell_type": "code",
      "execution_count": null,
      "metadata": {
        "colab": {
          "base_uri": "https://localhost:8080/"
        },
        "id": "YDRupAABU0ux",
        "outputId": "143fd13f-5ef4-4b4f-e1de-84f47290acec"
      },
      "outputs": [
        {
          "data": {
            "text/plain": [
              "nan"
            ]
          },
          "execution_count": 266,
          "metadata": {
            "tags": []
          },
          "output_type": "execute_result"
        }
      ],
      "source": [
        "statistics.harmonic_mean(x_dgn_nan)"
      ]
    },
    {
      "cell_type": "code",
      "execution_count": null,
      "metadata": {
        "colab": {
          "base_uri": "https://localhost:8080/"
        },
        "id": "Ae4pLGWqU3kT",
        "outputId": "5825169d-65f9-47af-dde8-1255e45149f8"
      },
      "outputs": [
        {
          "data": {
            "text/plain": [
              "0"
            ]
          },
          "execution_count": 267,
          "metadata": {
            "tags": []
          },
          "output_type": "execute_result"
        }
      ],
      "source": [
        "statistics.harmonic_mean([1, 0, 2])"
      ]
    },
    {
      "cell_type": "code",
      "execution_count": null,
      "metadata": {
        "id": "D7JDKv5JU5iF"
      },
      "outputs": [],
      "source": [
        "# statistics.harmonic_mean([1, 2, -2])  #StatisticsError : harmonic mean does not support negative values"
      ]
    },
    {
      "cell_type": "markdown",
      "metadata": {
        "id": "6WWVF_R8U_HR"
      },
      "source": [
        "Cara ketiga adalah dengan menggunakan scipy.stats.hmean():"
      ]
    },
    {
      "cell_type": "code",
      "execution_count": null,
      "metadata": {
        "colab": {
          "base_uri": "https://localhost:8080/"
        },
        "id": "LuLqMkVzU55E",
        "outputId": "c85c5023-93d8-4302-aa57-a1b995b7127d"
      },
      "outputs": [
        {
          "data": {
            "text/plain": [
              "2.7613412228796843"
            ]
          },
          "execution_count": 269,
          "metadata": {
            "tags": []
          },
          "output_type": "execute_result"
        }
      ],
      "source": [
        "scipy.stats.hmean(y)"
      ]
    },
    {
      "cell_type": "markdown",
      "metadata": {
        "id": "_0bFHSNLVDnc"
      },
      "source": [
        "**Geometric Mean** atau rataan geometris merupakan akar pangkat-n dari seluruh hasil perkalian elemen 𝑥ᵢ sejumlah n pada dataset x, dapat dirumuskan dengan ⁿ√(Πᵢ𝑥ᵢ), dimana dimana i=1, 2, …, n dan n adalah jumlah data point pada dataset x. Kita dapat menggunakan python untuk menghitung nilai rataan geometris ini sebagai berikut:"
      ]
    },
    {
      "cell_type": "code",
      "execution_count": null,
      "metadata": {
        "colab": {
          "base_uri": "https://localhost:8080/"
        },
        "id": "SteT1eLPVCb6",
        "outputId": "ad7a21e8-8a3e-451b-d295-311eff4c7299"
      },
      "outputs": [
        {
          "data": {
            "text/plain": [
              "4.677885674856041"
            ]
          },
          "execution_count": 270,
          "metadata": {
            "tags": []
          },
          "output_type": "execute_result"
        }
      ],
      "source": [
        "gmean = 1\n",
        "for item in x:\n",
        "    gmean *= item\n",
        "\n",
        "gmean **= 1 / len(x)\n",
        "gmean"
      ]
    },
    {
      "cell_type": "markdown",
      "metadata": {
        "id": "Pz63OaCpVQ6a"
      },
      "source": [
        "Pada python 3.8 kita dapat menggunakan statistics.geometric_mean(), yang akan mengubah semua nilai pada dataset menjadi float kemudian menghitung rataan geometrisnya:"
      ]
    },
    {
      "cell_type": "code",
      "execution_count": null,
      "metadata": {
        "colab": {
          "base_uri": "https://localhost:8080/"
        },
        "id": "8h1BJDrmWDHu",
        "outputId": "14c273db-9567-4290-db45-1063f78f3260"
      },
      "outputs": [
        {
          "name": "stdout",
          "output_type": "stream",
          "text": [
            "Reading package lists... Done\n",
            "Building dependency tree       \n",
            "Reading state information... Done\n",
            "python3.8 is already the newest version (3.8.8-1+bionic2).\n",
            "0 upgraded, 0 newly installed, 0 to remove and 30 not upgraded.\n"
          ]
        }
      ],
      "source": [
        "!apt-get install python3.8"
      ]
    },
    {
      "cell_type": "code",
      "execution_count": null,
      "metadata": {
        "id": "R-CDs_KgVSbb"
      },
      "outputs": [],
      "source": [
        "# gmean = statistics.geometric_mean(x)\n",
        "# gmean"
      ]
    },
    {
      "cell_type": "markdown",
      "metadata": {
        "id": "A-AkdI-tVWYi"
      },
      "source": [
        "Dengan menggunakan scipy.stats.gmean():"
      ]
    },
    {
      "cell_type": "code",
      "execution_count": null,
      "metadata": {
        "colab": {
          "base_uri": "https://localhost:8080/"
        },
        "id": "9uBqQzABVVck",
        "outputId": "47104371-bb4e-4598-ff8c-6282864efbef"
      },
      "outputs": [
        {
          "data": {
            "text/plain": [
              "4.67788567485604"
            ]
          },
          "execution_count": 273,
          "metadata": {
            "tags": []
          },
          "output_type": "execute_result"
        }
      ],
      "source": [
        "scipy.stats.gmean(y)"
      ]
    },
    {
      "cell_type": "markdown",
      "metadata": {
        "id": "hzmKcC8yWTgY"
      },
      "source": [
        "Jika terdapat nilai nan pada dataset maka gmean() akan menghasilkan nan. Jika terdapat satu saja nilai 0, maka akan menghasilkan rataan geometris 0 disertai peringatan.\n",
        "\n",
        "**Median** suatu sampel merupakan nilai tengah dari dataset yang telah diurutkan. Dataset tersebut dapat diurutkan secara naik atau turun. Jika jumlah elemen n dari dataset adalah ganjil maka median adalah elemen pada posisi 0.5(n+1). Jika n genap, maka mediannya adalah rataan aritmatika dari dua nilai tengah, yaitu yang berada pada posisi 0.5n dan 0.5n+1. Perbedaan utama antara sifat mean dan median dari suatu dataset adalah hubungannya dengan outlier pada dataset tersebut. Nilai mean sangat dipengaruhi oleh outlier sedangkan nilai median hampir tidak dipengaruhi atau bahkan tidak dipengaruhi sama sekali. Perhatikan gambar berikut:\n",
        "\n",
        "Dataset bagian atas memiliki nilai 1, 2.5, 4, 8, dan 28. Nilai mean dari dataset tersebut adalah 8.7 dan nilai mediannya adalah 4. Dataset bagian bawah menunjukkan bagaimana perubahan nilai mean ketika nilai paling kanan pada dataset atas yang memiliki nilai 28 di pindahkan.\n",
        "\n",
        "Berikut adalah salah satu cara mencari nilai median menggunakan python:\n"
      ]
    },
    {
      "cell_type": "code",
      "execution_count": null,
      "metadata": {
        "colab": {
          "base_uri": "https://localhost:8080/"
        },
        "id": "B3z60jRFW16v",
        "outputId": "4dd3ce3a-144d-4b0e-febd-0f61c9903f58"
      },
      "outputs": [
        {
          "data": {
            "text/plain": [
              "4"
            ]
          },
          "execution_count": 274,
          "metadata": {
            "tags": []
          },
          "output_type": "execute_result"
        }
      ],
      "source": [
        "n = len(x)\n",
        "if n % 2:\n",
        "    median_ = sorted(x)[round(0.5*(n-1))]\n",
        "else:\n",
        "    x_ord, index = sorted(x), round(0.5 * n)\n",
        "    median_ = 0.5 * (x_ord[index-1] + x_ord[index])\n",
        "median_"
      ]
    },
    {
      "cell_type": "markdown",
      "metadata": {
        "id": "10bVA5_bW8tc"
      },
      "source": [
        "Langkah penting pada proses di atas adalah:\n",
        "\n",
        "Mengurutkan elemen-elemen pada dataset\n",
        "Mencari elemen tengah pada dataset yang telah diurutkan\n",
        "Kita juga bisa mendapatkan nilai median dengan statistics.median():"
      ]
    },
    {
      "cell_type": "code",
      "execution_count": null,
      "metadata": {
        "colab": {
          "base_uri": "https://localhost:8080/"
        },
        "id": "tMzCORZiW8Jn",
        "outputId": "410b48e3-170c-4b17-8296-6b0567ba9ea5"
      },
      "outputs": [
        {
          "data": {
            "text/plain": [
              "4"
            ]
          },
          "execution_count": 275,
          "metadata": {
            "tags": []
          },
          "output_type": "execute_result"
        }
      ],
      "source": [
        "median_ = statistics.median(x)\n",
        "median_"
      ]
    },
    {
      "cell_type": "markdown",
      "metadata": {
        "id": "qRlbocpZXATK"
      },
      "source": [
        "Cara yang lain untuk mendapatkan nilai median adalah menggunakan np.median():"
      ]
    },
    {
      "cell_type": "code",
      "execution_count": null,
      "metadata": {
        "colab": {
          "base_uri": "https://localhost:8080/"
        },
        "id": "6-A_cOV5XBjL",
        "outputId": "48034277-9965-4c9d-c3bc-e00994717ba3"
      },
      "outputs": [
        {
          "data": {
            "text/plain": [
              "4.0"
            ]
          },
          "execution_count": 276,
          "metadata": {
            "tags": []
          },
          "output_type": "execute_result"
        }
      ],
      "source": [
        "median_ = np.median(y)\n",
        "median_"
      ]
    },
    {
      "cell_type": "markdown",
      "metadata": {
        "id": "RGXZTCHoXDoK"
      },
      "source": [
        "**Mode** atau modus dari suatu sampel dataset adalah nilai yang paling banyak muncul dalam dataset tersebut. Dengan python kita dapat menghasilkan nilai modus suatu dataset sebagai berikut:"
      ]
    },
    {
      "cell_type": "code",
      "execution_count": null,
      "metadata": {
        "colab": {
          "base_uri": "https://localhost:8080/"
        },
        "id": "UL-wIvqaXFsO",
        "outputId": "b989b620-fd08-41a7-d1e9-4279f9432e98"
      },
      "outputs": [
        {
          "data": {
            "text/plain": [
              "2"
            ]
          },
          "execution_count": 277,
          "metadata": {
            "tags": []
          },
          "output_type": "execute_result"
        }
      ],
      "source": [
        "u = [2, 3, 2, 8, 12]\n",
        "mode_ = max((u.count(item), item) for item in set(u))[1]\n",
        "mode_"
      ]
    },
    {
      "cell_type": "markdown",
      "metadata": {
        "id": "LBwl6wVbXJ2g"
      },
      "source": [
        "Kita dapat mencari modus dari suatu daset menggunakan statistics.mode(), dan juga menggunakan statistics.multimode() (mulai dikenalkan pada python 3.8) jika nilai modusnya tidak hanya satu:"
      ]
    },
    {
      "cell_type": "code",
      "execution_count": null,
      "metadata": {
        "colab": {
          "base_uri": "https://localhost:8080/"
        },
        "id": "nHfJ2nePXLTc",
        "outputId": "ea64bf6a-4159-4bf0-cde9-50d19253c1be"
      },
      "outputs": [
        {
          "data": {
            "text/plain": [
              "2"
            ]
          },
          "execution_count": 278,
          "metadata": {
            "tags": []
          },
          "output_type": "execute_result"
        }
      ],
      "source": [
        "mode_ = statistics.mode(u)\n",
        "mode_"
      ]
    },
    {
      "cell_type": "code",
      "execution_count": null,
      "metadata": {
        "id": "djdwzhmlXODT"
      },
      "outputs": [],
      "source": [
        "# mode_ = statistics.multimode(u)\n",
        "# mode_"
      ]
    },
    {
      "cell_type": "markdown",
      "metadata": {
        "id": "I2jjoAc2XRVt"
      },
      "source": [
        "Dapat dilihat bahwa mode() menghasilkan nilai tunggal, sedangkan multimode() menghasilkan list yang berisi nilai modus. Bahkan mode() akan menghasilkan error jika dalam dataset tersebut terdapat dua modus:"
      ]
    },
    {
      "cell_type": "code",
      "execution_count": null,
      "metadata": {
        "id": "F-HD4uNlXS3H"
      },
      "outputs": [],
      "source": [
        "# v = [12, 15, 12, 15, 21, 15, 12]\n",
        "# statistics.mode(v)  # StatisticsError\n",
        "# statistics.multimode(v)"
      ]
    },
    {
      "cell_type": "markdown",
      "metadata": {
        "id": "Zi-42g6nXY0e"
      },
      "source": [
        "Bagaimana jika dalam dataset terdapat nilai nan? Bisa dicoba sendiri hehe..\n",
        "\n",
        "Untuk menghasilkan nilai modus jika menggunakan scipy.stats.mode():\n"
      ]
    },
    {
      "cell_type": "code",
      "execution_count": null,
      "metadata": {
        "colab": {
          "base_uri": "https://localhost:8080/"
        },
        "id": "mQ84s0k-XeEF",
        "outputId": "32a400e9-cb60-45e6-8b86-d6380d1e857f"
      },
      "outputs": [
        {
          "data": {
            "text/plain": [
              "ModeResult(mode=array([2]), count=array([2]))"
            ]
          },
          "execution_count": 281,
          "metadata": {
            "tags": []
          },
          "output_type": "execute_result"
        }
      ],
      "source": [
        "u, v = np.array(u), np.array(v)\n",
        "mode_ = scipy.stats.mode(u)\n",
        "mode_"
      ]
    },
    {
      "cell_type": "code",
      "execution_count": null,
      "metadata": {
        "colab": {
          "base_uri": "https://localhost:8080/"
        },
        "id": "c59SVxspXiDA",
        "outputId": "af0f0e3b-864b-4541-9923-cbc3b72224c8"
      },
      "outputs": [
        {
          "data": {
            "text/plain": [
              "ModeResult(mode=array([12]), count=array([3]))"
            ]
          },
          "execution_count": 282,
          "metadata": {
            "tags": []
          },
          "output_type": "execute_result"
        }
      ],
      "source": [
        "mode_ = scipy.stats.mode(v)\n",
        "mode_"
      ]
    },
    {
      "cell_type": "markdown",
      "metadata": {
        "id": "2y5irhAGXkUm"
      },
      "source": [
        "Jika terdapat lebih dari satu nilai modus, scipy.stats.mode() akan menjadikan nilai terkecil sebagai modus."
      ]
    },
    {
      "cell_type": "markdown",
      "metadata": {
        "id": "YQwtkux2XlJp"
      },
      "source": [
        "# **Menghitung Ukuran Sebaran Data**\n",
        "\n",
        "Ukuran pemusatan saja tidak cukup untuk menjelaskan suatu data, kita juga perlu menghitung ukuran sebaran data. Beberapa ukuran sebaran data yang perlu diketahui yaitu:\n",
        "\n",
        "**Variance** atau variansi. Menghitung variansi menggunakan python dapat dilakukan dengan cara berikut:"
      ]
    },
    {
      "cell_type": "code",
      "execution_count": null,
      "metadata": {
        "colab": {
          "base_uri": "https://localhost:8080/"
        },
        "id": "iJLpJAYdXipe",
        "outputId": "cbc60ab9-1a9c-48a3-d037-9ba42ebfd58d"
      },
      "outputs": [
        {
          "data": {
            "text/plain": [
              "123.19999999999999"
            ]
          },
          "execution_count": 283,
          "metadata": {
            "tags": []
          },
          "output_type": "execute_result"
        }
      ],
      "source": [
        "n = len(x)\n",
        "mean_ = sum(x) / n\n",
        "var_ = sum((item - mean_)**2 for item in x) / (n - 1)\n",
        "var_"
      ]
    },
    {
      "cell_type": "markdown",
      "metadata": {
        "id": "6jE9m053XtrD"
      },
      "source": [
        "Cara yang lebih singkat dan elegan adalah menggunakan statistics.variance():"
      ]
    },
    {
      "cell_type": "code",
      "execution_count": null,
      "metadata": {
        "colab": {
          "base_uri": "https://localhost:8080/"
        },
        "id": "oUgqpbU9Xuzg",
        "outputId": "df93d5f9-36b4-47c0-ecc1-b55d22d64161"
      },
      "outputs": [
        {
          "data": {
            "text/plain": [
              "123.2"
            ]
          },
          "execution_count": 284,
          "metadata": {
            "tags": []
          },
          "output_type": "execute_result"
        }
      ],
      "source": [
        "var_ = statistics.variance(x)\n",
        "var_"
      ]
    },
    {
      "cell_type": "markdown",
      "metadata": {
        "id": "RLhGL6R4Xxap"
      },
      "source": [
        "Bagaimana jika terdapat nilai nan dalam dataset? Silahkan dicoba sendiri hehe..\n",
        "\n",
        "Cara yang lain yaitu menggunakan fungsi np.var() atau metode .var():"
      ]
    },
    {
      "cell_type": "code",
      "execution_count": null,
      "metadata": {
        "colab": {
          "base_uri": "https://localhost:8080/"
        },
        "id": "yXfwHg8ZXy3D",
        "outputId": "f70aa96d-f9ca-4171-8d4b-418b3895bf62"
      },
      "outputs": [
        {
          "data": {
            "text/plain": [
              "123.19999999999999"
            ]
          },
          "execution_count": 285,
          "metadata": {
            "tags": []
          },
          "output_type": "execute_result"
        }
      ],
      "source": [
        "var_ = np.var(y, ddof=1)\n",
        "var_"
      ]
    },
    {
      "cell_type": "code",
      "execution_count": null,
      "metadata": {
        "colab": {
          "base_uri": "https://localhost:8080/"
        },
        "id": "tWz-kBnHX2Dt",
        "outputId": "37e471c9-677c-493a-dd71-0cfcfaaa4329"
      },
      "outputs": [
        {
          "data": {
            "text/plain": [
              "123.19999999999999"
            ]
          },
          "execution_count": 286,
          "metadata": {
            "tags": []
          },
          "output_type": "execute_result"
        }
      ],
      "source": [
        "var_ = y.var(ddof=1)\n",
        "var_"
      ]
    },
    {
      "cell_type": "markdown",
      "metadata": {
        "id": "O__RCchQX4Qx"
      },
      "source": [
        "Penting untuk mendefinisikan nilai ddof=1. Parameter ini digunakan agar perhitungan nilai s2 sesuai yaitu menggunakan n-1 sebagai pembagi bukan n saja. Untuk dataset yang memiliki nilai nan, kita dapat mengabaikan nilai nan tersebut dengan np.nanvar():"
      ]
    },
    {
      "cell_type": "code",
      "execution_count": null,
      "metadata": {
        "colab": {
          "base_uri": "https://localhost:8080/"
        },
        "id": "3TwWg3WeX5iA",
        "outputId": "a4a7fd7d-afce-4dfa-9ef6-4dba25af70ff"
      },
      "outputs": [
        {
          "data": {
            "text/plain": [
              "123.19999999999999"
            ]
          },
          "execution_count": 287,
          "metadata": {
            "tags": []
          },
          "output_type": "execute_result"
        }
      ],
      "source": [
        "np.nanvar(y_dgn_nan, ddof=1)"
      ]
    },
    {
      "cell_type": "markdown",
      "metadata": {
        "id": "aUbgaVVRX684"
      },
      "source": [
        "**Standar Deviasi** atau simpangan baku. Menghitung standar deviasi menggunakan python dapat dilakukan dengan cara:"
      ]
    },
    {
      "cell_type": "code",
      "execution_count": null,
      "metadata": {
        "colab": {
          "base_uri": "https://localhost:8080/"
        },
        "id": "jBIyoKN3X82E",
        "outputId": "fb82e83c-ea3d-418e-c2f0-3ad56b0af1fb"
      },
      "outputs": [
        {
          "data": {
            "text/plain": [
              "11.099549540409285"
            ]
          },
          "execution_count": 288,
          "metadata": {
            "tags": []
          },
          "output_type": "execute_result"
        }
      ],
      "source": [
        "std_ = var_ ** 0.5\n",
        "std_"
      ]
    },
    {
      "cell_type": "markdown",
      "metadata": {
        "id": "QtGIhUleX-ey"
      },
      "source": [
        "Kita juga bisa menggunakan statistics.dev():"
      ]
    },
    {
      "cell_type": "code",
      "execution_count": null,
      "metadata": {
        "colab": {
          "base_uri": "https://localhost:8080/"
        },
        "id": "oTay8wgIX_wP",
        "outputId": "7fbf14a9-6c84-4f0f-fa2e-8d80bc8dc08b"
      },
      "outputs": [
        {
          "data": {
            "text/plain": [
              "11.099549540409287"
            ]
          },
          "execution_count": 289,
          "metadata": {
            "tags": []
          },
          "output_type": "execute_result"
        }
      ],
      "source": [
        "std_ = statistics.stdev(x)\n",
        "std_"
      ]
    },
    {
      "cell_type": "markdown",
      "metadata": {
        "id": "QmYQhFkQYBEO"
      },
      "source": [
        "Jika kita menggunakan Numpy, perhatikan untuk menggunakan fungsi yang sesuai jika terdapat nilai nan:"
      ]
    },
    {
      "cell_type": "code",
      "execution_count": null,
      "metadata": {
        "colab": {
          "base_uri": "https://localhost:8080/"
        },
        "id": "jzRT__DFYDUf",
        "outputId": "7c6721d5-dd26-4291-f6b8-573a89918b8c"
      },
      "outputs": [
        {
          "data": {
            "text/plain": [
              "11.099549540409285"
            ]
          },
          "execution_count": 290,
          "metadata": {
            "tags": []
          },
          "output_type": "execute_result"
        }
      ],
      "source": [
        "np.std(y, ddof=1)\n"
      ]
    },
    {
      "cell_type": "code",
      "execution_count": null,
      "metadata": {
        "colab": {
          "base_uri": "https://localhost:8080/"
        },
        "id": "3AAn5CJTYFTu",
        "outputId": "709705af-8ce9-4b33-fc17-69b4637e855d"
      },
      "outputs": [
        {
          "data": {
            "text/plain": [
              "11.099549540409285"
            ]
          },
          "execution_count": 291,
          "metadata": {
            "tags": []
          },
          "output_type": "execute_result"
        }
      ],
      "source": [
        "y.std(ddof=1)\n"
      ]
    },
    {
      "cell_type": "code",
      "execution_count": null,
      "metadata": {
        "colab": {
          "base_uri": "https://localhost:8080/"
        },
        "id": "_87sw0VUYHOp",
        "outputId": "0614eb87-9d45-490b-d6c5-bfb5cb2c941b"
      },
      "outputs": [
        {
          "data": {
            "text/plain": [
              "nan"
            ]
          },
          "execution_count": 292,
          "metadata": {
            "tags": []
          },
          "output_type": "execute_result"
        }
      ],
      "source": [
        "np.std(y_dgn_nan, ddof=1)\n"
      ]
    },
    {
      "cell_type": "code",
      "execution_count": null,
      "metadata": {
        "colab": {
          "base_uri": "https://localhost:8080/"
        },
        "id": "-e1SaHLhYJBX",
        "outputId": "ce32480e-b636-4b5c-ba60-d629c5025690"
      },
      "outputs": [
        {
          "data": {
            "text/plain": [
              "nan"
            ]
          },
          "execution_count": 293,
          "metadata": {
            "tags": []
          },
          "output_type": "execute_result"
        }
      ],
      "source": [
        "y_dgn_nan.std(ddof=1)\n"
      ]
    },
    {
      "cell_type": "code",
      "execution_count": null,
      "metadata": {
        "colab": {
          "base_uri": "https://localhost:8080/"
        },
        "id": "bkA3PSvFYKgN",
        "outputId": "b0f88d9a-9940-4afa-f2f7-1aa785a17bdb"
      },
      "outputs": [
        {
          "data": {
            "text/plain": [
              "11.099549540409285"
            ]
          },
          "execution_count": 294,
          "metadata": {
            "tags": []
          },
          "output_type": "execute_result"
        }
      ],
      "source": [
        "np.nanstd(y_dgn_nan, ddof=1)\n"
      ]
    },
    {
      "cell_type": "markdown",
      "metadata": {
        "id": "uzJ1k-wGYNc5"
      },
      "source": [
        "Skewness, nilai dari skewness dapat dihasilkan menggunakan python dengan cara:"
      ]
    },
    {
      "cell_type": "code",
      "execution_count": null,
      "metadata": {
        "colab": {
          "base_uri": "https://localhost:8080/"
        },
        "id": "l_FheJ6cYNQb",
        "outputId": "38b6cdab-6105-4bf0-bcd8-2fabc795a20e"
      },
      "outputs": [
        {
          "data": {
            "text/plain": [
              "1.9470432273905929"
            ]
          },
          "execution_count": 295,
          "metadata": {
            "tags": []
          },
          "output_type": "execute_result"
        }
      ],
      "source": [
        "x = [8.0, 1, 2.5, 4, 28.0]\n",
        "n = len(x)\n",
        "mean_ = sum(x) / n\n",
        "var_ = sum((item - mean_)**2 for item in x) / (n - 1)\n",
        "std_ = var_ ** 0.5\n",
        "skew_ = (sum((item - mean_)**3 for item in x) * n / ((n - 1) * (n - 2) * std_**3))\n",
        "skew_"
      ]
    },
    {
      "cell_type": "markdown",
      "metadata": {
        "id": "ovjwc22SYUy8"
      },
      "source": [
        "Kita juga bisa menggunakan scipy.stats.skew():"
      ]
    },
    {
      "cell_type": "code",
      "execution_count": null,
      "metadata": {
        "colab": {
          "base_uri": "https://localhost:8080/"
        },
        "id": "8m3OclvBYWJV",
        "outputId": "28d9388d-e5f5-4c86-ddfe-8d16e99620d2"
      },
      "outputs": [
        {
          "data": {
            "text/plain": [
              "1.9470432273905927"
            ]
          },
          "execution_count": 296,
          "metadata": {
            "tags": []
          },
          "output_type": "execute_result"
        }
      ],
      "source": [
        "y, y_dgn_nan = np.array(x), np.array(x_dgn_nan)\n",
        "scipy.stats.skew(y, bias=False)\n"
      ]
    },
    {
      "cell_type": "code",
      "execution_count": null,
      "metadata": {
        "colab": {
          "base_uri": "https://localhost:8080/"
        },
        "id": "ypUIRa9cYYTC",
        "outputId": "567062a2-3b53-42e5-d61c-1919aa614dcf"
      },
      "outputs": [
        {
          "data": {
            "text/plain": [
              "nan"
            ]
          },
          "execution_count": 297,
          "metadata": {
            "tags": []
          },
          "output_type": "execute_result"
        }
      ],
      "source": [
        "scipy.stats.skew(y_dgn_nan, bias=False)\n"
      ]
    },
    {
      "cell_type": "markdown",
      "metadata": {
        "id": "JrXPtywjYbYW"
      },
      "source": [
        "suatu dataset dapat dianggap simetris jika memiliki nilai skewness mendekati 0, yaitu antara -0.5 dan 0.5.\n",
        "\n",
        "Percentiles ke-p dari sekumpulan data adalah nilai dimana p% dari data tersebut berada dibawahnya. Setiap data memiliki tiga nilai kuartil, yang membagi data menjadi 4 bagian sama besar.\n",
        "\n",
        "1. Kuartil pertama (Q1) adalah persentil ke-25 dari data\n",
        "2. Kuartil kedua (Q2) adalah persentil ke-50 dari data yang juga merupakan median dari data tersebut.\n",
        "3. Kuartil ketiga (Q3) adalah persentil ke-75 dari data\n",
        "\n",
        "Nilai persentil dapat dicari menggunakan np.percentile():"
      ]
    },
    {
      "cell_type": "code",
      "execution_count": null,
      "metadata": {
        "colab": {
          "base_uri": "https://localhost:8080/"
        },
        "id": "lNJgJxZCYiXv",
        "outputId": "8eb7ac12-0c63-4937-becd-26ff4272afc6"
      },
      "outputs": [
        {
          "data": {
            "text/plain": [
              "-3.44"
            ]
          },
          "execution_count": 298,
          "metadata": {
            "tags": []
          },
          "output_type": "execute_result"
        }
      ],
      "source": [
        "x = [-5.0, -1.1, 0.1, 2.0, 8.0, 12.8, 21.0, 25.8, 41.0]\n",
        "y = np.array(x)\n",
        "np.percentile(y, 5)\n"
      ]
    },
    {
      "cell_type": "code",
      "execution_count": null,
      "metadata": {
        "colab": {
          "base_uri": "https://localhost:8080/"
        },
        "id": "aBgSp3e7Yj_b",
        "outputId": "205a8c38-ff50-44e6-851f-0980dcc72262"
      },
      "outputs": [
        {
          "data": {
            "text/plain": [
              "34.919999999999995"
            ]
          },
          "execution_count": 299,
          "metadata": {
            "tags": []
          },
          "output_type": "execute_result"
        }
      ],
      "source": [
        "np.percentile(y, 95)"
      ]
    },
    {
      "cell_type": "markdown",
      "metadata": {
        "id": "H2EtHuiZYnUu"
      },
      "source": [
        "Jika kita ingin mengabaikan nilai nan pada data maka digunakan np.nanpercentile():"
      ]
    },
    {
      "cell_type": "code",
      "execution_count": null,
      "metadata": {
        "colab": {
          "base_uri": "https://localhost:8080/"
        },
        "id": "0wQGgW8WYoIY",
        "outputId": "30ccd2eb-9fb1-4e23-aabc-74ab1b0f9077"
      },
      "outputs": [
        {
          "data": {
            "text/plain": [
              "array([-5. , -1.1,  nan,  0.1,  2. ,  8. , 12.8, 21. , 25.8, 41. ])"
            ]
          },
          "execution_count": 300,
          "metadata": {
            "tags": []
          },
          "output_type": "execute_result"
        }
      ],
      "source": [
        "y_dgn_nan = np.insert(y, 2, np.nan)\n",
        "y_dgn_nan"
      ]
    },
    {
      "cell_type": "code",
      "execution_count": null,
      "metadata": {
        "colab": {
          "base_uri": "https://localhost:8080/"
        },
        "id": "rocFBIJZYtz1",
        "outputId": "acceded1-d129-4a5e-a744-61d9c597ac34"
      },
      "outputs": [
        {
          "data": {
            "text/plain": [
              "array([ 0.1,  8. , 21. ])"
            ]
          },
          "execution_count": 301,
          "metadata": {
            "tags": []
          },
          "output_type": "execute_result"
        }
      ],
      "source": [
        "np.nanpercentile(y_dgn_nan, [25, 50, 75])"
      ]
    },
    {
      "cell_type": "markdown",
      "metadata": {
        "id": "eeLQF9tiYwSP"
      },
      "source": [
        "**Ranges** dari data adalah selisih antara elemen maksimum dan elemen minimum pada suatu dataset. Kita dapat menghitungnya dengan fungsi np.ptp():"
      ]
    },
    {
      "cell_type": "code",
      "execution_count": null,
      "metadata": {
        "colab": {
          "base_uri": "https://localhost:8080/"
        },
        "id": "bRdokQomYx86",
        "outputId": "780194f1-fa84-494a-b4d4-764a78c29acd"
      },
      "outputs": [
        {
          "data": {
            "text/plain": [
              "46.0"
            ]
          },
          "execution_count": 302,
          "metadata": {
            "tags": []
          },
          "output_type": "execute_result"
        }
      ],
      "source": [
        "np.ptp(y)\n"
      ]
    },
    {
      "cell_type": "code",
      "execution_count": null,
      "metadata": {
        "colab": {
          "base_uri": "https://localhost:8080/"
        },
        "id": "UwnGeQe-Y0Db",
        "outputId": "6e02231d-2c30-4c23-b0dc-b617ac69bbd6"
      },
      "outputs": [
        {
          "data": {
            "text/plain": [
              "nan"
            ]
          },
          "execution_count": 303,
          "metadata": {
            "tags": []
          },
          "output_type": "execute_result"
        }
      ],
      "source": [
        "np.ptp(y_dgn_nan)"
      ]
    },
    {
      "cell_type": "markdown",
      "metadata": {
        "id": "nLXezThPY3ju"
      },
      "source": [
        "Alternatifnya, kita bisa menggunakan fungsi bawaan python dan NumPy:"
      ]
    },
    {
      "cell_type": "code",
      "execution_count": null,
      "metadata": {
        "colab": {
          "base_uri": "https://localhost:8080/"
        },
        "id": "LuAC5gSqY_wE",
        "outputId": "1584e516-5ecf-4486-aff5-a3fc4f75c52b"
      },
      "outputs": [
        {
          "data": {
            "text/plain": [
              "46.0"
            ]
          },
          "execution_count": 304,
          "metadata": {
            "tags": []
          },
          "output_type": "execute_result"
        }
      ],
      "source": [
        "np.amax(y) - np.amin(y)\n"
      ]
    },
    {
      "cell_type": "code",
      "execution_count": null,
      "metadata": {
        "colab": {
          "base_uri": "https://localhost:8080/"
        },
        "id": "pe8y9N1oZC6R",
        "outputId": "a26869b1-92b8-4cd0-cf57-4f729a31524b"
      },
      "outputs": [
        {
          "data": {
            "text/plain": [
              "46.0"
            ]
          },
          "execution_count": 305,
          "metadata": {
            "tags": []
          },
          "output_type": "execute_result"
        }
      ],
      "source": [
        "np.nanmax(y_dgn_nan) - np.nanmin(y_dgn_nan)\n"
      ]
    },
    {
      "cell_type": "code",
      "execution_count": null,
      "metadata": {
        "colab": {
          "base_uri": "https://localhost:8080/"
        },
        "id": "xRl6u8PAZD6B",
        "outputId": "b0787361-9edf-4e0c-cb85-c71a4a5df831"
      },
      "outputs": [
        {
          "data": {
            "text/plain": [
              "46.0"
            ]
          },
          "execution_count": 306,
          "metadata": {
            "tags": []
          },
          "output_type": "execute_result"
        }
      ],
      "source": [
        "y.max() - y.min()"
      ]
    },
    {
      "cell_type": "markdown",
      "metadata": {
        "id": "qWF8MsgeZIO2"
      },
      "source": [
        "# **Menghitung Korelasi Antara Sepasang Data**\n",
        "\n",
        "Korelasi atau hubungan antara sepasang data dapat dilihat dengan menghitung:\n",
        "\n",
        "**Covariance**, dengan menggunakan fungsi dari python kovariansi dapat dihitung sebagai berikut:"
      ]
    },
    {
      "cell_type": "code",
      "execution_count": null,
      "metadata": {
        "colab": {
          "base_uri": "https://localhost:8080/"
        },
        "id": "8HgFM2b0ZN2i",
        "outputId": "abdffb3b-8f69-434d-80b8-e5e74e4786a7"
      },
      "outputs": [
        {
          "data": {
            "text/plain": [
              "228.75194444444446"
            ]
          },
          "execution_count": 307,
          "metadata": {
            "tags": []
          },
          "output_type": "execute_result"
        }
      ],
      "source": [
        "n = len(x)\n",
        "mean_x, mean_y = sum(x) / n, sum(y) / n\n",
        "cov_xy = (sum((x[k] - mean_x) * (y[k] - mean_y) for k in range(n)) / (n - 1))\n",
        "cov_xy"
      ]
    },
    {
      "cell_type": "markdown",
      "metadata": {
        "id": "erSNwS5rZSfr"
      },
      "source": [
        "Dengan menggunakan np.cov() dari NumPy kita akan mendapatkan matriks kovariansi:"
      ]
    },
    {
      "cell_type": "code",
      "execution_count": null,
      "metadata": {
        "id": "lWSAjCK3ZTty"
      },
      "outputs": [],
      "source": [
        "# cov_matrix = np.cov(x_, y_)\n",
        "# cov_matrix"
      ]
    },
    {
      "cell_type": "markdown",
      "metadata": {
        "id": "kJUI0kpdZqjB"
      },
      "source": [
        "Dimana nilai 38.5 atau posisi atas kiri merupakan nilai variansi dari x, dan nilai 13.91 merupakan nilai variansi dari y, dan dua nilai lainnya merupakan nilai kovariansi antara x dan y, yaitu 19.95.\n",
        "\n",
        "**Correlation coefficient**, untuk menghitung koefisien korelasi hanya menggunakan fungsi bawaan python adalah sebagai berikut:"
      ]
    },
    {
      "cell_type": "code",
      "execution_count": null,
      "metadata": {
        "colab": {
          "base_uri": "https://localhost:8080/"
        },
        "id": "8WLduvbyZstZ",
        "outputId": "fa2e6e06-01f1-49e9-f794-dc81c3e48b9b"
      },
      "outputs": [
        {
          "data": {
            "text/plain": [
              "1.0"
            ]
          },
          "execution_count": 309,
          "metadata": {
            "tags": []
          },
          "output_type": "execute_result"
        }
      ],
      "source": [
        "var_x = sum((item - mean_x)**2 for item in x) / (n - 1)\n",
        "var_y = sum((item - mean_y)**2 for item in y) / (n - 1)\n",
        "std_x, std_y = var_x ** 0.5, var_y ** 0.5\n",
        "r = cov_xy / (std_x * std_y)\n",
        "r"
      ]
    },
    {
      "cell_type": "markdown",
      "metadata": {
        "id": "LGDoI4eEZxP-"
      },
      "source": [
        "Library scipy.stats memiliki fungsi pearsonr() yang menghitung nilai dari koefisien korelasi dan juga nilai p-value nya:"
      ]
    },
    {
      "cell_type": "code",
      "execution_count": null,
      "metadata": {
        "id": "1POFOneKZxDr"
      },
      "outputs": [],
      "source": [
        "# r, p = scipy.stats.pearsonr(x_, y_)\n",
        "# r"
      ]
    },
    {
      "cell_type": "code",
      "execution_count": null,
      "metadata": {
        "id": "vxQUFdwMZ4aP"
      },
      "outputs": [],
      "source": [
        "# p"
      ]
    },
    {
      "cell_type": "markdown",
      "metadata": {
        "id": "V_X-3GMMZ867"
      },
      "source": [
        "Jika ingin menggunakan NumPy, dapat memakai fungsi np.corrcoef() dengan argumen x_ dan y_, maka didapatkan matriks koefisien korelasinya:"
      ]
    },
    {
      "cell_type": "code",
      "execution_count": null,
      "metadata": {
        "id": "Ju8f9qUOZ-4N"
      },
      "outputs": [],
      "source": [
        "# corr_matrix = np.corrcoef(x_, y_)\n",
        "# corr_matrix"
      ]
    },
    {
      "cell_type": "markdown",
      "metadata": {
        "id": "b_6Klq3IaBu3"
      },
      "source": [
        "Nilai 1 pada matriks tersebut menunjukkan koefisien korelasi antara satu argumen dengan dirinya sendiri, sedangkan dua nilai yang lain menunjukkan koefisien korelasi antara kedua argumen yakni x_ dan y_."
      ]
    },
    {
      "cell_type": "code",
      "execution_count": null,
      "metadata": {
        "id": "0yOZ9byTZ__1"
      },
      "outputs": [],
      "source": [
        "# r = corr_matrix[0, 1]\n",
        "# r"
      ]
    },
    {
      "cell_type": "code",
      "execution_count": null,
      "metadata": {
        "id": "YUwQ58NcaGFL"
      },
      "outputs": [],
      "source": [
        "# r = corr_matrix[1, 0]\n",
        "# r"
      ]
    },
    {
      "cell_type": "markdown",
      "metadata": {
        "id": "H04Y3MAAaL7W"
      },
      "source": [
        "Kita juga bisa menggukanan fungsi scipy.stats.linregress() yang akan menghasilkan beberapa nilai, salah satunya adalah koefisien korelasinya:"
      ]
    },
    {
      "cell_type": "code",
      "execution_count": null,
      "metadata": {
        "id": "E6xeI0bwaNaD"
      },
      "outputs": [],
      "source": [
        "# scipy.stats.linregress(x_, y_)\n",
        "# result = scipy.stats.linregress(x_, y_)\n",
        "# r = result.rvalue\n",
        "# r"
      ]
    },
    {
      "cell_type": "markdown",
      "metadata": {
        "id": "G26X6X6MakAA"
      },
      "source": [
        "https://www.academia.edu/25566517/Variansi_and_Kovariansi\n",
        "\n",
        "https://realpython.com/python-statistics/\n"
      ]
    },
    {
      "cell_type": "markdown",
      "metadata": {
        "id": "XdH9EBWHa1rP"
      },
      "source": []
    },
    {
      "cell_type": "markdown",
      "metadata": {
        "id": "fyoYEJKw6qoo"
      },
      "source": [
        "# Soal 1: Law of Large Numbers\n",
        "\n",
        "Menurut Law of Large Numbers (LLN) jika kita mengulang suatu percobaan, semakin banyak kita mengulang maka rata-rata hasil yang di dapat akan mendekati apa yang kita perkirakan.\n",
        "\n",
        "Sebagai caontoh, sebuah dadu dengan 6-sisi akan menghasilkan angka 1, 2, 3, 4, 5, atau 6 dengan probabilitas yang sama untuk masing-masing angkanya. Maka, perkiraan rata-rata hasil yang akan di dapat adalah (1+2+3+4+5+6)/6 = 3.5\n",
        "Menurut LLN, semakin banyak kita mengocok dadu, maka rata-rata hasil yang didapatkan akan semakin mendekati nilai perkiraan rata-ratanya yaitu 3.5\n",
        "\n",
        "Begitu juga jika kita memiliki sebuah dataset berisi angka-angka acak dengan nilai rata-rata(μ) = 0 dan standar deviasi(σ) = 1, maka angka-angka tersebut akan terdistribusi secara normal dengan semakin banyaknya isi dari dataset tersebut.\n",
        "\n",
        "Dari gambar di atas, maka semakin banyaknya isi dari dataset, jumlah angka-angka pada dataset yang memiliki nilai -1 < angka < 1 akan semakin mendekati 68.2%.\n",
        "Lengkapi code dibawah ini untuk membuktikan hal tersebut.\n"
      ]
    },
    {
      "cell_type": "code",
      "execution_count": null,
      "metadata": {
        "colab": {
          "base_uri": "https://localhost:8080/"
        },
        "id": "SkYQ0sD76qpA",
        "outputId": "b6b04e05-9cc9-4143-d5cd-92136f0d110a"
      },
      "outputs": [
        {
          "name": "stdout",
          "output_type": "stream",
          "text": [
            "0.02172893179532513\n"
          ]
        }
      ],
      "source": [
        "import numpy as np\n",
        "from numpy.random import randn\n",
        "\n",
        "N = 20                     #Tentukan ukuran sampel\n",
        "counter = 0               #Untuk mereset perhitungan\n",
        "\n",
        "for item in randn(20) :               #Mulai iterasi dan tambahkan nilai counter jika memenuhi syarat\n",
        "\n",
        "  if -1 < item < 1 :\n",
        "    counter+=item\n",
        "\n",
        "\n",
        "hasil = counter/N         #Hitung nilai persentase jumlahnya\n",
        "print(hasil)"
      ]
    },
    {
      "cell_type": "markdown",
      "metadata": {
        "id": "lbGK0ue5y76R"
      },
      "source": [
        "---"
      ]
    },
    {
      "cell_type": "markdown",
      "metadata": {
        "id": "X0UMLFYQy-_B"
      },
      "source": [
        "# Soal 2: Menghitung nilai-nilai dari statistika deskriptif"
      ]
    },
    {
      "cell_type": "code",
      "execution_count": null,
      "metadata": {
        "id": "xBo8ifmly7Kx"
      },
      "outputs": [],
      "source": [
        "import statistics\n",
        "import numpy as np\n",
        "import scipy.stats\n",
        "\n",
        "#Berikut adalah data dari breast cancer dataset, area dan status mematikan atau tidaknya\n",
        "\n",
        "area = [1001. , 1326. , 1203. ,  386.1, 1297. ,  477.1, 1040. ,  577.9, 519.8,  475.9,  797.8,  781. , 1123. ,  782.7,  578.3,  658.8, 684.5,  798.8, 1260. ,  566.3,  520. ,  273.9,  704.4, 1404. ,\n",
        "        904.6,  912.7,  644.8, 1094. ,  732.4,  955.1, 1088. ,  440.6, 899.3, 1162. ,  807.2,  869.5,  633. ,  523.8,  698.8,  559.2, 563. ,  371.1, 1104. ,  545.2,  531.5, 1076. ,  201.9,  534.6,\n",
        "        449.3,  561. ,  427.9,  571.8,  437.6, 1033. ,  712.8,  409. , 1152. ,  656.9,  527.2,  224.5,  311.9,  221.8,  645.7,  260.9, 499. ,  668.3,  269.4,  394.1,  250.5,  502.5, 1130. ,  244. ,\n",
        "        929.4,  584.1,  470.9,  817.7,  559.2, 1006. , 1245. ,  506.3, 401.5,  520. , 1878. , 1132. ,  443.3, 1075. ,  648.2, 1076. , 466.1,  651.9,  662.7,  728.2,  551.7,  555.1,  705.6, 1264. ,\n",
        "        451.1,  294.5,  412.6,  642.5,  582.7,  143.5,  458.7,  298.3, 336.1,  530.2,  412.5,  466.7, 1509. ,  396.5,  290.2,  480.4, 629.9,  334.2,  230.9,  438.6,  245.2,  682.5,  782.6,  982. ,\n",
        "        403.3, 1077. , 1761. ,  640.7,  553.5,  588.7,  572.6, 1138. , 674.5, 1192. ,  455.8,  748.9,  809.8,  761.7, 1075. ,  506.3, 423.6,  399.8,  678.1,  384.8,  288.5,  813. ,  398. ,  512.2,\n",
        "        355.3,  432.8,  432. ,  689.5,  640.1,  585. ,  519.4,  203.9, 300.2,  381.9,  538.9,  460.3,  963.7,  880.2,  448.6,  366.8, 419.8, 1157. , 1214. ,  464.5, 1686. ,  690.2,  357.6,  886.3,\n",
        "        984.6,  685.9,  464.1,  565.4,  736.9,  372.7,  349.6,  227.2, 302.4,  832.9,  526.4,  508.8, 2250. , 1311. ,  766.6,  402. , 710.6,  317.5, 1041. ,  420.3,  428.9,  463.7,  609.9,  507.4,\n",
        "        288.1,  477.4,  671.4,  516.4,  588.9, 1024. , 1148. ,  642.7, 461. ,  951.6, 1685. ,  597.8,  481.9,  716.6,  295.4,  904.3, 529.4,  725.5, 1290. ,  428. , 2499. ,  948. ,  610.7,  578.9,\n",
        "        432.2,  321.2, 1230. , 1223. ,  568.9,  561.3,  313.1,  761.3, 546.4,  641.2,  329.6,  684.5,  496.4,  503.2,  895. ,  395.7, 386.8, 1319. ,  279.6,  603.4, 1670. , 1306. ,  623.9,  920.6,\n",
        "        575.3,  476.5,  389.4,  590. , 1155. ,  337.7,  541.6,  512.2, 347. ,  406.3, 1364. ,  407.4, 1206. ,  928.2, 1169. ,  602.4, 1207. ,  713.3,  773.5,  744.9, 1288. ,  933.1,  947.8,  758.6,\n",
        "        928.3, 1419. ,  346.4,  561. ,  512.2,  344.9,  632.6,  388. , 1491. ,  289.9,  998.9,  435.6,  396.6, 1102. ,  572.3,  587.4, 1138. ,  427.3, 1145. ,  805.1,  516.6,  489. ,  441. ,  515.9,\n",
        "        394.1,  396. ,  651. ,  687.3,  513.7,  432.7,  492.1,  582.7, 363.7,  431.1,  633.1,  334.2, 1217. ,  471.3, 1247. ,  334.3, 403.1,  417.2,  537.3,  246.3,  566.2,  530.6,  418.7,  664.9,\n",
        "        504.1,  409.1,  221.2,  481.6,  461.4, 1027. ,  244.5,  477.3, 324.2, 1274. ,  504.8, 1264. ,  457.9,  489.9,  616.5,  446. , 813.7,  826.8,  793.2,  514. ,  387.3,  390. ,  464.4,  918.6,\n",
        "        514.3, 1092. ,  310.8, 1747. ,  641.2,  280.5,  373.9, 1194. , 420.3,  321.6,  445.3,  668.7,  402.7,  426.7,  421. ,  758.6, 2010. ,  716.6,  384.6,  485.8,  512. ,  593.7,  241. ,  278.6,\n",
        "        491.9,  546.1,  496.6,  838.1,  552.4, 1293. , 1234. ,  458.4, 1546. , 1482. ,  840.4,  711.8, 1386. , 1335. ,  579.1,  788.5, 338.3,  562.1,  580.6,  361.6,  386.3,  372.7,  447.8,  462.9,\n",
        "        541.8,  664.7,  462. ,  596.6,  392. , 1174. ,  321.6,  234.3, 744.7, 1407. ,  446.2,  609.1,  558.1,  508.3,  378.2,  431.9, 994. ,  442.7,  525.2,  507.6,  469.1,  370. ,  800. ,  514.5,\n",
        "        991.7,  466.1,  399.8,  373.2,  268.8,  693.7,  719.5,  433.8, 271.2,  803.1,  495. ,  380.3,  409.7,  656.1,  408.2,  575.3, 289.7,  307.3,  333.6,  359.9,  381.1,  501.3,  685. ,  467.8,\n",
        "       1250. , 1110. ,  673.7,  599.5,  509.2,  611.2,  592.6,  606.5, 371.5,  928.8,  585.9,  340.9,  990. ,  441.3,  981.6,  674.8, 659.7, 1384. ,  432. , 1191. ,  442.5,  644.2,  492.9,  557.2,\n",
        "        415.1,  537.9,  520.2,  290.9,  930.9, 2501. ,  646.1,  412.7, 537.3,  542.9,  536.9,  286.3,  980.5,  408.8,  289.1,  449.9, 686.9,  465.4,  358.9,  506.9,  618.4,  599.4,  404.9,  815.8,\n",
        "        455.3,  602.9,  546.3,  571.1,  747.2,  476.7,  666. , 1167. , 420.5,  857.6,  466.5,  992.1, 1007. ,  477.3,  538.7,  680.9, 485.6,  480.1, 1068. , 1320. ,  689.4,  595.9,  476.3, 1682. ,\n",
        "        248.7,  272.5,  453.1,  366.5,  819.8,  731.3,  426. ,  680.7, 556.7,  658.8,  701.9,  391.2, 1052. , 1214. ,  493.1,  493.8, 257.8, 1841. ,  388.1,  571. ,  293.2,  221.3,  551.1,  468.5,\n",
        "        594.2,  445.2,  422.9,  416.2,  575.5, 1299. ,  365.6, 1308. , 629.8,  406.4,  178.8,  170.4,  402.9,  656.4,  668.6,  538.4, 584.8,  573.2,  324.9,  320.8,  285.7,  361.6,  360.5,  378.4,\n",
        "        507.9,  264. ,  514.3,  321.4,  311.7,  271.3,  657.1,  403.5, 600.4,  386. ,  716.9, 1347. , 1479. , 1261. ,  858.1, 1265. , 181. ]\n",
        "\n",
        "malignant = [0., 0., 0., 0., 0., 0., 0., 0., 0., 0., 0., 0., 0., 0., 0., 0., 0.,\n",
        "       0., 0., 1., 1., 1., 0., 0., 0., 0., 0., 0., 0., 0., 0., 0., 0., 0.,\n",
        "       0., 0., 0., 1., 0., 0., 0., 0., 0., 0., 0., 0., 1., 0., 1., 1., 1.,\n",
        "       1., 1., 0., 0., 1., 0., 0., 1., 1., 1., 1., 0., 1., 0., 0., 1., 1.,\n",
        "       1., 1., 0., 1., 0., 0., 1., 0., 1., 0., 0., 1., 1., 1., 0., 0., 1.,\n",
        "       0., 0., 0., 1., 1., 1., 0., 1., 1., 0., 0., 1., 1., 1., 0., 0., 1.,\n",
        "       1., 1., 1., 0., 1., 1., 0., 1., 1., 1., 1., 1., 1., 1., 1., 0., 0.,\n",
        "       0., 1., 0., 0., 1., 1., 1., 0., 0., 1., 0., 1., 0., 0., 1., 0., 0.,\n",
        "       1., 1., 0., 1., 1., 0., 1., 1., 1., 1., 0., 1., 1., 1., 1., 1., 1.,\n",
        "       1., 1., 1., 0., 1., 1., 1., 1., 0., 0., 1., 0., 1., 1., 0., 0., 1.,\n",
        "       1., 0., 0., 1., 1., 1., 1., 0., 1., 1., 0., 0., 0., 1., 0., 1., 0.,\n",
        "       1., 1., 1., 0., 1., 1., 0., 0., 1., 0., 0., 0., 0., 1., 0., 0., 0.,\n",
        "       1., 0., 1., 0., 1., 1., 0., 1., 0., 0., 0., 0., 1., 1., 0., 0., 1.,\n",
        "       1., 1., 0., 1., 1., 1., 1., 1., 0., 0., 1., 1., 0., 1., 1., 0., 0.,\n",
        "       1., 0., 1., 1., 1., 1., 0., 1., 1., 1., 1., 1., 0., 1., 0., 0., 0.,\n",
        "       0., 0., 0., 0., 0., 0., 0., 0., 0., 0., 0., 1., 1., 1., 1., 1., 1.,\n",
        "       0., 1., 0., 1., 1., 0., 1., 1., 0., 1., 0., 0., 1., 1., 1., 1., 1.,\n",
        "       1., 1., 1., 1., 1., 1., 1., 1., 0., 1., 1., 0., 1., 0., 1., 1., 1.,\n",
        "       1., 1., 1., 1., 1., 1., 1., 1., 1., 1., 1., 0., 1., 1., 1., 0., 1.,\n",
        "       0., 1., 1., 1., 1., 0., 0., 0., 1., 1., 1., 1., 0., 1., 0., 1., 0.,\n",
        "       1., 1., 1., 0., 1., 1., 1., 1., 1., 1., 1., 0., 0., 0., 1., 1., 1.,\n",
        "       1., 1., 1., 1., 1., 1., 1., 1., 0., 0., 1., 0., 0., 0., 1., 0., 0.,\n",
        "       1., 1., 1., 1., 1., 0., 1., 1., 1., 1., 1., 0., 1., 1., 1., 0., 1.,\n",
        "       1., 0., 0., 1., 1., 1., 1., 1., 1., 0., 1., 1., 1., 1., 1., 1., 1.,\n",
        "       0., 1., 1., 1., 1., 1., 0., 1., 1., 0., 1., 1., 1., 1., 1., 1., 1.,\n",
        "       1., 1., 1., 1., 1., 0., 1., 0., 0., 1., 0., 1., 1., 1., 1., 1., 0.,\n",
        "       1., 1., 0., 1., 0., 1., 1., 0., 1., 0., 1., 1., 1., 1., 1., 1., 1.,\n",
        "       1., 0., 0., 1., 1., 1., 1., 1., 1., 0., 1., 1., 1., 1., 1., 1., 1.,\n",
        "       1., 1., 1., 0., 1., 1., 1., 1., 1., 1., 1., 0., 1., 0., 1., 1., 0.,\n",
        "       1., 1., 1., 1., 1., 0., 0., 1., 0., 1., 0., 1., 1., 1., 1., 1., 0.,\n",
        "       1., 1., 0., 1., 0., 1., 0., 0., 1., 1., 1., 0., 1., 1., 1., 1., 1.,\n",
        "       1., 1., 1., 1., 1., 1., 0., 1., 0., 0., 1., 1., 1., 1., 1., 1., 1.,\n",
        "       1., 1., 1., 1., 1., 1., 1., 1., 1., 1., 1., 1., 1., 1., 1., 1., 1.,\n",
        "       1., 0., 0., 0., 0., 0., 0., 1.]"
      ]
    },
    {
      "cell_type": "code",
      "execution_count": null,
      "metadata": {
        "colab": {
          "base_uri": "https://localhost:8080/"
        },
        "id": "zBO3QTCr5v-A",
        "outputId": "0eba721a-101f-4370-8826-a3446ab62901"
      },
      "outputs": [
        {
          "name": "stdout",
          "output_type": "stream",
          "text": [
            "654.8891036906857\n",
            "654.8891036906854\n",
            "654.8891036906855\n",
            "519.0704649372796\n"
          ]
        }
      ],
      "source": [
        "#Hitung nilai mean dari 'area' menggunakan python saja, kemudian menggunakan library yang telah di import\n",
        "\n",
        "mean_python = sum(area)/len(area)\n",
        "print(mean_python)\n",
        "\n",
        "mean_statistics = statistics.mean(area)     #untuk python3.8\n",
        "print(mean_statistics)\n",
        "\n",
        "mean_numpy = np.mean(area)\n",
        "print(mean_numpy)\n",
        "\n",
        "#Hitung nilai harmonic mean menggunakan scipy\n",
        "harmonicmean = scipy.stats.hmean(area)\n",
        "print(harmonicmean)"
      ]
    },
    {
      "cell_type": "markdown",
      "metadata": {
        "id": "9SXG9tE0l4p7"
      },
      "source": [
        "Expected output:\n",
        "\n",
        "\n",
        "```\n",
        "654.8891036906857 \n",
        "654.8891036906854 \n",
        "654.8891036906855 \n",
        "519.0704649372796 \n",
        "```\n",
        "\n",
        "\n"
      ]
    },
    {
      "cell_type": "code",
      "execution_count": null,
      "metadata": {
        "colab": {
          "base_uri": "https://localhost:8080/"
        },
        "id": "TQ4lrG_d8FUm",
        "outputId": "2d47c187-1549-4d17-af2b-fbf44cd86d7c"
      },
      "outputs": [
        {
          "name": "stdout",
          "output_type": "stream",
          "text": [
            "551.1\n",
            "551.1\n"
          ]
        }
      ],
      "source": [
        "#Hitung median dari 'area' menggunakan python saja dan numpy\n",
        "def median_list (inp_list) :\n",
        "    n = len(inp_list)\n",
        "    ordered_list = sorted(inp_list)\n",
        "\n",
        "    if n % 2 == 0 :\n",
        "      index = round(0.5 * n)\n",
        "    else :\n",
        "      index = round(0.5* n-1)\n",
        "    \n",
        "    return ordered_list[index]\n",
        "\n",
        "median_python = median_list(area)\n",
        "print(median_python)\n",
        "\n",
        "median_numpy = np.median(area)\n",
        "print(median_numpy)"
      ]
    },
    {
      "cell_type": "markdown",
      "metadata": {
        "id": "2cp_Kbqqmoje"
      },
      "source": [
        "Expected output:\n",
        "\n",
        "\n",
        "```\n",
        "551.1\n",
        "551.1\n",
        "```\n",
        "\n",
        "\n"
      ]
    },
    {
      "cell_type": "code",
      "execution_count": null,
      "metadata": {
        "colab": {
          "base_uri": "https://localhost:8080/"
        },
        "id": "Xv0O2rzG99MZ",
        "outputId": "71040191-d9f7-4efb-a789-075b0b7bc4a7"
      },
      "outputs": [
        {
          "name": "stdout",
          "output_type": "stream",
          "text": [
            "ModeResult(mode=array([512.2]), count=array([3]))\n"
          ]
        }
      ],
      "source": [
        "#Hitung Mode dari 'area' menggunakan scipy\n",
        "\n",
        "mode_scipy = scipy.stats.mode(area)\n",
        "print(mode_scipy)"
      ]
    },
    {
      "cell_type": "markdown",
      "metadata": {
        "id": "lhgTLETxm5jI"
      },
      "source": [
        "Expected output:\n",
        "\n",
        "\n",
        "```\n",
        "ModeResult(mode=array([512.2]), count=array([3]))\n",
        "```\n",
        "\n"
      ]
    },
    {
      "cell_type": "code",
      "execution_count": null,
      "metadata": {
        "colab": {
          "base_uri": "https://localhost:8080/"
        },
        "id": "SIp6nUJi-TBG",
        "outputId": "bc644a39-de33-4085-c2a2-0b3c3060bf15"
      },
      "outputs": [
        {
          "name": "stdout",
          "output_type": "stream",
          "text": [
            "123843.55431768096\n",
            "123843.55431768115\n",
            "123843.55431768113\n"
          ]
        }
      ],
      "source": [
        "#Hitung variance dari 'area' menggunakan python saja, numpy, dan statistics\n",
        "\n",
        "n = len(area)\n",
        "mean = sum(area)/n\n",
        "variance_python = sum((item - mean)**2 for item in area) / (n - 1)\n",
        "print(variance_python)\n",
        "\n",
        "variance_numpy = np.var(area, ddof=1)\n",
        "print(variance_numpy)\n",
        "\n",
        "variance_statistics = statistics.variance(area)\n",
        "print(variance_statistics)"
      ]
    },
    {
      "cell_type": "markdown",
      "metadata": {
        "id": "vd0o3W3_nUHe"
      },
      "source": [
        "Expected output:\n",
        "\n",
        "\n",
        "```\n",
        "123843.55431768096\n",
        "123843.55431768115\n",
        "123843.55431768113\n",
        "```\n",
        "\n"
      ]
    },
    {
      "cell_type": "code",
      "execution_count": null,
      "metadata": {
        "colab": {
          "base_uri": "https://localhost:8080/"
        },
        "id": "EI1QGCxq-sZJ",
        "outputId": "6aa55566-3283-41aa-c914-4a3744b02200"
      },
      "outputs": [
        {
          "name": "stdout",
          "output_type": "stream",
          "text": [
            "351.9141291816527\n",
            "351.914129181653\n"
          ]
        }
      ],
      "source": [
        "#Hitung standar deviasi dari 'area' menggunakan python saja dan numpy\n",
        "n = len(area)\n",
        "mean = sum(area)/n\n",
        "variance = sum((item - mean)**2 for item in area) / (n - 1)\n",
        "\n",
        "std_python = variance ** 0.5\n",
        "print(std_python)\n",
        "\n",
        "std_numpy = np.std(area, ddof=1)\n",
        "print(std_numpy)"
      ]
    },
    {
      "cell_type": "markdown",
      "metadata": {
        "id": "A82DC5gOnk8v"
      },
      "source": [
        "Expected output:\n",
        "\n",
        "\n",
        "```\n",
        "351.9141291816527\n",
        "351.914129181653\n",
        "```\n",
        "\n"
      ]
    },
    {
      "cell_type": "code",
      "execution_count": null,
      "metadata": {
        "colab": {
          "base_uri": "https://localhost:8080/"
        },
        "id": "_SesOoaz_EiG",
        "outputId": "42d73d84-c01c-4135-bbdc-0ea6b637420a"
      },
      "outputs": [
        {
          "name": "stdout",
          "output_type": "stream",
          "text": [
            "1.6457321756240448\n",
            "1.6457321756240424\n"
          ]
        }
      ],
      "source": [
        "#Hitung skewness dari 'area' menggunakan python saja dan scipy\n",
        "n = len(area)\n",
        "mean = sum(area)/n\n",
        "variance = sum((item - mean)**2 for item in area) / (n - 1)\n",
        "std_python = variance ** 0.5\n",
        "\n",
        "skew_python = (sum((item - mean)**3 for item in area) * n / ((n - 1) * (n - 2) *std_python**3))\n",
        "print(skew_python)\n",
        "\n",
        "skew_scipy = scipy.stats.skew(area, bias=False)\n",
        "print(skew_scipy)"
      ]
    },
    {
      "cell_type": "markdown",
      "metadata": {
        "id": "4jTMC_ydn0l0"
      },
      "source": [
        "Expected output:\n",
        "\n",
        "\n",
        "```\n",
        "1.6457321756240448\n",
        "1.6457321756240424\n",
        "```\n",
        "\n"
      ]
    },
    {
      "cell_type": "code",
      "execution_count": null,
      "metadata": {
        "colab": {
          "base_uri": "https://localhost:8080/"
        },
        "id": "VF47KXsJ_bK8",
        "outputId": "c8bda3b2-7259-4534-9150-3b0d9fc49367"
      },
      "outputs": [
        {
          "name": "stdout",
          "output_type": "stream",
          "text": [
            "665.8679999999999\n",
            "1131.6799999999998\n"
          ]
        }
      ],
      "source": [
        "#Hitung percentile ke 66 dan 88 dari 'area' menggunakan numpy\n",
        "\n",
        "percentile66 = np.percentile(area, 66)\n",
        "print(percentile66)\n",
        "\n",
        "percentile88 = np.percentile(area, 88)\n",
        "print(percentile88)"
      ]
    },
    {
      "cell_type": "markdown",
      "metadata": {
        "id": "nwbz1HHyozEE"
      },
      "source": [
        "Expected output:\n",
        "\n",
        "\n",
        "```\n",
        "665.8679999999999\n",
        "1131.6799999999998\n",
        "```\n",
        "\n"
      ]
    },
    {
      "cell_type": "code",
      "execution_count": null,
      "metadata": {
        "colab": {
          "base_uri": "https://localhost:8080/"
        },
        "id": "o9Y09jIo__3S",
        "outputId": "584bdc54-b9f1-43be-d415-05d6e84972c8"
      },
      "outputs": [
        {
          "name": "stdout",
          "output_type": "stream",
          "text": [
            "2357.5\n",
            "2357.5\n"
          ]
        }
      ],
      "source": [
        "#Hitung range dari 'area' menggunakan python saja dan numpy\n",
        "\n",
        "range_python = max(area) - min(area)\n",
        "print(range_python)\n",
        "\n",
        "range_numpy = np.ptp(area)\n",
        "print(range_python)"
      ]
    },
    {
      "cell_type": "markdown",
      "metadata": {
        "id": "QYbYxBOBo8rF"
      },
      "source": [
        "Expected output:\n",
        "\n",
        "\n",
        "```\n",
        "2357.5\n",
        "2357.5\n",
        "```\n",
        "\n"
      ]
    },
    {
      "cell_type": "code",
      "execution_count": null,
      "metadata": {
        "colab": {
          "base_uri": "https://localhost:8080/"
        },
        "id": "og5IEgrgARXE",
        "outputId": "22a83af0-554b-4b50-ed6a-2136123dd498"
      },
      "outputs": [
        {
          "name": "stdout",
          "output_type": "stream",
          "text": [
            "-120.73822186192733\n",
            "[[ 1.23843554e+05 -1.20738222e+02]\n",
            " [-1.20738222e+02  2.34176589e-01]]\n"
          ]
        }
      ],
      "source": [
        "#Hitung covariance dari 'area' dan 'malignant' menggunakan python saja dan numpy\n",
        "n = len(area)\n",
        "mean_area, mean_malignant = sum(area) / n, sum(malignant) / n\n",
        "\n",
        "cov_python = (sum((area[k] - mean_area) * (malignant[k] - mean_malignant) for k in range(n)) / (n - 1))\n",
        "print(cov_python)\n",
        "\n",
        "cov_numpy = np.cov(area, malignant)\n",
        "print(cov_numpy)"
      ]
    },
    {
      "cell_type": "markdown",
      "metadata": {
        "id": "eIOMvJ8TpHHp"
      },
      "source": [
        "Expexted output:\n",
        "\n",
        "```\n",
        "-120.73822186192733\n",
        "[[ 1.23843554e+05 -1.20738222e+02]\n",
        " [-1.20738222e+02  2.34176589e-01]]\n",
        "```\n",
        "\n"
      ]
    },
    {
      "cell_type": "code",
      "execution_count": null,
      "metadata": {
        "colab": {
          "base_uri": "https://localhost:8080/"
        },
        "id": "epmNuviLAscr",
        "outputId": "94800812-280f-477e-f0ea-1fe56baee719"
      },
      "outputs": [
        {
          "name": "stdout",
          "output_type": "stream",
          "text": [
            "-0.7089838365853909\n",
            "[[ 1.         -0.70898384]\n",
            " [-0.70898384  1.        ]]\n",
            "-0.7089838365853901\n"
          ]
        }
      ],
      "source": [
        "#Hitung correlation coefficient 'area' dan 'malignant' menggunakan python saja, numpy, dan scipy\n",
        "n = len(area)\n",
        "mean_area, mean_malignant = sum(area) / n, sum(malignant) / n\n",
        "var_area = sum((item - mean_area)**2 for item in area) / (n - 1)\n",
        "var_malignant = sum((item - mean_malignant)**2 for item in malignant) / (n - 1)\n",
        "std_area, std_malignant = var_area ** 0.5, var_malignant ** 0.5\n",
        "cov = (sum((area[k] - mean_area) * (malignant[k] - mean_malignant) for k in range(n)) / (n - 1))\n",
        "r = cov / (std_area * std_malignant)\n",
        "\n",
        "corr_python = r\n",
        "print(corr_python)\n",
        "\n",
        "corr_numpy = np.corrcoef(area, malignant)\n",
        "print(corr_numpy)\n",
        "\n",
        "corr_scipy = scipy.stats.pearsonr(area, malignant)[0]\n",
        "print(corr_scipy)"
      ]
    },
    {
      "cell_type": "markdown",
      "metadata": {
        "id": "76PzM9NWpj9m"
      },
      "source": [
        "Expected output:\n",
        "\n",
        "```\n",
        "-0.7089838365853909\n",
        "[[ 1.         -0.70898384]\n",
        " [-0.70898384  1.        ]]\n",
        "-0.70898383658539\n",
        "```\n",
        "\n"
      ]
    },
    {
      "cell_type": "code",
      "execution_count": null,
      "metadata": {
        "colab": {
          "base_uri": "https://localhost:8080/"
        },
        "id": "PcK4waRnBQKc",
        "outputId": "8c9fb061-ca74-49ab-da3a-dd962a541179"
      },
      "outputs": [
        {
          "name": "stdout",
          "output_type": "stream",
          "text": [
            "4.734564310304755e-88\n",
            "4.734564310310984e-88\n"
          ]
        }
      ],
      "source": [
        "#Hitung p-value dari 'area' dan 'malignant' menggunakan scipy pearsonr dan linregress\n",
        "\n",
        "p_pearsonr = scipy.stats.pearsonr(area, malignant)[1]\n",
        "print(p_pearsonr)\n",
        "\n",
        "p_linregress = scipy.stats.linregress(area, malignant).pvalue\n",
        "print(p_linregress)"
      ]
    },
    {
      "cell_type": "markdown",
      "metadata": {
        "id": "H-CWhllLp5vI"
      },
      "source": [
        "Expected output:\n",
        "```\n",
        "4.734564310304486e-88\n",
        "4.734564310310984e-88\n",
        "```\n",
        "\n"
      ]
    },
    {
      "cell_type": "markdown",
      "metadata": {
        "id": "mpkuv7s1B1f9"
      },
      "source": [
        "Apa kesimpulan yang dapat diambil dari nilai koefisien korelasi antara 'area' dengan 'malignant'?"
      ]
    },
    {
      "cell_type": "markdown",
      "metadata": {
        "id": "4GkQ-rg6CJl_"
      },
      "source": [
        "Jawab:\n",
        "\n",
        "\"*Koefisien korelasi adalah nilai yang menunjukan kuat/tidaknya hubungan linier antar dua variabel. Koefisien korelasi biasa dilambangkan dengan huruf r dimana nilai r dapat bervariasi dari -1 sampai +1. Nilai r yang mendekati -1 atau +1 menunjukan hubungan yang kuat antara dua variabel tersebut dan nilai r yang mendekati 0 mengindikasikan lemahnya hubungan antara dua variabel tersebut. Sedangkan tanda + (positif) dan  – (negatif) memberikan informasi mengenai arah hubungan antara dua variabel tersebut. Jika bernilai + (positif) maka kedua variabel tersebut memiliki hubungan yang searah. Dalam arti lain peningkatan X akan bersamaan dengan peningkatan Y dan begitu juga sebaliknya. Jika bernilai – (negatif) artinya korelasi antara kedua variabel tersebut bersifat berlawanan. Peningkatan nilai X akan dibarengi dengan penurunan Y.*\"\n",
        "\n",
        "dari sini dapat dilihat dengan nilai korelasi -0.7089838365853909, atau mendekati 1 sehingga area dan malignant memiliki hubungan yang erat dalam keterkaitannya. "
      ]
    }
  ],
  "metadata": {
    "colab": {
      "collapsed_sections": [],
      "name": "03. Statistika Deskriptif.ipynb",
      "provenance": []
    },
    "kernelspec": {
      "display_name": "Python 3",
      "name": "python3"
    }
  },
  "nbformat": 4,
  "nbformat_minor": 0
}
