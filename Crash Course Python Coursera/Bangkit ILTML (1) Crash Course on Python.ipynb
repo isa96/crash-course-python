{
  "nbformat": 4,
  "nbformat_minor": 0,
  "metadata": {
    "colab": {
      "name": "Bangkit_ILTML(1/6)_Crash Course on Python.ipynb",
      "provenance": [],
      "collapsed_sections": [],
      "toc_visible": true
    },
    "kernelspec": {
      "name": "python3",
      "display_name": "Python 3"
    }
  },
  "cells": [
    {
      "cell_type": "markdown",
      "metadata": {
        "id": "BUYItRmG8-NO"
      },
      "source": [
        "# **Course 1: Crash Course on Python**"
      ]
    },
    {
      "cell_type": "markdown",
      "metadata": {
        "id": "dBzymb8ncIlJ"
      },
      "source": [
        "# Hello Python!\n",
        "- Why programming with Python? Among many reasons is the easy syntax that's so convenient to both read and write.\n",
        "- Python is one of the most chosen languages for many people working in IT (and technology in general).\n",
        "- Python is omnipresent (available everywhere) on a wide variety of operating systems. Yet specifically in this course we'll more focus on Linux.\n"
      ]
    },
    {
      "cell_type": "markdown",
      "metadata": {
        "id": "ST_V5SBAcUVH"
      },
      "source": [
        "# Basic Python Syntax"
      ]
    },
    {
      "cell_type": "markdown",
      "metadata": {
        "id": "egHXIRjecXaV"
      },
      "source": [
        "## Data Types\n",
        "* String (str): text.\n",
        "* Integer (int): numbers, without fraction.\n",
        "* Float: numbers with fraction.\n",
        "\n",
        "We can convert from one data type to others by committing to **implicit** conversion or defining an **explicit** conversion."
      ]
    },
    {
      "cell_type": "markdown",
      "metadata": {
        "id": "n9VwQgbKcjiz"
      },
      "source": [
        "Implicit conversion:"
      ]
    },
    {
      "cell_type": "code",
      "metadata": {
        "id": "gdsdtVcO0j8O"
      },
      "source": [
        "num_int = 123\n",
        "num_flo = 1.23"
      ],
      "execution_count": null,
      "outputs": []
    },
    {
      "cell_type": "code",
      "metadata": {
        "id": "75uLOEOmcjJK"
      },
      "source": [
        "num_new = num_int + num_flo\n",
        "print(num_new)"
      ],
      "execution_count": null,
      "outputs": []
    },
    {
      "cell_type": "code",
      "metadata": {
        "id": "dvD11Tpa0vLI"
      },
      "source": [
        "print(type(num_new))"
      ],
      "execution_count": null,
      "outputs": []
    },
    {
      "cell_type": "markdown",
      "metadata": {
        "id": "qM4xz2I4c5Ee"
      },
      "source": [
        "Explicit conversion:"
      ]
    },
    {
      "cell_type": "code",
      "metadata": {
        "id": "_krkV2C-cVKb"
      },
      "source": [
        "num_int = 123\n",
        "print(\"Before explicit conversion: \", num_int, type(num_int))"
      ],
      "execution_count": null,
      "outputs": []
    },
    {
      "cell_type": "code",
      "metadata": {
        "id": "UZtH_PDT1VXZ"
      },
      "source": [
        "num_str = str(num_int)"
      ],
      "execution_count": null,
      "outputs": []
    },
    {
      "cell_type": "code",
      "metadata": {
        "id": "nsEE7h3E1YHI"
      },
      "source": [
        "print(\"After explicit conversion: \", num_str, type(num_str))"
      ],
      "execution_count": null,
      "outputs": []
    },
    {
      "cell_type": "markdown",
      "metadata": {
        "id": "VyDQJftOdBnK"
      },
      "source": [
        "Other important data types to introduce:\n",
        "- Boolean (bool): data type which only has 2 values: False, True. More about bool will be explain in chapter about comparison.\n"
      ]
    },
    {
      "cell_type": "markdown",
      "metadata": {
        "id": "4R9VsMCtdFiE"
      },
      "source": [
        "## Variables\n",
        "\n",
        "- Variables are names that we give to certain values in our programs. Think of variables as containers for data.\n",
        "- The values can be any data type.\n",
        "- The process of storing a value inside a variable is called an assignment.\n"
      ]
    },
    {
      "cell_type": "code",
      "metadata": {
        "id": "Od8Dhfp3c7ic"
      },
      "source": [
        "length = 10\n",
        "width = 2"
      ],
      "execution_count": null,
      "outputs": []
    },
    {
      "cell_type": "code",
      "metadata": {
        "id": "OdjufcRy1-fV"
      },
      "source": [
        "area = length * width\n",
        "print(area)"
      ],
      "execution_count": null,
      "outputs": []
    },
    {
      "cell_type": "code",
      "metadata": {
        "id": "8wxcZSRn6YzG"
      },
      "source": [
        "print(type(width))\n",
        "print(type(str(area)))"
      ],
      "execution_count": null,
      "outputs": []
    },
    {
      "cell_type": "markdown",
      "metadata": {
        "id": "eN6qqtxp17OJ"
      },
      "source": [
        "- Variable names can only be made up of letters, numbers, and underscore. Can’t be Python reserved keywords. [List of Python reserved keywords](https://www.w3schools.com/python/python_ref_keywords.asp)"
      ]
    },
    {
      "cell_type": "markdown",
      "metadata": {
        "id": "N4KTc1PbdmWa"
      },
      "source": [
        "## Functions\n",
        "- Define function with `def` keyword.\n",
        "- Function can have **a name used to later call the function** using such name.\n"
      ]
    },
    {
      "cell_type": "code",
      "metadata": {
        "id": "Ttb3yltHdkug"
      },
      "source": [
        "def greeting():\n",
        "  print('hello', 'bangkit')# body"
      ],
      "execution_count": null,
      "outputs": []
    },
    {
      "cell_type": "code",
      "metadata": {
        "id": "cyfFTQe36xRS"
      },
      "source": [
        "greeting()"
      ],
      "execution_count": null,
      "outputs": []
    },
    {
      "cell_type": "markdown",
      "metadata": {
        "id": "Zoahnn2p2YW0"
      },
      "source": [
        "- After the name, function can **optionally have parameters** written between parenthesis. If it does, **it can be one or more parameters**.\n",
        "- Function has body, written as a block after colon in function definition. The block has to be indented to the right. It may contain one/more statements."
      ]
    },
    {
      "cell_type": "code",
      "metadata": {
        "id": "wL72zjDf2Zf_"
      },
      "source": [
        "def greeting(name):\n",
        "  print('hello, ' + name)"
      ],
      "execution_count": null,
      "outputs": []
    },
    {
      "cell_type": "code",
      "metadata": {
        "id": "tz7YwbvBdvvv"
      },
      "source": [
        "# What is the result of this?\n",
        "greeting(\"everyone\")"
      ],
      "execution_count": null,
      "outputs": []
    },
    {
      "cell_type": "markdown",
      "metadata": {
        "id": "kURO7dfP3AZC"
      },
      "source": [
        "What if we do not have any parameters?"
      ]
    },
    {
      "cell_type": "code",
      "metadata": {
        "id": "PNx92bX3eNB0"
      },
      "source": [
        "def greeting_hello_world():\n",
        "  print(\"hello world\")"
      ],
      "execution_count": null,
      "outputs": []
    },
    {
      "cell_type": "code",
      "metadata": {
        "id": "_mOH3GXXo2Cy"
      },
      "source": [
        "greeting_hello_world()"
      ],
      "execution_count": null,
      "outputs": []
    },
    {
      "cell_type": "code",
      "metadata": {
        "id": "tZvYFF1QePr1"
      },
      "source": [
        "# What is the result of this?\n",
        "greeting_hello_world()"
      ],
      "execution_count": null,
      "outputs": []
    },
    {
      "cell_type": "markdown",
      "metadata": {
        "id": "TcPEi703eFHd"
      },
      "source": [
        "### Functions with return value\n",
        "- To get value from a function use the return keyword.\n",
        "- Just like input values from parameters, the return values are optional. Therefore, with or without keyword return (incl. zero, one, or more values) is okay.\n",
        "- Now with complete implementation (using input and output), the function can be easily used as the implementation of code reuse.\n",
        "\n"
      ]
    },
    {
      "cell_type": "code",
      "metadata": {
        "id": "ifiThpUWeFcw"
      },
      "source": [
        "def area_triangle(base, height):\n",
        "    return base*height/2"
      ],
      "execution_count": null,
      "outputs": []
    },
    {
      "cell_type": "code",
      "metadata": {
        "id": "5STowHhGeW_b"
      },
      "source": [
        "area = area_triangle(10, 20)"
      ],
      "execution_count": null,
      "outputs": []
    },
    {
      "cell_type": "code",
      "metadata": {
        "id": "KEWXB0zN4h9b"
      },
      "source": [
        "# Guess the output!\n",
        "print(area)"
      ],
      "execution_count": null,
      "outputs": []
    },
    {
      "cell_type": "markdown",
      "metadata": {
        "id": "-pvN_qA43NS9"
      },
      "source": [
        "What if we don't use a return statement?"
      ]
    },
    {
      "cell_type": "code",
      "metadata": {
        "id": "VxEiTwXP4nXk"
      },
      "source": [
        "def area_triangle(base, height):\n",
        "    area = base*height/2"
      ],
      "execution_count": null,
      "outputs": []
    },
    {
      "cell_type": "code",
      "metadata": {
        "id": "_2KnXEDS4nen"
      },
      "source": [
        "area = area_triangle(10, 20)"
      ],
      "execution_count": null,
      "outputs": []
    },
    {
      "cell_type": "code",
      "metadata": {
        "id": "T_7y9vyS4pkw"
      },
      "source": [
        "# Guess the output!\n",
        "print(area)"
      ],
      "execution_count": null,
      "outputs": []
    },
    {
      "cell_type": "markdown",
      "metadata": {
        "id": "lZVP8c6-4qRG"
      },
      "source": [
        "In the case above, if we don't have a return statement in our function, we will not be able to save our area calculation result into the variable `area`.|"
      ]
    },
    {
      "cell_type": "markdown",
      "metadata": {
        "id": "oK2-vJXFeY4Y"
      },
      "source": [
        "## Comparison\n",
        "- Boolean (bool) data type represents one of two possible states, either **True** or **False**.\n"
      ]
    },
    {
      "cell_type": "code",
      "metadata": {
        "id": "HyUZzyyQfQOJ"
      },
      "source": [
        "# Guess the output!\n",
        "print(1 < 10)"
      ],
      "execution_count": null,
      "outputs": []
    },
    {
      "cell_type": "code",
      "metadata": {
        "id": "imMBV2UcfRKM"
      },
      "source": [
        "# Guess the output!\n",
        "print(\"Linux\" == \"Windows\")"
      ],
      "execution_count": null,
      "outputs": []
    },
    {
      "cell_type": "markdown",
      "metadata": {
        "id": "H_MtPllS5J0d"
      },
      "source": [
        "- **Not all data types can be compared**, so be aware in comparing two different data types."
      ]
    },
    {
      "cell_type": "code",
      "metadata": {
        "id": "EQBMk6oufSql"
      },
      "source": [
        "# Guess the output!\n",
        "print(1 != \"1\")"
      ],
      "execution_count": null,
      "outputs": []
    },
    {
      "cell_type": "markdown",
      "metadata": {
        "id": "67rO_yrJ5IDK"
      },
      "source": [
        "- Comparison operator does not only check equality and less/more. It also includes logical operator: **and, or, not.**"
      ]
    },
    {
      "cell_type": "code",
      "metadata": {
        "id": "g2iuFxD_fTc-"
      },
      "source": [
        "# Guess the output!\n",
        "print(not True)"
      ],
      "execution_count": null,
      "outputs": []
    },
    {
      "cell_type": "code",
      "metadata": {
        "id": "egY1rPWl3v56"
      },
      "source": [
        "print(('Linux' == 'Linux') and ('Bangkit' == 'Hello'))"
      ],
      "execution_count": null,
      "outputs": []
    },
    {
      "cell_type": "markdown",
      "metadata": {
        "id": "ysYhdGTOfXOv"
      },
      "source": [
        "**Comparison operators**\n",
        "- a == b: a is equal to b\n",
        "- a != b: a is different than b\n",
        "- a < b: a is smaller than b\n",
        "- a <= b: a is smaller or equal to b\n",
        "- a > b: a is bigger than b\n",
        "- a >= b: a is bigger or equal to b\n",
        "\n",
        "**Logical operators**\n",
        "- a and b: True if both a and b are True. False otherwise.\n",
        "- a or b: True if either a or b or both are True. False if both are False.\n",
        "- not a: True if a is False, False if a is True."
      ]
    },
    {
      "cell_type": "markdown",
      "metadata": {
        "id": "WG6V3hqOfepd"
      },
      "source": [
        "## Conditionals\n",
        "- The ability of a program to **alter its execution sequence** is called **branching**.\n",
        "- To branch an execution, only if it matches a certain condition, use if keyword. **The if block will be executed only if the condition is True**.\n",
        "\n"
      ]
    },
    {
      "cell_type": "code",
      "metadata": {
        "id": "cQAO53x8fZay"
      },
      "source": [
        "# Guess the output!\n",
        "hour = 7\n",
        "\n",
        "if hour < 12:\n",
        "    print(\"Good morning!\")"
      ],
      "execution_count": null,
      "outputs": []
    },
    {
      "cell_type": "code",
      "metadata": {
        "id": "lUonb5lCf3bf"
      },
      "source": [
        "# Guess the output!\n",
        "hour = 14\n",
        "\n",
        "if hour < 12:\n",
        "    print(\"Good morning!\")"
      ],
      "execution_count": null,
      "outputs": []
    },
    {
      "cell_type": "markdown",
      "metadata": {
        "id": "Qf9R5hGL-aHj"
      },
      "source": [
        "- What if we have two different conditions? We can use the keyword `else`. So if it does not match one condition, it will match the other condition by using the `else` keyword."
      ]
    },
    {
      "cell_type": "code",
      "metadata": {
        "id": "5x2WYHy_f5be"
      },
      "source": [
        "# Guess the output!\n",
        "def is_negative(number):\n",
        "    if number < 0:\n",
        "        return True\n",
        "    else: \n",
        "        return False"
      ],
      "execution_count": null,
      "outputs": []
    },
    {
      "cell_type": "code",
      "metadata": {
        "id": "8YpV7Pfgf5dn"
      },
      "source": [
        "is_negative(-11092432)"
      ],
      "execution_count": null,
      "outputs": []
    },
    {
      "cell_type": "code",
      "metadata": {
        "id": "Um2oQbezgU-t"
      },
      "source": [
        "is_negative(42)"
      ],
      "execution_count": null,
      "outputs": []
    },
    {
      "cell_type": "markdown",
      "metadata": {
        "id": "tK-wt-h3gumn"
      },
      "source": [
        "What if we have three conditions? Or four? Or five? ..."
      ]
    },
    {
      "cell_type": "markdown",
      "metadata": {
        "id": "oVuF40cKgrju"
      },
      "source": [
        "### Branching Multiple Conditions\n",
        "- Occasionally, there will be multiple conditions to check, this is where the **elif** statement, which is short for else if, comes into play.\n"
      ]
    },
    {
      "cell_type": "code",
      "metadata": {
        "id": "2LMl0kmPf5io"
      },
      "source": [
        "# Will this work?\n",
        "def check(number):\n",
        "    # This will not work, we need an if statement!\n",
        "    elif number == 0:\n",
        "        return \"Zero\"\n",
        "    else: \n",
        "        return \"Negative\""
      ],
      "execution_count": null,
      "outputs": []
    },
    {
      "cell_type": "markdown",
      "metadata": {
        "id": "o2ELquHChBlK"
      },
      "source": [
        "- Just like else keyword, **elif keyword is only usable if there's an if keyword**. The difference is that elif keyword can be used multiple times."
      ]
    },
    {
      "cell_type": "code",
      "metadata": {
        "id": "4DT7JqtJg_BL"
      },
      "source": [
        "def check(number):\n",
        "      if number > 0:\n",
        "          return \"Positive\"\n",
        "      elif number == 0:\n",
        "          return \"Zero\"\n",
        "      else: \n",
        "          return \"Negative\""
      ],
      "execution_count": null,
      "outputs": []
    },
    {
      "cell_type": "code",
      "metadata": {
        "id": "JJaqc0WWhEsM"
      },
      "source": [
        "# Guess the output!\n",
        "check(-42)"
      ],
      "execution_count": null,
      "outputs": []
    },
    {
      "cell_type": "code",
      "metadata": {
        "id": "90Y2WpZ2-q6a"
      },
      "source": [
        "# Guess the output!\n",
        "check(0)"
      ],
      "execution_count": null,
      "outputs": []
    },
    {
      "cell_type": "code",
      "metadata": {
        "id": "YbreZc5J-rQC"
      },
      "source": [
        "# Guess the output!\n",
        "check(1)"
      ],
      "execution_count": null,
      "outputs": []
    },
    {
      "cell_type": "markdown",
      "metadata": {
        "id": "tNHYjCnvhIzl"
      },
      "source": [
        "# Loops\n",
        "- Loops help us to get computers to do repetitive task\n",
        "\n",
        "Let's say I want to print:\n",
        "- x=7\n",
        "- x=6\n",
        "- x=5\n",
        "- x=4\n",
        "- x=3\n",
        "- x=2\n",
        "- x=1\n",
        "\n",
        "Is there another way other than this?"
      ]
    },
    {
      "cell_type": "code",
      "metadata": {
        "id": "dEUCtUIhCYni"
      },
      "source": [
        "print(\"x=7\")\n",
        "print(\"x=6\")\n",
        "print(\"x=5\")\n",
        "print(\"x=4\")\n",
        "print(\"x=3\")\n",
        "print(\"x=2\")\n",
        "print(\"x=1\")"
      ],
      "execution_count": null,
      "outputs": []
    },
    {
      "cell_type": "markdown",
      "metadata": {
        "id": "cu1kOYbwCkLQ"
      },
      "source": [
        "What if we want to do this for 1000 numbers?"
      ]
    },
    {
      "cell_type": "markdown",
      "metadata": {
        "id": "-_ss279ICUgU"
      },
      "source": [
        "\n",
        "- We'll explore two techniques for automating repetitive tasks: `while` loops and `for` loops."
      ]
    },
    {
      "cell_type": "markdown",
      "metadata": {
        "id": "6YiiVTi_jln1"
      },
      "source": [
        "## `while`\n",
        "- `while` loop instructs computer to **continuously execute code based on the value of a condition**.\n",
        "- Just like conditions, **the while loop body has its own block**, indented to the right.\n",
        "- The statements inside the while loop block **will be repeated as long as the condition value still True.**"
      ]
    },
    {
      "cell_type": "code",
      "metadata": {
        "id": "KO2glUKkhJQp"
      },
      "source": [
        "# What is the output?\n",
        "x = 7\n",
        "\n",
        "while x > 0:\n",
        "    print(\"positive x=\" + str(x))\n",
        "    x = x - 1\n",
        "print(\"now x=\" + str(x))"
      ],
      "execution_count": null,
      "outputs": []
    },
    {
      "cell_type": "code",
      "metadata": {
        "id": "rQjCEu0chVmS"
      },
      "source": [
        "# What is the output?  \n",
        "x = 0\n",
        "\n",
        "while x > 0:\n",
        "    print(\"positive x=\" + str(x))\n",
        "    x = x - 1\n",
        "\n",
        "print(\"now x=\" + str(x)) # outside the while loop"
      ],
      "execution_count": null,
      "outputs": []
    },
    {
      "cell_type": "code",
      "metadata": {
        "id": "n50PQ6T9hgaP"
      },
      "source": [
        "# Don't run this!\n",
        "# Do you know what will happen if you run this code?\n",
        "x = 7\n",
        "\n",
        "while x > 0:\n",
        "    print(\"positive x=\" + str(x))\n",
        "    # x = x - 1\n",
        "    # x=x+1\n",
        "print(\"now x=\" + str(x))"
      ],
      "execution_count": null,
      "outputs": []
    },
    {
      "cell_type": "markdown",
      "metadata": {
        "id": "Ck2kgHTkjW4o"
      },
      "source": [
        "- When your loop never ends (runs on a condition that is always *True*), you're in an **infinite loop**. Your code will either run forever or run until it has run out of memory.\n",
        "- How to stop? CTRL+C"
      ]
    },
    {
      "cell_type": "markdown",
      "metadata": {
        "id": "g2F1Yx6pjnzv"
      },
      "source": [
        "## ``for``\n",
        "- for loop iterates over a sequence of values.\n",
        "- One simple example is **iterating over a sequence of numbers**, which is generated by function `range`.\n"
      ]
    },
    {
      "cell_type": "markdown",
      "metadata": {
        "id": "x8ust_zaj_dI"
      },
      "source": [
        "#### Quick recap on the `range()` function\n",
        "- One parameter will create a sequence, one-by-one, from zero to one less than the parameter.\n"
      ]
    },
    {
      "cell_type": "code",
      "metadata": {
        "id": "QI4_K0RrkSH9"
      },
      "source": [
        "for x in range(3):  # 0, 1, 2\n",
        "    print(\"x=\" + str(x))"
      ],
      "execution_count": null,
      "outputs": []
    },
    {
      "cell_type": "markdown",
      "metadata": {
        "id": "RD6_vfkFE1zO"
      },
      "source": [
        "The variable `x` will take each of the values in the sequence that loop iterates through. "
      ]
    },
    {
      "cell_type": "markdown",
      "metadata": {
        "id": "u1XrwxwVkQoQ"
      },
      "source": [
        "- Two parameters will create a sequence, one-by-one, from the first parameter to one less than the second parameter."
      ]
    },
    {
      "cell_type": "code",
      "metadata": {
        "id": "SnmubAUfkUXx"
      },
      "source": [
        "for x in range(1,3): # 1, 2\n",
        "    print(\"x=\" + str(x))"
      ],
      "execution_count": null,
      "outputs": []
    },
    {
      "cell_type": "markdown",
      "metadata": {
        "id": "oflAZdoBkVCi"
      },
      "source": [
        "-  Three parameters will create a sequence starting with the first parameter and stopping before the second parameter, but this time increasing each step by the third parameter."
      ]
    },
    {
      "cell_type": "code",
      "metadata": {
        "id": "Iak4mwSSs-Di"
      },
      "source": [
        "for x in range(5, 10, 2):\n",
        "    print(\"x=\" + str(x))"
      ],
      "execution_count": null,
      "outputs": []
    },
    {
      "cell_type": "code",
      "metadata": {
        "id": "MINKmqUzkWvo"
      },
      "source": [
        "for x in range(3, 0, -1):\n",
        "    # 3, 2, 1\n",
        "    print(\"x=\" + str(x))"
      ],
      "execution_count": null,
      "outputs": []
    },
    {
      "cell_type": "markdown",
      "metadata": {
        "id": "j3Xb2UK5j2CD"
      },
      "source": [
        "- Also take a look at **in** keyword, that separates between the sequence and variable that will take each of the values in the sequences and used in the iteration block."
      ]
    },
    {
      "cell_type": "markdown",
      "metadata": {
        "id": "5BI3tJ2zkpk7"
      },
      "source": [
        "## `break` & `continue`\n",
        "- Both `while` and `for` loops can be interrupted using the `break` keyword. Normally we do this to **interrupt a cycle** due to a separate condition.\n",
        "- In other occasion, use the continue keyword to skip the current iteration and continue with the next one. It is typically used to jump ahead when some of the elements of the sequences are not relevant.\n",
        "\n"
      ]
    },
    {
      "cell_type": "code",
      "metadata": {
        "id": "yS7XZW4gj3IZ"
      },
      "source": [
        "# What is the output?\n",
        "for x in range(3): # 0, 1, 2\n",
        "    print(\"x=\" + str(x))\n",
        "    if x == 1:\n",
        "        break  # quit from loop"
      ],
      "execution_count": null,
      "outputs": []
    },
    {
      "cell_type": "code",
      "metadata": {
        "id": "wpeSll3ZkwvI"
      },
      "source": [
        "# What is the output?\n",
        "for x in range(10, 0, -1):\n",
        "    if x % 2 == 0: # checks whether x is even or not\n",
        "        continue  # skip even numbers\n",
        "    print(x)"
      ],
      "execution_count": null,
      "outputs": []
    },
    {
      "cell_type": "markdown",
      "metadata": {
        "id": "wtB1I8ywHRNS"
      },
      "source": [
        "#### Quick recap on modulo operators\n",
        "- Represented by the percent sign: %. This operator performs integer division, but only returns the **remainder** of the division operation. \n",
        "- If we’re dividing 5 by 2, the quotient is 2, and the remainder is 1. \n",
        "Two 2s can go into 5, leaving 1 left over. **So 5%2 would return 1.** \n",
        "\n",
        "- Dividing 10 by 5 would give us a quotient of 2 with no remainder, since 5 can go into 10 twice with nothing left over. **In this case, 10%2 would return 0, as there is no remainder.**"
      ]
    },
    {
      "cell_type": "markdown",
      "metadata": {
        "id": "PrsfBXG1kyY8"
      },
      "source": [
        "### Nested `for` Loops\n",
        "- There will be some occasions to write for loop inside a for loop, which is called nested for loops.\n",
        "- One simple example, using nested for loops to find prime numbers.\n",
        "\n",
        "\n",
        "Note: the example focus on code simplicity, not focus on optimization.\n",
        "\n",
        "\n"
      ]
    },
    {
      "cell_type": "code",
      "metadata": {
        "id": "EZ0nNntakyty"
      },
      "source": [
        "for i in range(2, 10):  # 2-9\n",
        "    is_prime = True\n",
        "    for j in range(2, i): # numbers starting from 2 up to i-1\n",
        "        if i % j == 0:\n",
        "            is_prime = False\n",
        "            break\n",
        "    if is_prime:\n",
        "        print(str(i) + \" is prime \")\n"
      ],
      "execution_count": null,
      "outputs": []
    },
    {
      "cell_type": "markdown",
      "metadata": {
        "id": "c8HisXNSk6VE"
      },
      "source": [
        "# Strings\n",
        "- String is a data type in Python employed to **represent a piece of text**. It’s written between quotes, either single quotes, double quotes, or triple quotes. Escape character using backslash (\\)."
      ]
    },
    {
      "cell_type": "code",
      "metadata": {
        "id": "GPjpXQKKk67Z"
      },
      "source": [
        "program_name = 'bangkit'\n",
        "program_year = \"its the 2nd\"\n",
        "multi_line = \"\"\"hello,\n",
        "email test. \n",
        "signature.\"\"\"\n",
        "\n",
        "print(program_name)\n",
        "print(program_year)\n",
        "print(multi_line)"
      ],
      "execution_count": null,
      "outputs": []
    },
    {
      "cell_type": "markdown",
      "metadata": {
        "id": "qwVG-K89H7Tx"
      },
      "source": [
        "- String can be as short as zero characters (empty string) or significantly long. "
      ]
    },
    {
      "cell_type": "code",
      "metadata": {
        "id": "SNd_unQSIER2"
      },
      "source": [
        "empty_string = \"\"\n",
        "print(empty_string)"
      ],
      "execution_count": null,
      "outputs": []
    },
    {
      "cell_type": "code",
      "metadata": {
        "id": "aLdZBWO4BUsZ"
      },
      "source": [
        "len(empty_string)"
      ],
      "execution_count": null,
      "outputs": []
    },
    {
      "cell_type": "code",
      "metadata": {
        "id": "NoTwlQp9BXrd"
      },
      "source": [
        "len(program_year)"
      ],
      "execution_count": null,
      "outputs": []
    },
    {
      "cell_type": "markdown",
      "metadata": {
        "id": "AbooMbFzH9Fj"
      },
      "source": [
        "- String concatenation using plus sign (+). \n"
      ]
    },
    {
      "cell_type": "code",
      "metadata": {
        "id": "qHPv2FfEIBMZ"
      },
      "source": [
        "# let's\n",
        "# \"bangkit\"\n",
        "print(\"let's\\n\\\"\"+program_name+\"\\\"\")"
      ],
      "execution_count": null,
      "outputs": []
    },
    {
      "cell_type": "code",
      "metadata": {
        "id": "jJkPQuNgBpFl"
      },
      "source": [
        "print('let\\'s')"
      ],
      "execution_count": null,
      "outputs": []
    },
    {
      "cell_type": "markdown",
      "metadata": {
        "id": "zq0hmK7YH-lT"
      },
      "source": [
        "- The (len) function tells the number of characters contained in the string.\n"
      ]
    },
    {
      "cell_type": "code",
      "metadata": {
        "id": "DhO4DDlMIAFI"
      },
      "source": [
        "# print(len(''))  # 0\n",
        "print(program_name)\n",
        "print(len(program_name))\n",
        "print(len(program_name)==7)  # True"
      ],
      "execution_count": null,
      "outputs": []
    },
    {
      "cell_type": "markdown",
      "metadata": {
        "id": "oq385qC6lCi6"
      },
      "source": [
        "### String Indexing and Slicing\n",
        "- Python starts counting indexes from 0 not 1. Access index greater than its length - 1, triggers index out of range. Negative indexes starts from behind."
      ]
    },
    {
      "cell_type": "code",
      "metadata": {
        "id": "dnV1iQjtlDIS"
      },
      "source": [
        "name = 'bangkit'\n",
        "\n",
        "# b a n g k i t\n",
        "# 0 1 2 3 4 5 6\n",
        "\n",
        "# b a n g k i t\n",
        "#       -4 -3 -2 -1\n",
        "\n",
        "print(name[-1]) \n",
        "print(name[-2]) "
      ],
      "execution_count": null,
      "outputs": []
    },
    {
      "cell_type": "code",
      "metadata": {
        "id": "TWkNR4p7CA3X"
      },
      "source": [
        "name = 'bangkit'"
      ],
      "execution_count": null,
      "outputs": []
    },
    {
      "cell_type": "code",
      "metadata": {
        "id": "3AM-ddS_B-59"
      },
      "source": [
        "print(name[0])"
      ],
      "execution_count": null,
      "outputs": []
    },
    {
      "cell_type": "code",
      "metadata": {
        "id": "w9tXKn_eCR8U"
      },
      "source": [
        "var_length = 7"
      ],
      "execution_count": null,
      "outputs": []
    },
    {
      "cell_type": "code",
      "metadata": {
        "id": "qDkRnqrCCEam"
      },
      "source": [
        "print(name[var_length-1]) # 7-1 = 6th index"
      ],
      "execution_count": null,
      "outputs": []
    },
    {
      "cell_type": "code",
      "metadata": {
        "id": "lFW7NADRCZFM"
      },
      "source": [
        "print(name[-1]) "
      ],
      "execution_count": null,
      "outputs": []
    },
    {
      "cell_type": "code",
      "metadata": {
        "id": "NezeAsuLCM2d"
      },
      "source": [
        "print(name[-2]) "
      ],
      "execution_count": null,
      "outputs": []
    },
    {
      "cell_type": "markdown",
      "metadata": {
        "id": "jNn3nVQ8IQzB"
      },
      "source": [
        "- To access substring, use slicing, similar to index, with range using a colon as a separator, starts from first number, up to 1 less than last."
      ]
    },
    {
      "cell_type": "code",
      "metadata": {
        "id": "PxWAVFqGISZU"
      },
      "source": [
        "# b a n g k i t\n",
        "# 0 1 2 3 4 5 6\n",
        "\n",
        "len = 7\n",
        "\n",
        "print(name[4:len-1])  #4-5"
      ],
      "execution_count": null,
      "outputs": []
    },
    {
      "cell_type": "markdown",
      "metadata": {
        "id": "zhO0m4jqIT3h"
      },
      "source": [
        "- Slicing with one of two indexes means the other index is either 0 for the first value or its length for the second value."
      ]
    },
    {
      "cell_type": "code",
      "metadata": {
        "id": "BLwgOHqeIVfk"
      },
      "source": [
        "print(name[:4])  \n",
        "print(name[4:])  "
      ],
      "execution_count": null,
      "outputs": []
    },
    {
      "cell_type": "code",
      "metadata": {
        "id": "biBv_7oNBQ1h"
      },
      "source": [
        "print(name[::1])\n",
        "print(name[::2])\n",
        "print(name[::3])\n",
        "print(name[::4])\n",
        "\n",
        "print(name[::-1])\n",
        "print(name[::-2])"
      ],
      "execution_count": null,
      "outputs": []
    },
    {
      "cell_type": "markdown",
      "metadata": {
        "id": "YDtTRkGylhjt"
      },
      "source": [
        "### Strings are immutable\n",
        "- Strings in Python are immutable, meaning they can't be modified, can’t change individual characters.\n"
      ]
    },
    {
      "cell_type": "code",
      "metadata": {
        "id": "bVOn_1LSlh9n"
      },
      "source": [
        "year = \"it's 2021\"\n",
        "year[-1] = \"0\"  # TypeError"
      ],
      "execution_count": null,
      "outputs": []
    },
    {
      "cell_type": "markdown",
      "metadata": {
        "id": "JlVr50L9IsAT"
      },
      "source": [
        "- To change string, replace it with the new string."
      ]
    },
    {
      "cell_type": "code",
      "metadata": {
        "id": "0H84hL_FIprQ"
      },
      "source": [
        "# What is the output?\n",
        "# it's 2021\n",
        "# 0 - 7\n",
        "year = year[:-1] + \"0\"\n",
        "print(year)\n",
        "# it's 202 + 0"
      ],
      "execution_count": null,
      "outputs": []
    },
    {
      "cell_type": "markdown",
      "metadata": {
        "id": "I4wooG0sItFX"
      },
      "source": [
        "- Use in keyword to check if substring is a part of the string."
      ]
    },
    {
      "cell_type": "code",
      "metadata": {
        "id": "XKdqAwQNIxDB"
      },
      "source": [
        "# What is the output?\n",
        "print('2020' in year)"
      ],
      "execution_count": null,
      "outputs": []
    },
    {
      "cell_type": "markdown",
      "metadata": {
        "id": "6esccDgWloDz"
      },
      "source": [
        "### String Methods\n",
        "- string class provide a bunch of methods for working with text. Not only related to text modification, there's also many of text checking method.\n",
        "- Remember, the goal is not for memorize all of the methods, just check the documentation or search on the web anytime.\n",
        "\n",
        "\n",
        "* Complete string methods in Python docs https://docs.python.org/3/library/stdtypes.html#string-methods\n",
        "\n"
      ]
    },
    {
      "cell_type": "code",
      "metadata": {
        "id": "PT2LNFqflr-L"
      },
      "source": [
        "# What is the output?\n",
        "program = 'bangkit 2021'\n",
        "print(program.index('g'))"
      ],
      "execution_count": null,
      "outputs": []
    },
    {
      "cell_type": "code",
      "metadata": {
        "id": "t2iRtLyEJJ39"
      },
      "source": [
        "# What is the output?\n",
        "print(program.upper())"
      ],
      "execution_count": null,
      "outputs": []
    },
    {
      "cell_type": "code",
      "metadata": {
        "id": "jGPzU7RfDHDn"
      },
      "source": [
        "print(program.endswith('2021'))"
      ],
      "execution_count": null,
      "outputs": []
    },
    {
      "cell_type": "code",
      "metadata": {
        "id": "j24TTkWaDHM4"
      },
      "source": [
        "print(program.replace('2021', '2020'))"
      ],
      "execution_count": null,
      "outputs": []
    },
    {
      "cell_type": "code",
      "metadata": {
        "id": "SyVqwiSPJM84"
      },
      "source": [
        "# What is the output?\n",
        "year = 2021 "
      ],
      "execution_count": null,
      "outputs": []
    },
    {
      "cell_type": "code",
      "metadata": {
        "id": "a3CasnDwDXZI"
      },
      "source": [
        "print(str(year).isnumeric())"
      ],
      "execution_count": null,
      "outputs": []
    },
    {
      "cell_type": "code",
      "metadata": {
        "id": "q_-PsXo8DXen"
      },
      "source": [
        "print(\"{} for {} wish {}\".format(\"bangkit\", year, \"best for all\"))"
      ],
      "execution_count": null,
      "outputs": []
    },
    {
      "cell_type": "markdown",
      "metadata": {
        "id": "jnL6ye46lyl1"
      },
      "source": [
        "# Lists\n",
        "- Think of list as **container with space inside divided up into different slots**. **Each slot can contain a different value**.\n",
        "- Python use square brackets [] to indicate where the list starts and ends. list indexes starts from 0, just like string, also slicing to return another list.\n",
        "\n"
      ]
    },
    {
      "cell_type": "code",
      "metadata": {
        "id": "HjgbiVRCly-D"
      },
      "source": [
        "program_year = [2020, 2021]"
      ],
      "execution_count": null,
      "outputs": []
    },
    {
      "cell_type": "code",
      "metadata": {
        "id": "0-oKikJrDzTm"
      },
      "source": [
        "print(type(program_year)) "
      ],
      "execution_count": null,
      "outputs": []
    },
    {
      "cell_type": "code",
      "metadata": {
        "id": "hG1WD14-D18c"
      },
      "source": [
        "print(program_year)"
      ],
      "execution_count": null,
      "outputs": []
    },
    {
      "cell_type": "code",
      "metadata": {
        "id": "tH_plMmRECUd"
      },
      "source": [
        "program_year"
      ],
      "execution_count": null,
      "outputs": []
    },
    {
      "cell_type": "code",
      "metadata": {
        "id": "4iM31ic7D4bz"
      },
      "source": [
        "program_year_str = [\"2020\", \"2021\"]"
      ],
      "execution_count": null,
      "outputs": []
    },
    {
      "cell_type": "code",
      "metadata": {
        "id": "fBf7iqDgEdBm"
      },
      "source": [
        "len(program_year_str)"
      ],
      "execution_count": null,
      "outputs": []
    },
    {
      "cell_type": "code",
      "metadata": {
        "id": "tWp0tRRXJjrR"
      },
      "source": [
        "# What is the output?\n",
        "print(type(program_year))    \n",
        "print(program_year)\n",
        "print(len(program_year))   \n",
        "print(2019 in program_year) "
      ],
      "execution_count": null,
      "outputs": []
    },
    {
      "cell_type": "code",
      "metadata": {
        "id": "KzlLZnu9EjaL"
      },
      "source": [
        "program_year"
      ],
      "execution_count": null,
      "outputs": []
    },
    {
      "cell_type": "code",
      "metadata": {
        "id": "5YCBOhXqEmk5"
      },
      "source": [
        "print(2020 in program_year) "
      ],
      "execution_count": null,
      "outputs": []
    },
    {
      "cell_type": "code",
      "metadata": {
        "id": "bIkCniUREsQp"
      },
      "source": [
        "print(program_year[0])   "
      ],
      "execution_count": null,
      "outputs": []
    },
    {
      "cell_type": "code",
      "metadata": {
        "id": "GiLM0BNmEtDx"
      },
      "source": [
        "print(program_year[1])"
      ],
      "execution_count": null,
      "outputs": []
    },
    {
      "cell_type": "code",
      "metadata": {
        "id": "8Ud8wDOeE0E6"
      },
      "source": [
        ""
      ],
      "execution_count": null,
      "outputs": []
    },
    {
      "cell_type": "code",
      "metadata": {
        "id": "aM92va6hJkkI"
      },
      "source": [
        "# What is the output?\n",
        "print(program_year[0]) \n",
        "print(program_year[:1])    \n",
        "\n",
        "[2020, 2021]\n",
        "  0      1"
      ],
      "execution_count": null,
      "outputs": []
    },
    {
      "cell_type": "code",
      "metadata": {
        "id": "v2LhRN0EJlaB"
      },
      "source": [
        "# What is the output?\n",
        "for galuh in program_year:\n",
        "    print(galuh)"
      ],
      "execution_count": null,
      "outputs": []
    },
    {
      "cell_type": "markdown",
      "metadata": {
        "id": "zaHpqdexl_pQ"
      },
      "source": [
        "### Lists are mutable\n",
        "- If strings are immutable, lists are mutable, means able to add, remove, or modify elements in a list."
      ]
    },
    {
      "cell_type": "code",
      "metadata": {
        "id": "x4Zj1d89KBJI"
      },
      "source": [
        "paths = ['ML', 'Cloud']"
      ],
      "execution_count": null,
      "outputs": []
    },
    {
      "cell_type": "markdown",
      "metadata": {
        "id": "pysvfzoeJ5b0"
      },
      "source": [
        "- Use append to add to last element. To add on specific index, use insert. To delete element, use remove with element or pop with index."
      ]
    },
    {
      "cell_type": "code",
      "metadata": {
        "id": "1aXjZFVEmAAV"
      },
      "source": [
        "# What does each line do?\n",
        "paths.append('Android')\n",
        "print(len(paths))"
      ],
      "execution_count": null,
      "outputs": []
    },
    {
      "cell_type": "code",
      "metadata": {
        "id": "EtDtBy3ZFMMg"
      },
      "source": [
        "paths"
      ],
      "execution_count": null,
      "outputs": []
    },
    {
      "cell_type": "code",
      "metadata": {
        "id": "6DPIRHWyFDSF"
      },
      "source": [
        "paths.remove('Android')"
      ],
      "execution_count": null,
      "outputs": []
    },
    {
      "cell_type": "code",
      "metadata": {
        "id": "0XbqTNbcFPhF"
      },
      "source": [
        "paths"
      ],
      "execution_count": null,
      "outputs": []
    },
    {
      "cell_type": "code",
      "metadata": {
        "id": "Wn7RsFZWFQcP"
      },
      "source": [
        "paths.insert(1, 'Mobile')"
      ],
      "execution_count": null,
      "outputs": []
    },
    {
      "cell_type": "code",
      "metadata": {
        "id": "sglSNR_JFTVW"
      },
      "source": [
        "print(paths)"
      ],
      "execution_count": null,
      "outputs": []
    },
    {
      "cell_type": "code",
      "metadata": {
        "id": "twPsigg-KJJ3"
      },
      "source": [
        "# What does each line do?\n",
        "print(paths)\n",
        "paths.append('Python')\n",
        "paths.pop(-1)  # remove 'Python'"
      ],
      "execution_count": null,
      "outputs": []
    },
    {
      "cell_type": "markdown",
      "metadata": {
        "id": "rbjvPQsCJ7NP"
      },
      "source": [
        "- For element modification, change directly to the specific index."
      ]
    },
    {
      "cell_type": "code",
      "metadata": {
        "id": "8TccPNevKFTT"
      },
      "source": [
        "# change 'ML' to 'Machine Learning'\n",
        "paths[0] = 'Machine Learning'\n",
        "\n",
        "print(paths)"
      ],
      "execution_count": null,
      "outputs": []
    },
    {
      "cell_type": "markdown",
      "metadata": {
        "id": "pQ31D9ADmGI-"
      },
      "source": [
        "### List comprehension\n",
        "- Create a new list from a sequence or a range in single line using list comprehensions.\n",
        "- List comprehensions can be really powerful, but can also be utterly complex, resulting to codes that are hard to read.\n",
        "\n",
        "\n",
        "\n"
      ]
    },
    {
      "cell_type": "code",
      "metadata": {
        "id": "OiCaCwfHmG9a"
      },
      "source": [
        "# What is the output?\n",
        "even = [x*2 for x in range(1,5)]\n",
        "print(even)\n",
        "\n",
        "# range(1,5) -> 1,2,3,4\n",
        "# for each x in 1,2,3,4 -> 1*2, 2*2, 3*3, 4*4"
      ],
      "execution_count": null,
      "outputs": []
    },
    {
      "cell_type": "code",
      "metadata": {
        "id": "VA1jP2akKjPs"
      },
      "source": [
        "# What is the output?\n",
        "tens = [x for x in range(50) if x % 10 == 0]\n",
        "print(tens)"
      ],
      "execution_count": null,
      "outputs": []
    },
    {
      "cell_type": "code",
      "metadata": {
        "id": "ozJWWxdqKiJf"
      },
      "source": [
        "\n",
        "'''''\n",
        "        [\n",
        "            x\n",
        "            for x in range(50)\n",
        "            if x % 10 == 0\n",
        "        ]\n",
        "\n",
        "'''''"
      ],
      "execution_count": null,
      "outputs": []
    },
    {
      "cell_type": "markdown",
      "metadata": {
        "id": "7Ea29l43mRef"
      },
      "source": [
        "# Tuples\n",
        "- Tuples are like lists. They can contain elements of any data type. But, unlike lists, tuples are immutable.\n",
        "- Python uses parentheses () to indicate where the tuple starts and ends.\n",
        "Good example of tuple usage is when a function returns multiple values."
      ]
    },
    {
      "cell_type": "code",
      "metadata": {
        "id": "oFXMVoCCmR5C"
      },
      "source": [
        "def get_stat(numbers):\n",
        "  total = sum(numbers)\n",
        "  length = len(numbers)\n",
        "  mean = total / length\n",
        "  return length, total, mean\n",
        "\n",
        "stat = get_stat([1, 3, 5, 7])\n",
        "print(stat)\n",
        "print(type(stat))"
      ],
      "execution_count": null,
      "outputs": []
    },
    {
      "cell_type": "code",
      "metadata": {
        "id": "4znR47b9LyJg"
      },
      "source": [
        "for data in stat:\n",
        "    print(data)"
      ],
      "execution_count": null,
      "outputs": []
    },
    {
      "cell_type": "markdown",
      "metadata": {
        "id": "kXKtLZWkmaQz"
      },
      "source": [
        "# Dictionaries\n",
        "- Like lists, dictionaries are used to organize elements into collections.\n",
        "- Unlike lists, we do not access elements inside dictionaries using position.\n",
        "- Data inside dictionaries take the form of pairs of **keys and values**. To get a dictionary value, use its corresponding key.\n",
        "- Unlike lists where index must be a number, the type of key in dictionary can use strings, integers, tuples & much more.\n",
        "- Dictionary uses curly brackets {}.\n",
        "\n"
      ]
    },
    {
      "cell_type": "code",
      "metadata": {
        "id": "hopIrzVcmbE2"
      },
      "source": [
        "students = {\n",
        "    'ml': 500,\n",
        "    'mobile': 700,\n",
        "    'cloud': 900\n",
        "}"
      ],
      "execution_count": null,
      "outputs": []
    },
    {
      "cell_type": "code",
      "metadata": {
        "id": "qmZxEP1TMDQW"
      },
      "source": [
        "# What is the output?\n",
        "print(type(students))\n",
        "print(students['cloud'])"
      ],
      "execution_count": null,
      "outputs": []
    },
    {
      "cell_type": "code",
      "metadata": {
        "id": "bl3W0mj-MEuH"
      },
      "source": [
        "# What is the output?\n",
        "for key in students.keys():\n",
        "    print(key + ':' + str(students[key]))"
      ],
      "execution_count": null,
      "outputs": []
    },
    {
      "cell_type": "markdown",
      "metadata": {
        "id": "I9XNLWF3mhpq"
      },
      "source": [
        "### Iterating over dictionaries\n",
        "- Use for loops to iterate through the contents of dictionary (implicitly over keys).\n",
        "\n"
      ]
    },
    {
      "cell_type": "code",
      "metadata": {
        "id": "tN5UowEYmizJ"
      },
      "source": [
        "file_counts = {\"jpg\": 10,\n",
        "               \"txt\": 14,\n",
        "               \"csv\": 2,\n",
        "               \"py\": 23}\n",
        "\n",
        "for extension in file_counts:\n",
        "    print(extension)  # eg: jpg"
      ],
      "execution_count": null,
      "outputs": []
    },
    {
      "cell_type": "markdown",
      "metadata": {
        "id": "T_p-PUF9M2lZ"
      },
      "source": [
        "- Other than using keys to get all keys, use values to get all dictionary values."
      ]
    },
    {
      "cell_type": "code",
      "metadata": {
        "id": "KX_K_5E2M3TU"
      },
      "source": [
        "for value in file_counts.values():\n",
        "    print(value)"
      ],
      "execution_count": null,
      "outputs": []
    },
    {
      "cell_type": "markdown",
      "metadata": {
        "id": "GW4eE4Q8MyXn"
      },
      "source": [
        "- To get both key and value as tuple at the same time, use items."
      ]
    },
    {
      "cell_type": "code",
      "metadata": {
        "id": "ke6A-lFMMxWH"
      },
      "source": [
        "for ext, amount in file_counts.items():\n",
        "    print('{} files .{}'.format(amount, ext))"
      ],
      "execution_count": null,
      "outputs": []
    },
    {
      "cell_type": "markdown",
      "metadata": {
        "id": "c7KJhPIZmo7B"
      },
      "source": [
        "### Dictionaries are mutable\n",
        "- Just like lists, dictionaries are mutable, means able to add, remove, or modify elements in a dictionary.\n"
      ]
    },
    {
      "cell_type": "code",
      "metadata": {
        "id": "mgrVmcEqmp4q"
      },
      "source": [
        "point_a = {'x': 2, 'y': 5}"
      ],
      "execution_count": null,
      "outputs": []
    },
    {
      "cell_type": "code",
      "metadata": {
        "id": "zg1uYpCcNn2L"
      },
      "source": [
        "point_a['x'] = 3\n",
        "point_a['y'] = 7"
      ],
      "execution_count": null,
      "outputs": []
    },
    {
      "cell_type": "markdown",
      "metadata": {
        "id": "EpPx1xuFNb8o"
      },
      "source": [
        "- Set new value using the associated key. Add item (pairs of key & value) by setting a new key with a new value. \n",
        "- Delete item with the `del` keyword or delete all items using `clear`.\n"
      ]
    },
    {
      "cell_type": "code",
      "metadata": {
        "id": "pTdN4vYiNdOf"
      },
      "source": [
        "new_point = {}  # empty dictionary\n",
        "new_point['z'] = 2\n",
        "print(len(new_point.keys()))  # 1"
      ],
      "execution_count": null,
      "outputs": []
    },
    {
      "cell_type": "code",
      "metadata": {
        "id": "dvkMDyzTNsv3"
      },
      "source": [
        "del new_point['z']  # remove item\n",
        "print(new_point)    # {}"
      ],
      "execution_count": null,
      "outputs": []
    },
    {
      "cell_type": "code",
      "metadata": {
        "id": "1ZGHSZMDNgXD"
      },
      "source": [
        "new_point = {'x': 0, 'y': 1}\n",
        "new_point.clear()\n",
        "print(new_point)    # {}"
      ],
      "execution_count": null,
      "outputs": []
    },
    {
      "cell_type": "code",
      "metadata": {
        "id": "Sa9gSmg-Nz9Q"
      },
      "source": [
        ""
      ],
      "execution_count": null,
      "outputs": []
    }
  ]
}