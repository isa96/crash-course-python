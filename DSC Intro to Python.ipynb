{
  "cells": [
    {
      "cell_type": "markdown",
      "metadata": {
        "id": "wS3irTnwu04i"
      },
      "source": [
        "\n",
        "\n",
        "# **Introduction to Python Part 1**\n",
        "\n",
        "This colab will cover some introduction to Python Programming Language : \n",
        "- How to output a text\n",
        "- Comment in Python\n",
        "- Variables in Python\n",
        "- Casting\n",
        "- String\n",
        "- Operators\n",
        "- If - Else\n",
        "- Looping\n",
        "- Function\n",
        "- Data Structure in Python"
      ]
    },
    {
      "cell_type": "markdown",
      "metadata": {
        "id": "BBqE5B6HZggC"
      },
      "source": [
        "## **Print Command**\n",
        "\n",
        "To put an output, you can just call print command : **print(  )**"
      ]
    },
    {
      "cell_type": "code",
      "execution_count": null,
      "metadata": {
        "colab": {
          "base_uri": "https://localhost:8080/",
          "height": 34
        },
        "id": "JYt8T-6LLCiA",
        "outputId": "b171da87-c26e-4bd0-97fb-6a423f81a0e3"
      },
      "outputs": [
        {
          "name": "stdout",
          "output_type": "stream",
          "text": [
            "10\n"
          ]
        }
      ],
      "source": [
        "print(10)"
      ]
    },
    {
      "cell_type": "code",
      "execution_count": null,
      "metadata": {
        "colab": {
          "base_uri": "https://localhost:8080/",
          "height": 34
        },
        "id": "Oq8E1ZnziROo",
        "outputId": "599f6903-dafc-4a00-c08a-927f6ac108bd"
      },
      "outputs": [
        {
          "data": {
            "text/plain": [
              "10"
            ]
          },
          "execution_count": 78,
          "metadata": {
            "tags": []
          },
          "output_type": "execute_result"
        }
      ],
      "source": [
        "10"
      ]
    },
    {
      "cell_type": "markdown",
      "metadata": {
        "id": "edmN91f6iceV"
      },
      "source": [
        "Try to print something on your own."
      ]
    },
    {
      "cell_type": "markdown",
      "metadata": {
        "id": "jlOyTafEiqEJ"
      },
      "source": [
        "## **Comment in Python**\n",
        "\n",
        "Comments can be used to :\n",
        "- make the code more readable\n",
        "- prevent execution when testing code\n",
        "\n",
        "In Python, you can make comment using **#** command."
      ]
    },
    {
      "cell_type": "code",
      "execution_count": null,
      "metadata": {
        "colab": {
          "base_uri": "https://localhost:8080/",
          "height": 34
        },
        "id": "1adUV7fliv3M",
        "outputId": "715e4ab7-a7c8-400b-a39b-ef0dea8a33dc"
      },
      "outputs": [
        {
          "name": "stdout",
          "output_type": "stream",
          "text": [
            "Comment is not execute.\n"
          ]
        }
      ],
      "source": [
        "# This is the explanation of code\n",
        "print(\"Comment is not execute.\")"
      ]
    },
    {
      "cell_type": "markdown",
      "metadata": {
        "id": "uMnJA3s9ptzo"
      },
      "source": [
        "For multi-line command you can use triple quotes and place command inside it."
      ]
    },
    {
      "cell_type": "code",
      "execution_count": null,
      "metadata": {
        "colab": {
          "base_uri": "https://localhost:8080/",
          "height": 34
        },
        "id": "WwWW_zS9n8aT",
        "outputId": "70b7f342-8a91-49cf-d893-906abebc6307"
      },
      "outputs": [
        {
          "name": "stdout",
          "output_type": "stream",
          "text": [
            "Comment is not execute\n"
          ]
        }
      ],
      "source": [
        "\"\"\"\n",
        "MultiLine\n",
        "First line comment\n",
        "Second line comment\n",
        "\"\"\"\n",
        "\n",
        "\"Comment Singgle Line\"\n",
        "\n",
        "print(\"Comment is not execute\")"
      ]
    },
    {
      "cell_type": "markdown",
      "metadata": {
        "id": "F7eGm0cvtmyN"
      },
      "source": [
        "## **Variables in Python**\n",
        "\n",
        "Data values can be stored in variables. Unlike other programming language, Python don't have command for declaring a variable. A variable is created at the moment you assign a value to it. Also, variable don't need to be declared with any particular type and can even change type after they have been set."
      ]
    },
    {
      "cell_type": "code",
      "execution_count": null,
      "metadata": {
        "colab": {
          "base_uri": "https://localhost:8080/",
          "height": 34
        },
        "id": "TEWS7xRDqVCP",
        "outputId": "e15574c4-fd9d-4a12-c714-0685d50076d8"
      },
      "outputs": [
        {
          "name": "stdout",
          "output_type": "stream",
          "text": [
            "10\n"
          ]
        }
      ],
      "source": [
        "x = 'DSC Unhas' # type of x is string\n",
        "\n",
        "x = 10          # type of x change to int\n",
        "\n",
        "print(x)"
      ]
    },
    {
      "cell_type": "markdown",
      "metadata": {
        "id": "wtuGOArYD0PJ"
      },
      "source": [
        "A variable can have a short name (like x and y) or a more descriptive name (age, carName, total_volume). Rules for Python variables:\n",
        "- A variable name **must** start with a letter or the underscore character\n",
        "- A variable name **cannot start with a number**\n",
        "- A variable name can only contain **alpha-numeric characters and underscores** (A-z, 0-9, and _ )\n",
        "\n",
        "Variable names are case-sensitive (age, Age and AGE are three different variables)"
      ]
    },
    {
      "cell_type": "markdown",
      "metadata": {
        "id": "oGv1UO_uGSvi"
      },
      "source": [
        "Besides, Python also allows you to assign values to **multiple variables** in one line."
      ]
    },
    {
      "cell_type": "code",
      "execution_count": null,
      "metadata": {
        "colab": {
          "base_uri": "https://localhost:8080/",
          "height": 70
        },
        "id": "KzGSTBMSDaJy",
        "outputId": "665eb977-e7ca-4959-c702-5584460eac4c"
      },
      "outputs": [
        {
          "name": "stdout",
          "output_type": "stream",
          "text": [
            "DSC\n",
            "Unhas\n",
            "1\n"
          ]
        }
      ],
      "source": [
        "a, b, c = \"DSC\", 'Unhas', 1\n",
        "\n",
        "print(a)\n",
        "print(b)\n",
        "print(c)"
      ]
    },
    {
      "cell_type": "markdown",
      "metadata": {
        "id": "N69H7AlbGrfq"
      },
      "source": [
        "Or, you can assingn **same value** to multiple variables in one line."
      ]
    },
    {
      "cell_type": "code",
      "execution_count": null,
      "metadata": {
        "colab": {
          "base_uri": "https://localhost:8080/",
          "height": 34
        },
        "id": "lTWVTboyGlzv",
        "outputId": "e92f4b46-44ca-4034-ab02-68b900564a8d"
      },
      "outputs": [
        {
          "name": "stdout",
          "output_type": "stream",
          "text": [
            "DSC Unhas DSC Unhas DSC Unhas\n"
          ]
        }
      ],
      "source": [
        "a = b = c = \"DSC Unhas\"\n",
        "\n",
        "print(a, b, c)"
      ]
    },
    {
      "cell_type": "code",
      "execution_count": null,
      "metadata": {
        "colab": {
          "base_uri": "https://localhost:8080/",
          "height": 70
        },
        "id": "FEsdCPeRECtn",
        "outputId": "a0aaf862-a1cd-4dcf-fab3-77575c86474a"
      },
      "outputs": [
        {
          "name": "stdout",
          "output_type": "stream",
          "text": [
            "x =  10 , y =  20  z =  30\n",
            "x = 10, y = 20, z = 30\n",
            "x = 10, y = 20, z = 30\n"
          ]
        }
      ],
      "source": [
        "x = 10\n",
        "y = 20\n",
        "z = 30\n",
        "\n",
        "#Type of print out variable\n",
        "print(\"x = \",x,\", y = \",y,\" z = \", z)\n",
        "print(\"x = \"+ str(x) +\", y = \"+ str(y) +\", z = \"+ str(z))\n",
        "print(\"x = %d, y = %d, z = %d\" % (x,y,z))\n",
        "\n"
      ]
    },
    {
      "cell_type": "markdown",
      "metadata": {
        "id": "WBlzSikUJyCb"
      },
      "source": [
        "## **Casting**\n",
        "\n",
        "There may be times when you want to specify a type on to a variable. This can be done with casting. Python is an object-orientated language, and as such it uses classes to define data types, including its primitive types.\n",
        "\n",
        "Casting in python is therefore done using constructor functions:\n",
        "\n",
        "- **int()** - constructs an integer number from an integer literal, a float literal (by rounding down to the previous whole number), or a string literal (providing the string represents a whole number)\n",
        "- **float()** - constructs a float number from an integer literal, a float literal or a string literal (providing the string represents a float or an integer)\n",
        "- **str()** - constructs a string from a wide variety of data types, including strings, integer literals and float literals"
      ]
    },
    {
      "cell_type": "code",
      "execution_count": null,
      "metadata": {
        "colab": {
          "base_uri": "https://localhost:8080/",
          "height": 34
        },
        "id": "yzkbDXZ6HMlT",
        "outputId": "248eac3c-7b91-4161-fc03-15b5d3706cb8"
      },
      "outputs": [
        {
          "name": "stdout",
          "output_type": "stream",
          "text": [
            "10 10 3\n"
          ]
        }
      ],
      "source": [
        "# Cast value to int\n",
        "\n",
        "a = int(10)\n",
        "b = int(10.82)\n",
        "c = int('3')\n",
        "\n",
        "print(a, b, c)"
      ]
    },
    {
      "cell_type": "code",
      "execution_count": null,
      "metadata": {
        "colab": {
          "base_uri": "https://localhost:8080/",
          "height": 34
        },
        "id": "GvEbW6xfKz8c",
        "outputId": "73c83a80-1bea-4668-a830-82c7667c57a1"
      },
      "outputs": [
        {
          "name": "stdout",
          "output_type": "stream",
          "text": [
            "10.0 10.82 3.02\n"
          ]
        }
      ],
      "source": [
        "# Cast value to float\n",
        "\n",
        "a = float(10)\n",
        "b = float(10.82)\n",
        "c = float('3.02')\n",
        "\n",
        "print(a, b, c)"
      ]
    },
    {
      "cell_type": "code",
      "execution_count": null,
      "metadata": {
        "colab": {
          "base_uri": "https://localhost:8080/",
          "height": 34
        },
        "id": "XXpD7OI8LJkY",
        "outputId": "cebdf53f-3047-4883-e811-f3f39d05d68a"
      },
      "outputs": [
        {
          "name": "stdout",
          "output_type": "stream",
          "text": [
            "10 10.82 3.02\n"
          ]
        }
      ],
      "source": [
        "# Cast value to string\n",
        "\n",
        "a = str(10)\n",
        "b = str(10.82)\n",
        "c = str('3.02')\n",
        "\n",
        "print(a, b, c)"
      ]
    },
    {
      "cell_type": "markdown",
      "metadata": {
        "id": "vKKd1rcxLo0f"
      },
      "source": [
        "Why casting is important? Because you can't concatenate a string and a number. One of the ways to concatenate is to cast number value to string using **str()**."
      ]
    },
    {
      "cell_type": "code",
      "execution_count": null,
      "metadata": {
        "colab": {
          "base_uri": "https://localhost:8080/",
          "height": 202
        },
        "id": "8ZFqNoMgLQ-p",
        "outputId": "927d474d-f580-48f0-f497-068d7dbc4ccf"
      },
      "outputs": [
        {
          "ename": "TypeError",
          "evalue": "ignored",
          "output_type": "error",
          "traceback": [
            "\u001b[0;31m---------------------------------------------------------------------------\u001b[0m",
            "\u001b[0;31mTypeError\u001b[0m                                 Traceback (most recent call last)",
            "\u001b[0;32m<ipython-input-14-ba6bd9150681>\u001b[0m in \u001b[0;36m<module>\u001b[0;34m()\u001b[0m\n\u001b[1;32m      3\u001b[0m \u001b[0;34m\u001b[0m\u001b[0m\n\u001b[1;32m      4\u001b[0m \u001b[0;31m# TODO : fix the error\u001b[0m\u001b[0;34m\u001b[0m\u001b[0;34m\u001b[0m\u001b[0;34m\u001b[0m\u001b[0m\n\u001b[0;32m----> 5\u001b[0;31m \u001b[0mprint\u001b[0m\u001b[0;34m(\u001b[0m\u001b[0mtext\u001b[0m \u001b[0;34m+\u001b[0m \u001b[0myear\u001b[0m\u001b[0;34m)\u001b[0m  \u001b[0;31m# this will throw an error. Try to cast year to string first\u001b[0m\u001b[0;34m\u001b[0m\u001b[0;34m\u001b[0m\u001b[0m\n\u001b[0m",
            "\u001b[0;31mTypeError\u001b[0m: must be str, not int"
          ]
        }
      ],
      "source": [
        "text = \"This year is \"\n",
        "year = 2020\n",
        "\n",
        "# TODO : fix the error\n",
        "print(text + year)  # this will throw an error. Try to cast year to string first"
      ]
    },
    {
      "cell_type": "markdown",
      "metadata": {
        "id": "FE4hgfJMOqHZ"
      },
      "source": [
        "## **String**\n",
        "\n",
        "String literals in python are surrounded by either single quotation marks, or double quotation marks.\n",
        "\n",
        "**'hello'** is the same as **\"hello\"**"
      ]
    },
    {
      "cell_type": "code",
      "execution_count": null,
      "metadata": {
        "colab": {
          "base_uri": "https://localhost:8080/",
          "height": 34
        },
        "id": "ZeJL_GykNYoy",
        "outputId": "b66b63b0-fa0d-425b-b33b-b99475b0c119"
      },
      "outputs": [
        {
          "name": "stdout",
          "output_type": "stream",
          "text": [
            "True\n"
          ]
        }
      ],
      "source": [
        "print('hello' == \"hello\")  # will return True"
      ]
    },
    {
      "cell_type": "markdown",
      "metadata": {
        "id": "y9YYKY0YQuDO"
      },
      "source": [
        "For multiline string, you can use triple quotes \"\"\" ... \"\"\" or triple single quote ''' ... '''"
      ]
    },
    {
      "cell_type": "code",
      "execution_count": null,
      "metadata": {
        "colab": {
          "base_uri": "https://localhost:8080/",
          "height": 105
        },
        "id": "1uOV7L5iQoNL",
        "outputId": "235e9e04-8e19-4252-cec6-87e462215712"
      },
      "outputs": [
        {
          "name": "stdout",
          "output_type": "stream",
          "text": [
            "Lorem ipsum dolor sit amet, \n",
            "consectetur adipiscing elit, \n",
            "sed do eiusmod tempor incididunt ut labore et dolore magna aliqua. \n",
            "Ut enim ad minim veniam, \n",
            "quis nostrud exercitation ullamco laboris nisi ut aliquip ex ea commodo consequat. \n"
          ]
        }
      ],
      "source": [
        "text = \"\"\"Lorem ipsum dolor sit amet, \n",
        "consectetur adipiscing elit, \n",
        "sed do eiusmod tempor incididunt ut labore et dolore magna aliqua. \n",
        "Ut enim ad minim veniam, \n",
        "quis nostrud exercitation ullamco laboris nisi ut aliquip ex ea commodo consequat. \"\"\"\n",
        "\n",
        "print(text)"
      ]
    },
    {
      "cell_type": "markdown",
      "metadata": {
        "id": "Ih4v0na-RniZ"
      },
      "source": [
        "### **Strings are Arrays**\n",
        "Like many other popular programming languages, strings in Python are arrays of bytes representing unicode characters. However, Python does not have a character data type, a single character is simply a string with a length of 1. Square brackets can be used to access elements of the string."
      ]
    },
    {
      "cell_type": "code",
      "execution_count": null,
      "metadata": {
        "colab": {
          "base_uri": "https://localhost:8080/",
          "height": 34
        },
        "id": "r9khY4jXRTEq",
        "outputId": "b220adea-b4e5-4f1d-f0a1-a09fb3fabc33"
      },
      "outputs": [
        {
          "name": "stdout",
          "output_type": "stream",
          "text": [
            "C\n"
          ]
        }
      ],
      "source": [
        "text = \"DSC Universitas Hasanuddin\"\n",
        "\n",
        "# Get a character in position 2\n",
        "print(text[2])"
      ]
    },
    {
      "cell_type": "markdown",
      "metadata": {
        "id": "XhaLMQHlT4Qg"
      },
      "source": [
        "### **Slicing**\n",
        "\n",
        "You can return a range of characters by using the slice syntax.\n",
        "\n",
        "Specify the start index and the end index, separated by a colon, to return a part of the string. Also, you can use negative indexes to start the slice from the end of the string."
      ]
    },
    {
      "cell_type": "code",
      "execution_count": null,
      "metadata": {
        "colab": {
          "base_uri": "https://localhost:8080/",
          "height": 70
        },
        "id": "4LC2Qi73SJF5",
        "outputId": "2b826c92-6cde-4de2-cc66-10b894adb9c7"
      },
      "outputs": [
        {
          "name": "stdout",
          "output_type": "stream",
          "text": [
            "DSC\n",
            "Universitas\n",
            "DSC Universitas Hasanudd\n"
          ]
        }
      ],
      "source": [
        "text = \"DSC Universitas Hasanuddin\"\n",
        "\n",
        "print(text[:3])     # print text start from beginning to index 3(not include)\n",
        "print(text[4:15])   # print text start from index 4 to index 15(not include)\n",
        "print(text[:-2])    # print text start from beginning to index 1 from end (not include)"
      ]
    },
    {
      "cell_type": "code",
      "execution_count": null,
      "metadata": {
        "id": "AOmEWdxoUbx9"
      },
      "outputs": [],
      "source": [
        "text = \"DSC Universitas Hasanuddin\"\n",
        "\n",
        "# TODO : Try to print 'versit' from text using slicing\n",
        "\n"
      ]
    },
    {
      "cell_type": "markdown",
      "metadata": {
        "id": "BbF_KGfzXYr9"
      },
      "source": [
        "### **String Concatenation**\n",
        "\n",
        "String concatenation in Python can be done these ways :\n",
        "- Using str() function\n",
        "- Using % operator\n",
        "- Using format() function\n",
        "- Using f-string"
      ]
    },
    {
      "cell_type": "code",
      "execution_count": null,
      "metadata": {
        "colab": {
          "base_uri": "https://localhost:8080/",
          "height": 34
        },
        "id": "vVgpBqQfV2g4",
        "outputId": "9bc529b9-31aa-4358-c924-b4f858f2bb95"
      },
      "outputs": [
        {
          "name": "stdout",
          "output_type": "stream",
          "text": [
            "Today is February, 21st.\n"
          ]
        }
      ],
      "source": [
        "date = 21\n",
        "month = 'February'\n",
        "\n",
        "print('Today is ' + month + ', ' + str(date) + 'st.')"
      ]
    },
    {
      "cell_type": "code",
      "execution_count": null,
      "metadata": {
        "colab": {
          "base_uri": "https://localhost:8080/",
          "height": 34
        },
        "id": "AAHwpiDRMoUJ",
        "outputId": "0333c1da-5652-4df5-95be-90f486495073"
      },
      "outputs": [
        {
          "name": "stdout",
          "output_type": "stream",
          "text": [
            "Today is February, 21st.\n"
          ]
        }
      ],
      "source": [
        "date = 21\n",
        "month = 'February'\n",
        "\n",
        "print('Today is %s, %dst.' % (month, date))"
      ]
    },
    {
      "cell_type": "code",
      "execution_count": null,
      "metadata": {
        "colab": {
          "base_uri": "https://localhost:8080/",
          "height": 52
        },
        "id": "j8UYmNOKM1YT",
        "outputId": "3d4496b6-3ef9-49f9-8a70-3ffe98d30cda"
      },
      "outputs": [
        {
          "name": "stdout",
          "output_type": "stream",
          "text": [
            "Today is February, 21st.\n",
            "Today is February, 21st.\n"
          ]
        }
      ],
      "source": [
        "date = 21\n",
        "month = 'February'\n",
        "\n",
        "print('Today is {}, {}st.'.format(month, date))\n",
        "\n",
        "print('Today is {1}, {0}st.'.format(date, month))"
      ]
    },
    {
      "cell_type": "code",
      "execution_count": null,
      "metadata": {
        "colab": {
          "base_uri": "https://localhost:8080/",
          "height": 34
        },
        "id": "dO_Ru7hwNHiM",
        "outputId": "ebf370ab-afe2-4a1c-888a-d7c4fbd40d66"
      },
      "outputs": [
        {
          "name": "stdout",
          "output_type": "stream",
          "text": [
            "Today is February, 21st.\n"
          ]
        }
      ],
      "source": [
        "date = 21\n",
        "month = 'February'\n",
        "\n",
        "print(f'Today is {month}, {date}st.')"
      ]
    },
    {
      "cell_type": "markdown",
      "metadata": {
        "id": "5thMIPYLN6UZ"
      },
      "source": [
        "### **String Method**\n",
        "\n",
        "Python has a set of built-in methods that you can use on strings. Reference : [String Method](https://www.w3schools.com/python/python_ref_string.asp)"
      ]
    },
    {
      "cell_type": "markdown",
      "metadata": {
        "id": "70-mASlaYc0B"
      },
      "source": [
        "## **Operators**\n",
        "\n",
        "Operators are used to perform operations on variables and values."
      ]
    },
    {
      "cell_type": "markdown",
      "metadata": {
        "id": "Wniw41dqjcaT"
      },
      "source": [
        "### **Python Arithmetic Operators**\n",
        "Arithmetic operators are used with numeric values to perform common mathematical operations.\n",
        "- \\+ : Addition\n",
        "- \\- : Subtraction\t\t\n",
        "- \\* : Multiplication\n",
        "- /\t : Division\n",
        "- %\t : Modulus\n",
        "- ** : Exponentiation\t\n",
        "- // : Floor division\t"
      ]
    },
    {
      "cell_type": "code",
      "execution_count": null,
      "metadata": {
        "colab": {
          "base_uri": "https://localhost:8080/",
          "height": 140
        },
        "id": "SOHpbYAVNfeY",
        "outputId": "3363db1f-c8f0-4cfd-df3e-d13f33105d2f"
      },
      "outputs": [
        {
          "name": "stdout",
          "output_type": "stream",
          "text": [
            "14\n",
            "6\n",
            "40\n",
            "2.5\n",
            "2\n",
            "10000\n",
            "2\n"
          ]
        }
      ],
      "source": [
        "print(10 + 4)   # 14\n",
        "print(10 - 4)   # 6\n",
        "print(10 * 4)   # 40\n",
        "print(10 / 4)   # 2.5\n",
        "print(10 % 4)   # 2\n",
        "print(10 ** 4)  # 1000\n",
        "print(10 // 4)  # 2"
      ]
    },
    {
      "cell_type": "markdown",
      "metadata": {
        "id": "-IVFoqsfjkPD"
      },
      "source": [
        "### **Comparison Operators**\n",
        "\n",
        "Comparison operators are used to compare two values:\n",
        "- **==** : Equal\n",
        "- **!=** : Not equal\n",
        "- **>** : Greater than\n",
        "- **<** : Less than\n",
        "- **>=** : Greater than or equal to\n",
        "- **<=** : Less than or equal to"
      ]
    },
    {
      "cell_type": "markdown",
      "metadata": {
        "id": "2zP7-WxckNOR"
      },
      "source": [
        "### **Logical Operators**\n",
        "\n",
        "Logical operators are used to combine conditional statements:\n",
        "\n",
        "- **and** : Returns True if both statements are true\n",
        "- **or** : Returns True if one of the statements is true\n",
        "- **not** : Reverse the result, returns False if the result is true"
      ]
    },
    {
      "cell_type": "code",
      "execution_count": null,
      "metadata": {
        "colab": {
          "base_uri": "https://localhost:8080/",
          "height": 70
        },
        "id": "7SOkvdzeZ2G1",
        "outputId": "b2aee41d-5027-4780-86bc-e3d1279d6a0a"
      },
      "outputs": [
        {
          "name": "stdout",
          "output_type": "stream",
          "text": [
            "True\n",
            "True\n",
            "False\n"
          ]
        }
      ],
      "source": [
        "print(10 > 5 and 'A' < 'a')     # True and True => True\n",
        "\n",
        "print(10 >= 10 or 10 > 10)      # True or False => True \n",
        "\n",
        "print(not('hello' == \"hello\"))  # not True => False"
      ]
    },
    {
      "cell_type": "markdown",
      "metadata": {
        "id": "K9UBam5ElT_j"
      },
      "source": [
        "### **Identity Operators**\n",
        "\n",
        "Identity operators are used to compare the objects, not if they are equal, but if they are actually the same object, with the same memory location:\n",
        "\n",
        "- **is** : Returns true if both variables are the same object\n",
        "- **is not** : Returns true if both variables are not the same object"
      ]
    },
    {
      "cell_type": "code",
      "execution_count": null,
      "metadata": {
        "colab": {
          "base_uri": "https://localhost:8080/",
          "height": 52
        },
        "id": "wUSDfL-Rmk4v",
        "outputId": "74e426c0-ce42-4170-f9c1-fd2106398ba6"
      },
      "outputs": [
        {
          "name": "stdout",
          "output_type": "stream",
          "text": [
            "True\n",
            "False\n"
          ]
        }
      ],
      "source": [
        "list1 = ['a', 'b', 'c']\n",
        "list2 = ['a', 'b', 'c']\n",
        "\n",
        "print(list1 == list2)   # True because the value is the same\n",
        "\n",
        "print(list1 is list2)   # False because list1 and list2 have different memory location"
      ]
    },
    {
      "cell_type": "code",
      "execution_count": null,
      "metadata": {
        "colab": {
          "base_uri": "https://localhost:8080/",
          "height": 34
        },
        "id": "kzaq9N5Im9BR",
        "outputId": "fc6cbe24-e7f9-41a0-9a2c-b270760c542f"
      },
      "outputs": [
        {
          "name": "stdout",
          "output_type": "stream",
          "text": [
            "True\n"
          ]
        }
      ],
      "source": [
        "list1 = ['a', 'b', 'c']\n",
        "list2 = list1\n",
        "\n",
        "print(list1 is list2)"
      ]
    },
    {
      "cell_type": "markdown",
      "metadata": {
        "id": "39piLsx_l9uS"
      },
      "source": [
        "### **Membership Operators**\n",
        "\n",
        "Membership operators are used to test if a sequence is presented in an object.\n",
        "- **in** : Returns True if a sequence with the specified value is present in the object\n",
        "- **not in** : Returns True if a sequence with the specified value is not present in the object"
      ]
    },
    {
      "cell_type": "code",
      "execution_count": null,
      "metadata": {
        "colab": {
          "base_uri": "https://localhost:8080/",
          "height": 34
        },
        "id": "6zfVqgQ1kwgG",
        "outputId": "185f1910-248b-4847-b462-091cc3139757"
      },
      "outputs": [
        {
          "name": "stdout",
          "output_type": "stream",
          "text": [
            "True\n"
          ]
        }
      ],
      "source": [
        "print('ni' in 'Universitas Hasanuddin')     # True because ni exist in thet text"
      ]
    },
    {
      "cell_type": "markdown",
      "metadata": {
        "id": "0zXRusP45P18"
      },
      "source": [
        "## **If - Else**"
      ]
    },
    {
      "cell_type": "markdown",
      "metadata": {
        "id": "TF3JoqHqhWy7"
      },
      "source": [
        "### **If Statement**\n",
        "\n",
        "An if statement is a programming conditional statement that, if proved true, performs a function or displays information.\n",
        "\n",
        "An \"if statement\" is written by using the **if** keyword."
      ]
    },
    {
      "cell_type": "code",
      "execution_count": null,
      "metadata": {
        "colab": {
          "base_uri": "https://localhost:8080/",
          "height": 34
        },
        "id": "2lYwI7hOmZVs",
        "outputId": "9d93dd39-d57b-4a9b-fccc-788e0c7f65c2"
      },
      "outputs": [
        {
          "name": "stdout",
          "output_type": "stream",
          "text": [
            "40 is larger than 20!\n"
          ]
        }
      ],
      "source": [
        "if 40 > 20 :\n",
        "    print('40 is larger than 20!')"
      ]
    },
    {
      "cell_type": "markdown",
      "metadata": {
        "id": "f0O7E0il7U_Z"
      },
      "source": [
        "Things to remember is that if statement using indentation to define scope in the code while other programming language often use curly-brackets."
      ]
    },
    {
      "cell_type": "markdown",
      "metadata": {
        "id": "exN9N4X0hckG"
      },
      "source": [
        "### **Elif**\n",
        "\n",
        "The **elif** keyword is pythons way of saying \"if the previous conditions were not true, then try this condition\"."
      ]
    },
    {
      "cell_type": "code",
      "execution_count": null,
      "metadata": {
        "colab": {
          "base_uri": "https://localhost:8080/",
          "height": 34
        },
        "id": "gRPJpLra7SMc",
        "outputId": "288d3abe-6d51-4fe8-f7f1-d35880cf6f79"
      },
      "outputs": [
        {
          "name": "stdout",
          "output_type": "stream",
          "text": [
            "10 and 10 are equal\n"
          ]
        }
      ],
      "source": [
        "num1 = 10\n",
        "num2 = 10\n",
        "\n",
        "if num1 > num2:\n",
        "    print(\"{} is greater than {}\".format(num1, num2))\n",
        "elif num1 == num2:\n",
        "    print(\"{} and {} are equal\".format(num1, num2))"
      ]
    },
    {
      "cell_type": "markdown",
      "metadata": {
        "id": "Gqogg3pgj04X"
      },
      "source": [
        "### **Else**\n",
        "\n",
        "The **else** keyword catches anything which isn't caught by the preceding conditions."
      ]
    },
    {
      "cell_type": "code",
      "execution_count": null,
      "metadata": {
        "colab": {
          "base_uri": "https://localhost:8080/",
          "height": 34
        },
        "id": "KIPxLRF2jS4M",
        "outputId": "224e3f73-a03a-4625-aefb-32b5335e3018"
      },
      "outputs": [
        {
          "name": "stdout",
          "output_type": "stream",
          "text": [
            "10 is less than 100\n"
          ]
        }
      ],
      "source": [
        "num1 = 10\n",
        "num2 = 100\n",
        "\n",
        "if num1 > num2:\n",
        "    print(\"{} is greater than {}\".format(num1, num2))\n",
        "elif num1 == num2:\n",
        "    print(\"{} and {} are equal\".format(num1, num2))\n",
        "else:\n",
        "    print(\"{} is less than {}\".format(num1, num2))\n"
      ]
    },
    {
      "cell_type": "markdown",
      "metadata": {
        "id": "pUyTqKddkgmv"
      },
      "source": [
        "### **Short Hand If**\n",
        "\n",
        "If you have only one statement to execute, you can put it on the same line as the if statement."
      ]
    },
    {
      "cell_type": "code",
      "execution_count": null,
      "metadata": {
        "colab": {
          "base_uri": "https://localhost:8080/",
          "height": 34
        },
        "id": "CKCSFVErkdIv",
        "outputId": "032e41eb-a7da-426d-aa72-2618b903bab4"
      },
      "outputs": [
        {
          "name": "stdout",
          "output_type": "stream",
          "text": [
            "num1 is greater than num2\n"
          ]
        }
      ],
      "source": [
        "num1 = 100\n",
        "num2 = 10\n",
        "\n",
        "if num1 > num2: print(\"num1 is greater than num2\")"
      ]
    },
    {
      "cell_type": "markdown",
      "metadata": {
        "id": "KAsTBQDfkvXS"
      },
      "source": [
        "### **Short Hand If - Else**\n",
        "\n",
        "If you have only one statement to execute, one for if, and one for else, you can put it all on the same line:"
      ]
    },
    {
      "cell_type": "code",
      "execution_count": null,
      "metadata": {
        "colab": {
          "base_uri": "https://localhost:8080/",
          "height": 52
        },
        "id": "MrEE3kpqksVx",
        "outputId": "b4d2d773-3469-4208-8d3c-803fd3c63106"
      },
      "outputs": [
        {
          "name": "stdout",
          "output_type": "stream",
          "text": [
            "The bigger number is :\n",
            "num2\n"
          ]
        }
      ],
      "source": [
        "num1 = 10\n",
        "num2 = 100\n",
        "\n",
        "print(\"The bigger number is :\")\n",
        "print(\"num1\") if num1 > num2 else print(\"num2\")"
      ]
    },
    {
      "cell_type": "markdown",
      "metadata": {
        "id": "8lu15YlDn3LM"
      },
      "source": [
        "### **Nested If**\n",
        "\n",
        "You can have if statements inside if statements, this is called nested if statements."
      ]
    },
    {
      "cell_type": "code",
      "execution_count": null,
      "metadata": {
        "colab": {
          "base_uri": "https://localhost:8080/",
          "height": 52
        },
        "id": "y7HvCTuAlFi6",
        "outputId": "f58f6c93-59ce-4077-f16c-8689469867be"
      },
      "outputs": [
        {
          "name": "stdout",
          "output_type": "stream",
          "text": [
            "Above ten,\n",
            "and also above 20!\n"
          ]
        }
      ],
      "source": [
        "num = 30\n",
        "\n",
        "if num > 10:\n",
        "  print(\"Above ten,\")\n",
        "  if num > 20:\n",
        "    print(\"and also above 20!\")\n",
        "  else:\n",
        "    print(\"but not above 20.\")"
      ]
    },
    {
      "cell_type": "markdown",
      "metadata": {
        "id": "THimM7EQoDhW"
      },
      "source": [
        "## **Looping**\n",
        "\n",
        "Python has two primitive loop commands:\n",
        "- **while** loops\n",
        "- **for** loops"
      ]
    },
    {
      "cell_type": "markdown",
      "metadata": {
        "id": "Wx28cRRIoXP3"
      },
      "source": [
        "### **While Loop**\n",
        "\n",
        "With the while loop we can execute a set of statements as long as a condition is true."
      ]
    },
    {
      "cell_type": "code",
      "execution_count": null,
      "metadata": {
        "colab": {
          "base_uri": "https://localhost:8080/",
          "height": 105
        },
        "id": "MnQPAMcyndYS",
        "outputId": "957dce99-c529-42cb-8627-41f480103d2a"
      },
      "outputs": [
        {
          "name": "stdout",
          "output_type": "stream",
          "text": [
            "1\n",
            "2\n",
            "3\n",
            "4\n",
            "5\n"
          ]
        }
      ],
      "source": [
        "# Print one to five\n",
        "i = 1\n",
        "while i <= 5:\n",
        "    print(i)\n",
        "    i += 1          # increment by one"
      ]
    },
    {
      "cell_type": "code",
      "execution_count": null,
      "metadata": {
        "colab": {
          "base_uri": "https://localhost:8080/",
          "height": 34
        },
        "id": "UTWVypK9Dehz",
        "outputId": "c8bd31e6-aa90-45d4-f993-28c98d2dd055"
      },
      "outputs": [
        {
          "data": {
            "text/plain": [
              "'\\nTODO : Try to print a triangle like this :\\n*\\n**\\n***\\n****\\n*****\\n'"
            ]
          },
          "execution_count": 36,
          "metadata": {
            "tags": []
          },
          "output_type": "execute_result"
        }
      ],
      "source": [
        "\"\"\"\n",
        "TODO : Try to print a triangle like this :\n",
        "*\n",
        "**\n",
        "***\n",
        "****\n",
        "*****\n",
        "\"\"\"\n",
        "\n"
      ]
    },
    {
      "cell_type": "markdown",
      "metadata": {
        "id": "Svy08mGH-nkm"
      },
      "source": [
        "#### **Break Statement**\n",
        "\n",
        "With the **break** statement we can stop the loop even if the while condition is true."
      ]
    },
    {
      "cell_type": "code",
      "execution_count": null,
      "metadata": {
        "colab": {
          "base_uri": "https://localhost:8080/",
          "height": 87
        },
        "id": "Qb4YYmDEozN1",
        "outputId": "dfabde25-ebae-4a90-ce96-1f4d1fced29e"
      },
      "outputs": [
        {
          "name": "stdout",
          "output_type": "stream",
          "text": [
            "1\n",
            "2\n",
            "3\n",
            "4\n"
          ]
        }
      ],
      "source": [
        "i = 1\n",
        "while i <= 5:\n",
        "    print(i)\n",
        "    if i == 4:\n",
        "        break\n",
        "    i += 1"
      ]
    },
    {
      "cell_type": "code",
      "execution_count": null,
      "metadata": {
        "colab": {
          "base_uri": "https://localhost:8080/",
          "height": 70
        },
        "id": "MsunMgv6_A2k",
        "outputId": "d0a87e35-2cbd-4591-ae98-2abbc442cc0e"
      },
      "outputs": [
        {
          "name": "stdout",
          "output_type": "stream",
          "text": [
            "1\n",
            "2\n",
            "3\n"
          ]
        }
      ],
      "source": [
        "i = 1\n",
        "while i <= 5:\n",
        "    if i == 4:\n",
        "        break\n",
        "    print(i)\n",
        "    i += 1"
      ]
    },
    {
      "cell_type": "markdown",
      "metadata": {
        "id": "OhzNQxx7_s78"
      },
      "source": [
        "#### **Continue Statement**\n",
        "\n",
        "With the **continue** statement we can stop the current iteration, and continue with the next. Remember to put increment before continue statement."
      ]
    },
    {
      "cell_type": "code",
      "execution_count": null,
      "metadata": {
        "colab": {
          "base_uri": "https://localhost:8080/",
          "height": 87
        },
        "id": "FJWOzgg6_GCu",
        "outputId": "37384fa9-f7a7-4fb8-9900-d76c42359ba5"
      },
      "outputs": [
        {
          "name": "stdout",
          "output_type": "stream",
          "text": [
            "1\n",
            "2\n",
            "3\n",
            "5\n"
          ]
        }
      ],
      "source": [
        "i = 0\n",
        "while i < 5:\n",
        "    i += 1\n",
        "    if i == 4:\n",
        "        continue\n",
        "    print(i)"
      ]
    },
    {
      "cell_type": "markdown",
      "metadata": {
        "id": "ieGqGlasAj1l"
      },
      "source": [
        "### **For Loop**\n",
        "\n",
        "A **for** loop is used for iterating over a sequence (that is either a list, a tuple, a dictionary, a set, or a string).\n",
        "\n",
        "This is less like the for keyword in other programming languages, and works more like an iterator method as found in other object-orientated programming languages.\n",
        "\n",
        "With the for loop we can execute a set of statements, once for each item in a list, tuple, set etc."
      ]
    },
    {
      "cell_type": "code",
      "execution_count": null,
      "metadata": {
        "colab": {
          "base_uri": "https://localhost:8080/",
          "height": 70
        },
        "id": "nDiQ-ZjS_8mH",
        "outputId": "c66851f8-dbb2-4358-b325-9ee3ff1d9dcf"
      },
      "outputs": [
        {
          "name": "stdout",
          "output_type": "stream",
          "text": [
            "DSC\n",
            "Universitas\n",
            "Hasanuddin\n"
          ]
        }
      ],
      "source": [
        "for text in ['DSC', 'Universitas', 'Hasanuddin']:\n",
        "    print(text)"
      ]
    },
    {
      "cell_type": "markdown",
      "metadata": {
        "id": "kldMh05PBJSs"
      },
      "source": [
        "Even strings are iterable objects, they contain a sequence of characters."
      ]
    },
    {
      "cell_type": "code",
      "execution_count": null,
      "metadata": {
        "colab": {
          "base_uri": "https://localhost:8080/",
          "height": 175
        },
        "id": "cYmXO9kFA9AW",
        "outputId": "a87a7445-4393-48d7-ff00-3f3e6c50afa5"
      },
      "outputs": [
        {
          "name": "stdout",
          "output_type": "stream",
          "text": [
            "D\n",
            "S\n",
            "C\n",
            " \n",
            "U\n",
            "n\n",
            "h\n",
            "a\n",
            "s\n"
          ]
        }
      ],
      "source": [
        "for char in 'DSC Unhas':\n",
        "    print(char)"
      ]
    },
    {
      "cell_type": "markdown",
      "metadata": {
        "id": "-Na-zXosBWK8"
      },
      "source": [
        "#### **range()**\n",
        "\n",
        "To loop through a set of code a specified number of times, we can use the range() function,\n",
        "The range() function returns a sequence of numbers, starting from 0 by default, and increments by 1 (by default), and ends at a specified number."
      ]
    },
    {
      "cell_type": "code",
      "execution_count": null,
      "metadata": {
        "colab": {
          "base_uri": "https://localhost:8080/",
          "height": 34
        },
        "id": "exJZDMkwBSge",
        "outputId": "33e2c5ef-b137-479d-d3c3-094d0bf8483b"
      },
      "outputs": [
        {
          "data": {
            "text/plain": [
              "range(0, 10)"
            ]
          },
          "execution_count": 42,
          "metadata": {
            "tags": []
          },
          "output_type": "execute_result"
        }
      ],
      "source": [
        "range(10)"
      ]
    },
    {
      "cell_type": "code",
      "execution_count": null,
      "metadata": {
        "colab": {
          "base_uri": "https://localhost:8080/",
          "height": 193
        },
        "id": "CyqizwcABj07",
        "outputId": "a95a9fa9-aebe-4d33-eefb-76417582539f"
      },
      "outputs": [
        {
          "name": "stdout",
          "output_type": "stream",
          "text": [
            "0\n",
            "1\n",
            "2\n",
            "3\n",
            "4\n",
            "5\n",
            "6\n",
            "7\n",
            "8\n",
            "9\n"
          ]
        }
      ],
      "source": [
        "for i in range(10):\n",
        "    print(i)"
      ]
    },
    {
      "cell_type": "markdown",
      "metadata": {
        "id": "xtTUumh8B8rF"
      },
      "source": [
        "You can pass up to 3 parameter to range() :\n",
        "- *start* : **Optional**. An integer number specifying at which position to start. Default is 0.\n",
        "- *stop* : **Required**. An integer number specifying at which position to end.\n",
        "- *step* : **Optional**. An integer number specifying the incrementation. Default is 1.\n",
        "\n",
        " range(5) => 0, 1, 2, 3, 4\n",
        "\n",
        " range(2, 5) => 2, 3, 4\n",
        "\n",
        " range(1, 8, 2) => 1, 3, 5, 7"
      ]
    },
    {
      "cell_type": "code",
      "execution_count": null,
      "metadata": {
        "id": "nOjf-z8lBsYj"
      },
      "outputs": [],
      "source": [
        "# TODO : Try to print 3, 7, 11, 15, 19, 23\n",
        "\n"
      ]
    },
    {
      "cell_type": "markdown",
      "metadata": {
        "id": "MiNj8onZDyGS"
      },
      "source": [
        "#### **Nested Loop**\n",
        "\n",
        "A nested loop is a loop inside a loop.\n",
        "\n",
        "The \"inner loop\" will be executed one time for each iteration of the \"outer loop\""
      ]
    },
    {
      "cell_type": "code",
      "execution_count": null,
      "metadata": {
        "colab": {
          "base_uri": "https://localhost:8080/",
          "height": 122
        },
        "id": "cexe5r4_C6Bs",
        "outputId": "2c791ee4-a74c-4cd6-b652-eaf894600152"
      },
      "outputs": [
        {
          "name": "stdout",
          "output_type": "stream",
          "text": [
            "big apple\n",
            "big banana\n",
            "big cherry\n",
            "tasty apple\n",
            "tasty banana\n",
            "tasty cherry\n"
          ]
        }
      ],
      "source": [
        "adjectives = [\"big\", \"tasty\"]\n",
        "fruits = [\"apple\", \"banana\", \"cherry\"]\n",
        "\n",
        "for adjective in adjectives:\n",
        "  for fruit in fruits:\n",
        "    print(adjective, fruit)"
      ]
    },
    {
      "cell_type": "markdown",
      "metadata": {
        "id": "t-8O5e81GaWX"
      },
      "source": [
        "## **Function**\n",
        "\n",
        "A function is a block of code which only runs when it is called. You can pass data, known as parameters, into a function. A function can return data as a result.\n",
        "\n",
        "In Python, a function is defined using **def** keyword. And to call a function, use the function name followed by parenthesis."
      ]
    },
    {
      "cell_type": "code",
      "execution_count": null,
      "metadata": {
        "colab": {
          "base_uri": "https://localhost:8080/",
          "height": 34
        },
        "id": "KFMsKRfnEFxW",
        "outputId": "f4a4c36f-e1a9-415f-c9c4-e03e32622597"
      },
      "outputs": [
        {
          "name": "stdout",
          "output_type": "stream",
          "text": [
            "Hello\n"
          ]
        }
      ],
      "source": [
        "def print_hello():\n",
        "    print(\"Hello\")\n",
        "\n",
        "print_hello()"
      ]
    },
    {
      "cell_type": "markdown",
      "metadata": {
        "id": "uiEX367HHHZe"
      },
      "source": [
        "#### **Arguments**\n",
        "Information can be passed into functions as arguments.\n",
        "\n",
        "Arguments are specified after the function name, inside the parentheses. You can add as many arguments as you want, just separate them with a comma."
      ]
    },
    {
      "cell_type": "code",
      "execution_count": null,
      "metadata": {
        "colab": {
          "base_uri": "https://localhost:8080/",
          "height": 34
        },
        "id": "pcNt1n1tHEwT",
        "outputId": "c0148b37-fbb5-4329-a81f-9e45d695fbfb"
      },
      "outputs": [
        {
          "name": "stdout",
          "output_type": "stream",
          "text": [
            "Hi, DSC Unhas\n"
          ]
        }
      ],
      "source": [
        "def print_hi(name):\n",
        "    print(\"Hi, \" + name)\n",
        "\n",
        "print_hi(\"DSC Unhas\")"
      ]
    },
    {
      "cell_type": "markdown",
      "metadata": {
        "id": "YOPhEeMuHtEm"
      },
      "source": [
        "By default, a function must be called with the correct number of arguments. Meaning that if your function expects 2 arguments, you have to call the function with 2 arguments, not more, and not less."
      ]
    },
    {
      "cell_type": "code",
      "execution_count": null,
      "metadata": {
        "colab": {
          "base_uri": "https://localhost:8080/",
          "height": 34
        },
        "id": "xhtjk5YPHe0W",
        "outputId": "1f41f5fa-da03-437e-d8ee-d597d02979d4"
      },
      "outputs": [
        {
          "name": "stdout",
          "output_type": "stream",
          "text": [
            "Hi, Kevin Chandra\n"
          ]
        }
      ],
      "source": [
        "def print_hi(first_name, last_name):\n",
        "    print(\"Hi, \" + first_name + ' ' + last_name)\n",
        "\n",
        "print_hi('Kevin', 'Chandra')"
      ]
    },
    {
      "cell_type": "markdown",
      "metadata": {
        "id": "RgldoIZ6I9KN"
      },
      "source": [
        "You can also send arguments with the key = value syntax.\n",
        "\n",
        "This way the order of the arguments does not matter."
      ]
    },
    {
      "cell_type": "code",
      "execution_count": null,
      "metadata": {
        "colab": {
          "base_uri": "https://localhost:8080/",
          "height": 34
        },
        "id": "FwUGIjAtI65X",
        "outputId": "5a76b38c-3487-40a2-90a6-8f4b225df06d"
      },
      "outputs": [
        {
          "name": "stdout",
          "output_type": "stream",
          "text": [
            "Hi, Kevin Chandra\n"
          ]
        }
      ],
      "source": [
        "def print_hi(first_name, last_name):\n",
        "    print(\"Hi, \" + first_name + ' ' + last_name)\n",
        "\n",
        "print_hi(last_name='Chandra', first_name='Kevin')"
      ]
    },
    {
      "cell_type": "markdown",
      "metadata": {
        "id": "2xV9TkC-IK4k"
      },
      "source": [
        "**Arbitrary Arguments** (*args)\n",
        "\n",
        "If you do not know how many arguments that will be passed into your function, add a **\\*** before the parameter name in the function definition.\n",
        "\n",
        "This way the function will receive a tuple of arguments, and can access the items accordingly"
      ]
    },
    {
      "cell_type": "code",
      "execution_count": null,
      "metadata": {
        "colab": {
          "base_uri": "https://localhost:8080/",
          "height": 34
        },
        "id": "JtXUs-_fIBMN",
        "outputId": "bb026ba5-40f3-484f-dc22-215435a93c22"
      },
      "outputs": [
        {
          "name": "stdout",
          "output_type": "stream",
          "text": [
            "The oldest child is Bill\n"
          ]
        }
      ],
      "source": [
        "def kids_list(*kids):\n",
        "    print(\"The oldest child is \" + kids[0])\n",
        "\n",
        "kids_list('Bill', 'Jeff', 'Mark')"
      ]
    },
    {
      "cell_type": "markdown",
      "metadata": {
        "id": "9xbNHSX0JUqw"
      },
      "source": [
        "**Arbitrary Keyword Arguments** (**kwargs)\n",
        "\n",
        "If you do not know how many keyword arguments that will be passed into your function, add two asterisk: ** before the parameter name in the function definition."
      ]
    },
    {
      "cell_type": "code",
      "execution_count": null,
      "metadata": {
        "colab": {
          "base_uri": "https://localhost:8080/",
          "height": 34
        },
        "id": "f11eSW3HI2Fe",
        "outputId": "75a2323b-d38c-4bf7-f221-8a6df783a973"
      },
      "outputs": [
        {
          "name": "stdout",
          "output_type": "stream",
          "text": [
            "The oldest child is Bill\n"
          ]
        }
      ],
      "source": [
        "def kids_list(**kids):\n",
        "  print(\"The oldest child is \" + kids[\"first\"])\n",
        "\n",
        "kids_list(first = \"Bill\", second = \"Jeff\", last = \"Mark\")"
      ]
    },
    {
      "cell_type": "markdown",
      "metadata": {
        "id": "q6FB6h7NJ6fP"
      },
      "source": [
        "#### **Default Parameter Value**\n",
        "\n",
        "Default Parameter value is the value that you assigned to a parameter so that if you call the function without argument, it uses the default value."
      ]
    },
    {
      "cell_type": "code",
      "execution_count": null,
      "metadata": {
        "colab": {
          "base_uri": "https://localhost:8080/",
          "height": 52
        },
        "id": "QSjYD1FSJ0PA",
        "outputId": "9eec6e08-cc4b-478b-f6ce-035da37360a6"
      },
      "outputs": [
        {
          "name": "stdout",
          "output_type": "stream",
          "text": [
            "My lucky number is 100\n",
            "My lucky number is 10\n"
          ]
        }
      ],
      "source": [
        "def print_lucky_num(num = 10):\n",
        "    print(\"My lucky number is \" + str(num))\n",
        "\n",
        "print_lucky_num(100)\n",
        "print_lucky_num()"
      ]
    },
    {
      "cell_type": "markdown",
      "metadata": {
        "id": "YnP0HHaHKieL"
      },
      "source": [
        "#### **Return Values**\n",
        "\n",
        "To let a function return a value, use the **return** statement."
      ]
    },
    {
      "cell_type": "code",
      "execution_count": null,
      "metadata": {
        "colab": {
          "base_uri": "https://localhost:8080/",
          "height": 34
        },
        "id": "GjQXeAT_Kftp",
        "outputId": "5c1ce926-e42d-4afa-cda9-fd4a55d8260b"
      },
      "outputs": [
        {
          "name": "stdout",
          "output_type": "stream",
          "text": [
            "120\n"
          ]
        }
      ],
      "source": [
        "def multiply_by_10(num):\n",
        "    return num * 10\n",
        "\n",
        "print(multiply_by_10(12))"
      ]
    },
    {
      "cell_type": "markdown",
      "metadata": {
        "id": "ToyQjxt0K4en"
      },
      "source": [
        "#### **Recursion**\n",
        "\n",
        "Recursion is a common mathematical and programming concept. It means that a function calls itself. This has the benefit of meaning that you can loop through data to reach a result.\n",
        "\n",
        "The developer should be very careful with recursion as it can be quite easy to slip into writing a function which never terminates, or one that uses excess amounts of memory or processor power. However, when written correctly recursion can be a very efficient and mathematically-elegant approach to programming."
      ]
    },
    {
      "cell_type": "code",
      "execution_count": null,
      "metadata": {
        "colab": {
          "base_uri": "https://localhost:8080/",
          "height": 70
        },
        "id": "6XaIGhPJK0cb",
        "outputId": "36df4be5-19ee-45f5-c5c4-d5dfdf63a492"
      },
      "outputs": [
        {
          "name": "stdout",
          "output_type": "stream",
          "text": [
            "Negative value don't have factorial\n",
            "1\n",
            "120\n"
          ]
        }
      ],
      "source": [
        "def factorial(num):\n",
        "    if num < 0:\n",
        "        return \"Negative value don't have factorial\"\n",
        "    elif num == 0 or num == 1:\n",
        "        return 1\n",
        "    else:\n",
        "        return num * factorial(num-1)\n",
        "\n",
        "print(factorial(-5))\n",
        "print(factorial(0))\n",
        "print(factorial(5))"
      ]
    },
    {
      "cell_type": "markdown",
      "metadata": {
        "id": "ABnztZ6_Cnwv"
      },
      "source": [
        "## **Data Structures in Python**\n",
        "\n",
        "There are four collection data types in the Python programming language:\n",
        "\n",
        "- **List** is a collection which is ordered and changeable. Allows duplicate members.\n",
        "- **Tuple** is a collection which is ordered and unchangeable. Allows duplicate members.\n",
        "- **Set** is a collection which is unordered and unindexed. No duplicate members.\n",
        "- **Dictionary** is a collection which is unordered, changeable and indexed. No duplicate members.\n",
        "\n",
        "When choosing a collection type, it is useful to understand the properties of that type. Choosing the right type for a particular data set could mean retention of meaning, and, it could mean an increase in efficiency or security.\n"
      ]
    },
    {
      "cell_type": "markdown",
      "metadata": {
        "id": "WhQ6RpRBDVi6"
      },
      "source": [
        "### **List**\n",
        "\n",
        "A list is a collection which is ordered and changeable. In Python lists are written with square brackets."
      ]
    },
    {
      "cell_type": "code",
      "execution_count": null,
      "metadata": {
        "id": "SDN-hN1OLp5W"
      },
      "outputs": [],
      "source": [
        "list_ = ['Bill', 'Jeff', 'Mark']\n",
        "print(list_)"
      ]
    },
    {
      "cell_type": "markdown",
      "metadata": {
        "id": "gJFa1ayEG8LE"
      },
      "source": [
        "You access the list items by referring to the index number (index number start from 0). \n",
        "\n",
        "Negative indexing means beginning from the end, -1 refers to the last item, -2 refers to the second last item etc."
      ]
    },
    {
      "cell_type": "code",
      "execution_count": null,
      "metadata": {
        "colab": {
          "base_uri": "https://localhost:8080/",
          "height": 52
        },
        "id": "Ndtz9YORG3i8",
        "outputId": "efbccd20-c1ac-46e5-84aa-0cce900f5da3"
      },
      "outputs": [
        {
          "name": "stdout",
          "output_type": "stream",
          "text": [
            "Bill\n",
            "Jeff\n"
          ]
        }
      ],
      "source": [
        "list_ = ['Bill', 'Jeff', 'Mark']\n",
        "\n",
        "print(list_[0])     # Bill\n",
        "print(list_[-2])    # Jeff"
      ]
    },
    {
      "cell_type": "markdown",
      "metadata": {
        "id": "3uPXn-UjIWF7"
      },
      "source": [
        "Lists are **mutable** object which means you can modify a list object after it has been created. To change the value of a specific item, refer to the index number."
      ]
    },
    {
      "cell_type": "code",
      "execution_count": null,
      "metadata": {
        "colab": {
          "base_uri": "https://localhost:8080/",
          "height": 34
        },
        "id": "eVpsgfJ6Hasq",
        "outputId": "93d16494-f9f1-472d-884d-3bda3208ea7f"
      },
      "outputs": [
        {
          "name": "stdout",
          "output_type": "stream",
          "text": [
            "['Bill', 'Jeff', 'Elon']\n"
          ]
        }
      ],
      "source": [
        "list_ = ['Bill', 'Jeff', 'Mark']\n",
        "\n",
        "list_[2] = 'Elon'\n",
        "\n",
        "print(list_)"
      ]
    },
    {
      "cell_type": "markdown",
      "metadata": {
        "id": "hxt69aFrfha9"
      },
      "source": [
        "To determine how many items a list has, use the **len()** function"
      ]
    },
    {
      "cell_type": "code",
      "execution_count": null,
      "metadata": {
        "colab": {
          "base_uri": "https://localhost:8080/",
          "height": 34
        },
        "id": "_9xhsfDNfTln",
        "outputId": "bba94f10-ce54-4574-a523-02083ca73f77"
      },
      "outputs": [
        {
          "name": "stdout",
          "output_type": "stream",
          "text": [
            "3\n"
          ]
        }
      ],
      "source": [
        "list_ = ['Bill', 'Jeff', 'Mark']\n",
        "print(len(list_))"
      ]
    },
    {
      "cell_type": "markdown",
      "metadata": {
        "id": "2m2TKARSvToW"
      },
      "source": [
        "**Add Items**\n",
        "\n",
        "To add an item to the end of the list, use the **append()** method. And to add an item at the specified index, use the **insert()** method."
      ]
    },
    {
      "cell_type": "code",
      "execution_count": null,
      "metadata": {
        "colab": {
          "base_uri": "https://localhost:8080/",
          "height": 34
        },
        "id": "QQbVZPERvI1h",
        "outputId": "51ebd937-d5b2-4400-bcf2-d01cd431c683"
      },
      "outputs": [
        {
          "name": "stdout",
          "output_type": "stream",
          "text": [
            "['Bill', 'Jeff', 'Mark', 'Elon']\n"
          ]
        }
      ],
      "source": [
        "list_ = ['Bill', 'Jeff', 'Mark']\n",
        "\n",
        "list_.append('Elon')\n",
        "print(list_)"
      ]
    },
    {
      "cell_type": "code",
      "execution_count": null,
      "metadata": {
        "colab": {
          "base_uri": "https://localhost:8080/",
          "height": 34
        },
        "id": "Vk5FDC__vlia",
        "outputId": "7624631a-eb7f-4963-f61a-1be1657aaa37"
      },
      "outputs": [
        {
          "name": "stdout",
          "output_type": "stream",
          "text": [
            "['Bill', 'Elon', 'Jeff', 'Mark']\n"
          ]
        }
      ],
      "source": [
        "list_ = ['Bill', 'Jeff', 'Mark']\n",
        "\n",
        "list_.insert(1, 'Elon')\n",
        "print(list_)"
      ]
    },
    {
      "cell_type": "markdown",
      "metadata": {
        "id": "6dWPg5x5_H8n"
      },
      "source": [
        "**Remove Item**\n",
        "\n",
        "There are several methods to remove items from a list.\n",
        "- remove() : remove specified item\n",
        "- pop() : remove the specified index (default : last item)\n",
        "- del : remove specified index\n",
        "- clear() : empty the list"
      ]
    },
    {
      "cell_type": "code",
      "execution_count": null,
      "metadata": {
        "id": "HP2qmO4jv5sg"
      },
      "outputs": [],
      "source": [
        "list_ = ['Bill', 'Jeff', 'Mark']\n",
        "\n",
        "list_.remove('Bill')\n",
        "print(list_)"
      ]
    },
    {
      "cell_type": "code",
      "execution_count": null,
      "metadata": {
        "colab": {
          "base_uri": "https://localhost:8080/",
          "height": 34
        },
        "id": "RF7b2ZJz_j4-",
        "outputId": "7ca3ad72-e6ce-4b6e-a36f-5a9e3942e924"
      },
      "outputs": [
        {
          "name": "stdout",
          "output_type": "stream",
          "text": [
            "['Bill', 'Mark']\n"
          ]
        }
      ],
      "source": [
        "list_ = ['Bill', 'Jeff', 'Mark']\n",
        "\n",
        "list_.pop(1)\n",
        "print(list_)"
      ]
    },
    {
      "cell_type": "code",
      "execution_count": null,
      "metadata": {
        "id": "1TFDyMyc_nzh"
      },
      "outputs": [],
      "source": [
        "list_ = ['Bill', 'Jeff', 'Mark']\n",
        "\n",
        "list_.pop()\n",
        "print(list_)"
      ]
    },
    {
      "cell_type": "code",
      "execution_count": null,
      "metadata": {
        "colab": {
          "base_uri": "https://localhost:8080/",
          "height": 34
        },
        "id": "hFsL4btV_qou",
        "outputId": "cb5dda6d-395b-4dd5-8b45-9d564eb71c36"
      },
      "outputs": [
        {
          "name": "stdout",
          "output_type": "stream",
          "text": [
            "['Jeff', 'Mark']\n"
          ]
        }
      ],
      "source": [
        "list_ = ['Bill', 'Jeff', 'Mark']\n",
        "\n",
        "del list_[0]\n",
        "print(list_)"
      ]
    },
    {
      "cell_type": "code",
      "execution_count": null,
      "metadata": {
        "colab": {
          "base_uri": "https://localhost:8080/",
          "height": 34
        },
        "id": "aSdLaPmR_-kp",
        "outputId": "1250397d-1b4a-4b3d-dc5c-556fb543de67"
      },
      "outputs": [
        {
          "name": "stdout",
          "output_type": "stream",
          "text": [
            "[]\n"
          ]
        }
      ],
      "source": [
        "list_ = ['Bill', 'Jeff', 'Mark']\n",
        "\n",
        "list_.clear()\n",
        "print(list_)"
      ]
    },
    {
      "cell_type": "markdown",
      "metadata": {
        "id": "vw5_w5kWDt8f"
      },
      "source": [
        "### **Tuple**\n",
        "\n",
        "A tuple is a sequence of **immutable** Python objects. Tuples are sequences, just like lists. The differences between tuples and lists are, the tuples cannot be changed unlike lists and tuples use parentheses, whereas lists use square brackets."
      ]
    },
    {
      "cell_type": "code",
      "execution_count": null,
      "metadata": {
        "colab": {
          "base_uri": "https://localhost:8080/",
          "height": 34
        },
        "id": "jaGgB41HABKl",
        "outputId": "206e612d-8142-4812-f675-b0ce3ffbe8fa"
      },
      "outputs": [
        {
          "name": "stdout",
          "output_type": "stream",
          "text": [
            "('Bill', 'Jeff', 'Mark')\n"
          ]
        }
      ],
      "source": [
        "tuple_ = ('Bill', 'Jeff', 'Mark')\n",
        "print(tuple_)"
      ]
    },
    {
      "cell_type": "markdown",
      "metadata": {
        "id": "7zbcWa3IFMpO"
      },
      "source": [
        "You access the tuple items by referring to the index number (index number start from 0)."
      ]
    },
    {
      "cell_type": "code",
      "execution_count": null,
      "metadata": {
        "colab": {
          "base_uri": "https://localhost:8080/",
          "height": 34
        },
        "id": "57Aetvr1FBS4",
        "outputId": "4040136e-ffe9-4a17-fb7a-730ad1af9168"
      },
      "outputs": [
        {
          "name": "stdout",
          "output_type": "stream",
          "text": [
            "Mark\n"
          ]
        }
      ],
      "source": [
        "print(tuple_[2])"
      ]
    },
    {
      "cell_type": "code",
      "execution_count": null,
      "metadata": {
        "id": "1DAeajFmFW6C"
      },
      "outputs": [],
      "source": [
        "print(tuple_[:-1])"
      ]
    },
    {
      "cell_type": "markdown",
      "metadata": {
        "id": "el9Rg_G0Frya"
      },
      "source": [
        "Tuples are **immutable** which means you cannot update or change the values of tuple elements."
      ]
    },
    {
      "cell_type": "code",
      "execution_count": null,
      "metadata": {
        "id": "REupA17jFbFR"
      },
      "outputs": [],
      "source": [
        "# Following action is not valid for tuples\n",
        "# tuple_[0] = 'Elon'"
      ]
    },
    {
      "cell_type": "markdown",
      "metadata": {
        "id": "v-aCpuEhF8qM"
      },
      "source": [
        "Removing individual tuple elements is not possible.\n",
        "\n",
        "To explicitly remove an entire tuple, just use the del statement."
      ]
    },
    {
      "cell_type": "code",
      "execution_count": null,
      "metadata": {
        "colab": {
          "base_uri": "https://localhost:8080/",
          "height": 220
        },
        "id": "AHhZcO3FF2Lz",
        "outputId": "bffc68f2-e646-478e-b501-7595ff03079a"
      },
      "outputs": [
        {
          "name": "stdout",
          "output_type": "stream",
          "text": [
            "('Bill', 'Jeff', 'Mark')\n"
          ]
        },
        {
          "ename": "NameError",
          "evalue": "ignored",
          "output_type": "error",
          "traceback": [
            "\u001b[0;31m---------------------------------------------------------------------------\u001b[0m",
            "\u001b[0;31mNameError\u001b[0m                                 Traceback (most recent call last)",
            "\u001b[0;32m<ipython-input-66-63aa1acda097>\u001b[0m in \u001b[0;36m<module>\u001b[0;34m()\u001b[0m\n\u001b[1;32m      3\u001b[0m \u001b[0;34m\u001b[0m\u001b[0m\n\u001b[1;32m      4\u001b[0m \u001b[0;32mdel\u001b[0m \u001b[0mtuple_\u001b[0m\u001b[0;34m\u001b[0m\u001b[0;34m\u001b[0m\u001b[0m\n\u001b[0;32m----> 5\u001b[0;31m \u001b[0mprint\u001b[0m\u001b[0;34m(\u001b[0m\u001b[0mtuple_\u001b[0m\u001b[0;34m)\u001b[0m       \u001b[0;31m# This will cause an error because tuple_ is no longer exist\u001b[0m\u001b[0;34m\u001b[0m\u001b[0;34m\u001b[0m\u001b[0m\n\u001b[0m",
            "\u001b[0;31mNameError\u001b[0m: name 'tuple_' is not defined"
          ]
        }
      ],
      "source": [
        "tuple_ = ('Bill', 'Jeff', 'Mark')\n",
        "print(tuple_)\n",
        "\n",
        "del tuple_\n",
        "print(tuple_)       # This will cause an error because tuple_ is no longer exist"
      ]
    },
    {
      "cell_type": "markdown",
      "metadata": {
        "id": "_QrpywTNGps7"
      },
      "source": [
        "### **Dictionary**\n",
        "\n",
        "A dictionary is a collection which is unordered, changeable and indexed. In Python dictionaries are written with curly brackets, and they have keys and values. Each key is separated from its value by a colon (:), the items are separated by commas."
      ]
    },
    {
      "cell_type": "code",
      "execution_count": null,
      "metadata": {
        "colab": {
          "base_uri": "https://localhost:8080/",
          "height": 34
        },
        "id": "e_yy6H6bGLon",
        "outputId": "09347d23-096a-465c-86f1-05dbfd496474"
      },
      "outputs": [
        {
          "name": "stdout",
          "output_type": "stream",
          "text": [
            "{'Name': 'Bill', 'Age': 20, 'Address': 'Poros Malino'}\n"
          ]
        }
      ],
      "source": [
        "dict_ = {'Name' : 'Bill', 'Age' : 20, 'Address' : 'Poros Malino'}\n",
        "print(dict_)"
      ]
    },
    {
      "cell_type": "markdown",
      "metadata": {
        "id": "BMY5Zx4CJ5D-"
      },
      "source": [
        "To access dictionary elements, you can use the square brackets along with the key to obtain its value."
      ]
    },
    {
      "cell_type": "code",
      "execution_count": null,
      "metadata": {
        "colab": {
          "base_uri": "https://localhost:8080/",
          "height": 34
        },
        "id": "Ay3bt7IPJxry",
        "outputId": "9c3b0ed4-ea94-4a6b-bfcb-e8117d05647c"
      },
      "outputs": [
        {
          "name": "stdout",
          "output_type": "stream",
          "text": [
            "Poros Malino\n"
          ]
        }
      ],
      "source": [
        "print(dict_['Address'])"
      ]
    },
    {
      "cell_type": "markdown",
      "metadata": {
        "id": "1Sd9QhFWVDbi"
      },
      "source": [
        "You can change the value of a specific item by referring to its key name."
      ]
    },
    {
      "cell_type": "code",
      "execution_count": null,
      "metadata": {
        "id": "vL9R0Zp5KPap"
      },
      "outputs": [],
      "source": [
        "dict_['Name'] = 'Jeff'\n",
        "print(dict_)"
      ]
    },
    {
      "cell_type": "markdown",
      "metadata": {
        "id": "z5Wsi23tXhZB"
      },
      "source": [
        "**Loop Through a Dictionary**\n",
        "\n",
        "You can loop through a dictionary by using a for loop.\n",
        "\n",
        "When looping through a dictionary, the return value are the keys of the dictionary, but there are methods to return the values as well."
      ]
    },
    {
      "cell_type": "code",
      "execution_count": null,
      "metadata": {
        "colab": {
          "base_uri": "https://localhost:8080/",
          "height": 70
        },
        "id": "Iwfv4mOJVKx6",
        "outputId": "6d7521cd-81ca-4eed-f245-2652ca9dcf00"
      },
      "outputs": [
        {
          "name": "stdout",
          "output_type": "stream",
          "text": [
            "Name\n",
            "Age\n",
            "Address\n"
          ]
        }
      ],
      "source": [
        "for key in dict_:\n",
        "    print(key)"
      ]
    },
    {
      "cell_type": "code",
      "execution_count": null,
      "metadata": {
        "colab": {
          "base_uri": "https://localhost:8080/",
          "height": 70
        },
        "id": "6EpCYdhtX3QW",
        "outputId": "19c24a87-d192-4fac-b328-431600d6d892"
      },
      "outputs": [
        {
          "name": "stdout",
          "output_type": "stream",
          "text": [
            "Bill\n",
            "20\n",
            "Poros Malino\n"
          ]
        }
      ],
      "source": [
        "# To print value from dictionary :\n",
        "for key in dict_:\n",
        "    print(dict_[key])"
      ]
    },
    {
      "cell_type": "code",
      "execution_count": null,
      "metadata": {
        "colab": {
          "base_uri": "https://localhost:8080/",
          "height": 70
        },
        "id": "kZGgopwTYA5n",
        "outputId": "3f4588d7-e497-4284-9c25-9b0852940120"
      },
      "outputs": [
        {
          "name": "stdout",
          "output_type": "stream",
          "text": [
            "Bill\n",
            "20\n",
            "Poros Malino\n"
          ]
        }
      ],
      "source": [
        "# Or use values() function\n",
        "for value in dict_.values():\n",
        "    print(value)"
      ]
    },
    {
      "cell_type": "code",
      "execution_count": null,
      "metadata": {
        "colab": {
          "base_uri": "https://localhost:8080/",
          "height": 70
        },
        "id": "VA3n9mOdYNrP",
        "outputId": "0aeeaf98-3527-494c-85bb-accb56b6f763"
      },
      "outputs": [
        {
          "name": "stdout",
          "output_type": "stream",
          "text": [
            "Name Bill\n",
            "Age 20\n",
            "Address Poros Malino\n"
          ]
        }
      ],
      "source": [
        "# Loop through both keys and values using items()\n",
        "for key, value in dict_.items():\n",
        "    print(key, value)"
      ]
    },
    {
      "cell_type": "markdown",
      "metadata": {
        "id": "024AqBrGYkkj"
      },
      "source": [
        "**Adding Items**\n",
        "\n",
        "Adding an item to the dictionary is done by using a new index key and assigning a value to it"
      ]
    },
    {
      "cell_type": "code",
      "execution_count": null,
      "metadata": {
        "id": "W6vqr6PBYb9J"
      },
      "outputs": [],
      "source": [
        "print(dict_)\n",
        "\n",
        "dict_['year_of_birth'] = 2000\n",
        "print(dict_)"
      ]
    },
    {
      "cell_type": "markdown",
      "metadata": {
        "id": "OT3UedxEbThy"
      },
      "source": [
        "**Removing Items**\n",
        "\n",
        "There are several methods to remove items from a dictionary.\n",
        "\n",
        "The **pop()** method removes the item with the specified key name"
      ]
    },
    {
      "cell_type": "code",
      "execution_count": null,
      "metadata": {
        "id": "ktNEWMGZY4-7"
      },
      "outputs": [],
      "source": [
        "dict_={\n",
        "    'Name' : 'Bill', \n",
        "    'Age' : 20, \n",
        "    'Address' : 'Poros Malino',\n",
        "    'year_of_birth' : 2000\n",
        "}\n",
        "\n",
        "dict_.pop('Age')\n",
        "print(dict_)"
      ]
    },
    {
      "cell_type": "markdown",
      "metadata": {
        "id": "R8sF0LfJb5SJ"
      },
      "source": [
        "The **popitem()** method removes the last inserted item."
      ]
    },
    {
      "cell_type": "code",
      "execution_count": null,
      "metadata": {
        "id": "r48l7i7ebzdo"
      },
      "outputs": [],
      "source": [
        "dict_={\n",
        "    'Name' : 'Bill', \n",
        "    'Age' : 20, \n",
        "    'Address' : 'Poros Malino',\n",
        "    'year_of_birth' : 2000\n",
        "}\n",
        "\n",
        "dict_.popitem()\n",
        "print(dict_)"
      ]
    },
    {
      "cell_type": "markdown",
      "metadata": {
        "id": "wQT8XeLAcZcs"
      },
      "source": [
        "The **del** keyword removes the item with the specified key name. The **del** keyword can also delete the dictionary completely."
      ]
    },
    {
      "cell_type": "code",
      "execution_count": null,
      "metadata": {
        "id": "Nb1vQm2LcKnb"
      },
      "outputs": [],
      "source": [
        "dict_={\n",
        "    'Name' : 'Bill', \n",
        "    'Age' : 20, \n",
        "    'Address' : 'Poros Malino',\n",
        "    'year_of_birth' : 2000\n",
        "}\n",
        "\n",
        "del dict_['Address']\n",
        "print(dict_)"
      ]
    },
    {
      "cell_type": "markdown",
      "metadata": {
        "id": "qSxhtqp7cqDP"
      },
      "source": [
        "The **clear()** keyword empties the dictionary."
      ]
    },
    {
      "cell_type": "code",
      "execution_count": null,
      "metadata": {
        "id": "lWzBprafcg4s"
      },
      "outputs": [],
      "source": [
        "dict_={\n",
        "    'Name' : 'Bill', \n",
        "    'Age' : 20, \n",
        "    'Address' : 'Poros Malino',\n",
        "    'year_of_birth' : 2000\n",
        "}\n",
        "\n",
        "dict_.clear()\n",
        "print(dict_)"
      ]
    },
    {
      "cell_type": "markdown",
      "metadata": {
        "id": "jCyP-zsYjwsh"
      },
      "source": [
        "# **Let's play a game**\n",
        "\n",
        "## **Hangman**\n",
        "\n",
        "This is a Python script of the classic game \"Hangman\". The word to guess is represented by a row of dashes. If the player guess a letter which exists in the word, the script writes it in all its correct positions. The player has 10 turns to guess the word. You can easily customize the game by changing the variables."
      ]
    },
    {
      "cell_type": "code",
      "execution_count": null,
      "metadata": {
        "colab": {
          "base_uri": "https://localhost:8080/",
          "height": 561
        },
        "id": "Vz1XeOIfcvrO",
        "outputId": "70ff203f-3d59-4d29-c64f-befedd81fd8a"
      },
      "outputs": [
        {
          "name": "stdout",
          "output_type": "stream",
          "text": [
            "_ _ _ _ _ _ _ _ _ _ \n"
          ]
        },
        {
          "ename": "KeyboardInterrupt",
          "evalue": "ignored",
          "output_type": "error",
          "traceback": [
            "\u001b[0;31m---------------------------------------------------------------------------\u001b[0m",
            "\u001b[0;31mKeyboardInterrupt\u001b[0m                         Traceback (most recent call last)",
            "\u001b[0;32m/usr/local/lib/python3.6/dist-packages/ipykernel/kernelbase.py\u001b[0m in \u001b[0;36m_input_request\u001b[0;34m(self, prompt, ident, parent, password)\u001b[0m\n\u001b[1;32m    728\u001b[0m             \u001b[0;32mtry\u001b[0m\u001b[0;34m:\u001b[0m\u001b[0;34m\u001b[0m\u001b[0;34m\u001b[0m\u001b[0m\n\u001b[0;32m--> 729\u001b[0;31m                 \u001b[0mident\u001b[0m\u001b[0;34m,\u001b[0m \u001b[0mreply\u001b[0m \u001b[0;34m=\u001b[0m \u001b[0mself\u001b[0m\u001b[0;34m.\u001b[0m\u001b[0msession\u001b[0m\u001b[0;34m.\u001b[0m\u001b[0mrecv\u001b[0m\u001b[0;34m(\u001b[0m\u001b[0mself\u001b[0m\u001b[0;34m.\u001b[0m\u001b[0mstdin_socket\u001b[0m\u001b[0;34m,\u001b[0m \u001b[0;36m0\u001b[0m\u001b[0;34m)\u001b[0m\u001b[0;34m\u001b[0m\u001b[0;34m\u001b[0m\u001b[0m\n\u001b[0m\u001b[1;32m    730\u001b[0m             \u001b[0;32mexcept\u001b[0m \u001b[0mException\u001b[0m\u001b[0;34m:\u001b[0m\u001b[0;34m\u001b[0m\u001b[0;34m\u001b[0m\u001b[0m\n",
            "\u001b[0;32m/usr/local/lib/python3.6/dist-packages/jupyter_client/session.py\u001b[0m in \u001b[0;36mrecv\u001b[0;34m(self, socket, mode, content, copy)\u001b[0m\n\u001b[1;32m    802\u001b[0m         \u001b[0;32mtry\u001b[0m\u001b[0;34m:\u001b[0m\u001b[0;34m\u001b[0m\u001b[0;34m\u001b[0m\u001b[0m\n\u001b[0;32m--> 803\u001b[0;31m             \u001b[0mmsg_list\u001b[0m \u001b[0;34m=\u001b[0m \u001b[0msocket\u001b[0m\u001b[0;34m.\u001b[0m\u001b[0mrecv_multipart\u001b[0m\u001b[0;34m(\u001b[0m\u001b[0mmode\u001b[0m\u001b[0;34m,\u001b[0m \u001b[0mcopy\u001b[0m\u001b[0;34m=\u001b[0m\u001b[0mcopy\u001b[0m\u001b[0;34m)\u001b[0m\u001b[0;34m\u001b[0m\u001b[0;34m\u001b[0m\u001b[0m\n\u001b[0m\u001b[1;32m    804\u001b[0m         \u001b[0;32mexcept\u001b[0m \u001b[0mzmq\u001b[0m\u001b[0;34m.\u001b[0m\u001b[0mZMQError\u001b[0m \u001b[0;32mas\u001b[0m \u001b[0me\u001b[0m\u001b[0;34m:\u001b[0m\u001b[0;34m\u001b[0m\u001b[0;34m\u001b[0m\u001b[0m\n",
            "\u001b[0;32m/usr/local/lib/python3.6/dist-packages/zmq/sugar/socket.py\u001b[0m in \u001b[0;36mrecv_multipart\u001b[0;34m(self, flags, copy, track)\u001b[0m\n\u001b[1;32m    474\u001b[0m         \"\"\"\n\u001b[0;32m--> 475\u001b[0;31m         \u001b[0mparts\u001b[0m \u001b[0;34m=\u001b[0m \u001b[0;34m[\u001b[0m\u001b[0mself\u001b[0m\u001b[0;34m.\u001b[0m\u001b[0mrecv\u001b[0m\u001b[0;34m(\u001b[0m\u001b[0mflags\u001b[0m\u001b[0;34m,\u001b[0m \u001b[0mcopy\u001b[0m\u001b[0;34m=\u001b[0m\u001b[0mcopy\u001b[0m\u001b[0;34m,\u001b[0m \u001b[0mtrack\u001b[0m\u001b[0;34m=\u001b[0m\u001b[0mtrack\u001b[0m\u001b[0;34m)\u001b[0m\u001b[0;34m]\u001b[0m\u001b[0;34m\u001b[0m\u001b[0;34m\u001b[0m\u001b[0m\n\u001b[0m\u001b[1;32m    476\u001b[0m         \u001b[0;31m# have first part already, only loop while more to receive\u001b[0m\u001b[0;34m\u001b[0m\u001b[0;34m\u001b[0m\u001b[0;34m\u001b[0m\u001b[0m\n",
            "\u001b[0;32mzmq/backend/cython/socket.pyx\u001b[0m in \u001b[0;36mzmq.backend.cython.socket.Socket.recv\u001b[0;34m()\u001b[0m\n",
            "\u001b[0;32mzmq/backend/cython/socket.pyx\u001b[0m in \u001b[0;36mzmq.backend.cython.socket.Socket.recv\u001b[0;34m()\u001b[0m\n",
            "\u001b[0;32mzmq/backend/cython/socket.pyx\u001b[0m in \u001b[0;36mzmq.backend.cython.socket._recv_copy\u001b[0;34m()\u001b[0m\n",
            "\u001b[0;32m/usr/local/lib/python3.6/dist-packages/zmq/backend/cython/checkrc.pxd\u001b[0m in \u001b[0;36mzmq.backend.cython.checkrc._check_rc\u001b[0;34m()\u001b[0m\n",
            "\u001b[0;31mKeyboardInterrupt\u001b[0m: ",
            "\nDuring handling of the above exception, another exception occurred:\n",
            "\u001b[0;31mKeyboardInterrupt\u001b[0m                         Traceback (most recent call last)",
            "\u001b[0;32m<ipython-input-71-28f041ab7914>\u001b[0m in \u001b[0;36m<module>\u001b[0;34m()\u001b[0m\n\u001b[1;32m     29\u001b[0m \u001b[0;34m\u001b[0m\u001b[0m\n\u001b[1;32m     30\u001b[0m     \u001b[0mprint\u001b[0m\u001b[0;34m(\u001b[0m\u001b[0;34m)\u001b[0m\u001b[0;34m\u001b[0m\u001b[0;34m\u001b[0m\u001b[0m\n\u001b[0;32m---> 31\u001b[0;31m     \u001b[0mguess\u001b[0m \u001b[0;34m=\u001b[0m \u001b[0minput\u001b[0m\u001b[0;34m(\u001b[0m\u001b[0;34m\"guess a char:\"\u001b[0m\u001b[0;34m)\u001b[0m        \u001b[0;31m# ask the user go guess a character\u001b[0m\u001b[0;34m\u001b[0m\u001b[0;34m\u001b[0m\u001b[0m\n\u001b[0m\u001b[1;32m     32\u001b[0m \u001b[0;34m\u001b[0m\u001b[0m\n\u001b[1;32m     33\u001b[0m     \u001b[0mguesses\u001b[0m \u001b[0;34m+=\u001b[0m \u001b[0mguess\u001b[0m                      \u001b[0;31m# set the players guess to guesses\u001b[0m\u001b[0;34m\u001b[0m\u001b[0;34m\u001b[0m\u001b[0m\n",
            "\u001b[0;32m/usr/local/lib/python3.6/dist-packages/ipykernel/kernelbase.py\u001b[0m in \u001b[0;36mraw_input\u001b[0;34m(self, prompt)\u001b[0m\n\u001b[1;32m    702\u001b[0m             \u001b[0mself\u001b[0m\u001b[0;34m.\u001b[0m\u001b[0m_parent_ident\u001b[0m\u001b[0;34m,\u001b[0m\u001b[0;34m\u001b[0m\u001b[0;34m\u001b[0m\u001b[0m\n\u001b[1;32m    703\u001b[0m             \u001b[0mself\u001b[0m\u001b[0;34m.\u001b[0m\u001b[0m_parent_header\u001b[0m\u001b[0;34m,\u001b[0m\u001b[0;34m\u001b[0m\u001b[0;34m\u001b[0m\u001b[0m\n\u001b[0;32m--> 704\u001b[0;31m             \u001b[0mpassword\u001b[0m\u001b[0;34m=\u001b[0m\u001b[0;32mFalse\u001b[0m\u001b[0;34m,\u001b[0m\u001b[0;34m\u001b[0m\u001b[0;34m\u001b[0m\u001b[0m\n\u001b[0m\u001b[1;32m    705\u001b[0m         )\n\u001b[1;32m    706\u001b[0m \u001b[0;34m\u001b[0m\u001b[0m\n",
            "\u001b[0;32m/usr/local/lib/python3.6/dist-packages/ipykernel/kernelbase.py\u001b[0m in \u001b[0;36m_input_request\u001b[0;34m(self, prompt, ident, parent, password)\u001b[0m\n\u001b[1;32m    732\u001b[0m             \u001b[0;32mexcept\u001b[0m \u001b[0mKeyboardInterrupt\u001b[0m\u001b[0;34m:\u001b[0m\u001b[0;34m\u001b[0m\u001b[0;34m\u001b[0m\u001b[0m\n\u001b[1;32m    733\u001b[0m                 \u001b[0;31m# re-raise KeyboardInterrupt, to truncate traceback\u001b[0m\u001b[0;34m\u001b[0m\u001b[0;34m\u001b[0m\u001b[0;34m\u001b[0m\u001b[0m\n\u001b[0;32m--> 734\u001b[0;31m                 \u001b[0;32mraise\u001b[0m \u001b[0mKeyboardInterrupt\u001b[0m\u001b[0;34m\u001b[0m\u001b[0;34m\u001b[0m\u001b[0m\n\u001b[0m\u001b[1;32m    735\u001b[0m             \u001b[0;32melse\u001b[0m\u001b[0;34m:\u001b[0m\u001b[0;34m\u001b[0m\u001b[0;34m\u001b[0m\u001b[0m\n\u001b[1;32m    736\u001b[0m                 \u001b[0;32mbreak\u001b[0m\u001b[0;34m\u001b[0m\u001b[0;34m\u001b[0m\u001b[0m\n",
            "\u001b[0;31mKeyboardInterrupt\u001b[0m: "
          ]
        }
      ],
      "source": [
        "words = ['think', 'could', 'should', 'become', 'leave', 'begin', 'start', 'might',\n",
        " 'believe', 'bring', 'happen', 'write', 'provide', 'stand', 'include', 'continue',\n",
        " 'learn', 'change', 'understand', 'watch', 'follow', 'create', 'speak', 'allow',\n",
        " 'spend', 'offer', 'remember', 'consider', 'appear', 'serve', 'expect', 'build',\n",
        " 'reach']\n",
        "\n",
        "import random\n",
        "word = random.choice(words) # here we set the secret\n",
        "\n",
        "guesses = ''                # creates an variable with an empty value\n",
        "\n",
        "turns = 10                  # determine the number of turns\n",
        "\n",
        "while turns > 0:            # check if the turns are more than zero\n",
        "    failed = 0              # make a counter that starts with zero\n",
        "  \n",
        "    for char in word:       # for every character in secret_word  \n",
        "\n",
        "        if char in guesses:               # see if the character is in the players guess\n",
        "            print (char, end=\" \")         # print then out the character\n",
        "\n",
        "        else:\n",
        "            print (\"_\", end=\" \")          # if not found, print a dash\n",
        "            failed += 1                   # and increase the failed counter with one\n",
        "\n",
        "    if failed == 0:                       # if failed is equal to zero print You Won\n",
        "        print (\"You won\")\n",
        "        break                             # exit the script\n",
        "\n",
        "    print() \n",
        "    guess = input(\"guess a char:\")        # ask the user go guess a character\n",
        "\n",
        "    guesses += guess                      # set the players guess to guesses\n",
        "\n",
        "    if guess not in word:                 # if the guess is not found in the secret word\n",
        " \n",
        "        turns -= 1                        # turns counter decreases with 1 (now 9)\n",
        "        print (\"Wrong\")                   # print wrong\n",
        " \n",
        "        print (\"You have\", turns, 'more guesses')   # how many turns are left\n",
        "\n",
        "        if turns == 0:                              # if the turns are equal to zero\n",
        "            print (\"You Lose\")                      # print \"You Lose\"\n",
        "            print (\"The right word :\", word)"
      ]
    }
  ],
  "metadata": {
    "colab": {
      "collapsed_sections": [],
      "name": "DSC Intro to Python.ipynb",
      "provenance": []
    },
    "kernelspec": {
      "display_name": "Python 3",
      "name": "python3"
    }
  },
  "nbformat": 4,
  "nbformat_minor": 0
}
